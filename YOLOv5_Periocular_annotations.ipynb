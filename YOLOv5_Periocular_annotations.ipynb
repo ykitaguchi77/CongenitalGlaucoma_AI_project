{
  "nbformat": 4,
  "nbformat_minor": 0,
  "metadata": {
    "colab": {
      "provenance": [],
      "machine_shape": "hm",
      "authorship_tag": "ABX9TyMhhP/v9+wPe1t5AaTOnqyb",
      "include_colab_link": true
    },
    "kernelspec": {
      "name": "python3",
      "display_name": "Python 3"
    },
    "language_info": {
      "name": "python"
    },
    "accelerator": "GPU",
    "gpuClass": "standard"
  },
  "cells": [
    {
      "cell_type": "markdown",
      "metadata": {
        "id": "view-in-github",
        "colab_type": "text"
      },
      "source": [
        "<a href=\"https://colab.research.google.com/github/ykitaguchi77/CongenitalGlaucoma_AI_project/blob/main/YOLOv5_Periocular_annotations.ipynb\" target=\"_parent\"><img src=\"https://colab.research.google.com/assets/colab-badge.svg\" alt=\"Open In Colab\"/></a>"
      ]
    },
    {
      "cell_type": "markdown",
      "source": [
        "#**Periocular_annotations_for_YOLOv5**"
      ],
      "metadata": {
        "id": "6xOLd8lkCNwr"
      }
    },
    {
      "cell_type": "code",
      "execution_count": 6,
      "metadata": {
        "id": "rcjxzA3GCM63",
        "colab": {
          "base_uri": "https://localhost:8080/"
        },
        "outputId": "642adf32-f06b-43a6-d289-a3f8a4d55b12"
      },
      "outputs": [
        {
          "output_type": "stream",
          "name": "stdout",
          "text": [
            "Mounted at /content/drive\n"
          ]
        }
      ],
      "source": [
        "import pandas as pd\n",
        "import os\n",
        "import glob\n",
        "import shutil\n",
        "import glob\n",
        "import random\n",
        "from PIL import Image\n",
        "import time\n",
        "%matplotlib inline\n",
        "\n",
        "#サポートパッチのインポート\n",
        "from google.colab.patches import cv2_imshow\n",
        "import cv2\n",
        "\n",
        "\n",
        "# Google Driveをマウント\n",
        "from google.colab import drive\n",
        "drive.mount('/content/drive')"
      ]
    },
    {
      "cell_type": "code",
      "source": [
        "import pandas as pd\n",
        "\n",
        "# 患者のリスト(緑内障のみ)\n",
        "csv_path = \"/content/drive/MyDrive/Deep_learning/Congenital_Glaucoma/dataset_for_YOLO_1280px/patient_data.csv\"\n",
        "\n",
        "df = pd.read_csv(csv_path, index_col= 0)\n",
        "df"
      ],
      "metadata": {
        "id": "IHcdTOksdwxV"
      },
      "execution_count": null,
      "outputs": []
    },
    {
      "cell_type": "code",
      "source": [
        "# glaucoma_extended datasetをcolab上に解凍する\n",
        "%cd /content\n",
        "!cp \"/content/drive/MyDrive/Deep_learning/Congenital_Glaucoma/glaucoma_extended_dataset.zip\" .\n",
        "!unzip glaucoma_extended_dataset.zip\n",
        "\n"
      ],
      "metadata": {
        "id": "nvnB-ZdId1VT"
      },
      "execution_count": null,
      "outputs": []
    },
    {
      "cell_type": "code",
      "source": [],
      "metadata": {
        "id": "gih6DgdvfLD0"
      },
      "execution_count": null,
      "outputs": []
    },
    {
      "cell_type": "code",
      "source": [
        "#glaucoma患者のリストを作成\n",
        "image_dir = \"/content/drive/MyDrive/Deep_learning/Congenital_Glaucoma/dataset_for_YOLO_1280px\"\n",
        "\n",
        "\n",
        "gla_folder = [\"gla_eso\", \"gla_exo\", \"gla_ortho\"]\n",
        "\n",
        "patient_id_list = []\n",
        "for folder in gla_folder:\n",
        "    file_list = [os.path.basename(i).split('-')[0].split('_')[0] for i in glob.glob(f\"{image_dir}/{folder}/*\")]\n",
        "    patient_id_list.extend(file_list)\n",
        "\n",
        "patient_id_list = sorted(list(set(patient_id_list)))\n",
        "print(patient_id_list)\n",
        "len(patient_id_list)\n"
      ],
      "metadata": {
        "id": "BeWKZjgNDWHf",
        "outputId": "11da913a-c21b-4560-9fa8-6ced6b6e206e",
        "colab": {
          "base_uri": "https://localhost:8080/"
        }
      },
      "execution_count": 9,
      "outputs": [
        {
          "output_type": "stream",
          "name": "stdout",
          "text": [
            "['1546', '1962', '2004', '2223', '2761', '3229', '3422', '379', '4377', '4407', '4725', '4849', '5393', '5617', '5821', '6668', '6821', '6895', '713', '7154', '7495', '781', '8126', '8128', '8193', '8246', '8294', '8425', '8492', '8500', '8698', '8882', '8921', '9056', '9201']\n"
          ]
        },
        {
          "output_type": "execute_result",
          "data": {
            "text/plain": [
              "35"
            ]
          },
          "metadata": {},
          "execution_count": 9
        }
      ]
    },
    {
      "cell_type": "code",
      "source": [
        "df_patient_data = pd.DataFrame(index=[], columns=[])\n",
        "df_patient_data[\"id\"] = patient_id_list\n",
        "df_patient_data"
      ],
      "metadata": {
        "id": "Ix6KTnYCGJI8"
      },
      "execution_count": null,
      "outputs": []
    },
    {
      "cell_type": "code",
      "source": [
        "#patient_idの入った空のリストをセーブ\n",
        "\n",
        "new_dir = \"/content/drive/MyDrive/Deep_learning/Congenital_Glaucoma/extended_dataset_for_YOLOv5\"\n",
        "if os.path.exists(new_dir):\n",
        "    shutil.rmtree(new_dir)\n",
        "os.makedirs(new_dir)\n",
        "\n",
        "df_patient_data.to_csv(f\"{new_dir}/patient_data_vacant.csv\")\n"
      ],
      "metadata": {
        "id": "TJzMWCkvIfDA"
      },
      "execution_count": null,
      "outputs": []
    },
    {
      "cell_type": "markdown",
      "source": [
        "idの横にRとLの列を作成\n",
        "\n",
        "混濁していたら1を記入\n",
        "\n",
        "patient_data.csvとして保存"
      ],
      "metadata": {
        "id": "iUm6RWk_PGRZ"
      }
    },
    {
      "cell_type": "markdown",
      "source": [
        "![キャプチャ2.JPG](data:image/jpeg;base64,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)"
      ],
      "metadata": {
        "id": "bTRgkmnrOiNR"
      }
    },
    {
      "cell_type": "code",
      "source": [
        "import pandas as pd\n",
        "\n",
        "csv_path = \"/content/drive/MyDrive/Deep_learning/Congenital_Glaucoma/extended_dataset_for_YOLOv5/patient_data_vacant.csv\"\n",
        "\n",
        "df = pd.read_csv(csv_path, index_col= 0)\n",
        "df\n",
        "\n"
      ],
      "metadata": {
        "id": "vl3ile0bPds5"
      },
      "execution_count": null,
      "outputs": []
    },
    {
      "cell_type": "markdown",
      "source": [
        "#**Extract periocular images and annotate with dataframe**"
      ],
      "metadata": {
        "id": "aJUYXylLfL5G"
      }
    },
    {
      "cell_type": "markdown",
      "source": [
        "## Haarcascadeを指定"
      ],
      "metadata": {
        "id": "AAXi0Y_tf9ci"
      }
    },
    {
      "cell_type": "code",
      "source": [
        "# カスケードファイルのパス\n",
        "eye_cascade_path = '/content/drive/My Drive/Deep_learning/haarcascade_eye.xml'\n",
        "# righteye_cascade_path = '/content/drive/My Drive/Deep_learning/haarcascade_righteye_2splits.xml'\n",
        "# lefteye_cascade_path = '/content/drive/My Drive/Deep_learning/haarcascade_lefteye_2splits.xml'\n",
        "\n",
        "\n",
        "# カスケード分類器の特徴量取得\n",
        "eye_cascade = cv2.CascadeClassifier(eye_cascade_path)\n",
        "# righteye_cascade = cv2.CascadeClassifier(eye_cascade_path)\n",
        "# lefteye_cascade = cv2.CascadeClassifier(eye_cascade_path)"
      ],
      "metadata": {
        "id": "JOGiZo_0fK7v"
      },
      "execution_count": null,
      "outputs": []
    },
    {
      "cell_type": "markdown",
      "source": [
        "## 眼周囲切り抜き\n",
        "\n",
        "class_num = 4\n",
        "\n",
        "\n",
        "\n",
        "0: 右眼、濁りなし\n",
        "\n",
        "1: 右眼、濁りあり\n",
        "\n",
        "2: 左眼、濁りなし\n",
        "\n",
        "3: 左眼、濁りあり"
      ],
      "metadata": {
        "id": "3D9ac5Gjg7af"
      }
    },
    {
      "cell_type": "code",
      "source": [
        "#アスペクト比を維持したまま横を400pixelに縮小する\n",
        "def scale_to_width(img, width):\n",
        "    scale = width / img.shape[1]\n",
        "    return cv2.resize(img, dsize=None, fx=scale, fy=scale)\n",
        "\n",
        "#図を表示する\n",
        "def show_image(img):\n",
        "    #img = cv2.imread(out_path)\n",
        "    dst = scale_to_width(img, 200)\n",
        "    cv2_imshow(dst)\n",
        "\n",
        "# def show_image_pillow(img):\n",
        "#     src = cv2.cvtColor(img_resized_list[0], cv2.COLOR_BGR2RGB)\n",
        "#     plt.imshow(src)\n",
        "\n",
        "def my_round(val, digit=0):\n",
        "    p = 10 ** digit\n",
        "    return int((val * p * 2 + 1) // 2 / p)\n",
        "\n",
        "def scale_to_width(img, width):\n",
        "    \"\"\"幅が指定した値になるように、アスペクト比を固定して、リサイズする。\n",
        "    \"\"\"\n",
        "    h, w = img.shape[:2]\n",
        "    height = round(h * (width / w))\n",
        "    dst = cv2.resize(img, dsize=(width, height))\n",
        "\n",
        "    return dst"
      ],
      "metadata": {
        "id": "lfauVu5CfK9r"
      },
      "execution_count": null,
      "outputs": []
    },
    {
      "cell_type": "code",
      "source": [
        "orig_folder = \"/content/dataset_extended\"\n",
        "dst_folder = \"/content/drive/MyDrive/Deep_learning/Congenital_Glaucoma/extended_dataset_for_YOLOv5/images\"\n",
        "if os.path.exists(dst_folder):\n",
        "    shutil.rmtree(dst_folder)\n",
        "os.makedirs(dst_folder)\n",
        "\n",
        "\n",
        "path_list = glob.glob(orig_folder+\"/*\")\n",
        "#path_list = [path_list[2]] #テスト用\n",
        "#path_list = path_list[1:30] #テスト用\n",
        "#path_list = [\"/content/dataset_extended/9201-20210304-0-113733_2fa4e6a541d752afc0c740c856f0fbce9a435341353847cb60b6732b055989df.jpg\"]\n",
        "\n",
        "\n",
        "dst_folder = dst_folder\n",
        "\n",
        "#処理時間の計測\n",
        "start = time.time()\n",
        "\n",
        "#もしdst_folderがあれば削除して新しく作り直す\n",
        "if os.path.exists(dst_folder):\n",
        "    shutil.rmtree(dst_folder)\n",
        "os.makedirs(f\"{dst_folder}/images\") #image格納用\n",
        "os.makedirs(f\"{dst_folder}/images_cropped\") #cropped_image格納用 (YOLOでは使用しない)\n",
        "os.makedirs(f\"{dst_folder}/labels\") #label格納用\n",
        "\n",
        "\n",
        "num=0\n",
        "showImage = True\n",
        "for path in path_list:\n",
        "    try: #目が検出されなかった場合のエラー回避。片目ずつ抜き出して保存\n",
        "        #img2 = cv2.imread(path).copy()\n",
        "\n",
        "        img_resized_list,side_list = [],[]\n",
        "\n",
        "        img = cv2.imread(path) \n",
        "        img2 = img.copy()\n",
        "\n",
        "        #画像を表示\n",
        "        # if showImage:\n",
        "        #     show_image(img)\n",
        "\n",
        "        # 画像グレースケール化\n",
        "        grayscale_img = cv2.cvtColor(img, cv2.COLOR_RGB2GRAY)\n",
        "\n",
        "        #300pix以上のもので目に見えるものを抽出\n",
        "        eye_list = eye_cascade.detectMultiScale(grayscale_img, minSize=(300, 300))\n",
        "        print(\"\")\n",
        "        print('image path = ', path)\n",
        "\n",
        "        # 眼検出判定\n",
        "        if len(eye_list) >= 1:\n",
        "            print('目が' + str(len(eye_list)) +'個検出されました')\n",
        "            pass\n",
        "        else:\n",
        "            print(\"no eye detected\")\n",
        "            pass\n",
        "\n",
        "        print(f\"eye_list: {eye_list}\")\n",
        "\n",
        "        #画像の切り抜きと保存（連番にする）\n",
        "        if len(eye_list)== 2: \n",
        "\n",
        "            ex1, ey1, ew1, eh1 = eye_list[0]\n",
        "            ex2, ey2, ew2, eh2 = eye_list[1]\n",
        "\n",
        "\n",
        "            print(f\"ex1: {ex1}, ex2: {ex2}, img2.shape: {img2.shape}\")\n",
        "\n",
        "            # 両眼がセンターラインを挟んで左右にあることを確認\n",
        "            if (ex1+ew1/2 < img2.shape[1] / 2 and ex2+ew2/2 < img2.shape[1] / 2) or (ex1+ew1/2 > img2.shape[1] / 2 and ex2+ew2/2 > img2.shape[1] / 2):\n",
        "                raise ValueError(\"The eyes must be on opposite sides of the face\")\n",
        "            \n",
        "\n",
        "            \n",
        "            \n",
        "            for (ex, ey, ew, eh) in eye_list:\n",
        "                print(\"[ex,ey] = %d,%d [ew,eh] = %d,%d\" %(ex, ey, ew, eh))\n",
        " \n",
        "                cv2.rectangle(img2, (ex, ey), (ex + ew, ey + eh), (0, 255, 0), 2)\n",
        "\n",
        "                #切り抜き範囲が元画像をはみ出る場合は黒画像で埋める\n",
        "                top = max(0, int(ey))\n",
        "                bottom = min(grayscale_img.shape[0], int(ey + eh))\n",
        "                left = max(0, int(ex))\n",
        "                right = min(grayscale_img.shape[1], int(ex + ew))\n",
        "\n",
        "                #print(f\"top:{top}, bottom:{bottom}, left:{left}, right:{right}\")\n",
        "\n",
        "                img_cropped = img[top: bottom,left:right]\n",
        "                height, width = img_cropped.shape[:2]\n",
        "\n",
        "                #クロップした画像を表示\n",
        "                # if showImage:\n",
        "                #     show_image(img_cropped)\n",
        "\n",
        "\n",
        "                #右か左かの判定\n",
        "                if left >= img.shape[1]/2:\n",
        "                    laterality = \"L\"\n",
        "                elif right <= img.shape[1]/2:\n",
        "                    laterality = \"R\"\n",
        "                print(laterality)\n",
        "\n",
        "                #混濁の有無（dfより抽出）\n",
        "                id = os.path.basename(path).split(\"-\")[0]\n",
        "\n",
        "                if (df['id'] == int(id)).any(): #glaのリストに含まれているかどうか\n",
        "                    if laterality == \"R\":\n",
        "                        if df.loc[df['id'] == int(id), \"R\"].values[0] == 0:\n",
        "                            class_num = 0 #右眼かつ混濁なし\n",
        "                        elif df.loc[df['id'] == int(id), \"R\"].values[0] == 1:\n",
        "                            class_num = 1 #右眼かつ混濁あり\n",
        "                    elif laterality == \"L\":\n",
        "                        if df.loc[df['id'] == int(id), \"L\"].values[0] == 2:\n",
        "                            class_num = 2 #左眼かつ混濁なし\n",
        "                        elif df.loc[df['id'] == int(id), \"L\"].values[0] == 3:\n",
        "                            class_num = 3 #左眼かつ混濁あり\n",
        "\n",
        "                elif not (df['id'] == int(id)).any(): #glaのリストに含まれていない場合\n",
        "                    if laterality == \"R\":\n",
        "                        class_num = 0 #右眼かつ混濁なし\n",
        "                    elif laterality == \"L\":\n",
        "                        class_num = 2 #左眼かつ混濁なし\n",
        "\n",
        "                print(f\"class_num: {class_num}\")\n",
        "\n",
        "                #縦、横に対する割合\n",
        "                X = round((right+left)/2/img.shape[1], 6)\n",
        "                Y = round((top+bottom)/2/img.shape[0], 6)\n",
        "                W = round((right-left)/img.shape[1], 6)\n",
        "                H = round((bottom-top)/img.shape[0], 6)\n",
        "                txt = f\"{class_num} {X} {Y} {W} {H}\"\n",
        "\n",
        "                img2 = scale_to_width(img2, 640)  #切り抜く前の画像を横のサイズを640になるように縮小\n",
        "                cv2.imwrite(f\"{dst_folder}/images/{os.path.basename(path).split('.')[0]}.JPG\", img) #cropせずに縮小したイメージを保存\n",
        "                cv2.imwrite(f\"{dst_folder}/images_cropped/{os.path.basename(path).split('.')[0]}_{laterality}.JPG\", img_cropped) #cropしたイメージを保存する場合\n",
        "\n",
        "                with open(f\"{dst_folder}/labels/{os.path.basename(path).split('.')[0]}.txt\", mode='a') as f:\n",
        "                    f.write(f\"{txt}\\n\")     \n",
        "\n",
        "                num+=1\n",
        "\n",
        "            with open(f\"{dst_folder}/labels/{os.path.basename(path).split('.')[0]}.txt\", mode='r') as f:\n",
        "                for line in f:\n",
        "                    print(line) # 1行ずつ表示\n",
        "    except:\n",
        "        pass\n",
        "\n",
        "print(\"\")\n",
        "print('Process done!!')\n",
        "elapsed_time = time.time() - start\n",
        "print (\"elapsed_time:{0}\".format(elapsed_time) + \"[sec]\")\n",
        "print (f\"image_num:{num}\")"
      ],
      "metadata": {
        "id": "DljuwNMXN2sE"
      },
      "execution_count": null,
      "outputs": []
    },
    {
      "cell_type": "markdown",
      "source": [
        "#**画像の選別**\n",
        "\n",
        "・images_pathとimages_cropped_pathから不適切な画像を削除（眼の切り取り範囲がおかしい、眼鏡をかけているなど）\n",
        "\n",
        "・imaes_pathに画像がある、images_cropped_pathに画像が2つ（RとL）ある、label_pathのtxtが2行（RとL)の全てを満たすもののみを残して\n",
        "、あとは削除する（※バックアップのため、元フォルダを_backupに改名）"
      ],
      "metadata": {
        "id": "Wicbm4HhFjTt"
      }
    },
    {
      "cell_type": "code",
      "source": [
        "import os\n",
        "import shutil\n",
        "import tqdm\n",
        "\n",
        "patient_dir = \"/content/drive/MyDrive/Deep_learning/Congenital_Glaucoma/extended_dataset_for_YOLOv5/images\"\n",
        "orig_label_dir = f\"{patient_dir}/labels\"\n",
        "orig_images_cropped_dir = f\"{patient_dir}/images_cropped\"\n",
        "orig_images_dir = f\"{patient_dir}/images\"\n",
        "dst_label_dir = f\"{patient_dir}/labels_selected\"\n",
        "dst_images_cropped_dir = f\"{patient_dir}/images_cropped_selected\"\n",
        "dst_images_dir = f\"{patient_dir}/images_selected\"\n",
        "\n",
        "# Create destination folders\n",
        "for dir in [dst_label_dir, dst_images_cropped_dir, dst_images_dir]:\n",
        "    if os.path.exists(dir):\n",
        "        shutil.rmtree(dir)\n",
        "    os.makedirs(dir)\n",
        "\n",
        "\n",
        "# images_pathの画像リスト\n",
        "images_list = glob.glob(f\"{orig_images_dir}/*\")\n",
        "images_name_list = [os.path.splitext(os.path.basename(path))[0] for path in images_list]\n",
        "\n",
        "# images_cropped_pathの画像リスト\n",
        "images_cropped_list = glob.glob(f\"{orig_images_cropped_dir}/*\")\n",
        "print(images_cropped_list)\n",
        "\n",
        "# Labelのリスト\n",
        "label_list = glob.glob(f\"{orig_label_dir}/*\")\n",
        "\n",
        "from tqdm import tqdm\n",
        "\n",
        "# 2行でないlabelファイルを削除\n",
        "for filename in tqdm(os.listdir(orig_label_dir),desc='checking label files'):\n",
        "    if filename.endswith(\".txt\"):\n",
        "        file_path = os.path.join(orig_label_dir, filename)\n",
        "        with open(file_path, 'r') as f:\n",
        "            if len(f.readlines()) != 2:\n",
        "                os.remove(file_path)\n",
        "                print(\"label_file removed!\")\n",
        "\n",
        "for file in tqdm(images_name_list,desc='copying files'): #images_listの画像に対して\n",
        "    if f\"{orig_images_cropped_dir}/{file}_R.JPG\" in images_cropped_list: #Rがあるかをチェック\n",
        "        if f\"{orig_images_cropped_dir}/{file}_L.JPG\" in images_cropped_list: #Lがあるかをチェック\n",
        "            if f\"{orig_label_dir}/{file}.txt\" in label_list:\n",
        "                shutil.copy(f\"{orig_images_cropped_dir}/{file}_R.JPG\", dst_images_cropped_dir)\n",
        "                shutil.copy(f\"{orig_images_cropped_dir}/{file}_L.JPG\", dst_images_cropped_dir)\n",
        "                shutil.copy(f\"{orig_images_dir}/{file}.JPG\", dst_images_dir)\n",
        "                shutil.copy(f\"{orig_label_dir}/{file}.txt\", dst_label_dir)\n",
        "                #print(f\"{file} moved!!\")\n",
        "print(\"\")\n",
        "print(f\"images: {len(os.listdir(dst_images_dir))}\")\n",
        "print(f\"images: {len(os.listdir(dst_label_dir))}\")"
      ],
      "metadata": {
        "id": "zAKGf_SkC2k0",
        "colab": {
          "base_uri": "https://localhost:8080/"
        },
        "outputId": "9a0fb1ee-d526-4fea-b57d-2441e6bd7209"
      },
      "execution_count": null,
      "outputs": [
        {
          "output_type": "stream",
          "name": "stdout",
          "text": [
            "['/content/drive/MyDrive/Deep_learning/Congenital_Glaucoma/extended_dataset_for_YOLOv5/images/images_cropped/587-20100126-7-121248_895104df3860c5e8b90c54ce6cc5e91de36d86cbc4258bf9b2f81be06658fb1b_R.JPG', '/content/drive/MyDrive/Deep_learning/Congenital_Glaucoma/extended_dataset_for_YOLOv5/images/images_cropped/587-20100126-7-121248_895104df3860c5e8b90c54ce6cc5e91de36d86cbc4258bf9b2f81be06658fb1b_L.JPG', '/content/drive/MyDrive/Deep_learning/Congenital_Glaucoma/extended_dataset_for_YOLOv5/images/images_cropped/1583-20190307-4-104851_d992c3d09c0ae2eb785ee3e051784526f8d83c8cf48006a761885eec4e0af75f_R.JPG', '/content/drive/MyDrive/Deep_learning/Congenital_Glaucoma/extended_dataset_for_YOLOv5/images/images_cropped/1583-20190307-4-104851_d992c3d09c0ae2eb785ee3e051784526f8d83c8cf48006a761885eec4e0af75f_L.JPG', '/content/drive/MyDrive/Deep_learning/Congenital_Glaucoma/extended_dataset_for_YOLOv5/images/images_cropped/310-20180509-13-135638_89877494cf6c5c50a14e66c88c671da02804f304f362f959f5cbbca745378365_L.JPG', '/content/drive/MyDrive/Deep_learning/Congenital_Glaucoma/extended_dataset_for_YOLOv5/images/images_cropped/310-20180509-13-135638_89877494cf6c5c50a14e66c88c671da02804f304f362f959f5cbbca745378365_R.JPG', '/content/drive/MyDrive/Deep_learning/Congenital_Glaucoma/extended_dataset_for_YOLOv5/images/images_cropped/1512-20090325-12-092038_f5c7ef3d6450e2c631dd40e6d94f4ee818f28e3d8a45d3dad977401e7fb8b97c_R.JPG', '/content/drive/MyDrive/Deep_learning/Congenital_Glaucoma/extended_dataset_for_YOLOv5/images/images_cropped/1512-20090325-12-092038_f5c7ef3d6450e2c631dd40e6d94f4ee818f28e3d8a45d3dad977401e7fb8b97c_L.JPG', '/content/drive/MyDrive/Deep_learning/Congenital_Glaucoma/extended_dataset_for_YOLOv5/images/images_cropped/2033-20140305-3-111123_3978a4887251b7eb2d44d3e092beb862e76dd8fe18c0d26039a1f8954a7db19a_L.JPG', '/content/drive/MyDrive/Deep_learning/Congenital_Glaucoma/extended_dataset_for_YOLOv5/images/images_cropped/2229-20090224-1-114103_1a4bbdba1d0327bb166c1d491b5f1c7e6c6141dff8c9c7017b156e33474637b6_L.JPG', '/content/drive/MyDrive/Deep_learning/Congenital_Glaucoma/extended_dataset_for_YOLOv5/images/images_cropped/2229-20090224-1-114103_1a4bbdba1d0327bb166c1d491b5f1c7e6c6141dff8c9c7017b156e33474637b6_R.JPG', '/content/drive/MyDrive/Deep_learning/Congenital_Glaucoma/extended_dataset_for_YOLOv5/images/images_cropped/2355-20090317-3-112754_68291290b04f0d996821c51e2a19e899d285726112c93d9762a2902e05906b2e_L.JPG', '/content/drive/MyDrive/Deep_learning/Congenital_Glaucoma/extended_dataset_for_YOLOv5/images/images_cropped/2355-20090317-3-112754_68291290b04f0d996821c51e2a19e899d285726112c93d9762a2902e05906b2e_R.JPG', '/content/drive/MyDrive/Deep_learning/Congenital_Glaucoma/extended_dataset_for_YOLOv5/images/images_cropped/3465-20180801-1-113627_036f140030d42f724f64a6e1ba421060bfce1bc67f845b4874a3bee8bdabeee9_R.JPG', '/content/drive/MyDrive/Deep_learning/Congenital_Glaucoma/extended_dataset_for_YOLOv5/images/images_cropped/3465-20180801-1-113627_036f140030d42f724f64a6e1ba421060bfce1bc67f845b4874a3bee8bdabeee9_L.JPG', '/content/drive/MyDrive/Deep_learning/Congenital_Glaucoma/extended_dataset_for_YOLOv5/images/images_cropped/1648-20030121-10-093239_854ce363b2aa6b2505f8fe1e661e1145b2d78a5e684167de3e82b636333d7cd7_L.JPG', '/content/drive/MyDrive/Deep_learning/Congenital_Glaucoma/extended_dataset_for_YOLOv5/images/images_cropped/1648-20030121-10-093239_854ce363b2aa6b2505f8fe1e661e1145b2d78a5e684167de3e82b636333d7cd7_R.JPG', '/content/drive/MyDrive/Deep_learning/Congenital_Glaucoma/extended_dataset_for_YOLOv5/images/images_cropped/919-20030617-3-134416_4169acc5f33aecf97514391d4e4ad2e6a2d2996a356890bb96b082c5ad8874a1_R.JPG', '/content/drive/MyDrive/Deep_learning/Congenital_Glaucoma/extended_dataset_for_YOLOv5/images/images_cropped/919-20030617-3-134416_4169acc5f33aecf97514391d4e4ad2e6a2d2996a356890bb96b082c5ad8874a1_L.JPG', '/content/drive/MyDrive/Deep_learning/Congenital_Glaucoma/extended_dataset_for_YOLOv5/images/images_cropped/142-20130619-4-115920_a2da0f7889e9f0e6ed7720ecef9c57b7f9d8a414802bdbc1c13cdff0b90eb53a_L.JPG', '/content/drive/MyDrive/Deep_learning/Congenital_Glaucoma/extended_dataset_for_YOLOv5/images/images_cropped/142-20130619-4-115920_a2da0f7889e9f0e6ed7720ecef9c57b7f9d8a414802bdbc1c13cdff0b90eb53a_R.JPG', '/content/drive/MyDrive/Deep_learning/Congenital_Glaucoma/extended_dataset_for_YOLOv5/images/images_cropped/1559-20131120-3-110121_796ce1acf950d330849feb878de3e7c9ce4f933b780eb0181d29e10b3d585537_L.JPG', '/content/drive/MyDrive/Deep_learning/Congenital_Glaucoma/extended_dataset_for_YOLOv5/images/images_cropped/1559-20131120-3-110121_796ce1acf950d330849feb878de3e7c9ce4f933b780eb0181d29e10b3d585537_R.JPG', '/content/drive/MyDrive/Deep_learning/Congenital_Glaucoma/extended_dataset_for_YOLOv5/images/images_cropped/1862-20140924-1-101048_375a16b5da3f5005313e623875c90172439465c4c75ea412bbe5ebd02764e593_L.JPG', '/content/drive/MyDrive/Deep_learning/Congenital_Glaucoma/extended_dataset_for_YOLOv5/images/images_cropped/1862-20140924-1-101048_375a16b5da3f5005313e623875c90172439465c4c75ea412bbe5ebd02764e593_R.JPG', '/content/drive/MyDrive/Deep_learning/Congenital_Glaucoma/extended_dataset_for_YOLOv5/images/images_cropped/41-20100914-5-115656_2899492baf4c28dd8cd3f73a16f5cd9a19b77b10d923a7164f88e3867d4fdb37_R.JPG', '/content/drive/MyDrive/Deep_learning/Congenital_Glaucoma/extended_dataset_for_YOLOv5/images/images_cropped/41-20100914-5-115656_2899492baf4c28dd8cd3f73a16f5cd9a19b77b10d923a7164f88e3867d4fdb37_L.JPG', '/content/drive/MyDrive/Deep_learning/Congenital_Glaucoma/extended_dataset_for_YOLOv5/images/images_cropped/707-20170831-3-102815_d24083f9184a4ceb17a93c9b6643de6bfb59dc84ce1f2c1b94ce69d790551bd3_R.JPG', '/content/drive/MyDrive/Deep_learning/Congenital_Glaucoma/extended_dataset_for_YOLOv5/images/images_cropped/707-20170831-3-102815_d24083f9184a4ceb17a93c9b6643de6bfb59dc84ce1f2c1b94ce69d790551bd3_L.JPG', '/content/drive/MyDrive/Deep_learning/Congenital_Glaucoma/extended_dataset_for_YOLOv5/images/images_cropped/1042-20110928-14-000000_100773d2755a063cbccea3381fc47accfb225255b6ff6cadeacd1dd1e6cf2794_R.JPG', '/content/drive/MyDrive/Deep_learning/Congenital_Glaucoma/extended_dataset_for_YOLOv5/images/images_cropped/1042-20110928-14-000000_100773d2755a063cbccea3381fc47accfb225255b6ff6cadeacd1dd1e6cf2794_L.JPG', '/content/drive/MyDrive/Deep_learning/Congenital_Glaucoma/extended_dataset_for_YOLOv5/images/images_cropped/1509-20051219-12-160338_08b834177c9eb4c67de66f7c15104785cce1aabb4fb4597b0283d7aef0cc82b7_L.JPG', '/content/drive/MyDrive/Deep_learning/Congenital_Glaucoma/extended_dataset_for_YOLOv5/images/images_cropped/1509-20051219-12-160338_08b834177c9eb4c67de66f7c15104785cce1aabb4fb4597b0283d7aef0cc82b7_R.JPG', '/content/drive/MyDrive/Deep_learning/Congenital_Glaucoma/extended_dataset_for_YOLOv5/images/images_cropped/152-20031222-7-153804_6dca442948d13e69d1b4c3f3c1059443ffb98db1d7c0d1b83d7a12c4d763e31e_L.JPG', '/content/drive/MyDrive/Deep_learning/Congenital_Glaucoma/extended_dataset_for_YOLOv5/images/images_cropped/152-20031222-7-153804_6dca442948d13e69d1b4c3f3c1059443ffb98db1d7c0d1b83d7a12c4d763e31e_R.JPG', '/content/drive/MyDrive/Deep_learning/Congenital_Glaucoma/extended_dataset_for_YOLOv5/images/images_cropped/1489-20131018-3-095927_1841424d71613bf8409ad1d065d2c2089151cb7dac00bf4da87450474b93e611_R.JPG', '/content/drive/MyDrive/Deep_learning/Congenital_Glaucoma/extended_dataset_for_YOLOv5/images/images_cropped/1489-20131018-3-095927_1841424d71613bf8409ad1d065d2c2089151cb7dac00bf4da87450474b93e611_L.JPG', '/content/drive/MyDrive/Deep_learning/Congenital_Glaucoma/extended_dataset_for_YOLOv5/images/images_cropped/3789-20181017-4-113258_d8530c6c7b05b2d32e815bdf304756e5d2519982e708991ed785bfcda89d6565_L.JPG', '/content/drive/MyDrive/Deep_learning/Congenital_Glaucoma/extended_dataset_for_YOLOv5/images/images_cropped/3789-20181017-4-113258_d8530c6c7b05b2d32e815bdf304756e5d2519982e708991ed785bfcda89d6565_R.JPG', '/content/drive/MyDrive/Deep_learning/Congenital_Glaucoma/extended_dataset_for_YOLOv5/images/images_cropped/2615-20151105-2-091200_581b52c2867686be2e0e45170f41e1f46017fe114b0eddb075d360fbbb98d421_L.JPG', '/content/drive/MyDrive/Deep_learning/Congenital_Glaucoma/extended_dataset_for_YOLOv5/images/images_cropped/2615-20151105-2-091200_581b52c2867686be2e0e45170f41e1f46017fe114b0eddb075d360fbbb98d421_R.JPG', '/content/drive/MyDrive/Deep_learning/Congenital_Glaucoma/extended_dataset_for_YOLOv5/images/images_cropped/526-20171004-1-101727_8731fd3510ffaa61579c36c4a4a3f919a838c5b15410516a6cf545a5e5f5eb11_R.JPG', '/content/drive/MyDrive/Deep_learning/Congenital_Glaucoma/extended_dataset_for_YOLOv5/images/images_cropped/526-20171004-1-101727_8731fd3510ffaa61579c36c4a4a3f919a838c5b15410516a6cf545a5e5f5eb11_L.JPG', '/content/drive/MyDrive/Deep_learning/Congenital_Glaucoma/extended_dataset_for_YOLOv5/images/images_cropped/453-20161228-7-095510_471439d21445d6ab5f916ffb6ef8370b07993e19984f81eab565695e1ba18dea_L.JPG', '/content/drive/MyDrive/Deep_learning/Congenital_Glaucoma/extended_dataset_for_YOLOv5/images/images_cropped/453-20161228-7-095510_471439d21445d6ab5f916ffb6ef8370b07993e19984f81eab565695e1ba18dea_R.JPG', '/content/drive/MyDrive/Deep_learning/Congenital_Glaucoma/extended_dataset_for_YOLOv5/images/images_cropped/3158-20180207-7-103007_1a7db89fddf785d61b2732f4efda86ebe47e2b3545bbd0c0c99e45ceede6a799_R.JPG', '/content/drive/MyDrive/Deep_learning/Congenital_Glaucoma/extended_dataset_for_YOLOv5/images/images_cropped/3158-20180207-7-103007_1a7db89fddf785d61b2732f4efda86ebe47e2b3545bbd0c0c99e45ceede6a799_L.JPG', '/content/drive/MyDrive/Deep_learning/Congenital_Glaucoma/extended_dataset_for_YOLOv5/images/images_cropped/598-20190822-0-120902_2f7cae77d2e399a3889fa87ec3dffac5ee9a38dd23ca71e7b0f7e532d6a9ae3c_R.JPG', '/content/drive/MyDrive/Deep_learning/Congenital_Glaucoma/extended_dataset_for_YOLOv5/images/images_cropped/598-20190822-0-120902_2f7cae77d2e399a3889fa87ec3dffac5ee9a38dd23ca71e7b0f7e532d6a9ae3c_L.JPG', '/content/drive/MyDrive/Deep_learning/Congenital_Glaucoma/extended_dataset_for_YOLOv5/images/images_cropped/9372-20210414-0-095849_1a2a7394a576652a44c9ca336056236b1e4b2603d7b0f1f7b326cea9b19354d2_R.JPG', '/content/drive/MyDrive/Deep_learning/Congenital_Glaucoma/extended_dataset_for_YOLOv5/images/images_cropped/263-20110330-8-000000_4be4d8ad835e21445bb5d79cafd358b16de944e47538ae18146df3817ba96b45_R.JPG', '/content/drive/MyDrive/Deep_learning/Congenital_Glaucoma/extended_dataset_for_YOLOv5/images/images_cropped/263-20110330-8-000000_4be4d8ad835e21445bb5d79cafd358b16de944e47538ae18146df3817ba96b45_L.JPG', '/content/drive/MyDrive/Deep_learning/Congenital_Glaucoma/extended_dataset_for_YOLOv5/images/images_cropped/2933-20150909-3-095441_ac324c2daaf834fd8bb3710b6c92d96a479a922fa606a03f8a9a02b2b03abf2d_R.JPG', '/content/drive/MyDrive/Deep_learning/Congenital_Glaucoma/extended_dataset_for_YOLOv5/images/images_cropped/2933-20150909-3-095441_ac324c2daaf834fd8bb3710b6c92d96a479a922fa606a03f8a9a02b2b03abf2d_L.JPG', '/content/drive/MyDrive/Deep_learning/Congenital_Glaucoma/extended_dataset_for_YOLOv5/images/images_cropped/3143-20040601-2-101316_fdb11497865b87b87b7c6b4f7ba2afdfd5e00637eef3ab016b8f02210d6e187f_L.JPG', '/content/drive/MyDrive/Deep_learning/Congenital_Glaucoma/extended_dataset_for_YOLOv5/images/images_cropped/3143-20040601-2-101316_fdb11497865b87b87b7c6b4f7ba2afdfd5e00637eef3ab016b8f02210d6e187f_R.JPG', '/content/drive/MyDrive/Deep_learning/Congenital_Glaucoma/extended_dataset_for_YOLOv5/images/images_cropped/6445-20091207-2-092949_1292e5ad2234bb3cda1a2e0bfd188709c276b74437e434de081308bef4a7d931_L.JPG', '/content/drive/MyDrive/Deep_learning/Congenital_Glaucoma/extended_dataset_for_YOLOv5/images/images_cropped/6445-20091207-2-092949_1292e5ad2234bb3cda1a2e0bfd188709c276b74437e434de081308bef4a7d931_R.JPG', '/content/drive/MyDrive/Deep_learning/Congenital_Glaucoma/extended_dataset_for_YOLOv5/images/images_cropped/272-20021002-5-173322_3401ca07a8247a9a1024e2884a40fe0bf10414499bc68f1d9085b5a6252002a8_R.JPG', '/content/drive/MyDrive/Deep_learning/Congenital_Glaucoma/extended_dataset_for_YOLOv5/images/images_cropped/272-20021002-5-173322_3401ca07a8247a9a1024e2884a40fe0bf10414499bc68f1d9085b5a6252002a8_L.JPG', '/content/drive/MyDrive/Deep_learning/Congenital_Glaucoma/extended_dataset_for_YOLOv5/images/images_cropped/182-20000705-5-154442_120a74272b005e3e6a0e76bd1f400eda394731b9cc439ddf295860f7cf24bded_L.JPG', '/content/drive/MyDrive/Deep_learning/Congenital_Glaucoma/extended_dataset_for_YOLOv5/images/images_cropped/182-20000705-5-154442_120a74272b005e3e6a0e76bd1f400eda394731b9cc439ddf295860f7cf24bded_R.JPG', '/content/drive/MyDrive/Deep_learning/Congenital_Glaucoma/extended_dataset_for_YOLOv5/images/images_cropped/463-20170104-6-120107_be50aa4d62b935d569adced27f0960f32cdd2adf04832eff515d1f9a5b1b25f9_R.JPG', '/content/drive/MyDrive/Deep_learning/Congenital_Glaucoma/extended_dataset_for_YOLOv5/images/images_cropped/463-20170104-6-120107_be50aa4d62b935d569adced27f0960f32cdd2adf04832eff515d1f9a5b1b25f9_L.JPG', '/content/drive/MyDrive/Deep_learning/Congenital_Glaucoma/extended_dataset_for_YOLOv5/images/images_cropped/1255-20070918-5-094547_d969b884b89645d327bff9e5f5da5c893f2adb4976d9e5bd8c2d4ce5cc6d57cc_L.JPG', '/content/drive/MyDrive/Deep_learning/Congenital_Glaucoma/extended_dataset_for_YOLOv5/images/images_cropped/1255-20070918-5-094547_d969b884b89645d327bff9e5f5da5c893f2adb4976d9e5bd8c2d4ce5cc6d57cc_R.JPG', '/content/drive/MyDrive/Deep_learning/Congenital_Glaucoma/extended_dataset_for_YOLOv5/images/images_cropped/904-20180704-6-122654_063ed4ccd5a93ab40d47212342345eeb535b27a5375e7f68181ade2651ffeecc_L.JPG', '/content/drive/MyDrive/Deep_learning/Congenital_Glaucoma/extended_dataset_for_YOLOv5/images/images_cropped/904-20180704-6-122654_063ed4ccd5a93ab40d47212342345eeb535b27a5375e7f68181ade2651ffeecc_R.JPG', '/content/drive/MyDrive/Deep_learning/Congenital_Glaucoma/extended_dataset_for_YOLOv5/images/images_cropped/546-20110316-8-142302_240f92741fef8936ff5a67f2402964d7be4f213f8267332d26bc4658aa495563_L.JPG', '/content/drive/MyDrive/Deep_learning/Congenital_Glaucoma/extended_dataset_for_YOLOv5/images/images_cropped/546-20110316-8-142302_240f92741fef8936ff5a67f2402964d7be4f213f8267332d26bc4658aa495563_R.JPG', '/content/drive/MyDrive/Deep_learning/Congenital_Glaucoma/extended_dataset_for_YOLOv5/images/images_cropped/1477-20090818-3-150216_34794f71a6e4151edaa6b37f5929cf7e2f17eb5781d7f653fbc89a12ff25228e_R.JPG', '/content/drive/MyDrive/Deep_learning/Congenital_Glaucoma/extended_dataset_for_YOLOv5/images/images_cropped/1477-20090818-3-150216_34794f71a6e4151edaa6b37f5929cf7e2f17eb5781d7f653fbc89a12ff25228e_L.JPG', '/content/drive/MyDrive/Deep_learning/Congenital_Glaucoma/extended_dataset_for_YOLOv5/images/images_cropped/1868-20081125-2-091325_e2a5d15a7b79470e38f97d266333dd0fb429d3e1981e114f36e00661975c225c_R.JPG', '/content/drive/MyDrive/Deep_learning/Congenital_Glaucoma/extended_dataset_for_YOLOv5/images/images_cropped/1868-20081125-2-091325_e2a5d15a7b79470e38f97d266333dd0fb429d3e1981e114f36e00661975c225c_L.JPG', '/content/drive/MyDrive/Deep_learning/Congenital_Glaucoma/extended_dataset_for_YOLOv5/images/images_cropped/491-20080902-5-093645_1d5adda14585fb294dcb8e557145d44e548dffa5829d47e514366afa02a3fd20_L.JPG', '/content/drive/MyDrive/Deep_learning/Congenital_Glaucoma/extended_dataset_for_YOLOv5/images/images_cropped/491-20080902-5-093645_1d5adda14585fb294dcb8e557145d44e548dffa5829d47e514366afa02a3fd20_R.JPG', '/content/drive/MyDrive/Deep_learning/Congenital_Glaucoma/extended_dataset_for_YOLOv5/images/images_cropped/1866-20150729-2-102447_478de5903ce50ff1bc4d233244f7b98beb15fba099d899d9570ae1802fc22790_R.JPG', '/content/drive/MyDrive/Deep_learning/Congenital_Glaucoma/extended_dataset_for_YOLOv5/images/images_cropped/1866-20150729-2-102447_478de5903ce50ff1bc4d233244f7b98beb15fba099d899d9570ae1802fc22790_L.JPG', '/content/drive/MyDrive/Deep_learning/Congenital_Glaucoma/extended_dataset_for_YOLOv5/images/images_cropped/1668-20130422-11-143552_17f0cd6c34eeb11f5fd44866f49eb8eba663c2346ac49bcd94f5cc2697b38bc0_R.JPG', '/content/drive/MyDrive/Deep_learning/Congenital_Glaucoma/extended_dataset_for_YOLOv5/images/images_cropped/1668-20130422-11-143552_17f0cd6c34eeb11f5fd44866f49eb8eba663c2346ac49bcd94f5cc2697b38bc0_L.JPG', '/content/drive/MyDrive/Deep_learning/Congenital_Glaucoma/extended_dataset_for_YOLOv5/images/images_cropped/9043-20200304-0-142810_0748ec018194e413d6c28a9742d8406a2c3391d856e36de04619d4e892a4c3cc_R.JPG', '/content/drive/MyDrive/Deep_learning/Congenital_Glaucoma/extended_dataset_for_YOLOv5/images/images_cropped/9043-20200304-0-142810_0748ec018194e413d6c28a9742d8406a2c3391d856e36de04619d4e892a4c3cc_L.JPG', '/content/drive/MyDrive/Deep_learning/Congenital_Glaucoma/extended_dataset_for_YOLOv5/images/images_cropped/9444-20201028-1-100822_15cdd330ed6afc427ae03f14b0bc5122bbae1fb076bcda13fd981e708940aba0_R.JPG', '/content/drive/MyDrive/Deep_learning/Congenital_Glaucoma/extended_dataset_for_YOLOv5/images/images_cropped/9444-20201028-1-100822_15cdd330ed6afc427ae03f14b0bc5122bbae1fb076bcda13fd981e708940aba0_L.JPG', '/content/drive/MyDrive/Deep_learning/Congenital_Glaucoma/extended_dataset_for_YOLOv5/images/images_cropped/1869-20070831-5-100709_7845a8c4d0f3d476037b0380ee9cec6aac55fc01f3f107cc0df900f1b55eee98_L.JPG', '/content/drive/MyDrive/Deep_learning/Congenital_Glaucoma/extended_dataset_for_YOLOv5/images/images_cropped/1869-20070831-5-100709_7845a8c4d0f3d476037b0380ee9cec6aac55fc01f3f107cc0df900f1b55eee98_R.JPG', '/content/drive/MyDrive/Deep_learning/Congenital_Glaucoma/extended_dataset_for_YOLOv5/images/images_cropped/1235-20180926-3-112048_14a330a7c916caa76f4c44149618cff89d3724a3aa7fa9f02a6a369cac88c9af_L.JPG', '/content/drive/MyDrive/Deep_learning/Congenital_Glaucoma/extended_dataset_for_YOLOv5/images/images_cropped/1235-20180926-3-112048_14a330a7c916caa76f4c44149618cff89d3724a3aa7fa9f02a6a369cac88c9af_R.JPG', '/content/drive/MyDrive/Deep_learning/Congenital_Glaucoma/extended_dataset_for_YOLOv5/images/images_cropped/1013-20090324-6-105222_5ea9c0cf48c797669defd745fd782eb43c7d2898db21b9ecc1501c5dbc0e630e_L.JPG', '/content/drive/MyDrive/Deep_learning/Congenital_Glaucoma/extended_dataset_for_YOLOv5/images/images_cropped/1013-20090324-6-105222_5ea9c0cf48c797669defd745fd782eb43c7d2898db21b9ecc1501c5dbc0e630e_R.JPG', '/content/drive/MyDrive/Deep_learning/Congenital_Glaucoma/extended_dataset_for_YOLOv5/images/images_cropped/2074-20170104-1-114646_5633403eed20d3d15f5d245890392f1b43ae160e6fa9f29d73ed721f3f1cc919_R.JPG', '/content/drive/MyDrive/Deep_learning/Congenital_Glaucoma/extended_dataset_for_YOLOv5/images/images_cropped/2074-20170104-1-114646_5633403eed20d3d15f5d245890392f1b43ae160e6fa9f29d73ed721f3f1cc919_L.JPG', '/content/drive/MyDrive/Deep_learning/Congenital_Glaucoma/extended_dataset_for_YOLOv5/images/images_cropped/9193-20201001-7-112526_2c154dda5729ed6ca1322fe8e01bada1f9982487d864d46cabd5f316d0e4dd5d_R.JPG', '/content/drive/MyDrive/Deep_learning/Congenital_Glaucoma/extended_dataset_for_YOLOv5/images/images_cropped/9193-20201001-7-112526_2c154dda5729ed6ca1322fe8e01bada1f9982487d864d46cabd5f316d0e4dd5d_L.JPG', '/content/drive/MyDrive/Deep_learning/Congenital_Glaucoma/extended_dataset_for_YOLOv5/images/images_cropped/1897-20131016-7-105755_4b1b9e06063d7be3bf5c7f615390b198b782de6a26a6ecfc8a5b794f1b4e47f3_L.JPG', '/content/drive/MyDrive/Deep_learning/Congenital_Glaucoma/extended_dataset_for_YOLOv5/images/images_cropped/1897-20131016-7-105755_4b1b9e06063d7be3bf5c7f615390b198b782de6a26a6ecfc8a5b794f1b4e47f3_R.JPG', '/content/drive/MyDrive/Deep_learning/Congenital_Glaucoma/extended_dataset_for_YOLOv5/images/images_cropped/49-20150225-3-105239_3ad680e46635eacababa62c81fc2696db535f0c2350877768be12972e91e2652_L.JPG', '/content/drive/MyDrive/Deep_learning/Congenital_Glaucoma/extended_dataset_for_YOLOv5/images/images_cropped/49-20150225-3-105239_3ad680e46635eacababa62c81fc2696db535f0c2350877768be12972e91e2652_R.JPG', '/content/drive/MyDrive/Deep_learning/Congenital_Glaucoma/extended_dataset_for_YOLOv5/images/images_cropped/450-20071211-4-115903_f5a95912ae29ccb7f913f39f54ec29925664c53653a89fc1869f382a5626b558_L.JPG', '/content/drive/MyDrive/Deep_learning/Congenital_Glaucoma/extended_dataset_for_YOLOv5/images/images_cropped/450-20071211-4-115903_f5a95912ae29ccb7f913f39f54ec29925664c53653a89fc1869f382a5626b558_R.JPG', '/content/drive/MyDrive/Deep_learning/Congenital_Glaucoma/extended_dataset_for_YOLOv5/images/images_cropped/2345-20181121-3-141915_24972fbbb8ff7515b6456e0983254eebbbec7827f90be32150e05e40fb2b555a_R.JPG', '/content/drive/MyDrive/Deep_learning/Congenital_Glaucoma/extended_dataset_for_YOLOv5/images/images_cropped/2345-20181121-3-141915_24972fbbb8ff7515b6456e0983254eebbbec7827f90be32150e05e40fb2b555a_L.JPG', '/content/drive/MyDrive/Deep_learning/Congenital_Glaucoma/extended_dataset_for_YOLOv5/images/images_cropped/973-20040105-8-101229_cbd1c799ae987a6962cbc73bd5be92dc4472e0a712ec6b1b906567586809181d_R.JPG', '/content/drive/MyDrive/Deep_learning/Congenital_Glaucoma/extended_dataset_for_YOLOv5/images/images_cropped/973-20040105-8-101229_cbd1c799ae987a6962cbc73bd5be92dc4472e0a712ec6b1b906567586809181d_L.JPG', '/content/drive/MyDrive/Deep_learning/Congenital_Glaucoma/extended_dataset_for_YOLOv5/images/images_cropped/9678-20200129-4-095643_0ace9ad33a08c3e27bd603c9f7ee54009fa2faf3234b248d798292cddfca3414_R.JPG', '/content/drive/MyDrive/Deep_learning/Congenital_Glaucoma/extended_dataset_for_YOLOv5/images/images_cropped/9678-20200129-4-095643_0ace9ad33a08c3e27bd603c9f7ee54009fa2faf3234b248d798292cddfca3414_L.JPG', '/content/drive/MyDrive/Deep_learning/Congenital_Glaucoma/extended_dataset_for_YOLOv5/images/images_cropped/935-20190314-7-151606_10558f923a51faa5a8e1ede797cbdf4b89d84b07b127f3e60f9bd249acd097b8_R.JPG', '/content/drive/MyDrive/Deep_learning/Congenital_Glaucoma/extended_dataset_for_YOLOv5/images/images_cropped/935-20190314-7-151606_10558f923a51faa5a8e1ede797cbdf4b89d84b07b127f3e60f9bd249acd097b8_L.JPG', '/content/drive/MyDrive/Deep_learning/Congenital_Glaucoma/extended_dataset_for_YOLOv5/images/images_cropped/312-20130612-4-114240_349a31544bb9e00f712f3e8f76a987d21b409721df28547cb628de40e980fef8_R.JPG', '/content/drive/MyDrive/Deep_learning/Congenital_Glaucoma/extended_dataset_for_YOLOv5/images/images_cropped/312-20130612-4-114240_349a31544bb9e00f712f3e8f76a987d21b409721df28547cb628de40e980fef8_L.JPG', '/content/drive/MyDrive/Deep_learning/Congenital_Glaucoma/extended_dataset_for_YOLOv5/images/images_cropped/4078-20150318-3-133140_db66a672ed52feccd6a5e158ae2baca37db131a8184f413ebc2630e8e9b78afe_L.JPG', '/content/drive/MyDrive/Deep_learning/Congenital_Glaucoma/extended_dataset_for_YOLOv5/images/images_cropped/4078-20150318-3-133140_db66a672ed52feccd6a5e158ae2baca37db131a8184f413ebc2630e8e9b78afe_R.JPG', '/content/drive/MyDrive/Deep_learning/Congenital_Glaucoma/extended_dataset_for_YOLOv5/images/images_cropped/1127-20160928-1-103111_9d983a0c8f115f0be97e98238f7d068d3e61fbbcca686d3bce541954ff26b804_L.JPG', '/content/drive/MyDrive/Deep_learning/Congenital_Glaucoma/extended_dataset_for_YOLOv5/images/images_cropped/1127-20160928-1-103111_9d983a0c8f115f0be97e98238f7d068d3e61fbbcca686d3bce541954ff26b804_R.JPG', '/content/drive/MyDrive/Deep_learning/Congenital_Glaucoma/extended_dataset_for_YOLOv5/images/images_cropped/1299-20120516-4-123432_d86d3a14e5ae0cc5a5736da46fe7fbe860d4093f7d72f67f25ab47a4cb1b8f20_R.JPG', '/content/drive/MyDrive/Deep_learning/Congenital_Glaucoma/extended_dataset_for_YOLOv5/images/images_cropped/1299-20120516-4-123432_d86d3a14e5ae0cc5a5736da46fe7fbe860d4093f7d72f67f25ab47a4cb1b8f20_L.JPG', '/content/drive/MyDrive/Deep_learning/Congenital_Glaucoma/extended_dataset_for_YOLOv5/images/images_cropped/1460-20120111-5-114338_79c70e04b06ae3498b49d17fd987ca9be59d235bb262b15cad575bcb3bd5e2fc_R.JPG', '/content/drive/MyDrive/Deep_learning/Congenital_Glaucoma/extended_dataset_for_YOLOv5/images/images_cropped/1460-20120111-5-114338_79c70e04b06ae3498b49d17fd987ca9be59d235bb262b15cad575bcb3bd5e2fc_L.JPG', '/content/drive/MyDrive/Deep_learning/Congenital_Glaucoma/extended_dataset_for_YOLOv5/images/images_cropped/1454-20150930-0-122029_c83ef89272f336f08b5017b35e8b26b510c2a99d1abed2afb04eb0d3ae137dd1_L.JPG', '/content/drive/MyDrive/Deep_learning/Congenital_Glaucoma/extended_dataset_for_YOLOv5/images/images_cropped/1454-20150930-0-122029_c83ef89272f336f08b5017b35e8b26b510c2a99d1abed2afb04eb0d3ae137dd1_R.JPG', '/content/drive/MyDrive/Deep_learning/Congenital_Glaucoma/extended_dataset_for_YOLOv5/images/images_cropped/1402-20121114-9-114406_3243d77cf19c8efcb6b6ee82ddc4045a571fc92a124469b0abaf718c13dec7d0_R.JPG', '/content/drive/MyDrive/Deep_learning/Congenital_Glaucoma/extended_dataset_for_YOLOv5/images/images_cropped/1402-20121114-9-114406_3243d77cf19c8efcb6b6ee82ddc4045a571fc92a124469b0abaf718c13dec7d0_L.JPG', '/content/drive/MyDrive/Deep_learning/Congenital_Glaucoma/extended_dataset_for_YOLOv5/images/images_cropped/277-20030527-3-115759_c88b68cbd74fd1348d91648c92e471d2869098566d113c38e0aebd65aa4663a0_L.JPG', '/content/drive/MyDrive/Deep_learning/Congenital_Glaucoma/extended_dataset_for_YOLOv5/images/images_cropped/277-20030527-3-115759_c88b68cbd74fd1348d91648c92e471d2869098566d113c38e0aebd65aa4663a0_R.JPG', '/content/drive/MyDrive/Deep_learning/Congenital_Glaucoma/extended_dataset_for_YOLOv5/images/images_cropped/1421-20180328-9-120400_0498261e7e4879358af993f3525021b68dae400940c1fe9f001c6e33ac43b30d_R.JPG', '/content/drive/MyDrive/Deep_learning/Congenital_Glaucoma/extended_dataset_for_YOLOv5/images/images_cropped/1421-20180328-9-120400_0498261e7e4879358af993f3525021b68dae400940c1fe9f001c6e33ac43b30d_L.JPG', '/content/drive/MyDrive/Deep_learning/Congenital_Glaucoma/extended_dataset_for_YOLOv5/images/images_cropped/1014-20020212-3-090554_4bd6092954544edfa82bc081658e476a3078770810815e1ab9811c72a42e8d21_R.JPG', '/content/drive/MyDrive/Deep_learning/Congenital_Glaucoma/extended_dataset_for_YOLOv5/images/images_cropped/1014-20020212-3-090554_4bd6092954544edfa82bc081658e476a3078770810815e1ab9811c72a42e8d21_L.JPG', '/content/drive/MyDrive/Deep_learning/Congenital_Glaucoma/extended_dataset_for_YOLOv5/images/images_cropped/743-20080708-4-133301_7a5d5681b720b07a0880246ec6d92bbc64992fe39a694935ee9e41af99b86e6d_L.JPG', '/content/drive/MyDrive/Deep_learning/Congenital_Glaucoma/extended_dataset_for_YOLOv5/images/images_cropped/743-20080708-4-133301_7a5d5681b720b07a0880246ec6d92bbc64992fe39a694935ee9e41af99b86e6d_R.JPG', '/content/drive/MyDrive/Deep_learning/Congenital_Glaucoma/extended_dataset_for_YOLOv5/images/images_cropped/1319-20120613-7-130828_7a8d033e947faa2ee0eb93038dff4dc2b35cd2e8ef048339a5103b8359f8eb0d_R.JPG', '/content/drive/MyDrive/Deep_learning/Congenital_Glaucoma/extended_dataset_for_YOLOv5/images/images_cropped/1319-20120613-7-130828_7a8d033e947faa2ee0eb93038dff4dc2b35cd2e8ef048339a5103b8359f8eb0d_L.JPG', '/content/drive/MyDrive/Deep_learning/Congenital_Glaucoma/extended_dataset_for_YOLOv5/images/images_cropped/497-20100616-2-113708_783d0fafcfa3f412612978a807c0b5f916ad22c301dce38e48b3f8893da507df_L.JPG', '/content/drive/MyDrive/Deep_learning/Congenital_Glaucoma/extended_dataset_for_YOLOv5/images/images_cropped/497-20100616-2-113708_783d0fafcfa3f412612978a807c0b5f916ad22c301dce38e48b3f8893da507df_R.JPG', '/content/drive/MyDrive/Deep_learning/Congenital_Glaucoma/extended_dataset_for_YOLOv5/images/images_cropped/291-20030318-1-114333_9123b0b73ad3a8824a7f9419c88cae01b903a8fe64cf02d0fa363dd01706e87d_L.JPG', '/content/drive/MyDrive/Deep_learning/Congenital_Glaucoma/extended_dataset_for_YOLOv5/images/images_cropped/291-20030318-1-114333_9123b0b73ad3a8824a7f9419c88cae01b903a8fe64cf02d0fa363dd01706e87d_R.JPG', '/content/drive/MyDrive/Deep_learning/Congenital_Glaucoma/extended_dataset_for_YOLOv5/images/images_cropped/771-20020724-4-165036_3befae990f2c4e648afa464f07b82e133891669698451812c78452ef1fafaddb_L.JPG', '/content/drive/MyDrive/Deep_learning/Congenital_Glaucoma/extended_dataset_for_YOLOv5/images/images_cropped/771-20020724-4-165036_3befae990f2c4e648afa464f07b82e133891669698451812c78452ef1fafaddb_R.JPG', '/content/drive/MyDrive/Deep_learning/Congenital_Glaucoma/extended_dataset_for_YOLOv5/images/images_cropped/3441-20170927-6-115149_dc3acf393ae47a29e1ba2caae4efdf19e570dbc6d421504f155d56575c1c02bd_R.JPG', '/content/drive/MyDrive/Deep_learning/Congenital_Glaucoma/extended_dataset_for_YOLOv5/images/images_cropped/3441-20170927-6-115149_dc3acf393ae47a29e1ba2caae4efdf19e570dbc6d421504f155d56575c1c02bd_L.JPG', '/content/drive/MyDrive/Deep_learning/Congenital_Glaucoma/extended_dataset_for_YOLOv5/images/images_cropped/284-20140730-10-104403_4605ff56fb8a5e94760f82e97d797250af7db5009d8a57efa62dd4544f11f4c0_R.JPG', '/content/drive/MyDrive/Deep_learning/Congenital_Glaucoma/extended_dataset_for_YOLOv5/images/images_cropped/284-20140730-10-104403_4605ff56fb8a5e94760f82e97d797250af7db5009d8a57efa62dd4544f11f4c0_L.JPG', '/content/drive/MyDrive/Deep_learning/Congenital_Glaucoma/extended_dataset_for_YOLOv5/images/images_cropped/449-20150624-4-103903_d067e1f7d27811ad26fe3edce6699f080086b5d60880325ae8ee342e84409594_R.JPG', '/content/drive/MyDrive/Deep_learning/Congenital_Glaucoma/extended_dataset_for_YOLOv5/images/images_cropped/449-20150624-4-103903_d067e1f7d27811ad26fe3edce6699f080086b5d60880325ae8ee342e84409594_L.JPG', '/content/drive/MyDrive/Deep_learning/Congenital_Glaucoma/extended_dataset_for_YOLOv5/images/images_cropped/734-20161109-3-103607_3bfab006aeecb37d856b966b11ecfa63896539932de92364ed011799b943586c_L.JPG', '/content/drive/MyDrive/Deep_learning/Congenital_Glaucoma/extended_dataset_for_YOLOv5/images/images_cropped/734-20161109-3-103607_3bfab006aeecb37d856b966b11ecfa63896539932de92364ed011799b943586c_R.JPG', '/content/drive/MyDrive/Deep_learning/Congenital_Glaucoma/extended_dataset_for_YOLOv5/images/images_cropped/8551-20201125-1-111014_7ba139284efd6df857ecc866fdf2b3864629925f7162185d19645f35caca84c3_L.JPG', '/content/drive/MyDrive/Deep_learning/Congenital_Glaucoma/extended_dataset_for_YOLOv5/images/images_cropped/8551-20201125-1-111014_7ba139284efd6df857ecc866fdf2b3864629925f7162185d19645f35caca84c3_R.JPG', '/content/drive/MyDrive/Deep_learning/Congenital_Glaucoma/extended_dataset_for_YOLOv5/images/images_cropped/403-20090811-3-125411_7ad23c8b89c77e6e79a6b14e6c2c1a8eefb73b6b3a2e33ab8dd33219aa439653_L.JPG', '/content/drive/MyDrive/Deep_learning/Congenital_Glaucoma/extended_dataset_for_YOLOv5/images/images_cropped/403-20090811-3-125411_7ad23c8b89c77e6e79a6b14e6c2c1a8eefb73b6b3a2e33ab8dd33219aa439653_R.JPG', '/content/drive/MyDrive/Deep_learning/Congenital_Glaucoma/extended_dataset_for_YOLOv5/images/images_cropped/764-20130814-0-120828_4f6246e0a5e67563d571b4c17667ee67ef136273c212098d6441bdfcd8d8900b_L.JPG', '/content/drive/MyDrive/Deep_learning/Congenital_Glaucoma/extended_dataset_for_YOLOv5/images/images_cropped/764-20130814-0-120828_4f6246e0a5e67563d571b4c17667ee67ef136273c212098d6441bdfcd8d8900b_R.JPG', '/content/drive/MyDrive/Deep_learning/Congenital_Glaucoma/extended_dataset_for_YOLOv5/images/images_cropped/682-20180405-15-115132_e29553ff640c9622b367ff7793472acbd799b99312a0cc0fd1485d63cbd67443_R.JPG', '/content/drive/MyDrive/Deep_learning/Congenital_Glaucoma/extended_dataset_for_YOLOv5/images/images_cropped/682-20180405-15-115132_e29553ff640c9622b367ff7793472acbd799b99312a0cc0fd1485d63cbd67443_L.JPG', '/content/drive/MyDrive/Deep_learning/Congenital_Glaucoma/extended_dataset_for_YOLOv5/images/images_cropped/2482-20060905-4-121512_3e22cc8cdeba16206d2fac798d1aafda8d3d91ff0145ec32624aa4e0ef3ce6b1_L.JPG', '/content/drive/MyDrive/Deep_learning/Congenital_Glaucoma/extended_dataset_for_YOLOv5/images/images_cropped/2482-20060905-4-121512_3e22cc8cdeba16206d2fac798d1aafda8d3d91ff0145ec32624aa4e0ef3ce6b1_R.JPG', '/content/drive/MyDrive/Deep_learning/Congenital_Glaucoma/extended_dataset_for_YOLOv5/images/images_cropped/29-20110817-3-000000_5f493b19369771da965b08954505e4d2e7843e4666651e7f4ed5802c47b9e669_R.JPG', '/content/drive/MyDrive/Deep_learning/Congenital_Glaucoma/extended_dataset_for_YOLOv5/images/images_cropped/29-20110817-3-000000_5f493b19369771da965b08954505e4d2e7843e4666651e7f4ed5802c47b9e669_L.JPG', '/content/drive/MyDrive/Deep_learning/Congenital_Glaucoma/extended_dataset_for_YOLOv5/images/images_cropped/2028-20100804-14-114731_25cb69dc99bdd538ea2e3d6ba4a57df714ec2132fe50dfa423f0947ef71019fb_R.JPG', '/content/drive/MyDrive/Deep_learning/Congenital_Glaucoma/extended_dataset_for_YOLOv5/images/images_cropped/2028-20100804-14-114731_25cb69dc99bdd538ea2e3d6ba4a57df714ec2132fe50dfa423f0947ef71019fb_L.JPG', '/content/drive/MyDrive/Deep_learning/Congenital_Glaucoma/extended_dataset_for_YOLOv5/images/images_cropped/9596-20191009-5-103724_5a9d0fb44d3fe4b658c2d31c661f96837faf73e15fa9c0538d4516a3b33a61c6_L.JPG', '/content/drive/MyDrive/Deep_learning/Congenital_Glaucoma/extended_dataset_for_YOLOv5/images/images_cropped/9596-20191009-5-103724_5a9d0fb44d3fe4b658c2d31c661f96837faf73e15fa9c0538d4516a3b33a61c6_R.JPG', '/content/drive/MyDrive/Deep_learning/Congenital_Glaucoma/extended_dataset_for_YOLOv5/images/images_cropped/706-20170807-6-091552_c2b7d8f1b8bf71384ee0155156bb25fb12bd2c4f17399767a8fa93035b3d8356_L.JPG', '/content/drive/MyDrive/Deep_learning/Congenital_Glaucoma/extended_dataset_for_YOLOv5/images/images_cropped/706-20170807-6-091552_c2b7d8f1b8bf71384ee0155156bb25fb12bd2c4f17399767a8fa93035b3d8356_R.JPG', '/content/drive/MyDrive/Deep_learning/Congenital_Glaucoma/extended_dataset_for_YOLOv5/images/images_cropped/844-20130918-1-111803_4696efbf4d94632e82d062cbfe66e4f07e37f99ea1d3affce06766945da58ebc_L.JPG', '/content/drive/MyDrive/Deep_learning/Congenital_Glaucoma/extended_dataset_for_YOLOv5/images/images_cropped/844-20130918-1-111803_4696efbf4d94632e82d062cbfe66e4f07e37f99ea1d3affce06766945da58ebc_R.JPG', '/content/drive/MyDrive/Deep_learning/Congenital_Glaucoma/extended_dataset_for_YOLOv5/images/images_cropped/911-20111109-1-000000_5b40b54cb66f284c5448dbdaa97eee22fc16f46c2cb401132d3280a290b0b1c1_R.JPG', '/content/drive/MyDrive/Deep_learning/Congenital_Glaucoma/extended_dataset_for_YOLOv5/images/images_cropped/911-20111109-1-000000_5b40b54cb66f284c5448dbdaa97eee22fc16f46c2cb401132d3280a290b0b1c1_L.JPG', '/content/drive/MyDrive/Deep_learning/Congenital_Glaucoma/extended_dataset_for_YOLOv5/images/images_cropped/2383-20130327-10-171431_076bc6ddfb53a953df7fcbc169398b97c7db71d5da936f57f77149246feb8f43_R.JPG', '/content/drive/MyDrive/Deep_learning/Congenital_Glaucoma/extended_dataset_for_YOLOv5/images/images_cropped/2383-20130327-10-171431_076bc6ddfb53a953df7fcbc169398b97c7db71d5da936f57f77149246feb8f43_L.JPG', '/content/drive/MyDrive/Deep_learning/Congenital_Glaucoma/extended_dataset_for_YOLOv5/images/images_cropped/1758-20030129-3-113739_1ab90489eef8ee25f4d380378542a0227f038d190a1a1d6f1e375dbf8a655fa4_L.JPG', '/content/drive/MyDrive/Deep_learning/Congenital_Glaucoma/extended_dataset_for_YOLOv5/images/images_cropped/1758-20030129-3-113739_1ab90489eef8ee25f4d380378542a0227f038d190a1a1d6f1e375dbf8a655fa4_R.JPG', '/content/drive/MyDrive/Deep_learning/Congenital_Glaucoma/extended_dataset_for_YOLOv5/images/images_cropped/1888-20160413-2-121025_1318021a6d992861995b57bd037341582760da7502a1a85447a864ecfed00950_R.JPG', '/content/drive/MyDrive/Deep_learning/Congenital_Glaucoma/extended_dataset_for_YOLOv5/images/images_cropped/1888-20160413-2-121025_1318021a6d992861995b57bd037341582760da7502a1a85447a864ecfed00950_L.JPG', '/content/drive/MyDrive/Deep_learning/Congenital_Glaucoma/extended_dataset_for_YOLOv5/images/images_cropped/1120-20140820-1-102407_b3dfcfee06bb06249dbfd085bf468fe8b451a47ea49e37db2e8a64c14908c5f1_L.JPG', '/content/drive/MyDrive/Deep_learning/Congenital_Glaucoma/extended_dataset_for_YOLOv5/images/images_cropped/1120-20140820-1-102407_b3dfcfee06bb06249dbfd085bf468fe8b451a47ea49e37db2e8a64c14908c5f1_R.JPG', '/content/drive/MyDrive/Deep_learning/Congenital_Glaucoma/extended_dataset_for_YOLOv5/images/images_cropped/104-20150204-7-110252_2aa92fbb82a196c26f50035d34f8164957c04a14ee9a15cfa7bb05eb5add66fb_R.JPG', '/content/drive/MyDrive/Deep_learning/Congenital_Glaucoma/extended_dataset_for_YOLOv5/images/images_cropped/104-20150204-7-110252_2aa92fbb82a196c26f50035d34f8164957c04a14ee9a15cfa7bb05eb5add66fb_L.JPG', '/content/drive/MyDrive/Deep_learning/Congenital_Glaucoma/extended_dataset_for_YOLOv5/images/images_cropped/2392-20150218-1-115117_5c6379f7e5ba574c5034ba7b5a1205e413a93792a82e19a1d08fe9679046c91c_R.JPG', '/content/drive/MyDrive/Deep_learning/Congenital_Glaucoma/extended_dataset_for_YOLOv5/images/images_cropped/2392-20150218-1-115117_5c6379f7e5ba574c5034ba7b5a1205e413a93792a82e19a1d08fe9679046c91c_L.JPG', '/content/drive/MyDrive/Deep_learning/Congenital_Glaucoma/extended_dataset_for_YOLOv5/images/images_cropped/1155-20130522-7-101501_5a74353440567156f3fb042ed4cd1ba54d8016b54c5b89766adcfd1038650e36_R.JPG', '/content/drive/MyDrive/Deep_learning/Congenital_Glaucoma/extended_dataset_for_YOLOv5/images/images_cropped/1155-20130522-7-101501_5a74353440567156f3fb042ed4cd1ba54d8016b54c5b89766adcfd1038650e36_L.JPG', '/content/drive/MyDrive/Deep_learning/Congenital_Glaucoma/extended_dataset_for_YOLOv5/images/images_cropped/1128-20130911-3-110832_0baf3eb1715a3a9912d4d69fc911aea9d2e9dd604a25a65976d4602e47672bea_R.JPG', '/content/drive/MyDrive/Deep_learning/Congenital_Glaucoma/extended_dataset_for_YOLOv5/images/images_cropped/1128-20130911-3-110832_0baf3eb1715a3a9912d4d69fc911aea9d2e9dd604a25a65976d4602e47672bea_L.JPG', '/content/drive/MyDrive/Deep_learning/Congenital_Glaucoma/extended_dataset_for_YOLOv5/images/images_cropped/795-20190703-1-102000_7fb5594f942eca5d2f1d69d3ee075dbfb6a9e1f73f1a09751a29e0ba49f90dc4_R.JPG', '/content/drive/MyDrive/Deep_learning/Congenital_Glaucoma/extended_dataset_for_YOLOv5/images/images_cropped/795-20190703-1-102000_7fb5594f942eca5d2f1d69d3ee075dbfb6a9e1f73f1a09751a29e0ba49f90dc4_L.JPG', '/content/drive/MyDrive/Deep_learning/Congenital_Glaucoma/extended_dataset_for_YOLOv5/images/images_cropped/1919-20150930-9-105623_42d6a9d9d31ffc5847901b72bebe10a4f3eb24c278969c2f6ffced6aebee1867_R.JPG', '/content/drive/MyDrive/Deep_learning/Congenital_Glaucoma/extended_dataset_for_YOLOv5/images/images_cropped/1919-20150930-9-105623_42d6a9d9d31ffc5847901b72bebe10a4f3eb24c278969c2f6ffced6aebee1867_L.JPG', '/content/drive/MyDrive/Deep_learning/Congenital_Glaucoma/extended_dataset_for_YOLOv5/images/images_cropped/1283-20170531-1-092349_d0079a835a9a3099de5abe2703f6189e2f3f4d15b0427b8e5fac71c983701859_L.JPG', '/content/drive/MyDrive/Deep_learning/Congenital_Glaucoma/extended_dataset_for_YOLOv5/images/images_cropped/1283-20170531-1-092349_d0079a835a9a3099de5abe2703f6189e2f3f4d15b0427b8e5fac71c983701859_R.JPG', '/content/drive/MyDrive/Deep_learning/Congenital_Glaucoma/extended_dataset_for_YOLOv5/images/images_cropped/1567-20161209-1-104849_7db474affd7a8623d7e4f1c588e68bcb4277c6ac8c8c88418e358958f98f8f09_L.JPG', '/content/drive/MyDrive/Deep_learning/Congenital_Glaucoma/extended_dataset_for_YOLOv5/images/images_cropped/1567-20161209-1-104849_7db474affd7a8623d7e4f1c588e68bcb4277c6ac8c8c88418e358958f98f8f09_R.JPG', '/content/drive/MyDrive/Deep_learning/Congenital_Glaucoma/extended_dataset_for_YOLOv5/images/images_cropped/1637-20170821-4-100926_16e8bf7a433ce31cc9e6e11b9f72c96bb75cdaa696b3a3e66638b4e7aceb1315_R.JPG', '/content/drive/MyDrive/Deep_learning/Congenital_Glaucoma/extended_dataset_for_YOLOv5/images/images_cropped/1637-20170821-4-100926_16e8bf7a433ce31cc9e6e11b9f72c96bb75cdaa696b3a3e66638b4e7aceb1315_L.JPG', '/content/drive/MyDrive/Deep_learning/Congenital_Glaucoma/extended_dataset_for_YOLOv5/images/images_cropped/84-20050316-9-160144_287f8394e17434c30d0c9286d08be949bdda21d5a90f7953d9071d998adeae6d_R.JPG', '/content/drive/MyDrive/Deep_learning/Congenital_Glaucoma/extended_dataset_for_YOLOv5/images/images_cropped/84-20050316-9-160144_287f8394e17434c30d0c9286d08be949bdda21d5a90f7953d9071d998adeae6d_L.JPG', '/content/drive/MyDrive/Deep_learning/Congenital_Glaucoma/extended_dataset_for_YOLOv5/images/images_cropped/1465-20170914-8-105209_6f4c4f9fe1a83cdd78b1d0c3cf43b77a9b20166798355d4ef1a0c6218d822678_L.JPG', '/content/drive/MyDrive/Deep_learning/Congenital_Glaucoma/extended_dataset_for_YOLOv5/images/images_cropped/1465-20170914-8-105209_6f4c4f9fe1a83cdd78b1d0c3cf43b77a9b20166798355d4ef1a0c6218d822678_R.JPG', '/content/drive/MyDrive/Deep_learning/Congenital_Glaucoma/extended_dataset_for_YOLOv5/images/images_cropped/1801-20171227-3-121356_8e23f975bc962c75636d5279db4b3c649bf12554bdd613c4d2c67e798ec75f8c_R.JPG', '/content/drive/MyDrive/Deep_learning/Congenital_Glaucoma/extended_dataset_for_YOLOv5/images/images_cropped/1801-20171227-3-121356_8e23f975bc962c75636d5279db4b3c649bf12554bdd613c4d2c67e798ec75f8c_L.JPG', '/content/drive/MyDrive/Deep_learning/Congenital_Glaucoma/extended_dataset_for_YOLOv5/images/images_cropped/1678-20180822-3-102946_51fd7a63529f51333959afdb9f7137d88cd446ddcd97e322fca10780430599c9_L.JPG', '/content/drive/MyDrive/Deep_learning/Congenital_Glaucoma/extended_dataset_for_YOLOv5/images/images_cropped/1678-20180822-3-102946_51fd7a63529f51333959afdb9f7137d88cd446ddcd97e322fca10780430599c9_R.JPG', '/content/drive/MyDrive/Deep_learning/Congenital_Glaucoma/extended_dataset_for_YOLOv5/images/images_cropped/306-20010220-3-110021_5f6bf1d6567e35567b974b57b27f5e9c0182f9121242bd32916682c7837bd70d_R.JPG', '/content/drive/MyDrive/Deep_learning/Congenital_Glaucoma/extended_dataset_for_YOLOv5/images/images_cropped/306-20010220-3-110021_5f6bf1d6567e35567b974b57b27f5e9c0182f9121242bd32916682c7837bd70d_L.JPG', '/content/drive/MyDrive/Deep_learning/Congenital_Glaucoma/extended_dataset_for_YOLOv5/images/images_cropped/1008-20090811-5-122145_22825892a6abb7a7bd502497bfef217e4fc9c01524b2d2aa4c47f122917d0c18_R.JPG', '/content/drive/MyDrive/Deep_learning/Congenital_Glaucoma/extended_dataset_for_YOLOv5/images/images_cropped/1008-20090811-5-122145_22825892a6abb7a7bd502497bfef217e4fc9c01524b2d2aa4c47f122917d0c18_L.JPG', '/content/drive/MyDrive/Deep_learning/Congenital_Glaucoma/extended_dataset_for_YOLOv5/images/images_cropped/3210-20131106-0-112927_ab8324516b094aa4acf081cec793f705869c345708fce3ab6c7d5962b2054b6d_R.JPG', '/content/drive/MyDrive/Deep_learning/Congenital_Glaucoma/extended_dataset_for_YOLOv5/images/images_cropped/3210-20131106-0-112927_ab8324516b094aa4acf081cec793f705869c345708fce3ab6c7d5962b2054b6d_L.JPG', '/content/drive/MyDrive/Deep_learning/Congenital_Glaucoma/extended_dataset_for_YOLOv5/images/images_cropped/1596-20170308-5-094116_ae8a69a0ee604a6b60ed79e215f3adbd007fa9d21c96c8eae05b9452f13b9b4f_R.JPG', '/content/drive/MyDrive/Deep_learning/Congenital_Glaucoma/extended_dataset_for_YOLOv5/images/images_cropped/1596-20170308-5-094116_ae8a69a0ee604a6b60ed79e215f3adbd007fa9d21c96c8eae05b9452f13b9b4f_L.JPG', '/content/drive/MyDrive/Deep_learning/Congenital_Glaucoma/extended_dataset_for_YOLOv5/images/images_cropped/47-20121003-7-111320_542be244abbd350248cd8eacf2733d44ca81d45ab4f7c800d5142a5cc3079aea_R.JPG', '/content/drive/MyDrive/Deep_learning/Congenital_Glaucoma/extended_dataset_for_YOLOv5/images/images_cropped/47-20121003-7-111320_542be244abbd350248cd8eacf2733d44ca81d45ab4f7c800d5142a5cc3079aea_L.JPG', '/content/drive/MyDrive/Deep_learning/Congenital_Glaucoma/extended_dataset_for_YOLOv5/images/images_cropped/1212-20130605-2-151242_2614ff21a39a7af446383126789a182db3973069d3ee5765280b2adc9cf3c6c8_L.JPG', '/content/drive/MyDrive/Deep_learning/Congenital_Glaucoma/extended_dataset_for_YOLOv5/images/images_cropped/1212-20130605-2-151242_2614ff21a39a7af446383126789a182db3973069d3ee5765280b2adc9cf3c6c8_R.JPG', '/content/drive/MyDrive/Deep_learning/Congenital_Glaucoma/extended_dataset_for_YOLOv5/images/images_cropped/4435-20160330-5-130412_4e382d04084fcf3c2134e02bcc0f2779594ea4544fae02035a36d2248dcaab50_R.JPG', '/content/drive/MyDrive/Deep_learning/Congenital_Glaucoma/extended_dataset_for_YOLOv5/images/images_cropped/4435-20160330-5-130412_4e382d04084fcf3c2134e02bcc0f2779594ea4544fae02035a36d2248dcaab50_L.JPG', '/content/drive/MyDrive/Deep_learning/Congenital_Glaucoma/extended_dataset_for_YOLOv5/images/images_cropped/1383-20181205-9-105614_93aa05b3f83116de139ec1a4e47bd3c3d82b3698eff2c1d5848429304cbb4318_R.JPG', '/content/drive/MyDrive/Deep_learning/Congenital_Glaucoma/extended_dataset_for_YOLOv5/images/images_cropped/1383-20181205-9-105614_93aa05b3f83116de139ec1a4e47bd3c3d82b3698eff2c1d5848429304cbb4318_L.JPG', '/content/drive/MyDrive/Deep_learning/Congenital_Glaucoma/extended_dataset_for_YOLOv5/images/images_cropped/443-20151202-5-111827_b742b8fec1217ad6e752eb713cd68c885ffdc889261d8d9044b833513b8c99d3_R.JPG', '/content/drive/MyDrive/Deep_learning/Congenital_Glaucoma/extended_dataset_for_YOLOv5/images/images_cropped/443-20151202-5-111827_b742b8fec1217ad6e752eb713cd68c885ffdc889261d8d9044b833513b8c99d3_L.JPG', '/content/drive/MyDrive/Deep_learning/Congenital_Glaucoma/extended_dataset_for_YOLOv5/images/images_cropped/754-20170705-7-114300_6bc9987d6651c4b8a3e4d08c71c381d15717f208cf786f2211cbf0d36a706e9f_R.JPG', '/content/drive/MyDrive/Deep_learning/Congenital_Glaucoma/extended_dataset_for_YOLOv5/images/images_cropped/754-20170705-7-114300_6bc9987d6651c4b8a3e4d08c71c381d15717f208cf786f2211cbf0d36a706e9f_L.JPG', '/content/drive/MyDrive/Deep_learning/Congenital_Glaucoma/extended_dataset_for_YOLOv5/images/images_cropped/1077-20081202-2-145602_340d32b6996a2f1f79b4684753d266534c2fa8b5f838b88f1e4b3554ba65df03_L.JPG', '/content/drive/MyDrive/Deep_learning/Congenital_Glaucoma/extended_dataset_for_YOLOv5/images/images_cropped/1077-20081202-2-145602_340d32b6996a2f1f79b4684753d266534c2fa8b5f838b88f1e4b3554ba65df03_R.JPG', '/content/drive/MyDrive/Deep_learning/Congenital_Glaucoma/extended_dataset_for_YOLOv5/images/images_cropped/874-20100707-3-114629_39e7163242ee6ff86d4502ba6af712c329c36852629eb4d92f46c7a6869b3b1f_R.JPG', '/content/drive/MyDrive/Deep_learning/Congenital_Glaucoma/extended_dataset_for_YOLOv5/images/images_cropped/874-20100707-3-114629_39e7163242ee6ff86d4502ba6af712c329c36852629eb4d92f46c7a6869b3b1f_L.JPG', '/content/drive/MyDrive/Deep_learning/Congenital_Glaucoma/extended_dataset_for_YOLOv5/images/images_cropped/9770-20200115-8-111826_1bb6660ab5a133d12ac2ad004a3b0577bb334b675fdc413809c239569e136e16_L.JPG', '/content/drive/MyDrive/Deep_learning/Congenital_Glaucoma/extended_dataset_for_YOLOv5/images/images_cropped/9770-20200115-8-111826_1bb6660ab5a133d12ac2ad004a3b0577bb334b675fdc413809c239569e136e16_R.JPG', '/content/drive/MyDrive/Deep_learning/Congenital_Glaucoma/extended_dataset_for_YOLOv5/images/images_cropped/1716-20160113-4-122430_3d72b2cebc5f48f581abf2ab20572dbaac46afffcf7ac3febfbb14f6b78cf67f_R.JPG', '/content/drive/MyDrive/Deep_learning/Congenital_Glaucoma/extended_dataset_for_YOLOv5/images/images_cropped/1078-20150408-5-120659_4713d1d24a86867ab151734755b461a84e0b6c328be71d81b41bc36765b69764_R.JPG', '/content/drive/MyDrive/Deep_learning/Congenital_Glaucoma/extended_dataset_for_YOLOv5/images/images_cropped/1078-20150408-5-120659_4713d1d24a86867ab151734755b461a84e0b6c328be71d81b41bc36765b69764_L.JPG', '/content/drive/MyDrive/Deep_learning/Congenital_Glaucoma/extended_dataset_for_YOLOv5/images/images_cropped/367-20110817-8-000000_ac325399dc12d850dead998cf5303d9652ddf6e72834cf5822e5d93466dd1459_L.JPG', '/content/drive/MyDrive/Deep_learning/Congenital_Glaucoma/extended_dataset_for_YOLOv5/images/images_cropped/367-20110817-8-000000_ac325399dc12d850dead998cf5303d9652ddf6e72834cf5822e5d93466dd1459_R.JPG', '/content/drive/MyDrive/Deep_learning/Congenital_Glaucoma/extended_dataset_for_YOLOv5/images/images_cropped/1431-20070116-4-103517_1235e65b765088752033e69eac836c08e0c975f7a94a03cfac024d2715f6f0b7_R.JPG', '/content/drive/MyDrive/Deep_learning/Congenital_Glaucoma/extended_dataset_for_YOLOv5/images/images_cropped/1431-20070116-4-103517_1235e65b765088752033e69eac836c08e0c975f7a94a03cfac024d2715f6f0b7_L.JPG', '/content/drive/MyDrive/Deep_learning/Congenital_Glaucoma/extended_dataset_for_YOLOv5/images/images_cropped/2302-20190821-9-100302_6150694145074c922901db7f161d219f3fa5608c69cbb693b71e027282ab6e38_L.JPG', '/content/drive/MyDrive/Deep_learning/Congenital_Glaucoma/extended_dataset_for_YOLOv5/images/images_cropped/2302-20190821-9-100302_6150694145074c922901db7f161d219f3fa5608c69cbb693b71e027282ab6e38_R.JPG', '/content/drive/MyDrive/Deep_learning/Congenital_Glaucoma/extended_dataset_for_YOLOv5/images/images_cropped/2700-20161228-7-110005_75a41b89f6a4c0bea253feea92ca3a7b1a64c78a45a50a3b2a59522effe716ab_R.JPG', '/content/drive/MyDrive/Deep_learning/Congenital_Glaucoma/extended_dataset_for_YOLOv5/images/images_cropped/2700-20161228-7-110005_75a41b89f6a4c0bea253feea92ca3a7b1a64c78a45a50a3b2a59522effe716ab_L.JPG', '/content/drive/MyDrive/Deep_learning/Congenital_Glaucoma/extended_dataset_for_YOLOv5/images/images_cropped/1701-20080729-5-101038_438ae4c559069db87c2053e8835d7f2038d32cab760516ab37ffbcc487d31853_R.JPG', '/content/drive/MyDrive/Deep_learning/Congenital_Glaucoma/extended_dataset_for_YOLOv5/images/images_cropped/1701-20080729-5-101038_438ae4c559069db87c2053e8835d7f2038d32cab760516ab37ffbcc487d31853_L.JPG', '/content/drive/MyDrive/Deep_learning/Congenital_Glaucoma/extended_dataset_for_YOLOv5/images/images_cropped/648-20160608-7-131324_1ae0365224f3776fd8e7cc4dd7fae3e0ff0e1b0bed195db3419bb9fbfb4373ac_R.JPG', '/content/drive/MyDrive/Deep_learning/Congenital_Glaucoma/extended_dataset_for_YOLOv5/images/images_cropped/648-20160608-7-131324_1ae0365224f3776fd8e7cc4dd7fae3e0ff0e1b0bed195db3419bb9fbfb4373ac_L.JPG', '/content/drive/MyDrive/Deep_learning/Congenital_Glaucoma/extended_dataset_for_YOLOv5/images/images_cropped/1232-20131023-6-093202_56160e5f020f6fe46f43531e76bbc8de75376b708360610ba1338b7c03094d55_R.JPG', '/content/drive/MyDrive/Deep_learning/Congenital_Glaucoma/extended_dataset_for_YOLOv5/images/images_cropped/1232-20131023-6-093202_56160e5f020f6fe46f43531e76bbc8de75376b708360610ba1338b7c03094d55_L.JPG', '/content/drive/MyDrive/Deep_learning/Congenital_Glaucoma/extended_dataset_for_YOLOv5/images/images_cropped/427-20101110-4-104656_80ce654b1cc4eec006618ee9f12dbb6f73959569c932777e1cc7586b65e074f9_R.JPG', '/content/drive/MyDrive/Deep_learning/Congenital_Glaucoma/extended_dataset_for_YOLOv5/images/images_cropped/427-20101110-4-104656_80ce654b1cc4eec006618ee9f12dbb6f73959569c932777e1cc7586b65e074f9_L.JPG', '/content/drive/MyDrive/Deep_learning/Congenital_Glaucoma/extended_dataset_for_YOLOv5/images/images_cropped/1671-20180704-3-113649_0e3081d54e3fbd863727c2716be11aa768873106e6e13cc59ed2f6e94df618be_L.JPG', '/content/drive/MyDrive/Deep_learning/Congenital_Glaucoma/extended_dataset_for_YOLOv5/images/images_cropped/1671-20180704-3-113649_0e3081d54e3fbd863727c2716be11aa768873106e6e13cc59ed2f6e94df618be_R.JPG', '/content/drive/MyDrive/Deep_learning/Congenital_Glaucoma/extended_dataset_for_YOLOv5/images/images_cropped/845-20130619-5-122916_f52eb6f3bcfb96d75e503e0fc6e6ef1e01fadcfc2b487560d4aa3e5e0c8fde8c_L.JPG', '/content/drive/MyDrive/Deep_learning/Congenital_Glaucoma/extended_dataset_for_YOLOv5/images/images_cropped/845-20130619-5-122916_f52eb6f3bcfb96d75e503e0fc6e6ef1e01fadcfc2b487560d4aa3e5e0c8fde8c_R.JPG', '/content/drive/MyDrive/Deep_learning/Congenital_Glaucoma/extended_dataset_for_YOLOv5/images/images_cropped/1407-20111221-5-000000_2c5e6b107c901be916ae2d402f8c1f4ddb37b314383868c3ed34401faf111953_R.JPG', '/content/drive/MyDrive/Deep_learning/Congenital_Glaucoma/extended_dataset_for_YOLOv5/images/images_cropped/1407-20111221-5-000000_2c5e6b107c901be916ae2d402f8c1f4ddb37b314383868c3ed34401faf111953_L.JPG', '/content/drive/MyDrive/Deep_learning/Congenital_Glaucoma/extended_dataset_for_YOLOv5/images/images_cropped/1527-20070703-5-162224_0bf768e8bc49ad0d3966ba338f5cfb34ccc67b4c60f95dc704dc1774fdd78a99_R.JPG', '/content/drive/MyDrive/Deep_learning/Congenital_Glaucoma/extended_dataset_for_YOLOv5/images/images_cropped/1527-20070703-5-162224_0bf768e8bc49ad0d3966ba338f5cfb34ccc67b4c60f95dc704dc1774fdd78a99_L.JPG', '/content/drive/MyDrive/Deep_learning/Congenital_Glaucoma/extended_dataset_for_YOLOv5/images/images_cropped/1961-20150909-0-101610_426e7b3675250400643e02cea2df8f262ea3bd01a4ebf4ced635cec404a57c73_R.JPG', '/content/drive/MyDrive/Deep_learning/Congenital_Glaucoma/extended_dataset_for_YOLOv5/images/images_cropped/1961-20150909-0-101610_426e7b3675250400643e02cea2df8f262ea3bd01a4ebf4ced635cec404a57c73_L.JPG', '/content/drive/MyDrive/Deep_learning/Congenital_Glaucoma/extended_dataset_for_YOLOv5/images/images_cropped/2425-20110824-4-000000_f3e41c059940280b3d64cce7bc5ba0325cacaae1cb5d1753f95189cab376796c_L.JPG', '/content/drive/MyDrive/Deep_learning/Congenital_Glaucoma/extended_dataset_for_YOLOv5/images/images_cropped/2425-20110824-4-000000_f3e41c059940280b3d64cce7bc5ba0325cacaae1cb5d1753f95189cab376796c_R.JPG', '/content/drive/MyDrive/Deep_learning/Congenital_Glaucoma/extended_dataset_for_YOLOv5/images/images_cropped/2183-20180404-0-100712_06380cb7f1d946cd00cea14b12e2db10c54b76e087d0f86f792539b6ccf43b91_R.JPG', '/content/drive/MyDrive/Deep_learning/Congenital_Glaucoma/extended_dataset_for_YOLOv5/images/images_cropped/2183-20180404-0-100712_06380cb7f1d946cd00cea14b12e2db10c54b76e087d0f86f792539b6ccf43b91_L.JPG', '/content/drive/MyDrive/Deep_learning/Congenital_Glaucoma/extended_dataset_for_YOLOv5/images/images_cropped/6819-20081007-2-104759_7417cb1db6a48cf303e98fe77b8480dc1b76cbb6cf4536df16cdb4444566a116_L.JPG', '/content/drive/MyDrive/Deep_learning/Congenital_Glaucoma/extended_dataset_for_YOLOv5/images/images_cropped/6819-20081007-2-104759_7417cb1db6a48cf303e98fe77b8480dc1b76cbb6cf4536df16cdb4444566a116_R.JPG', '/content/drive/MyDrive/Deep_learning/Congenital_Glaucoma/extended_dataset_for_YOLOv5/images/images_cropped/2212-20161214-3-120731_38f34e47d457efda1bbc55af94faa8afac4e7c927c77c07b7c2d48e531d9921f_R.JPG', '/content/drive/MyDrive/Deep_learning/Congenital_Glaucoma/extended_dataset_for_YOLOv5/images/images_cropped/2212-20161214-3-120731_38f34e47d457efda1bbc55af94faa8afac4e7c927c77c07b7c2d48e531d9921f_L.JPG', '/content/drive/MyDrive/Deep_learning/Congenital_Glaucoma/extended_dataset_for_YOLOv5/images/images_cropped/389-20131023-8-101604_24c35e065aa6b728733304e8bb9afd97c7721e12c98692fc4ebaf0eca3689d90_R.JPG', '/content/drive/MyDrive/Deep_learning/Congenital_Glaucoma/extended_dataset_for_YOLOv5/images/images_cropped/389-20131023-8-101604_24c35e065aa6b728733304e8bb9afd97c7721e12c98692fc4ebaf0eca3689d90_L.JPG', '/content/drive/MyDrive/Deep_learning/Congenital_Glaucoma/extended_dataset_for_YOLOv5/images/images_cropped/3215-20140723-3-110600_a1b4f653dc54201cc1e2f04519697b020156390503c3695e75810d657ab0621b_R.JPG', '/content/drive/MyDrive/Deep_learning/Congenital_Glaucoma/extended_dataset_for_YOLOv5/images/images_cropped/3215-20140723-3-110600_a1b4f653dc54201cc1e2f04519697b020156390503c3695e75810d657ab0621b_L.JPG', '/content/drive/MyDrive/Deep_learning/Congenital_Glaucoma/extended_dataset_for_YOLOv5/images/images_cropped/1480-20100622-1-090627_5c5e8fb62f0d8ecf99a6ae18fc57259b73336479cc93fe591f5667eb2af90961_R.JPG', '/content/drive/MyDrive/Deep_learning/Congenital_Glaucoma/extended_dataset_for_YOLOv5/images/images_cropped/1418-20130410-1-144017_37b618a1d4ce1ffc0ec6c751f396c178eb6358d689c4367c10bc1f41f913d105_L.JPG', '/content/drive/MyDrive/Deep_learning/Congenital_Glaucoma/extended_dataset_for_YOLOv5/images/images_cropped/777-20190403-12-104241_13bd4db132e1c4c3a1f25b4eabf7d7a823c08311b7469ed71b202a4f10d9b37f_L.JPG', '/content/drive/MyDrive/Deep_learning/Congenital_Glaucoma/extended_dataset_for_YOLOv5/images/images_cropped/777-20190403-12-104241_13bd4db132e1c4c3a1f25b4eabf7d7a823c08311b7469ed71b202a4f10d9b37f_R.JPG', '/content/drive/MyDrive/Deep_learning/Congenital_Glaucoma/extended_dataset_for_YOLOv5/images/images_cropped/655-20111005-1-000000_39ecefd7ad863fd3360075233b63bd71d03de7144654c4a13923626562118b42_R.JPG', '/content/drive/MyDrive/Deep_learning/Congenital_Glaucoma/extended_dataset_for_YOLOv5/images/images_cropped/655-20111005-1-000000_39ecefd7ad863fd3360075233b63bd71d03de7144654c4a13923626562118b42_L.JPG', '/content/drive/MyDrive/Deep_learning/Congenital_Glaucoma/extended_dataset_for_YOLOv5/images/images_cropped/2643-20070608-0-105012_c9e684ccdcc927926dc3b9443b57826f0d2da35aa15ec1e92305b483e7d2c430_L.JPG', '/content/drive/MyDrive/Deep_learning/Congenital_Glaucoma/extended_dataset_for_YOLOv5/images/images_cropped/2643-20070608-0-105012_c9e684ccdcc927926dc3b9443b57826f0d2da35aa15ec1e92305b483e7d2c430_R.JPG', '/content/drive/MyDrive/Deep_learning/Congenital_Glaucoma/extended_dataset_for_YOLOv5/images/images_cropped/1763-20110610-2-000000_2a2882b712f1a0bfba577b6953b482fd858a26143b6a37a7fb0227430b61c649_R.JPG', '/content/drive/MyDrive/Deep_learning/Congenital_Glaucoma/extended_dataset_for_YOLOv5/images/images_cropped/1763-20110610-2-000000_2a2882b712f1a0bfba577b6953b482fd858a26143b6a37a7fb0227430b61c649_L.JPG', '/content/drive/MyDrive/Deep_learning/Congenital_Glaucoma/extended_dataset_for_YOLOv5/images/images_cropped/1301-20180117-4-105528_c2f1656b972287f3e4649a1fb90bd0205ba092583be2d32a8feecdb6f8b85490_L.JPG', '/content/drive/MyDrive/Deep_learning/Congenital_Glaucoma/extended_dataset_for_YOLOv5/images/images_cropped/1301-20180117-4-105528_c2f1656b972287f3e4649a1fb90bd0205ba092583be2d32a8feecdb6f8b85490_R.JPG', '/content/drive/MyDrive/Deep_learning/Congenital_Glaucoma/extended_dataset_for_YOLOv5/images/images_cropped/761-20140903-1-112045_3d5ec8c109694e8bd793cb1b04fc051918567fee8d6dbc2d6017d039a321211b_L.JPG', '/content/drive/MyDrive/Deep_learning/Congenital_Glaucoma/extended_dataset_for_YOLOv5/images/images_cropped/831-20140723-6-125102_09b88793e4c06ba76f2642fff11f63e53b4f917bb2936b849da5e10662f1447e_R.JPG', '/content/drive/MyDrive/Deep_learning/Congenital_Glaucoma/extended_dataset_for_YOLOv5/images/images_cropped/831-20140723-6-125102_09b88793e4c06ba76f2642fff11f63e53b4f917bb2936b849da5e10662f1447e_L.JPG', '/content/drive/MyDrive/Deep_learning/Congenital_Glaucoma/extended_dataset_for_YOLOv5/images/images_cropped/9603-20191218-3-094553_3728641d36b0c52ef1a860019a4f472dba217795053d99d5266682cec89258d9_R.JPG', '/content/drive/MyDrive/Deep_learning/Congenital_Glaucoma/extended_dataset_for_YOLOv5/images/images_cropped/9603-20191218-3-094553_3728641d36b0c52ef1a860019a4f472dba217795053d99d5266682cec89258d9_L.JPG', '/content/drive/MyDrive/Deep_learning/Congenital_Glaucoma/extended_dataset_for_YOLOv5/images/images_cropped/836-20091013-0-105946_20fd6aee42d9d91962278e2c9081b887876993f99ac6695ac7f62229c127282e_L.JPG', '/content/drive/MyDrive/Deep_learning/Congenital_Glaucoma/extended_dataset_for_YOLOv5/images/images_cropped/836-20091013-0-105946_20fd6aee42d9d91962278e2c9081b887876993f99ac6695ac7f62229c127282e_R.JPG', '/content/drive/MyDrive/Deep_learning/Congenital_Glaucoma/extended_dataset_for_YOLOv5/images/images_cropped/1256-20050405-6-140030_14f52731eddd431e495c45931a390e51ab42fc503fbbfe094d265c2f55a17322_R.JPG', '/content/drive/MyDrive/Deep_learning/Congenital_Glaucoma/extended_dataset_for_YOLOv5/images/images_cropped/1256-20050405-6-140030_14f52731eddd431e495c45931a390e51ab42fc503fbbfe094d265c2f55a17322_L.JPG', '/content/drive/MyDrive/Deep_learning/Congenital_Glaucoma/extended_dataset_for_YOLOv5/images/images_cropped/143-20040831-2-121847_d0d6d0002d71bf2c256d1ec716365aaaf32f8b8f84cc692a7e098d86c31fcb97_L.JPG', '/content/drive/MyDrive/Deep_learning/Congenital_Glaucoma/extended_dataset_for_YOLOv5/images/images_cropped/143-20040831-2-121847_d0d6d0002d71bf2c256d1ec716365aaaf32f8b8f84cc692a7e098d86c31fcb97_R.JPG', '/content/drive/MyDrive/Deep_learning/Congenital_Glaucoma/extended_dataset_for_YOLOv5/images/images_cropped/2776-20171129-6-144601_ea268bbf9416ab9d65304e07451911636c5063088ce4f673ca719c9c9441d4f9_L.JPG', '/content/drive/MyDrive/Deep_learning/Congenital_Glaucoma/extended_dataset_for_YOLOv5/images/images_cropped/2776-20171129-6-144601_ea268bbf9416ab9d65304e07451911636c5063088ce4f673ca719c9c9441d4f9_R.JPG', '/content/drive/MyDrive/Deep_learning/Congenital_Glaucoma/extended_dataset_for_YOLOv5/images/images_cropped/316-20010327-7-131257_06ee00f93c5058552f28287679739caa5e438caca1af623a6eb695de95b519f0_R.JPG', '/content/drive/MyDrive/Deep_learning/Congenital_Glaucoma/extended_dataset_for_YOLOv5/images/images_cropped/316-20010327-7-131257_06ee00f93c5058552f28287679739caa5e438caca1af623a6eb695de95b519f0_L.JPG', '/content/drive/MyDrive/Deep_learning/Congenital_Glaucoma/extended_dataset_for_YOLOv5/images/images_cropped/715-20161207-1-114320_d64d43cf9921f059aa2e622d392b98946673ebab72764ddb2226599e7247a38d_L.JPG', '/content/drive/MyDrive/Deep_learning/Congenital_Glaucoma/extended_dataset_for_YOLOv5/images/images_cropped/1105-20190313-0-104557_32c60490ff9bb0b09c3012c5c5b5125d6644ae38a8300fecddde48712c61562e_R.JPG', '/content/drive/MyDrive/Deep_learning/Congenital_Glaucoma/extended_dataset_for_YOLOv5/images/images_cropped/1105-20190313-0-104557_32c60490ff9bb0b09c3012c5c5b5125d6644ae38a8300fecddde48712c61562e_L.JPG', '/content/drive/MyDrive/Deep_learning/Congenital_Glaucoma/extended_dataset_for_YOLOv5/images/images_cropped/480-20160331-8-102516_e087477ae9b1c50ec1970eb9a4981c813bd75e2e9bb319be1585d3fdef3cb11d_L.JPG', '/content/drive/MyDrive/Deep_learning/Congenital_Glaucoma/extended_dataset_for_YOLOv5/images/images_cropped/480-20160331-8-102516_e087477ae9b1c50ec1970eb9a4981c813bd75e2e9bb319be1585d3fdef3cb11d_R.JPG', '/content/drive/MyDrive/Deep_learning/Congenital_Glaucoma/extended_dataset_for_YOLOv5/images/images_cropped/51-20021008-3-092153_2785f0257d1cc1a227bf450f5e4970014a07842cfc3964458ad8c0b95cb4ce4f_L.JPG', '/content/drive/MyDrive/Deep_learning/Congenital_Glaucoma/extended_dataset_for_YOLOv5/images/images_cropped/51-20021008-3-092153_2785f0257d1cc1a227bf450f5e4970014a07842cfc3964458ad8c0b95cb4ce4f_R.JPG', '/content/drive/MyDrive/Deep_learning/Congenital_Glaucoma/extended_dataset_for_YOLOv5/images/images_cropped/9622-20191030-1-105100_0655808eb55d722564491fa1710c1ba981ee592d361d8e96590cb4e694b3776b_R.JPG', '/content/drive/MyDrive/Deep_learning/Congenital_Glaucoma/extended_dataset_for_YOLOv5/images/images_cropped/9622-20191030-1-105100_0655808eb55d722564491fa1710c1ba981ee592d361d8e96590cb4e694b3776b_L.JPG', '/content/drive/MyDrive/Deep_learning/Congenital_Glaucoma/extended_dataset_for_YOLOv5/images/images_cropped/1365-20110629-4-000000_7a0f9ef0eef97ce22eb392c8ad17045bebcc16ac5b5ef9f915b607904cbf2d16_R.JPG', '/content/drive/MyDrive/Deep_learning/Congenital_Glaucoma/extended_dataset_for_YOLOv5/images/images_cropped/1365-20110629-4-000000_7a0f9ef0eef97ce22eb392c8ad17045bebcc16ac5b5ef9f915b607904cbf2d16_L.JPG', '/content/drive/MyDrive/Deep_learning/Congenital_Glaucoma/extended_dataset_for_YOLOv5/images/images_cropped/1076-20160907-4-103858_dbeecb85726f70bb64a1f66795e9e2f970391542c3e1c221c083eba2696a91ad_R.JPG', '/content/drive/MyDrive/Deep_learning/Congenital_Glaucoma/extended_dataset_for_YOLOv5/images/images_cropped/1076-20160907-4-103858_dbeecb85726f70bb64a1f66795e9e2f970391542c3e1c221c083eba2696a91ad_L.JPG', '/content/drive/MyDrive/Deep_learning/Congenital_Glaucoma/extended_dataset_for_YOLOv5/images/images_cropped/570-20150826-2-104129_860164ef00f2b212c20cd5e1685d6b649ff3bf9b8f0939225be889783df313f9_L.JPG', '/content/drive/MyDrive/Deep_learning/Congenital_Glaucoma/extended_dataset_for_YOLOv5/images/images_cropped/570-20150826-2-104129_860164ef00f2b212c20cd5e1685d6b649ff3bf9b8f0939225be889783df313f9_R.JPG', '/content/drive/MyDrive/Deep_learning/Congenital_Glaucoma/extended_dataset_for_YOLOv5/images/images_cropped/116-20050629-4-155617_7a1b68c810e88555dcfc5d284cf34a4b774267e48a91ff818c9a9e6879075737_L.JPG', '/content/drive/MyDrive/Deep_learning/Congenital_Glaucoma/extended_dataset_for_YOLOv5/images/images_cropped/116-20050629-4-155617_7a1b68c810e88555dcfc5d284cf34a4b774267e48a91ff818c9a9e6879075737_R.JPG', '/content/drive/MyDrive/Deep_learning/Congenital_Glaucoma/extended_dataset_for_YOLOv5/images/images_cropped/580-20101117-11-115831_07a8e85c91234958ec54828cdf493c1b6c164a26fb688f2362ae3090e158a38b_R.JPG', '/content/drive/MyDrive/Deep_learning/Congenital_Glaucoma/extended_dataset_for_YOLOv5/images/images_cropped/580-20101117-11-115831_07a8e85c91234958ec54828cdf493c1b6c164a26fb688f2362ae3090e158a38b_L.JPG', '/content/drive/MyDrive/Deep_learning/Congenital_Glaucoma/extended_dataset_for_YOLOv5/images/images_cropped/4291-20170215-5-092816_60a8fcdc17f4cbdce4497543d074f1bd7831f37c9550e310f96eacf30eccb6a9_R.JPG', '/content/drive/MyDrive/Deep_learning/Congenital_Glaucoma/extended_dataset_for_YOLOv5/images/images_cropped/4291-20170215-5-092816_60a8fcdc17f4cbdce4497543d074f1bd7831f37c9550e310f96eacf30eccb6a9_L.JPG', '/content/drive/MyDrive/Deep_learning/Congenital_Glaucoma/extended_dataset_for_YOLOv5/images/images_cropped/819-20060627-5-112005_0053e97550d48fb06fad6225b4687aecf4f6f1c8279f5373a07555d54388e01d_R.JPG', '/content/drive/MyDrive/Deep_learning/Congenital_Glaucoma/extended_dataset_for_YOLOv5/images/images_cropped/819-20060627-5-112005_0053e97550d48fb06fad6225b4687aecf4f6f1c8279f5373a07555d54388e01d_L.JPG', '/content/drive/MyDrive/Deep_learning/Congenital_Glaucoma/extended_dataset_for_YOLOv5/images/images_cropped/1171-20010207-0-160340_8f7aeb6ce9e1144cfe76cbe498ee19dbb412d74d198344236e55f10756849b96_R.JPG', '/content/drive/MyDrive/Deep_learning/Congenital_Glaucoma/extended_dataset_for_YOLOv5/images/images_cropped/1171-20010207-0-160340_8f7aeb6ce9e1144cfe76cbe498ee19dbb412d74d198344236e55f10756849b96_L.JPG', '/content/drive/MyDrive/Deep_learning/Congenital_Glaucoma/extended_dataset_for_YOLOv5/images/images_cropped/1490-20070515-3-124322_5a26b6867e1342c6bda0090b2285086c4b82363d19823cf8aa4b9dc373175b61_R.JPG', '/content/drive/MyDrive/Deep_learning/Congenital_Glaucoma/extended_dataset_for_YOLOv5/images/images_cropped/1490-20070515-3-124322_5a26b6867e1342c6bda0090b2285086c4b82363d19823cf8aa4b9dc373175b61_L.JPG', '/content/drive/MyDrive/Deep_learning/Congenital_Glaucoma/extended_dataset_for_YOLOv5/images/images_cropped/564-20000704-7-152834_3d381830866bf2580e44654ca14d287276966dccbec635cf194d84b410b64852_L.JPG', '/content/drive/MyDrive/Deep_learning/Congenital_Glaucoma/extended_dataset_for_YOLOv5/images/images_cropped/564-20000704-7-152834_3d381830866bf2580e44654ca14d287276966dccbec635cf194d84b410b64852_R.JPG', '/content/drive/MyDrive/Deep_learning/Congenital_Glaucoma/extended_dataset_for_YOLOv5/images/images_cropped/283-20091215-1-111157_b568d8384f7f2b24dc809be5ea5d77befe984021d6dc79ae34097811a469c933_L.JPG', '/content/drive/MyDrive/Deep_learning/Congenital_Glaucoma/extended_dataset_for_YOLOv5/images/images_cropped/283-20091215-1-111157_b568d8384f7f2b24dc809be5ea5d77befe984021d6dc79ae34097811a469c933_R.JPG', '/content/drive/MyDrive/Deep_learning/Congenital_Glaucoma/extended_dataset_for_YOLOv5/images/images_cropped/987-20140827-6-103431_1b9ca8ee3a5a84b3c7c8448d13ad8bb5398b779dc3483d62060dcafda2a3850d_R.JPG', '/content/drive/MyDrive/Deep_learning/Congenital_Glaucoma/extended_dataset_for_YOLOv5/images/images_cropped/987-20140827-6-103431_1b9ca8ee3a5a84b3c7c8448d13ad8bb5398b779dc3483d62060dcafda2a3850d_L.JPG', '/content/drive/MyDrive/Deep_learning/Congenital_Glaucoma/extended_dataset_for_YOLOv5/images/images_cropped/1816-20061004-1-101742_8164715353e691bd2e155b5afd65ee724e8e23b0bea91a53f0bbda4714111ffd_R.JPG', '/content/drive/MyDrive/Deep_learning/Congenital_Glaucoma/extended_dataset_for_YOLOv5/images/images_cropped/1816-20061004-1-101742_8164715353e691bd2e155b5afd65ee724e8e23b0bea91a53f0bbda4714111ffd_L.JPG', '/content/drive/MyDrive/Deep_learning/Congenital_Glaucoma/extended_dataset_for_YOLOv5/images/images_cropped/946-20090728-8-113420_d9da260dc091d51c5a053cf0380ebbc66e0a22f4823d5d750eb9307cdc9f1e34_R.JPG', '/content/drive/MyDrive/Deep_learning/Congenital_Glaucoma/extended_dataset_for_YOLOv5/images/images_cropped/946-20090728-8-113420_d9da260dc091d51c5a053cf0380ebbc66e0a22f4823d5d750eb9307cdc9f1e34_L.JPG', '/content/drive/MyDrive/Deep_learning/Congenital_Glaucoma/extended_dataset_for_YOLOv5/images/images_cropped/1777-20150715-4-132728_502b143f47b531b913c268162ccffd69f6f8a210aac345029f90b98722711225_L.JPG', '/content/drive/MyDrive/Deep_learning/Congenital_Glaucoma/extended_dataset_for_YOLOv5/images/images_cropped/1777-20150715-4-132728_502b143f47b531b913c268162ccffd69f6f8a210aac345029f90b98722711225_R.JPG', '/content/drive/MyDrive/Deep_learning/Congenital_Glaucoma/extended_dataset_for_YOLOv5/images/images_cropped/1400-20160601-2-114547_0ab8aeffabb63b0eec8bc8c001c6ade86652845b1374ad2ac74f404938b6ab43_L.JPG', '/content/drive/MyDrive/Deep_learning/Congenital_Glaucoma/extended_dataset_for_YOLOv5/images/images_cropped/1400-20160601-2-114547_0ab8aeffabb63b0eec8bc8c001c6ade86652845b1374ad2ac74f404938b6ab43_R.JPG', '/content/drive/MyDrive/Deep_learning/Congenital_Glaucoma/extended_dataset_for_YOLOv5/images/images_cropped/947-20091117-4-114835_637031641f318438a88f801d14f27b2757eb0fcaaa60b68e0992469c6f81ecfd_L.JPG', '/content/drive/MyDrive/Deep_learning/Congenital_Glaucoma/extended_dataset_for_YOLOv5/images/images_cropped/947-20091117-4-114835_637031641f318438a88f801d14f27b2757eb0fcaaa60b68e0992469c6f81ecfd_R.JPG', '/content/drive/MyDrive/Deep_learning/Congenital_Glaucoma/extended_dataset_for_YOLOv5/images/images_cropped/162-20140702-4-114304_444b0002a78313b7b47b9c1f33b000179634732e88fa315894044e519b30963e_R.JPG', '/content/drive/MyDrive/Deep_learning/Congenital_Glaucoma/extended_dataset_for_YOLOv5/images/images_cropped/162-20140702-4-114304_444b0002a78313b7b47b9c1f33b000179634732e88fa315894044e519b30963e_L.JPG', '/content/drive/MyDrive/Deep_learning/Congenital_Glaucoma/extended_dataset_for_YOLOv5/images/images_cropped/60-20140702-4-104847_a7911ea3db475cda67dcd7f9a0f01207dd8f7f584f62a68fb42c66c750f911fb_L.JPG', '/content/drive/MyDrive/Deep_learning/Congenital_Glaucoma/extended_dataset_for_YOLOv5/images/images_cropped/60-20140702-4-104847_a7911ea3db475cda67dcd7f9a0f01207dd8f7f584f62a68fb42c66c750f911fb_R.JPG', '/content/drive/MyDrive/Deep_learning/Congenital_Glaucoma/extended_dataset_for_YOLOv5/images/images_cropped/1934-20130111-4-151936_0a04015bb0a0763e83a44fa3d2a2d9c78569117d35ca0f4bbd3abd797e767c0c_R.JPG', '/content/drive/MyDrive/Deep_learning/Congenital_Glaucoma/extended_dataset_for_YOLOv5/images/images_cropped/1934-20130111-4-151936_0a04015bb0a0763e83a44fa3d2a2d9c78569117d35ca0f4bbd3abd797e767c0c_L.JPG', '/content/drive/MyDrive/Deep_learning/Congenital_Glaucoma/extended_dataset_for_YOLOv5/images/images_cropped/2568-20050419-2-131449_c7679e7f52d548fae07a8e77d82fea37ab793e2edb378aeac6513b95a958c9ae_L.JPG', '/content/drive/MyDrive/Deep_learning/Congenital_Glaucoma/extended_dataset_for_YOLOv5/images/images_cropped/2568-20050419-2-131449_c7679e7f52d548fae07a8e77d82fea37ab793e2edb378aeac6513b95a958c9ae_R.JPG', '/content/drive/MyDrive/Deep_learning/Congenital_Glaucoma/extended_dataset_for_YOLOv5/images/images_cropped/9758-20200708-1-095608_c68e66ae3ef12c646e75a024f91fe43482eeeab4764f7a5e1c68981a334def50_R.JPG', '/content/drive/MyDrive/Deep_learning/Congenital_Glaucoma/extended_dataset_for_YOLOv5/images/images_cropped/9758-20200708-1-095608_c68e66ae3ef12c646e75a024f91fe43482eeeab4764f7a5e1c68981a334def50_L.JPG', '/content/drive/MyDrive/Deep_learning/Congenital_Glaucoma/extended_dataset_for_YOLOv5/images/images_cropped/8103-20060822-5-164414_910e44195680df457ada0880de877fa727273a9b34a62c9544066cb0426a6196_R.JPG', '/content/drive/MyDrive/Deep_learning/Congenital_Glaucoma/extended_dataset_for_YOLOv5/images/images_cropped/8103-20060822-5-164414_910e44195680df457ada0880de877fa727273a9b34a62c9544066cb0426a6196_L.JPG', '/content/drive/MyDrive/Deep_learning/Congenital_Glaucoma/extended_dataset_for_YOLOv5/images/images_cropped/1047-20170308-3-093758_2ebde2e2f97b8bf3ce9041ed737ddfa3767b57c03d7251f6715add37fd181278_R.JPG', '/content/drive/MyDrive/Deep_learning/Congenital_Glaucoma/extended_dataset_for_YOLOv5/images/images_cropped/1047-20170308-3-093758_2ebde2e2f97b8bf3ce9041ed737ddfa3767b57c03d7251f6715add37fd181278_L.JPG', '/content/drive/MyDrive/Deep_learning/Congenital_Glaucoma/extended_dataset_for_YOLOv5/images/images_cropped/9083-20210512-5-100741_1ba1d9a901efd6a8381de37d9f69dddb5f7fd17453b1755d5715b74b8be1f185_L.JPG', '/content/drive/MyDrive/Deep_learning/Congenital_Glaucoma/extended_dataset_for_YOLOv5/images/images_cropped/9083-20210512-5-100741_1ba1d9a901efd6a8381de37d9f69dddb5f7fd17453b1755d5715b74b8be1f185_R.JPG', '/content/drive/MyDrive/Deep_learning/Congenital_Glaucoma/extended_dataset_for_YOLOv5/images/images_cropped/788-20170315-10-100641_448e161d8831ac93546773ead0a0dd559304deec1676fa71e84428405a655264_R.JPG', '/content/drive/MyDrive/Deep_learning/Congenital_Glaucoma/extended_dataset_for_YOLOv5/images/images_cropped/788-20170315-10-100641_448e161d8831ac93546773ead0a0dd559304deec1676fa71e84428405a655264_L.JPG', '/content/drive/MyDrive/Deep_learning/Congenital_Glaucoma/extended_dataset_for_YOLOv5/images/images_cropped/405-20090317-5-104117_15c3a067f4239609a9c9e7d4f91d741664f2ec496db176241da8190b07f88cfa_R.JPG', '/content/drive/MyDrive/Deep_learning/Congenital_Glaucoma/extended_dataset_for_YOLOv5/images/images_cropped/405-20090317-5-104117_15c3a067f4239609a9c9e7d4f91d741664f2ec496db176241da8190b07f88cfa_L.JPG', '/content/drive/MyDrive/Deep_learning/Congenital_Glaucoma/extended_dataset_for_YOLOv5/images/images_cropped/2581-20150624-1-101727_55aab3c633b9c5b2f9a3e4b760c382eb6f178704a23639663f3bf1e8988e912b_R.JPG', '/content/drive/MyDrive/Deep_learning/Congenital_Glaucoma/extended_dataset_for_YOLOv5/images/images_cropped/2581-20150624-1-101727_55aab3c633b9c5b2f9a3e4b760c382eb6f178704a23639663f3bf1e8988e912b_L.JPG', '/content/drive/MyDrive/Deep_learning/Congenital_Glaucoma/extended_dataset_for_YOLOv5/images/images_cropped/1237-20090602-3-103610_e9b82aa367037a85976fdf9296ccc1cf5365cd2db82b9eec463ed7b3e67a466f_R.JPG', '/content/drive/MyDrive/Deep_learning/Congenital_Glaucoma/extended_dataset_for_YOLOv5/images/images_cropped/1237-20090602-3-103610_e9b82aa367037a85976fdf9296ccc1cf5365cd2db82b9eec463ed7b3e67a466f_L.JPG', '/content/drive/MyDrive/Deep_learning/Congenital_Glaucoma/extended_dataset_for_YOLOv5/images/images_cropped/1024-20181129-5-105821_3d30d53d702336f590136441abfe599148dbc3a2b5b23acbcfc80c01a700ca63_L.JPG', '/content/drive/MyDrive/Deep_learning/Congenital_Glaucoma/extended_dataset_for_YOLOv5/images/images_cropped/1024-20181129-5-105821_3d30d53d702336f590136441abfe599148dbc3a2b5b23acbcfc80c01a700ca63_R.JPG', '/content/drive/MyDrive/Deep_learning/Congenital_Glaucoma/extended_dataset_for_YOLOv5/images/images_cropped/3092-20171011-3-103704_03a86ac27bf8aa441a676649f3436a2f5cdda3f809476ccac714325fed41f9d1_L.JPG', '/content/drive/MyDrive/Deep_learning/Congenital_Glaucoma/extended_dataset_for_YOLOv5/images/images_cropped/3092-20171011-3-103704_03a86ac27bf8aa441a676649f3436a2f5cdda3f809476ccac714325fed41f9d1_R.JPG', '/content/drive/MyDrive/Deep_learning/Congenital_Glaucoma/extended_dataset_for_YOLOv5/images/images_cropped/530-20160601-10-123618_db6c10f456285af16a966e12e07964f1e714522ba0c94cd77350279e9f874fca_R.JPG', '/content/drive/MyDrive/Deep_learning/Congenital_Glaucoma/extended_dataset_for_YOLOv5/images/images_cropped/530-20160601-10-123618_db6c10f456285af16a966e12e07964f1e714522ba0c94cd77350279e9f874fca_L.JPG', '/content/drive/MyDrive/Deep_learning/Congenital_Glaucoma/extended_dataset_for_YOLOv5/images/images_cropped/1218-20171129-0-101724_0b3f013abfa241bb163d896c7077184de2784557bf22677d19e1788aba492855_L.JPG', '/content/drive/MyDrive/Deep_learning/Congenital_Glaucoma/extended_dataset_for_YOLOv5/images/images_cropped/9343-20200611-3-112415_22eb8bc1d7fc5e2f0fa44d31e77ff52f958808105fce82468f18b9784481011f_R.JPG', '/content/drive/MyDrive/Deep_learning/Congenital_Glaucoma/extended_dataset_for_YOLOv5/images/images_cropped/9343-20200611-3-112415_22eb8bc1d7fc5e2f0fa44d31e77ff52f958808105fce82468f18b9784481011f_L.JPG', '/content/drive/MyDrive/Deep_learning/Congenital_Glaucoma/extended_dataset_for_YOLOv5/images/images_cropped/254-20140122-5-092858_a0fda658b5f1c8f5c990fecc8b86a6d6bf8099077aa477e6a09d223855936483_R.JPG', '/content/drive/MyDrive/Deep_learning/Congenital_Glaucoma/extended_dataset_for_YOLOv5/images/images_cropped/254-20140122-5-092858_a0fda658b5f1c8f5c990fecc8b86a6d6bf8099077aa477e6a09d223855936483_L.JPG', '/content/drive/MyDrive/Deep_learning/Congenital_Glaucoma/extended_dataset_for_YOLOv5/images/images_cropped/1408-20081118-3-170748_3b5d6ac73053dca98c2d516c6bc13abc6bd61aa08f2ef2c086ff20b4c476e814_L.JPG', '/content/drive/MyDrive/Deep_learning/Congenital_Glaucoma/extended_dataset_for_YOLOv5/images/images_cropped/1408-20081118-3-170748_3b5d6ac73053dca98c2d516c6bc13abc6bd61aa08f2ef2c086ff20b4c476e814_R.JPG', '/content/drive/MyDrive/Deep_learning/Congenital_Glaucoma/extended_dataset_for_YOLOv5/images/images_cropped/2622-20190828-5-100330_64eba05c5103ea1d4cd990364827e2a33d66e37ffc2c89c1e1b000fd9526fb39_L.JPG', '/content/drive/MyDrive/Deep_learning/Congenital_Glaucoma/extended_dataset_for_YOLOv5/images/images_cropped/2622-20190828-5-100330_64eba05c5103ea1d4cd990364827e2a33d66e37ffc2c89c1e1b000fd9526fb39_R.JPG', '/content/drive/MyDrive/Deep_learning/Congenital_Glaucoma/extended_dataset_for_YOLOv5/images/images_cropped/1186-20140910-3-125008_32dc219eef4771a2f3444d54a16e72bc1f3c72f5fc6f96f0638c71f5a88ee6e2_L.JPG', '/content/drive/MyDrive/Deep_learning/Congenital_Glaucoma/extended_dataset_for_YOLOv5/images/images_cropped/1186-20140910-3-125008_32dc219eef4771a2f3444d54a16e72bc1f3c72f5fc6f96f0638c71f5a88ee6e2_R.JPG', '/content/drive/MyDrive/Deep_learning/Congenital_Glaucoma/extended_dataset_for_YOLOv5/images/images_cropped/517-20110525-2-000000_41d7a2d35f3aa0023a145e976a0abcb6c9be0df05eef5a36618e70a32eec07bf_R.JPG', '/content/drive/MyDrive/Deep_learning/Congenital_Glaucoma/extended_dataset_for_YOLOv5/images/images_cropped/517-20110525-2-000000_41d7a2d35f3aa0023a145e976a0abcb6c9be0df05eef5a36618e70a32eec07bf_L.JPG', '/content/drive/MyDrive/Deep_learning/Congenital_Glaucoma/extended_dataset_for_YOLOv5/images/images_cropped/1539-20110810-2-000000_088cd6704c7ba3c5675cb2443cb4329db5d116f981a8856f8b8df7d28a0db9ea_L.JPG', '/content/drive/MyDrive/Deep_learning/Congenital_Glaucoma/extended_dataset_for_YOLOv5/images/images_cropped/1539-20110810-2-000000_088cd6704c7ba3c5675cb2443cb4329db5d116f981a8856f8b8df7d28a0db9ea_R.JPG', '/content/drive/MyDrive/Deep_learning/Congenital_Glaucoma/extended_dataset_for_YOLOv5/images/images_cropped/187-20070813-7-152320_37c1af17f9a1e90de60cfc209cdfea7e9aad826b1693325503e9dbc5287ee06b_R.JPG', '/content/drive/MyDrive/Deep_learning/Congenital_Glaucoma/extended_dataset_for_YOLOv5/images/images_cropped/187-20070813-7-152320_37c1af17f9a1e90de60cfc209cdfea7e9aad826b1693325503e9dbc5287ee06b_L.JPG', '/content/drive/MyDrive/Deep_learning/Congenital_Glaucoma/extended_dataset_for_YOLOv5/images/images_cropped/1574-20081104-4-093549_b167dd75f80bef0a4e5ccba62291321c929d9dbf3466352605b7764a110dbc18_R.JPG', '/content/drive/MyDrive/Deep_learning/Congenital_Glaucoma/extended_dataset_for_YOLOv5/images/images_cropped/1574-20081104-4-093549_b167dd75f80bef0a4e5ccba62291321c929d9dbf3466352605b7764a110dbc18_L.JPG', '/content/drive/MyDrive/Deep_learning/Congenital_Glaucoma/extended_dataset_for_YOLOv5/images/images_cropped/875-20040331-8-162357_2fc7964c0e84d87235ff2a62dbe04cec5017544671cdb30afb9f2a4822d0d70c_R.JPG', '/content/drive/MyDrive/Deep_learning/Congenital_Glaucoma/extended_dataset_for_YOLOv5/images/images_cropped/875-20040331-8-162357_2fc7964c0e84d87235ff2a62dbe04cec5017544671cdb30afb9f2a4822d0d70c_L.JPG', '/content/drive/MyDrive/Deep_learning/Congenital_Glaucoma/extended_dataset_for_YOLOv5/images/images_cropped/399-20170412-12-105346_f00291de4d52ea17e81c7b6740d630fd9ee2a6d946b864f150ad91a4336701c1_L.JPG', '/content/drive/MyDrive/Deep_learning/Congenital_Glaucoma/extended_dataset_for_YOLOv5/images/images_cropped/399-20170412-12-105346_f00291de4d52ea17e81c7b6740d630fd9ee2a6d946b864f150ad91a4336701c1_R.JPG', '/content/drive/MyDrive/Deep_learning/Congenital_Glaucoma/extended_dataset_for_YOLOv5/images/images_cropped/361-20130731-2-102532_60f5c35f9ebf094230af4918f22d6cb652a960a7a84437ba1cb6afcca2d6d733_L.JPG', '/content/drive/MyDrive/Deep_learning/Congenital_Glaucoma/extended_dataset_for_YOLOv5/images/images_cropped/361-20130731-2-102532_60f5c35f9ebf094230af4918f22d6cb652a960a7a84437ba1cb6afcca2d6d733_R.JPG', '/content/drive/MyDrive/Deep_learning/Congenital_Glaucoma/extended_dataset_for_YOLOv5/images/images_cropped/2081-20150701-4-120152_6dd01a4ac1c7c0c9a7d6e3cf0122bfeb4353434f26b1d1a88e60c15eb40db4df_R.JPG', '/content/drive/MyDrive/Deep_learning/Congenital_Glaucoma/extended_dataset_for_YOLOv5/images/images_cropped/2081-20150701-4-120152_6dd01a4ac1c7c0c9a7d6e3cf0122bfeb4353434f26b1d1a88e60c15eb40db4df_L.JPG', '/content/drive/MyDrive/Deep_learning/Congenital_Glaucoma/extended_dataset_for_YOLOv5/images/images_cropped/1673-20180523-1-100711_74da5ff303c66ecb0c194214ce0f7d8159abf2c26cf82ccedd6accb84efd1a7e_L.JPG', '/content/drive/MyDrive/Deep_learning/Congenital_Glaucoma/extended_dataset_for_YOLOv5/images/images_cropped/1673-20180523-1-100711_74da5ff303c66ecb0c194214ce0f7d8159abf2c26cf82ccedd6accb84efd1a7e_R.JPG', '/content/drive/MyDrive/Deep_learning/Congenital_Glaucoma/extended_dataset_for_YOLOv5/images/images_cropped/827-20170124-1-092649_2cb08a57af6e2412a242846999adbd7b30db28a85942878c50b13dfc1690af9e_R.JPG', '/content/drive/MyDrive/Deep_learning/Congenital_Glaucoma/extended_dataset_for_YOLOv5/images/images_cropped/827-20170124-1-092649_2cb08a57af6e2412a242846999adbd7b30db28a85942878c50b13dfc1690af9e_L.JPG', '/content/drive/MyDrive/Deep_learning/Congenital_Glaucoma/extended_dataset_for_YOLOv5/images/images_cropped/136-20110914-7-000000_2834683abfaa1b96c867dc840d4e3265dcd59988a166ba916c9f08a85ee25359_R.JPG', '/content/drive/MyDrive/Deep_learning/Congenital_Glaucoma/extended_dataset_for_YOLOv5/images/images_cropped/136-20110914-7-000000_2834683abfaa1b96c867dc840d4e3265dcd59988a166ba916c9f08a85ee25359_L.JPG', '/content/drive/MyDrive/Deep_learning/Congenital_Glaucoma/extended_dataset_for_YOLOv5/images/images_cropped/2530-20150408-3-123420_69467686732b959f6e94ec3bc4df13185c09516aafb826216f321ebb040f764d_L.JPG', '/content/drive/MyDrive/Deep_learning/Congenital_Glaucoma/extended_dataset_for_YOLOv5/images/images_cropped/2530-20150408-3-123420_69467686732b959f6e94ec3bc4df13185c09516aafb826216f321ebb040f764d_R.JPG', '/content/drive/MyDrive/Deep_learning/Congenital_Glaucoma/extended_dataset_for_YOLOv5/images/images_cropped/3081-20180228-1-094643_ca65cd9e65d972019aa2bfff5b1fe8d53f1ee24957a8b820be1ae87553b476ea_R.JPG', '/content/drive/MyDrive/Deep_learning/Congenital_Glaucoma/extended_dataset_for_YOLOv5/images/images_cropped/3081-20180228-1-094643_ca65cd9e65d972019aa2bfff5b1fe8d53f1ee24957a8b820be1ae87553b476ea_L.JPG', '/content/drive/MyDrive/Deep_learning/Congenital_Glaucoma/extended_dataset_for_YOLOv5/images/images_cropped/138-20130703-10-104204_26a58ee583d1972e1a87c0c8a10806f1c6efd14570d8748e8517cdd7748f03e1_R.JPG', '/content/drive/MyDrive/Deep_learning/Congenital_Glaucoma/extended_dataset_for_YOLOv5/images/images_cropped/138-20130703-10-104204_26a58ee583d1972e1a87c0c8a10806f1c6efd14570d8748e8517cdd7748f03e1_L.JPG', '/content/drive/MyDrive/Deep_learning/Congenital_Glaucoma/extended_dataset_for_YOLOv5/images/images_cropped/783-20110525-0-000000_14995e6d6c783091dbbdc8e00fce72578dcc40c71ed27eceeed6035d3a741716_R.JPG', '/content/drive/MyDrive/Deep_learning/Congenital_Glaucoma/extended_dataset_for_YOLOv5/images/images_cropped/783-20110525-0-000000_14995e6d6c783091dbbdc8e00fce72578dcc40c71ed27eceeed6035d3a741716_L.JPG', '/content/drive/MyDrive/Deep_learning/Congenital_Glaucoma/extended_dataset_for_YOLOv5/images/images_cropped/816-20190703-2-120954_6e1f971981b007eec0082bfc3ee2657944a4b8d5884d904c8762f041bb85cc63_L.JPG', '/content/drive/MyDrive/Deep_learning/Congenital_Glaucoma/extended_dataset_for_YOLOv5/images/images_cropped/816-20190703-2-120954_6e1f971981b007eec0082bfc3ee2657944a4b8d5884d904c8762f041bb85cc63_R.JPG', '/content/drive/MyDrive/Deep_learning/Congenital_Glaucoma/extended_dataset_for_YOLOv5/images/images_cropped/7241-20080422-2-103902_b2562589b5a04138abacca775b4851a299ffaf4ef89d3f992d7dd374b089433c_R.JPG', '/content/drive/MyDrive/Deep_learning/Congenital_Glaucoma/extended_dataset_for_YOLOv5/images/images_cropped/7241-20080422-2-103902_b2562589b5a04138abacca775b4851a299ffaf4ef89d3f992d7dd374b089433c_L.JPG', '/content/drive/MyDrive/Deep_learning/Congenital_Glaucoma/extended_dataset_for_YOLOv5/images/images_cropped/9370-20200930-4-123433_6c83bd18ef15b29e80da7a09677b24cb3824fde10f5c2a3cef7b38c9048e2ab0_R.JPG', '/content/drive/MyDrive/Deep_learning/Congenital_Glaucoma/extended_dataset_for_YOLOv5/images/images_cropped/9370-20200930-4-123433_6c83bd18ef15b29e80da7a09677b24cb3824fde10f5c2a3cef7b38c9048e2ab0_L.JPG', '/content/drive/MyDrive/Deep_learning/Congenital_Glaucoma/extended_dataset_for_YOLOv5/images/images_cropped/991-20090127-0-104631_b419af15c560577dda0b58f07f2d1791a40844d68b03d4306c4c20f412967607_R.JPG', '/content/drive/MyDrive/Deep_learning/Congenital_Glaucoma/extended_dataset_for_YOLOv5/images/images_cropped/991-20090127-0-104631_b419af15c560577dda0b58f07f2d1791a40844d68b03d4306c4c20f412967607_L.JPG', '/content/drive/MyDrive/Deep_learning/Congenital_Glaucoma/extended_dataset_for_YOLOv5/images/images_cropped/1614-20110511-3-000000_b5d62e7e44b291610d0bbd69aca5649c7e5506fc3b2bb1947a25c000edabd8a9_L.JPG', '/content/drive/MyDrive/Deep_learning/Congenital_Glaucoma/extended_dataset_for_YOLOv5/images/images_cropped/1614-20110511-3-000000_b5d62e7e44b291610d0bbd69aca5649c7e5506fc3b2bb1947a25c000edabd8a9_R.JPG', '/content/drive/MyDrive/Deep_learning/Congenital_Glaucoma/extended_dataset_for_YOLOv5/images/images_cropped/441-20170517-2-102555_aac8c7b666f79997eb1948a9111dd7bc73d479c84d7890b69b626cd2037cf17f_R.JPG', '/content/drive/MyDrive/Deep_learning/Congenital_Glaucoma/extended_dataset_for_YOLOv5/images/images_cropped/441-20170517-2-102555_aac8c7b666f79997eb1948a9111dd7bc73d479c84d7890b69b626cd2037cf17f_L.JPG', '/content/drive/MyDrive/Deep_learning/Congenital_Glaucoma/extended_dataset_for_YOLOv5/images/images_cropped/1444-20110105-5-120411_4a46045c32802d02c3bdc6d2dad59278490eb9c76bc1fdad47e28a8a9898f944_R.JPG', '/content/drive/MyDrive/Deep_learning/Congenital_Glaucoma/extended_dataset_for_YOLOv5/images/images_cropped/1444-20110105-5-120411_4a46045c32802d02c3bdc6d2dad59278490eb9c76bc1fdad47e28a8a9898f944_L.JPG', '/content/drive/MyDrive/Deep_learning/Congenital_Glaucoma/extended_dataset_for_YOLOv5/images/images_cropped/72-20150916-4-111216_4b4181ef3ce9b898d407568235bfda5325a01580631d7a091311d93917bb8768_L.JPG', '/content/drive/MyDrive/Deep_learning/Congenital_Glaucoma/extended_dataset_for_YOLOv5/images/images_cropped/72-20150916-4-111216_4b4181ef3ce9b898d407568235bfda5325a01580631d7a091311d93917bb8768_R.JPG', '/content/drive/MyDrive/Deep_learning/Congenital_Glaucoma/extended_dataset_for_YOLOv5/images/images_cropped/930-20161221-2-103156_8202b8e206590759a439a11fe413b1acc618a16e4cc2b4dc849caf7527c21613_R.JPG', '/content/drive/MyDrive/Deep_learning/Congenital_Glaucoma/extended_dataset_for_YOLOv5/images/images_cropped/930-20161221-2-103156_8202b8e206590759a439a11fe413b1acc618a16e4cc2b4dc849caf7527c21613_L.JPG', '/content/drive/MyDrive/Deep_learning/Congenital_Glaucoma/extended_dataset_for_YOLOv5/images/images_cropped/1545-20141211-8-115159_0f54a597454cf78d3848cad70b43314f6b4956f23068553fe9767417aaf209dd_L.JPG', '/content/drive/MyDrive/Deep_learning/Congenital_Glaucoma/extended_dataset_for_YOLOv5/images/images_cropped/1545-20141211-8-115159_0f54a597454cf78d3848cad70b43314f6b4956f23068553fe9767417aaf209dd_R.JPG', '/content/drive/MyDrive/Deep_learning/Congenital_Glaucoma/extended_dataset_for_YOLOv5/images/images_cropped/597-20160114-7-091404_1106d7710ac9832bdeca81e2f904dbf5612d8105a133964c084e7075ac04a5db_L.JPG', '/content/drive/MyDrive/Deep_learning/Congenital_Glaucoma/extended_dataset_for_YOLOv5/images/images_cropped/597-20160114-7-091404_1106d7710ac9832bdeca81e2f904dbf5612d8105a133964c084e7075ac04a5db_R.JPG', '/content/drive/MyDrive/Deep_learning/Congenital_Glaucoma/extended_dataset_for_YOLOv5/images/images_cropped/3636-20180214-5-105435_393a14b1cf05ce57d270244e3c4a9d6ff1c11f18c133289c4bd6440982d34de3_R.JPG', '/content/drive/MyDrive/Deep_learning/Congenital_Glaucoma/extended_dataset_for_YOLOv5/images/images_cropped/3636-20180214-5-105435_393a14b1cf05ce57d270244e3c4a9d6ff1c11f18c133289c4bd6440982d34de3_L.JPG', '/content/drive/MyDrive/Deep_learning/Congenital_Glaucoma/extended_dataset_for_YOLOv5/images/images_cropped/1302-20181107-4-112236_7ea0868fa0e73817bb972e1379fff12bdc25d08570f8f6e92021f3fbbe025999_L.JPG', '/content/drive/MyDrive/Deep_learning/Congenital_Glaucoma/extended_dataset_for_YOLOv5/images/images_cropped/1302-20181107-4-112236_7ea0868fa0e73817bb972e1379fff12bdc25d08570f8f6e92021f3fbbe025999_R.JPG', '/content/drive/MyDrive/Deep_learning/Congenital_Glaucoma/extended_dataset_for_YOLOv5/images/images_cropped/1172-20150805-10-132900_5e27f2856c423e8d394aae04947005c5acfdda59ceb98276fb7132a86f8b655e_L.JPG', '/content/drive/MyDrive/Deep_learning/Congenital_Glaucoma/extended_dataset_for_YOLOv5/images/images_cropped/1172-20150805-10-132900_5e27f2856c423e8d394aae04947005c5acfdda59ceb98276fb7132a86f8b655e_R.JPG', '/content/drive/MyDrive/Deep_learning/Congenital_Glaucoma/extended_dataset_for_YOLOv5/images/images_cropped/910-20120725-2-114202_0bc706554ae82e08491ee99d11ba10253d0fae70e820c322ab84819392a4a7cf_L.JPG', '/content/drive/MyDrive/Deep_learning/Congenital_Glaucoma/extended_dataset_for_YOLOv5/images/images_cropped/910-20120725-2-114202_0bc706554ae82e08491ee99d11ba10253d0fae70e820c322ab84819392a4a7cf_R.JPG', '/content/drive/MyDrive/Deep_learning/Congenital_Glaucoma/extended_dataset_for_YOLOv5/images/images_cropped/1859-20021126-4-131147_169f5aa6dc079b56262249296f7b9d203e2fa99e136ed26c51ac0c2a85c18a5a_R.JPG', '/content/drive/MyDrive/Deep_learning/Congenital_Glaucoma/extended_dataset_for_YOLOv5/images/images_cropped/1859-20021126-4-131147_169f5aa6dc079b56262249296f7b9d203e2fa99e136ed26c51ac0c2a85c18a5a_L.JPG', '/content/drive/MyDrive/Deep_learning/Congenital_Glaucoma/extended_dataset_for_YOLOv5/images/images_cropped/1015-20020910-1-110948_29228eb9666809358f6172af8ac5bf68b473e6bd42acdab4e3dc110345592b0b_R.JPG', '/content/drive/MyDrive/Deep_learning/Congenital_Glaucoma/extended_dataset_for_YOLOv5/images/images_cropped/1015-20020910-1-110948_29228eb9666809358f6172af8ac5bf68b473e6bd42acdab4e3dc110345592b0b_L.JPG', '/content/drive/MyDrive/Deep_learning/Congenital_Glaucoma/extended_dataset_for_YOLOv5/images/images_cropped/1300-20180704-11-124911_5a59a5a9bc3d5a7b7c6377f953497cd6c9e913f751cd8a170c3a91c48c976a31_L.JPG', '/content/drive/MyDrive/Deep_learning/Congenital_Glaucoma/extended_dataset_for_YOLOv5/images/images_cropped/1300-20180704-11-124911_5a59a5a9bc3d5a7b7c6377f953497cd6c9e913f751cd8a170c3a91c48c976a31_R.JPG', '/content/drive/MyDrive/Deep_learning/Congenital_Glaucoma/extended_dataset_for_YOLOv5/images/images_cropped/1151-20190523-3-110454_fb36a44aaddaaa177dc33233f7fbd8089e54d0e713f92c113b4bfce6427832ed_R.JPG', '/content/drive/MyDrive/Deep_learning/Congenital_Glaucoma/extended_dataset_for_YOLOv5/images/images_cropped/1151-20190523-3-110454_fb36a44aaddaaa177dc33233f7fbd8089e54d0e713f92c113b4bfce6427832ed_L.JPG', '/content/drive/MyDrive/Deep_learning/Congenital_Glaucoma/extended_dataset_for_YOLOv5/images/images_cropped/887-20010403-4-164251_1de1ab0432a4c2ceb7f571ad1e6194d04f8a264ffba5e1e8237b355bdd6580ea_L.JPG', '/content/drive/MyDrive/Deep_learning/Congenital_Glaucoma/extended_dataset_for_YOLOv5/images/images_cropped/887-20010403-4-164251_1de1ab0432a4c2ceb7f571ad1e6194d04f8a264ffba5e1e8237b355bdd6580ea_R.JPG', '/content/drive/MyDrive/Deep_learning/Congenital_Glaucoma/extended_dataset_for_YOLOv5/images/images_cropped/716-20160817-0-094610_43fcfc491c3bd25ee808cbd0899bcffdf66a9066985de574ab281b1e5fc2d49f_R.JPG', '/content/drive/MyDrive/Deep_learning/Congenital_Glaucoma/extended_dataset_for_YOLOv5/images/images_cropped/716-20160817-0-094610_43fcfc491c3bd25ee808cbd0899bcffdf66a9066985de574ab281b1e5fc2d49f_L.JPG', '/content/drive/MyDrive/Deep_learning/Congenital_Glaucoma/extended_dataset_for_YOLOv5/images/images_cropped/1253-20111026-0-000000_386e18048d10548cb6c2c3367fa296afee83272901ba897e8628d725235fa908_R.JPG', '/content/drive/MyDrive/Deep_learning/Congenital_Glaucoma/extended_dataset_for_YOLOv5/images/images_cropped/1253-20111026-0-000000_386e18048d10548cb6c2c3367fa296afee83272901ba897e8628d725235fa908_L.JPG', '/content/drive/MyDrive/Deep_learning/Congenital_Glaucoma/extended_dataset_for_YOLOv5/images/images_cropped/9344-20190911-1-113334_9b487ece228936669d4c170eac219b01b8325ae5716f7839f5c5d718d40ad35c_R.JPG', '/content/drive/MyDrive/Deep_learning/Congenital_Glaucoma/extended_dataset_for_YOLOv5/images/images_cropped/9344-20190911-1-113334_9b487ece228936669d4c170eac219b01b8325ae5716f7839f5c5d718d40ad35c_L.JPG', '/content/drive/MyDrive/Deep_learning/Congenital_Glaucoma/extended_dataset_for_YOLOv5/images/images_cropped/1902-20150401-0-130338_172ea12e40a9e01dd3de89a02e30f82292127a2ab6942d4041dfab83fd14389c_R.JPG', '/content/drive/MyDrive/Deep_learning/Congenital_Glaucoma/extended_dataset_for_YOLOv5/images/images_cropped/1902-20150401-0-130338_172ea12e40a9e01dd3de89a02e30f82292127a2ab6942d4041dfab83fd14389c_L.JPG', '/content/drive/MyDrive/Deep_learning/Congenital_Glaucoma/extended_dataset_for_YOLOv5/images/images_cropped/1538-20130710-13-105538_deda02eb0c934dd0def6209619475747370ed7707ba7f07b980a1366aea93b5d_L.JPG', '/content/drive/MyDrive/Deep_learning/Congenital_Glaucoma/extended_dataset_for_YOLOv5/images/images_cropped/1538-20130710-13-105538_deda02eb0c934dd0def6209619475747370ed7707ba7f07b980a1366aea93b5d_R.JPG', '/content/drive/MyDrive/Deep_learning/Congenital_Glaucoma/extended_dataset_for_YOLOv5/images/images_cropped/1971-20161219-0-110623_9dce162ef351eda5411d0ce7ded894c0b2ec07d28b08c328961c0f862e7c0ab8_R.JPG', '/content/drive/MyDrive/Deep_learning/Congenital_Glaucoma/extended_dataset_for_YOLOv5/images/images_cropped/1401-20181227-4-103343_160c146eb4602feb9ef9dd92cc9f3aed11cee2b467e20bd5ae51ff9cbd97b179_L.JPG', '/content/drive/MyDrive/Deep_learning/Congenital_Glaucoma/extended_dataset_for_YOLOv5/images/images_cropped/1401-20181227-4-103343_160c146eb4602feb9ef9dd92cc9f3aed11cee2b467e20bd5ae51ff9cbd97b179_R.JPG', '/content/drive/MyDrive/Deep_learning/Congenital_Glaucoma/extended_dataset_for_YOLOv5/images/images_cropped/1657-20150715-10-141425_308afc9421f97e82a7ec881ebb58d8e50de7ce00fc17e2358189faf897d637bb_R.JPG', '/content/drive/MyDrive/Deep_learning/Congenital_Glaucoma/extended_dataset_for_YOLOv5/images/images_cropped/1657-20150715-10-141425_308afc9421f97e82a7ec881ebb58d8e50de7ce00fc17e2358189faf897d637bb_L.JPG', '/content/drive/MyDrive/Deep_learning/Congenital_Glaucoma/extended_dataset_for_YOLOv5/images/images_cropped/3116-20160316-1-105353_082b5d562b083b8fe28f80bab09303ed53f0ad04c429c22af89643a3ced705da_L.JPG', '/content/drive/MyDrive/Deep_learning/Congenital_Glaucoma/extended_dataset_for_YOLOv5/images/images_cropped/3116-20160316-1-105353_082b5d562b083b8fe28f80bab09303ed53f0ad04c429c22af89643a3ced705da_R.JPG', '/content/drive/MyDrive/Deep_learning/Congenital_Glaucoma/extended_dataset_for_YOLOv5/images/images_cropped/395-20170726-10-090641_8832a25e59297a7d1ff1973a78cf73d909b44c278f0e53cffe497fa45e5175cd_R.JPG', '/content/drive/MyDrive/Deep_learning/Congenital_Glaucoma/extended_dataset_for_YOLOv5/images/images_cropped/395-20170726-10-090641_8832a25e59297a7d1ff1973a78cf73d909b44c278f0e53cffe497fa45e5175cd_L.JPG', '/content/drive/MyDrive/Deep_learning/Congenital_Glaucoma/extended_dataset_for_YOLOv5/images/images_cropped/201-20071225-9-123502_024df9c564e854ac63c356338fae68d7e8ebd20fafde2856d07f854576d25bec_L.JPG', '/content/drive/MyDrive/Deep_learning/Congenital_Glaucoma/extended_dataset_for_YOLOv5/images/images_cropped/201-20071225-9-123502_024df9c564e854ac63c356338fae68d7e8ebd20fafde2856d07f854576d25bec_R.JPG', '/content/drive/MyDrive/Deep_learning/Congenital_Glaucoma/extended_dataset_for_YOLOv5/images/images_cropped/901-20100616-5-103024_c03d5fa132cceb75027947c4f3aac46c7bf026c3e3945db572bfe46142a11bce_R.JPG', '/content/drive/MyDrive/Deep_learning/Congenital_Glaucoma/extended_dataset_for_YOLOv5/images/images_cropped/901-20100616-5-103024_c03d5fa132cceb75027947c4f3aac46c7bf026c3e3945db572bfe46142a11bce_L.JPG', '/content/drive/MyDrive/Deep_learning/Congenital_Glaucoma/extended_dataset_for_YOLOv5/images/images_cropped/894-20160727-8-135250_cc004f3ac7af3f0ebd46d0972922fb8ce5faeb9f150b2cab1942c6c04e7eac9f_L.JPG', '/content/drive/MyDrive/Deep_learning/Congenital_Glaucoma/extended_dataset_for_YOLOv5/images/images_cropped/894-20160727-8-135250_cc004f3ac7af3f0ebd46d0972922fb8ce5faeb9f150b2cab1942c6c04e7eac9f_R.JPG', '/content/drive/MyDrive/Deep_learning/Congenital_Glaucoma/extended_dataset_for_YOLOv5/images/images_cropped/698-20090310-2-101321_9fa86c30b656991bcc02090221d8f0dbb36d1414bfd0086dfdbdc3bbbbc41a64_L.JPG', '/content/drive/MyDrive/Deep_learning/Congenital_Glaucoma/extended_dataset_for_YOLOv5/images/images_cropped/698-20090310-2-101321_9fa86c30b656991bcc02090221d8f0dbb36d1414bfd0086dfdbdc3bbbbc41a64_R.JPG', '/content/drive/MyDrive/Deep_learning/Congenital_Glaucoma/extended_dataset_for_YOLOv5/images/images_cropped/643-20091118-1-120229_75a8965a05d8176e4dd7805c4823c8335dec656ad1e0b0deb1f5dbef865b0e40_L.JPG', '/content/drive/MyDrive/Deep_learning/Congenital_Glaucoma/extended_dataset_for_YOLOv5/images/images_cropped/643-20091118-1-120229_75a8965a05d8176e4dd7805c4823c8335dec656ad1e0b0deb1f5dbef865b0e40_R.JPG', '/content/drive/MyDrive/Deep_learning/Congenital_Glaucoma/extended_dataset_for_YOLOv5/images/images_cropped/8982-20210616-4-121724_afb02c836a2075852433862c1cbc6e6c5329cbb96b3b99f0e8328a392f3aa88e_R.JPG', '/content/drive/MyDrive/Deep_learning/Congenital_Glaucoma/extended_dataset_for_YOLOv5/images/images_cropped/8982-20210616-4-121724_afb02c836a2075852433862c1cbc6e6c5329cbb96b3b99f0e8328a392f3aa88e_L.JPG', '/content/drive/MyDrive/Deep_learning/Congenital_Glaucoma/extended_dataset_for_YOLOv5/images/images_cropped/1765-20041130-4-154737_246ddde6eb080a9697444fa5e151eb2dfc48fb42cf564f5980d3c4250e07513a_L.JPG', '/content/drive/MyDrive/Deep_learning/Congenital_Glaucoma/extended_dataset_for_YOLOv5/images/images_cropped/1765-20041130-4-154737_246ddde6eb080a9697444fa5e151eb2dfc48fb42cf564f5980d3c4250e07513a_R.JPG', '/content/drive/MyDrive/Deep_learning/Congenital_Glaucoma/extended_dataset_for_YOLOv5/images/images_cropped/791-20110216-11-110049_411803fb20af83037e04c4a2c659ad3a795ae2b3f545f434e6ce0d1e17f50c06_R.JPG', '/content/drive/MyDrive/Deep_learning/Congenital_Glaucoma/extended_dataset_for_YOLOv5/images/images_cropped/791-20110216-11-110049_411803fb20af83037e04c4a2c659ad3a795ae2b3f545f434e6ce0d1e17f50c06_L.JPG', '/content/drive/MyDrive/Deep_learning/Congenital_Glaucoma/extended_dataset_for_YOLOv5/images/images_cropped/356-20021225-11-162432_4b0eaff512c1781536cf52dfd97938b92a62dfa5c641446cb5877e7d3e08971c_L.JPG', '/content/drive/MyDrive/Deep_learning/Congenital_Glaucoma/extended_dataset_for_YOLOv5/images/images_cropped/356-20021225-11-162432_4b0eaff512c1781536cf52dfd97938b92a62dfa5c641446cb5877e7d3e08971c_R.JPG', '/content/drive/MyDrive/Deep_learning/Congenital_Glaucoma/extended_dataset_for_YOLOv5/images/images_cropped/3093-20150304-4-112457_a2c3abfc03895a911219d978be470bd4be45840f9f2d5a633574a1d17d442b98_R.JPG', '/content/drive/MyDrive/Deep_learning/Congenital_Glaucoma/extended_dataset_for_YOLOv5/images/images_cropped/3093-20150304-4-112457_a2c3abfc03895a911219d978be470bd4be45840f9f2d5a633574a1d17d442b98_L.JPG', '/content/drive/MyDrive/Deep_learning/Congenital_Glaucoma/extended_dataset_for_YOLOv5/images/images_cropped/1674-20120724-7-154443_1aa12433037e4c1169f91a0e4f6dc24cf395165150956695bc10c8effbafbf86_R.JPG', '/content/drive/MyDrive/Deep_learning/Congenital_Glaucoma/extended_dataset_for_YOLOv5/images/images_cropped/1674-20120724-7-154443_1aa12433037e4c1169f91a0e4f6dc24cf395165150956695bc10c8effbafbf86_L.JPG', '/content/drive/MyDrive/Deep_learning/Congenital_Glaucoma/extended_dataset_for_YOLOv5/images/images_cropped/954-20180404-4-124742_2d12ae562ed73f5e6677c15196b30d6c108b3ab1ba63b064ad134ada1836b6cd_L.JPG', '/content/drive/MyDrive/Deep_learning/Congenital_Glaucoma/extended_dataset_for_YOLOv5/images/images_cropped/954-20180404-4-124742_2d12ae562ed73f5e6677c15196b30d6c108b3ab1ba63b064ad134ada1836b6cd_R.JPG', '/content/drive/MyDrive/Deep_learning/Congenital_Glaucoma/extended_dataset_for_YOLOv5/images/images_cropped/2339-20110720-0-000000_fc9c08d9f8bf1eeca6e43ea548fb9f2ccf98c9c4d3439dfbd197210cdf88bb1c_R.JPG', '/content/drive/MyDrive/Deep_learning/Congenital_Glaucoma/extended_dataset_for_YOLOv5/images/images_cropped/2339-20110720-0-000000_fc9c08d9f8bf1eeca6e43ea548fb9f2ccf98c9c4d3439dfbd197210cdf88bb1c_L.JPG', '/content/drive/MyDrive/Deep_learning/Congenital_Glaucoma/extended_dataset_for_YOLOv5/images/images_cropped/133-20020410-2-160946_03385c088aa2bb2a81a92aef9f489b4825e09d753cd22d52acedec4152231457_L.JPG', '/content/drive/MyDrive/Deep_learning/Congenital_Glaucoma/extended_dataset_for_YOLOv5/images/images_cropped/133-20020410-2-160946_03385c088aa2bb2a81a92aef9f489b4825e09d753cd22d52acedec4152231457_R.JPG', '/content/drive/MyDrive/Deep_learning/Congenital_Glaucoma/extended_dataset_for_YOLOv5/images/images_cropped/22-20161130-2-143721_322f51a23b32baf04ee1ad913194de4e59d9ce1cfd4e4d4b91425d6e0f5f5695_L.JPG', '/content/drive/MyDrive/Deep_learning/Congenital_Glaucoma/extended_dataset_for_YOLOv5/images/images_cropped/22-20161130-2-143721_322f51a23b32baf04ee1ad913194de4e59d9ce1cfd4e4d4b91425d6e0f5f5695_R.JPG', '/content/drive/MyDrive/Deep_learning/Congenital_Glaucoma/extended_dataset_for_YOLOv5/images/images_cropped/515-20051101-7-142744_1c2b388c4f458e2f49a72407d89fbe53e8d3ad79e79d103ff7d4771f804e0483_R.JPG', '/content/drive/MyDrive/Deep_learning/Congenital_Glaucoma/extended_dataset_for_YOLOv5/images/images_cropped/515-20051101-7-142744_1c2b388c4f458e2f49a72407d89fbe53e8d3ad79e79d103ff7d4771f804e0483_L.JPG', '/content/drive/MyDrive/Deep_learning/Congenital_Glaucoma/extended_dataset_for_YOLOv5/images/images_cropped/1558-20060117-6-154747_50eac1ccb2515e2e52a935a0e5586fd5b5f98856b26a6e347392bc0cf1947d05_L.JPG', '/content/drive/MyDrive/Deep_learning/Congenital_Glaucoma/extended_dataset_for_YOLOv5/images/images_cropped/1558-20060117-6-154747_50eac1ccb2515e2e52a935a0e5586fd5b5f98856b26a6e347392bc0cf1947d05_R.JPG', '/content/drive/MyDrive/Deep_learning/Congenital_Glaucoma/extended_dataset_for_YOLOv5/images/images_cropped/1709-20170809-5-115707_98013a09167b25f85c23cec6dd82d685952b50e0084e33d60086ba0204e035d4_L.JPG', '/content/drive/MyDrive/Deep_learning/Congenital_Glaucoma/extended_dataset_for_YOLOv5/images/images_cropped/1709-20170809-5-115707_98013a09167b25f85c23cec6dd82d685952b50e0084e33d60086ba0204e035d4_R.JPG', '/content/drive/MyDrive/Deep_learning/Congenital_Glaucoma/extended_dataset_for_YOLOv5/images/images_cropped/241-20060614-1-154243_0236f9985bad59057b65940a7e499c583d910beeedd5e55278f31dd6d33d159c_L.JPG', '/content/drive/MyDrive/Deep_learning/Congenital_Glaucoma/extended_dataset_for_YOLOv5/images/images_cropped/241-20060614-1-154243_0236f9985bad59057b65940a7e499c583d910beeedd5e55278f31dd6d33d159c_R.JPG', '/content/drive/MyDrive/Deep_learning/Congenital_Glaucoma/extended_dataset_for_YOLOv5/images/images_cropped/2562-20180404-2-113420_77d8ac4f419aa03d2c715bb814b0ba719ffada7a70a966206f02ca8746f50291_R.JPG', '/content/drive/MyDrive/Deep_learning/Congenital_Glaucoma/extended_dataset_for_YOLOv5/images/images_cropped/2562-20180404-2-113420_77d8ac4f419aa03d2c715bb814b0ba719ffada7a70a966206f02ca8746f50291_L.JPG', '/content/drive/MyDrive/Deep_learning/Congenital_Glaucoma/extended_dataset_for_YOLOv5/images/images_cropped/1399-20011016-11-121657_74e1f8434f8e10bffdd6052a2e7a1633281f5aaa6b8171a67b2360991b7c0e31_L.JPG', '/content/drive/MyDrive/Deep_learning/Congenital_Glaucoma/extended_dataset_for_YOLOv5/images/images_cropped/1399-20011016-11-121657_74e1f8434f8e10bffdd6052a2e7a1633281f5aaa6b8171a67b2360991b7c0e31_R.JPG', '/content/drive/MyDrive/Deep_learning/Congenital_Glaucoma/extended_dataset_for_YOLOv5/images/images_cropped/238-20091124-4-112031_d957ed4076b0ac6454c59d03fc0dbebc4b27edb8f0b0187ce144592f255baf9d_R.JPG', '/content/drive/MyDrive/Deep_learning/Congenital_Glaucoma/extended_dataset_for_YOLOv5/images/images_cropped/238-20091124-4-112031_d957ed4076b0ac6454c59d03fc0dbebc4b27edb8f0b0187ce144592f255baf9d_L.JPG', '/content/drive/MyDrive/Deep_learning/Congenital_Glaucoma/extended_dataset_for_YOLOv5/images/images_cropped/304-20090519-1-132845_a79229c6bdf15c0c0d92241d04014b1e8643ff128c34f0616dca5b0416381a7e_L.JPG', '/content/drive/MyDrive/Deep_learning/Congenital_Glaucoma/extended_dataset_for_YOLOv5/images/images_cropped/304-20090519-1-132845_a79229c6bdf15c0c0d92241d04014b1e8643ff128c34f0616dca5b0416381a7e_R.JPG', '/content/drive/MyDrive/Deep_learning/Congenital_Glaucoma/extended_dataset_for_YOLOv5/images/images_cropped/532-20150610-2-141031_5386cb0ed924911cafbd496924de0e7de628aa3ec32dcae418a6e116344b5109_R.JPG', '/content/drive/MyDrive/Deep_learning/Congenital_Glaucoma/extended_dataset_for_YOLOv5/images/images_cropped/532-20150610-2-141031_5386cb0ed924911cafbd496924de0e7de628aa3ec32dcae418a6e116344b5109_L.JPG', '/content/drive/MyDrive/Deep_learning/Congenital_Glaucoma/extended_dataset_for_YOLOv5/images/images_cropped/93-20170215-3-134156_1aa2bdb042b6ecd2749d0f93d0831ead1e35e5267d50ae4d8d5c382816377408_R.JPG', '/content/drive/MyDrive/Deep_learning/Congenital_Glaucoma/extended_dataset_for_YOLOv5/images/images_cropped/93-20170215-3-134156_1aa2bdb042b6ecd2749d0f93d0831ead1e35e5267d50ae4d8d5c382816377408_L.JPG', '/content/drive/MyDrive/Deep_learning/Congenital_Glaucoma/extended_dataset_for_YOLOv5/images/images_cropped/2649-20110223-3-141800_7384c7fcb046c0c74843ab35082c9be4b16e4c22a00c37838168c7730ba3e50f_L.JPG', '/content/drive/MyDrive/Deep_learning/Congenital_Glaucoma/extended_dataset_for_YOLOv5/images/images_cropped/2649-20110223-3-141800_7384c7fcb046c0c74843ab35082c9be4b16e4c22a00c37838168c7730ba3e50f_R.JPG', '/content/drive/MyDrive/Deep_learning/Congenital_Glaucoma/extended_dataset_for_YOLOv5/images/images_cropped/5912-20100406-7-125103_661741f0a394dd85240e3c05b6b1a89d1bb57fb3c518531a29de15e6193ffe7b_L.JPG', '/content/drive/MyDrive/Deep_learning/Congenital_Glaucoma/extended_dataset_for_YOLOv5/images/images_cropped/5912-20100406-7-125103_661741f0a394dd85240e3c05b6b1a89d1bb57fb3c518531a29de15e6193ffe7b_R.JPG', '/content/drive/MyDrive/Deep_learning/Congenital_Glaucoma/extended_dataset_for_YOLOv5/images/images_cropped/2501-20120321-2-113340_a617c500f5fd77a4cfa1c90d2658783d37abbbfbd35fceaca3be7562ccb40760_R.JPG', '/content/drive/MyDrive/Deep_learning/Congenital_Glaucoma/extended_dataset_for_YOLOv5/images/images_cropped/2501-20120321-2-113340_a617c500f5fd77a4cfa1c90d2658783d37abbbfbd35fceaca3be7562ccb40760_L.JPG', '/content/drive/MyDrive/Deep_learning/Congenital_Glaucoma/extended_dataset_for_YOLOv5/images/images_cropped/994-20170712-8-113102_7358f50f94683f4d431052e51d64108e177ceac1aaa298d8da2f6f9a87746569_R.JPG', '/content/drive/MyDrive/Deep_learning/Congenital_Glaucoma/extended_dataset_for_YOLOv5/images/images_cropped/994-20170712-8-113102_7358f50f94683f4d431052e51d64108e177ceac1aaa298d8da2f6f9a87746569_L.JPG', '/content/drive/MyDrive/Deep_learning/Congenital_Glaucoma/extended_dataset_for_YOLOv5/images/images_cropped/7493-20120919-5-102049_c328849af2abc771043d98dbf43a06bfe5f42ca0131132fd74ac347cff3de057_L.JPG', '/content/drive/MyDrive/Deep_learning/Congenital_Glaucoma/extended_dataset_for_YOLOv5/images/images_cropped/7493-20120919-5-102049_c328849af2abc771043d98dbf43a06bfe5f42ca0131132fd74ac347cff3de057_R.JPG', '/content/drive/MyDrive/Deep_learning/Congenital_Glaucoma/extended_dataset_for_YOLOv5/images/images_cropped/561-20090928-0-112730_6851a9379697c17d717059b72d8589ce0359e87768e04af1e9d8871ab67ab32c_R.JPG', '/content/drive/MyDrive/Deep_learning/Congenital_Glaucoma/extended_dataset_for_YOLOv5/images/images_cropped/561-20090928-0-112730_6851a9379697c17d717059b72d8589ce0359e87768e04af1e9d8871ab67ab32c_L.JPG', '/content/drive/MyDrive/Deep_learning/Congenital_Glaucoma/extended_dataset_for_YOLOv5/images/images_cropped/1492-20160204-2-141034_2c5b60623926418c4a98acfd09c51acbbe220f810e2d29a8e1f718a3a3a07cc7_R.JPG', '/content/drive/MyDrive/Deep_learning/Congenital_Glaucoma/extended_dataset_for_YOLOv5/images/images_cropped/1492-20160204-2-141034_2c5b60623926418c4a98acfd09c51acbbe220f810e2d29a8e1f718a3a3a07cc7_L.JPG', '/content/drive/MyDrive/Deep_learning/Congenital_Glaucoma/extended_dataset_for_YOLOv5/images/images_cropped/1618-20140402-8-102223_3f481b256b0f7321ed1396b5beb45fb01836426ddfe4922dbb4b401c937d8b45_R.JPG', '/content/drive/MyDrive/Deep_learning/Congenital_Glaucoma/extended_dataset_for_YOLOv5/images/images_cropped/1618-20140402-8-102223_3f481b256b0f7321ed1396b5beb45fb01836426ddfe4922dbb4b401c937d8b45_L.JPG', '/content/drive/MyDrive/Deep_learning/Congenital_Glaucoma/extended_dataset_for_YOLOv5/images/images_cropped/2690-20170802-8-105043_49ac24d43908b3b560f450befc4bb0bf699d6ca5ad28be8cf21ac7c52987bfd1_L.JPG', '/content/drive/MyDrive/Deep_learning/Congenital_Glaucoma/extended_dataset_for_YOLOv5/images/images_cropped/2690-20170802-8-105043_49ac24d43908b3b560f450befc4bb0bf699d6ca5ad28be8cf21ac7c52987bfd1_R.JPG', '/content/drive/MyDrive/Deep_learning/Congenital_Glaucoma/extended_dataset_for_YOLOv5/images/images_cropped/1129-20161207-6-115658_3d098ff956efba13057f0df2d8975456638a201c856e7a20e8036a94727895ad_R.JPG', '/content/drive/MyDrive/Deep_learning/Congenital_Glaucoma/extended_dataset_for_YOLOv5/images/images_cropped/1129-20161207-6-115658_3d098ff956efba13057f0df2d8975456638a201c856e7a20e8036a94727895ad_L.JPG', '/content/drive/MyDrive/Deep_learning/Congenital_Glaucoma/extended_dataset_for_YOLOv5/images/images_cropped/1115-20180228-4-101610_ad732c3881e9328982e86404df7ae7ef7e6c60b1be4f96bc33e697a43d341aac_L.JPG', '/content/drive/MyDrive/Deep_learning/Congenital_Glaucoma/extended_dataset_for_YOLOv5/images/images_cropped/1115-20180228-4-101610_ad732c3881e9328982e86404df7ae7ef7e6c60b1be4f96bc33e697a43d341aac_R.JPG', '/content/drive/MyDrive/Deep_learning/Congenital_Glaucoma/extended_dataset_for_YOLOv5/images/images_cropped/2245-20130806-2-110707_1cce35e9644342a2a7fa368c0c3d49f7637050a3e6e6b7b7a3153457ebc4a5c3_R.JPG', '/content/drive/MyDrive/Deep_learning/Congenital_Glaucoma/extended_dataset_for_YOLOv5/images/images_cropped/2245-20130806-2-110707_1cce35e9644342a2a7fa368c0c3d49f7637050a3e6e6b7b7a3153457ebc4a5c3_L.JPG', '/content/drive/MyDrive/Deep_learning/Congenital_Glaucoma/extended_dataset_for_YOLOv5/images/images_cropped/867-20161130-6-103817_597ee0b1c28411d10bcbe60f9dfda2cee27221ee372c18f6593230d576ce45ff_R.JPG', '/content/drive/MyDrive/Deep_learning/Congenital_Glaucoma/extended_dataset_for_YOLOv5/images/images_cropped/867-20161130-6-103817_597ee0b1c28411d10bcbe60f9dfda2cee27221ee372c18f6593230d576ce45ff_L.JPG', '/content/drive/MyDrive/Deep_learning/Congenital_Glaucoma/extended_dataset_for_YOLOv5/images/images_cropped/2604-20030422-4-093236_01c0f4633be5267528fd0c579731b2f483b676aace6b5f3d93d31d05be318574_R.JPG', '/content/drive/MyDrive/Deep_learning/Congenital_Glaucoma/extended_dataset_for_YOLOv5/images/images_cropped/2604-20030422-4-093236_01c0f4633be5267528fd0c579731b2f483b676aace6b5f3d93d31d05be318574_L.JPG', '/content/drive/MyDrive/Deep_learning/Congenital_Glaucoma/extended_dataset_for_YOLOv5/images/images_cropped/1268-20001226-4-113337_ca3bc9bd585b63032340aaf931bcbff4b0f831fe32705b671429488389c8a232_R.JPG', '/content/drive/MyDrive/Deep_learning/Congenital_Glaucoma/extended_dataset_for_YOLOv5/images/images_cropped/1268-20001226-4-113337_ca3bc9bd585b63032340aaf931bcbff4b0f831fe32705b671429488389c8a232_L.JPG', '/content/drive/MyDrive/Deep_learning/Congenital_Glaucoma/extended_dataset_for_YOLOv5/images/images_cropped/1238-20140219-1-115616_f8cee857722080a1ddc85048b04ed8b0bb90425a32530bf56ad4996deb6b74e2_L.JPG', '/content/drive/MyDrive/Deep_learning/Congenital_Glaucoma/extended_dataset_for_YOLOv5/images/images_cropped/1238-20140219-1-115616_f8cee857722080a1ddc85048b04ed8b0bb90425a32530bf56ad4996deb6b74e2_R.JPG', '/content/drive/MyDrive/Deep_learning/Congenital_Glaucoma/extended_dataset_for_YOLOv5/images/images_cropped/18-20170412-2-115048_00110e21d6d75ef30a38d773d599eeed91eeb92ff5841871f7864a28a9699048_R.JPG', '/content/drive/MyDrive/Deep_learning/Congenital_Glaucoma/extended_dataset_for_YOLOv5/images/images_cropped/18-20170412-2-115048_00110e21d6d75ef30a38d773d599eeed91eeb92ff5841871f7864a28a9699048_L.JPG', '/content/drive/MyDrive/Deep_learning/Congenital_Glaucoma/extended_dataset_for_YOLOv5/images/images_cropped/2216-20171225-1-102215_4efbc768920bf57f229faa299cf1c057297b61b921bc22ddee883e951f9f6fe9_R.JPG', '/content/drive/MyDrive/Deep_learning/Congenital_Glaucoma/extended_dataset_for_YOLOv5/images/images_cropped/2216-20171225-1-102215_4efbc768920bf57f229faa299cf1c057297b61b921bc22ddee883e951f9f6fe9_L.JPG', '/content/drive/MyDrive/Deep_learning/Congenital_Glaucoma/extended_dataset_for_YOLOv5/images/images_cropped/1461-20170419-6-100128_556b4a4375550d97df69c0c06e13126d5e9397b5fde20920ea9c799aa50a4f5e_R.JPG', '/content/drive/MyDrive/Deep_learning/Congenital_Glaucoma/extended_dataset_for_YOLOv5/images/images_cropped/1461-20170419-6-100128_556b4a4375550d97df69c0c06e13126d5e9397b5fde20920ea9c799aa50a4f5e_L.JPG', '/content/drive/MyDrive/Deep_learning/Congenital_Glaucoma/extended_dataset_for_YOLOv5/images/images_cropped/9302-20191016-4-120102_0b97718a61d76e9669ed0fe4f8e512e39279cb06e20c3ed28182efa9e13280f0_R.JPG', '/content/drive/MyDrive/Deep_learning/Congenital_Glaucoma/extended_dataset_for_YOLOv5/images/images_cropped/9302-20191016-4-120102_0b97718a61d76e9669ed0fe4f8e512e39279cb06e20c3ed28182efa9e13280f0_L.JPG', '/content/drive/MyDrive/Deep_learning/Congenital_Glaucoma/extended_dataset_for_YOLOv5/images/images_cropped/2703-20180711-5-110459_672f8aa2b1ce46d39ff602838eb553f26df00fe6d1e440647ad6d2e73c9016f3_L.JPG', '/content/drive/MyDrive/Deep_learning/Congenital_Glaucoma/extended_dataset_for_YOLOv5/images/images_cropped/2703-20180711-5-110459_672f8aa2b1ce46d39ff602838eb553f26df00fe6d1e440647ad6d2e73c9016f3_R.JPG', '/content/drive/MyDrive/Deep_learning/Congenital_Glaucoma/extended_dataset_for_YOLOv5/images/images_cropped/1507-20180425-9-105736_04eca258acf237902ea30ba3ad4c67e1fcba6482713fa469f7b422e1855599c3_R.JPG', '/content/drive/MyDrive/Deep_learning/Congenital_Glaucoma/extended_dataset_for_YOLOv5/images/images_cropped/1507-20180425-9-105736_04eca258acf237902ea30ba3ad4c67e1fcba6482713fa469f7b422e1855599c3_L.JPG', '/content/drive/MyDrive/Deep_learning/Congenital_Glaucoma/extended_dataset_for_YOLOv5/images/images_cropped/1139-20100601-1-133406_6fcdc0fc43e6f94adf925ea72a0402c672016030b93bcbdb79edacbacd3224f1_R.JPG', '/content/drive/MyDrive/Deep_learning/Congenital_Glaucoma/extended_dataset_for_YOLOv5/images/images_cropped/1139-20100601-1-133406_6fcdc0fc43e6f94adf925ea72a0402c672016030b93bcbdb79edacbacd3224f1_L.JPG', '/content/drive/MyDrive/Deep_learning/Congenital_Glaucoma/extended_dataset_for_YOLOv5/images/images_cropped/467-20071211-5-120015_fce27216abacffd8f953844d97d5dfd6d95b85d6852e8ea9ef4484c1c74d17c2_L.JPG', '/content/drive/MyDrive/Deep_learning/Congenital_Glaucoma/extended_dataset_for_YOLOv5/images/images_cropped/467-20071211-5-120015_fce27216abacffd8f953844d97d5dfd6d95b85d6852e8ea9ef4484c1c74d17c2_R.JPG', '/content/drive/MyDrive/Deep_learning/Congenital_Glaucoma/extended_dataset_for_YOLOv5/images/images_cropped/8194-20160414-1-091754_a00b2049eb28918ccc69e2136cf9b0b483372bfaa315de5c87493696514b6c1b_L.JPG', '/content/drive/MyDrive/Deep_learning/Congenital_Glaucoma/extended_dataset_for_YOLOv5/images/images_cropped/8194-20160414-1-091754_a00b2049eb28918ccc69e2136cf9b0b483372bfaa315de5c87493696514b6c1b_R.JPG', '/content/drive/MyDrive/Deep_learning/Congenital_Glaucoma/extended_dataset_for_YOLOv5/images/images_cropped/8003-20151007-8-132356_2bddd4d8febcc65c0fd431ae77013e72190d196416fc8f3c4711284e01c78f3d_R.JPG', '/content/drive/MyDrive/Deep_learning/Congenital_Glaucoma/extended_dataset_for_YOLOv5/images/images_cropped/8003-20151007-8-132356_2bddd4d8febcc65c0fd431ae77013e72190d196416fc8f3c4711284e01c78f3d_L.JPG', '/content/drive/MyDrive/Deep_learning/Congenital_Glaucoma/extended_dataset_for_YOLOv5/images/images_cropped/1905-20130731-11-114715_1b045e743174b4f303fbafa7f9585d1ea41dea8a7834a7344fd52ab282d3fc0d_L.JPG', '/content/drive/MyDrive/Deep_learning/Congenital_Glaucoma/extended_dataset_for_YOLOv5/images/images_cropped/1905-20130731-11-114715_1b045e743174b4f303fbafa7f9585d1ea41dea8a7834a7344fd52ab282d3fc0d_R.JPG', '/content/drive/MyDrive/Deep_learning/Congenital_Glaucoma/extended_dataset_for_YOLOv5/images/images_cropped/2669-20150617-9-110822_304c17c05479b77d21a69ffc7da4f52893705e9a4d6e6c0e6775c614a82595aa_L.JPG', '/content/drive/MyDrive/Deep_learning/Congenital_Glaucoma/extended_dataset_for_YOLOv5/images/images_cropped/2669-20150617-9-110822_304c17c05479b77d21a69ffc7da4f52893705e9a4d6e6c0e6775c614a82595aa_R.JPG', '/content/drive/MyDrive/Deep_learning/Congenital_Glaucoma/extended_dataset_for_YOLOv5/images/images_cropped/1996-20140806-8-102135_30373c122c1ec2fca02b85b94f690b0d8a5796a0309ce3c3c5aabf9ef0303a31_R.JPG', '/content/drive/MyDrive/Deep_learning/Congenital_Glaucoma/extended_dataset_for_YOLOv5/images/images_cropped/1996-20140806-8-102135_30373c122c1ec2fca02b85b94f690b0d8a5796a0309ce3c3c5aabf9ef0303a31_L.JPG', '/content/drive/MyDrive/Deep_learning/Congenital_Glaucoma/extended_dataset_for_YOLOv5/images/images_cropped/371-20020626-3-113322_1380697490549365a4153f36ae93a37bc2f6919a3c2b2b5c5341d421baf8170f_L.JPG', '/content/drive/MyDrive/Deep_learning/Congenital_Glaucoma/extended_dataset_for_YOLOv5/images/images_cropped/371-20020626-3-113322_1380697490549365a4153f36ae93a37bc2f6919a3c2b2b5c5341d421baf8170f_R.JPG', '/content/drive/MyDrive/Deep_learning/Congenital_Glaucoma/extended_dataset_for_YOLOv5/images/images_cropped/1295-20110406-4-000000_30788a3d7006e342af7cc03ed8e18e21ba868f3d75fb52b24275783c958dfe6a_L.JPG', '/content/drive/MyDrive/Deep_learning/Congenital_Glaucoma/extended_dataset_for_YOLOv5/images/images_cropped/1295-20110406-4-000000_30788a3d7006e342af7cc03ed8e18e21ba868f3d75fb52b24275783c958dfe6a_R.JPG', '/content/drive/MyDrive/Deep_learning/Congenital_Glaucoma/extended_dataset_for_YOLOv5/images/images_cropped/1230-20000801-9-102553_19c45c62f7609c86c85ee7824e690583695b76cbb2e3698581094277f36f2342_R.JPG', '/content/drive/MyDrive/Deep_learning/Congenital_Glaucoma/extended_dataset_for_YOLOv5/images/images_cropped/1230-20000801-9-102553_19c45c62f7609c86c85ee7824e690583695b76cbb2e3698581094277f36f2342_L.JPG', '/content/drive/MyDrive/Deep_learning/Congenital_Glaucoma/extended_dataset_for_YOLOv5/images/images_cropped/1434-20010725-7-151706_411467d4becad0570b84b36b9dee5e82a46bc014a6d92e115aef2510c773b6be_R.JPG', '/content/drive/MyDrive/Deep_learning/Congenital_Glaucoma/extended_dataset_for_YOLOv5/images/images_cropped/1434-20010725-7-151706_411467d4becad0570b84b36b9dee5e82a46bc014a6d92e115aef2510c773b6be_L.JPG', '/content/drive/MyDrive/Deep_learning/Congenital_Glaucoma/extended_dataset_for_YOLOv5/images/images_cropped/2920-20050125-4-100536_3a1a402612926accdbd336bf9e9ddab6dada72a9135dc8844ae4faf0918ed46e_L.JPG', '/content/drive/MyDrive/Deep_learning/Congenital_Glaucoma/extended_dataset_for_YOLOv5/images/images_cropped/2920-20050125-4-100536_3a1a402612926accdbd336bf9e9ddab6dada72a9135dc8844ae4faf0918ed46e_R.JPG', '/content/drive/MyDrive/Deep_learning/Congenital_Glaucoma/extended_dataset_for_YOLOv5/images/images_cropped/1696-20000411-6-143034_42620b4a46d4b448284eed20453bdd73cc3c5cfcd1de8e03d9c689f746285868_R.JPG', '/content/drive/MyDrive/Deep_learning/Congenital_Glaucoma/extended_dataset_for_YOLOv5/images/images_cropped/1696-20000411-6-143034_42620b4a46d4b448284eed20453bdd73cc3c5cfcd1de8e03d9c689f746285868_L.JPG', '/content/drive/MyDrive/Deep_learning/Congenital_Glaucoma/extended_dataset_for_YOLOv5/images/images_cropped/2529-20130619-3-113309_4467c23e930fd37cab1736f0c7e853538b64a3bae072da3819e5b0801e075918_R.JPG', '/content/drive/MyDrive/Deep_learning/Congenital_Glaucoma/extended_dataset_for_YOLOv5/images/images_cropped/2529-20130619-3-113309_4467c23e930fd37cab1736f0c7e853538b64a3bae072da3819e5b0801e075918_L.JPG', '/content/drive/MyDrive/Deep_learning/Congenital_Glaucoma/extended_dataset_for_YOLOv5/images/images_cropped/1658-20080604-6-120517_1b453f7093a916ef9e804f21cb078b00c02236e16e2514c0bc346282f0faacff_R.JPG', '/content/drive/MyDrive/Deep_learning/Congenital_Glaucoma/extended_dataset_for_YOLOv5/images/images_cropped/1658-20080604-6-120517_1b453f7093a916ef9e804f21cb078b00c02236e16e2514c0bc346282f0faacff_L.JPG', '/content/drive/MyDrive/Deep_learning/Congenital_Glaucoma/extended_dataset_for_YOLOv5/images/images_cropped/1306-20190123-8-112752_00b3ce17223725975f9b78bfc704069850c3b42e4afa6dd7d2044434bc056d29_R.JPG', '/content/drive/MyDrive/Deep_learning/Congenital_Glaucoma/extended_dataset_for_YOLOv5/images/images_cropped/1306-20190123-8-112752_00b3ce17223725975f9b78bfc704069850c3b42e4afa6dd7d2044434bc056d29_L.JPG', '/content/drive/MyDrive/Deep_learning/Congenital_Glaucoma/extended_dataset_for_YOLOv5/images/images_cropped/268-20150603-1-121418_3039a0bb891994467c4d36edd297c57c89334cbe025775adb83d85e9568676a1_L.JPG', '/content/drive/MyDrive/Deep_learning/Congenital_Glaucoma/extended_dataset_for_YOLOv5/images/images_cropped/268-20150603-1-121418_3039a0bb891994467c4d36edd297c57c89334cbe025775adb83d85e9568676a1_R.JPG', '/content/drive/MyDrive/Deep_learning/Congenital_Glaucoma/extended_dataset_for_YOLOv5/images/images_cropped/9810-20210623-3-105111_b97bc65dad1794751cb07e7156cfb6704dcf74b63a9fa20a11980f488247d5da_L.JPG', '/content/drive/MyDrive/Deep_learning/Congenital_Glaucoma/extended_dataset_for_YOLOv5/images/images_cropped/9810-20210623-3-105111_b97bc65dad1794751cb07e7156cfb6704dcf74b63a9fa20a11980f488247d5da_R.JPG', '/content/drive/MyDrive/Deep_learning/Congenital_Glaucoma/extended_dataset_for_YOLOv5/images/images_cropped/3118-20151118-4-122321_79e25ce6204e9e37715d976f1a379b45c53f626eb9efba621caa7fd180e6fa15_L.JPG', '/content/drive/MyDrive/Deep_learning/Congenital_Glaucoma/extended_dataset_for_YOLOv5/images/images_cropped/3118-20151118-4-122321_79e25ce6204e9e37715d976f1a379b45c53f626eb9efba621caa7fd180e6fa15_R.JPG', '/content/drive/MyDrive/Deep_learning/Congenital_Glaucoma/extended_dataset_for_YOLOv5/images/images_cropped/629-20160406-5-123105_87f4068255a0b67d09045ade466b67f1a47f855067164135a9d01365c4d64d81_L.JPG', '/content/drive/MyDrive/Deep_learning/Congenital_Glaucoma/extended_dataset_for_YOLOv5/images/images_cropped/629-20160406-5-123105_87f4068255a0b67d09045ade466b67f1a47f855067164135a9d01365c4d64d81_R.JPG', '/content/drive/MyDrive/Deep_learning/Congenital_Glaucoma/extended_dataset_for_YOLOv5/images/images_cropped/3530-20160629-2-121705_95b77aa0a7ff0ab1434e7ad7c05cd6cf868b6031fa877c60e04036800d3aabf3_R.JPG', '/content/drive/MyDrive/Deep_learning/Congenital_Glaucoma/extended_dataset_for_YOLOv5/images/images_cropped/3530-20160629-2-121705_95b77aa0a7ff0ab1434e7ad7c05cd6cf868b6031fa877c60e04036800d3aabf3_L.JPG', '/content/drive/MyDrive/Deep_learning/Congenital_Glaucoma/extended_dataset_for_YOLOv5/images/images_cropped/83-20000609-5-160623_3f719eeec7294b5dff9baef3d3c053a7aa077a2c43d3e8ac648661527aa20646_L.JPG', '/content/drive/MyDrive/Deep_learning/Congenital_Glaucoma/extended_dataset_for_YOLOv5/images/images_cropped/83-20000609-5-160623_3f719eeec7294b5dff9baef3d3c053a7aa077a2c43d3e8ac648661527aa20646_R.JPG', '/content/drive/MyDrive/Deep_learning/Congenital_Glaucoma/extended_dataset_for_YOLOv5/images/images_cropped/556-20010829-5-173130_1a1abda203a3443afb4d194d1f0f8ab3bee7eb71e98f06d465637536c82c95bf_L.JPG', '/content/drive/MyDrive/Deep_learning/Congenital_Glaucoma/extended_dataset_for_YOLOv5/images/images_cropped/556-20010829-5-173130_1a1abda203a3443afb4d194d1f0f8ab3bee7eb71e98f06d465637536c82c95bf_R.JPG', '/content/drive/MyDrive/Deep_learning/Congenital_Glaucoma/extended_dataset_for_YOLOv5/images/images_cropped/2654-20091208-1-123034_3ca3066f91fa564c1c29d9181df8461729f67c07c28433a7aedb5f5cec1cf0c7_R.JPG', '/content/drive/MyDrive/Deep_learning/Congenital_Glaucoma/extended_dataset_for_YOLOv5/images/images_cropped/2654-20091208-1-123034_3ca3066f91fa564c1c29d9181df8461729f67c07c28433a7aedb5f5cec1cf0c7_L.JPG', '/content/drive/MyDrive/Deep_learning/Congenital_Glaucoma/extended_dataset_for_YOLOv5/images/images_cropped/949-20160824-1-110250_bbbeea70cb0293495afb068e87d37b0237feb29638cb8ad0c78ac83ec4881624_R.JPG', '/content/drive/MyDrive/Deep_learning/Congenital_Glaucoma/extended_dataset_for_YOLOv5/images/images_cropped/949-20160824-1-110250_bbbeea70cb0293495afb068e87d37b0237feb29638cb8ad0c78ac83ec4881624_L.JPG', '/content/drive/MyDrive/Deep_learning/Congenital_Glaucoma/extended_dataset_for_YOLOv5/images/images_cropped/2235-20150624-2-114517_704a8703141f9c9933e9897e3d4a3264539d2fe531364eb252ef949dacf37ab2_L.JPG', '/content/drive/MyDrive/Deep_learning/Congenital_Glaucoma/extended_dataset_for_YOLOv5/images/images_cropped/2235-20150624-2-114517_704a8703141f9c9933e9897e3d4a3264539d2fe531364eb252ef949dacf37ab2_R.JPG', '/content/drive/MyDrive/Deep_learning/Congenital_Glaucoma/extended_dataset_for_YOLOv5/images/images_cropped/637-20131205-11-122055_e3768ed3a1f1a0811651ca70e63762c73338f5553410317a1cacfd2127efae5d_R.JPG', '/content/drive/MyDrive/Deep_learning/Congenital_Glaucoma/extended_dataset_for_YOLOv5/images/images_cropped/637-20131205-11-122055_e3768ed3a1f1a0811651ca70e63762c73338f5553410317a1cacfd2127efae5d_L.JPG', '/content/drive/MyDrive/Deep_learning/Congenital_Glaucoma/extended_dataset_for_YOLOv5/images/images_cropped/3726-20170830-4-112551_9c2d913dbb4d5b2704c907f764473462d63d58967273d0d1e50b8c71d2d82162_L.JPG', '/content/drive/MyDrive/Deep_learning/Congenital_Glaucoma/extended_dataset_for_YOLOv5/images/images_cropped/3726-20170830-4-112551_9c2d913dbb4d5b2704c907f764473462d63d58967273d0d1e50b8c71d2d82162_R.JPG', '/content/drive/MyDrive/Deep_learning/Congenital_Glaucoma/extended_dataset_for_YOLOv5/images/images_cropped/1735-20020326-13-100230_42ea82516b082e3904bd27c9eb1cd1d64db33ed528edb7d8c0684f0205ce37de_L.JPG', '/content/drive/MyDrive/Deep_learning/Congenital_Glaucoma/extended_dataset_for_YOLOv5/images/images_cropped/1735-20020326-13-100230_42ea82516b082e3904bd27c9eb1cd1d64db33ed528edb7d8c0684f0205ce37de_R.JPG', '/content/drive/MyDrive/Deep_learning/Congenital_Glaucoma/extended_dataset_for_YOLOv5/images/images_cropped/1149-20090721-1-144554_424007f1fea1c2bbb6551d1ca90db0fb9c4532e61274599cd397029b1055bb12_R.JPG', '/content/drive/MyDrive/Deep_learning/Congenital_Glaucoma/extended_dataset_for_YOLOv5/images/images_cropped/1149-20090721-1-144554_424007f1fea1c2bbb6551d1ca90db0fb9c4532e61274599cd397029b1055bb12_L.JPG', '/content/drive/MyDrive/Deep_learning/Congenital_Glaucoma/extended_dataset_for_YOLOv5/images/images_cropped/3231-20190123-6-102404_095676ad472a77b5674ade252f24e2a7a5e106bd290120b71f374e273bdf5feb_R.JPG', '/content/drive/MyDrive/Deep_learning/Congenital_Glaucoma/extended_dataset_for_YOLOv5/images/images_cropped/3231-20190123-6-102404_095676ad472a77b5674ade252f24e2a7a5e106bd290120b71f374e273bdf5feb_L.JPG', '/content/drive/MyDrive/Deep_learning/Congenital_Glaucoma/extended_dataset_for_YOLOv5/images/images_cropped/1107-20181115-3-121858_badd4394208627068fe479ab4ccb933c352a158ee00612584d88247bdea4c3cb_R.JPG', '/content/drive/MyDrive/Deep_learning/Congenital_Glaucoma/extended_dataset_for_YOLOv5/images/images_cropped/1107-20181115-3-121858_badd4394208627068fe479ab4ccb933c352a158ee00612584d88247bdea4c3cb_L.JPG', '/content/drive/MyDrive/Deep_learning/Congenital_Glaucoma/extended_dataset_for_YOLOv5/images/images_cropped/1819-20180509-5-111301_fd8d3032c78ac82cbf3b2cf500f7ac20c0ff7a8db534ebb3bc245e466f600d00_R.JPG', '/content/drive/MyDrive/Deep_learning/Congenital_Glaucoma/extended_dataset_for_YOLOv5/images/images_cropped/1819-20180509-5-111301_fd8d3032c78ac82cbf3b2cf500f7ac20c0ff7a8db534ebb3bc245e466f600d00_L.JPG', '/content/drive/MyDrive/Deep_learning/Congenital_Glaucoma/extended_dataset_for_YOLOv5/images/images_cropped/145-20010228-5-160651_014c7afac76dd3d97f8bad7c3a48b439c08805f18b8745bd06c6feb03ca8ca46_R.JPG', '/content/drive/MyDrive/Deep_learning/Congenital_Glaucoma/extended_dataset_for_YOLOv5/images/images_cropped/145-20010228-5-160651_014c7afac76dd3d97f8bad7c3a48b439c08805f18b8745bd06c6feb03ca8ca46_L.JPG', '/content/drive/MyDrive/Deep_learning/Congenital_Glaucoma/extended_dataset_for_YOLOv5/images/images_cropped/1890-20140226-2-111715_088eeb793285f678471ac55ed7c4935103e428d324166b001eaafc642ea722db_L.JPG', '/content/drive/MyDrive/Deep_learning/Congenital_Glaucoma/extended_dataset_for_YOLOv5/images/images_cropped/1890-20140226-2-111715_088eeb793285f678471ac55ed7c4935103e428d324166b001eaafc642ea722db_R.JPG', '/content/drive/MyDrive/Deep_learning/Congenital_Glaucoma/extended_dataset_for_YOLOv5/images/images_cropped/1379-20120704-3-103233_2aac8388550279bf7554bff83c859bd768ff41221e85e09bc15d3451ee32da36_R.JPG', '/content/drive/MyDrive/Deep_learning/Congenital_Glaucoma/extended_dataset_for_YOLOv5/images/images_cropped/1379-20120704-3-103233_2aac8388550279bf7554bff83c859bd768ff41221e85e09bc15d3451ee32da36_L.JPG', '/content/drive/MyDrive/Deep_learning/Congenital_Glaucoma/extended_dataset_for_YOLOv5/images/images_cropped/224-20131023-0-104232_810d60c94c435d196a9e734468ff4de329a4b7b85512521cbb3729f58e249c3a_L.JPG', '/content/drive/MyDrive/Deep_learning/Congenital_Glaucoma/extended_dataset_for_YOLOv5/images/images_cropped/224-20131023-0-104232_810d60c94c435d196a9e734468ff4de329a4b7b85512521cbb3729f58e249c3a_R.JPG', '/content/drive/MyDrive/Deep_learning/Congenital_Glaucoma/extended_dataset_for_YOLOv5/images/images_cropped/135-20161116-6-111752_06ccceaa5027e031bca9da7959a2e9e5d9784a74050645e4ee2e857beada34d6_L.JPG', '/content/drive/MyDrive/Deep_learning/Congenital_Glaucoma/extended_dataset_for_YOLOv5/images/images_cropped/135-20161116-6-111752_06ccceaa5027e031bca9da7959a2e9e5d9784a74050645e4ee2e857beada34d6_R.JPG', '/content/drive/MyDrive/Deep_learning/Congenital_Glaucoma/extended_dataset_for_YOLOv5/images/images_cropped/301-20010911-3-144132_40b73d9c15f592f590ea00e21d26cb71cf22812283b8b074f5e292a182b4d7d3_R.JPG', '/content/drive/MyDrive/Deep_learning/Congenital_Glaucoma/extended_dataset_for_YOLOv5/images/images_cropped/301-20010911-3-144132_40b73d9c15f592f590ea00e21d26cb71cf22812283b8b074f5e292a182b4d7d3_L.JPG', '/content/drive/MyDrive/Deep_learning/Congenital_Glaucoma/extended_dataset_for_YOLOv5/images/images_cropped/2499-20170301-1-121602_1265c144459869d8cc8f30ea90bb5b3a0dd6d408a3344c001ccecca640e78ef5_R.JPG', '/content/drive/MyDrive/Deep_learning/Congenital_Glaucoma/extended_dataset_for_YOLOv5/images/images_cropped/2499-20170301-1-121602_1265c144459869d8cc8f30ea90bb5b3a0dd6d408a3344c001ccecca640e78ef5_L.JPG', '/content/drive/MyDrive/Deep_learning/Congenital_Glaucoma/extended_dataset_for_YOLOv5/images/images_cropped/2175-20121114-1-100502_cef5aaac0b512f6f3e6fb8c9765d9624211b7ad6408d80b6cd5fdf4015bffeef_R.JPG', '/content/drive/MyDrive/Deep_learning/Congenital_Glaucoma/extended_dataset_for_YOLOv5/images/images_cropped/2175-20121114-1-100502_cef5aaac0b512f6f3e6fb8c9765d9624211b7ad6408d80b6cd5fdf4015bffeef_L.JPG', '/content/drive/MyDrive/Deep_learning/Congenital_Glaucoma/extended_dataset_for_YOLOv5/images/images_cropped/2041-20170201-4-101854_88c5d38dcd242cbad8ab5cb1326a2d7295af6cd654a16840995c2491efb5113b_R.JPG', '/content/drive/MyDrive/Deep_learning/Congenital_Glaucoma/extended_dataset_for_YOLOv5/images/images_cropped/2041-20170201-4-101854_88c5d38dcd242cbad8ab5cb1326a2d7295af6cd654a16840995c2491efb5113b_L.JPG', '/content/drive/MyDrive/Deep_learning/Congenital_Glaucoma/extended_dataset_for_YOLOv5/images/images_cropped/183-20170517-10-104805_4fbc5c063e5eacb14b68bbe859294a8d32a28e9664b154b4e6ddcacecb844b0f_R.JPG', '/content/drive/MyDrive/Deep_learning/Congenital_Glaucoma/extended_dataset_for_YOLOv5/images/images_cropped/183-20170517-10-104805_4fbc5c063e5eacb14b68bbe859294a8d32a28e9664b154b4e6ddcacecb844b0f_L.JPG', '/content/drive/MyDrive/Deep_learning/Congenital_Glaucoma/extended_dataset_for_YOLOv5/images/images_cropped/1234-20180404-3-111600_5ab2dccc66838c9b7131a109a00fe48beb4150e33eff731e00d807754171bfe6_L.JPG', '/content/drive/MyDrive/Deep_learning/Congenital_Glaucoma/extended_dataset_for_YOLOv5/images/images_cropped/1234-20180404-3-111600_5ab2dccc66838c9b7131a109a00fe48beb4150e33eff731e00d807754171bfe6_R.JPG', '/content/drive/MyDrive/Deep_learning/Congenital_Glaucoma/extended_dataset_for_YOLOv5/images/images_cropped/1392-20001205-4-123357_2144c4221d88d1056ac7ddd47b84b23f96303d1af305604f80fc4abf1162fe03_L.JPG', '/content/drive/MyDrive/Deep_learning/Congenital_Glaucoma/extended_dataset_for_YOLOv5/images/images_cropped/1392-20001205-4-123357_2144c4221d88d1056ac7ddd47b84b23f96303d1af305604f80fc4abf1162fe03_R.JPG', '/content/drive/MyDrive/Deep_learning/Congenital_Glaucoma/extended_dataset_for_YOLOv5/images/images_cropped/1611-20160420-4-110426_24ab20c66ae24184a5a025579fb34ecc127190bbc7588168b14b2b914df7c294_R.JPG', '/content/drive/MyDrive/Deep_learning/Congenital_Glaucoma/extended_dataset_for_YOLOv5/images/images_cropped/1611-20160420-4-110426_24ab20c66ae24184a5a025579fb34ecc127190bbc7588168b14b2b914df7c294_L.JPG', '/content/drive/MyDrive/Deep_learning/Congenital_Glaucoma/extended_dataset_for_YOLOv5/images/images_cropped/1201-20151209-3-094002_0026d3f4c8e8bf3cb46fbfbb954b5ff65c6f7b857359acc4ec17b87eb41f47d5_R.JPG', '/content/drive/MyDrive/Deep_learning/Congenital_Glaucoma/extended_dataset_for_YOLOv5/images/images_cropped/1201-20151209-3-094002_0026d3f4c8e8bf3cb46fbfbb954b5ff65c6f7b857359acc4ec17b87eb41f47d5_L.JPG', '/content/drive/MyDrive/Deep_learning/Congenital_Glaucoma/extended_dataset_for_YOLOv5/images/images_cropped/666-20140409-1-114958_14659b1158ac5510f5d72afab837160baeec3ba4ee7f1b2a3a5639d76819b6d9_L.JPG', '/content/drive/MyDrive/Deep_learning/Congenital_Glaucoma/extended_dataset_for_YOLOv5/images/images_cropped/666-20140409-1-114958_14659b1158ac5510f5d72afab837160baeec3ba4ee7f1b2a3a5639d76819b6d9_R.JPG', '/content/drive/MyDrive/Deep_learning/Congenital_Glaucoma/extended_dataset_for_YOLOv5/images/images_cropped/271-20061114-10-101117_06943e5bf209891973d0aba368cb9967ebecb962f404cabe4e20e4eab9bc8191_R.JPG', '/content/drive/MyDrive/Deep_learning/Congenital_Glaucoma/extended_dataset_for_YOLOv5/images/images_cropped/271-20061114-10-101117_06943e5bf209891973d0aba368cb9967ebecb962f404cabe4e20e4eab9bc8191_L.JPG', '/content/drive/MyDrive/Deep_learning/Congenital_Glaucoma/extended_dataset_for_YOLOv5/images/images_cropped/169-20170531-3-111134_aa2bf5489bbe221a5c5ef090a027c19b8e8b23d0d9e34d909310ae43b9d15d58_R.JPG', '/content/drive/MyDrive/Deep_learning/Congenital_Glaucoma/extended_dataset_for_YOLOv5/images/images_cropped/169-20170531-3-111134_aa2bf5489bbe221a5c5ef090a027c19b8e8b23d0d9e34d909310ae43b9d15d58_L.JPG', '/content/drive/MyDrive/Deep_learning/Congenital_Glaucoma/extended_dataset_for_YOLOv5/images/images_cropped/778-20180912-4-104046_4dc892a3db03c79f24ac00c785e46f06afea249661c9fb38b9541dad731741c1_L.JPG', '/content/drive/MyDrive/Deep_learning/Congenital_Glaucoma/extended_dataset_for_YOLOv5/images/images_cropped/778-20180912-4-104046_4dc892a3db03c79f24ac00c785e46f06afea249661c9fb38b9541dad731741c1_R.JPG', '/content/drive/MyDrive/Deep_learning/Congenital_Glaucoma/extended_dataset_for_YOLOv5/images/images_cropped/3147-20190814-1-102658_727a76c8c7255ef89a32aaf99d90f7db498d025641d8f2c631e835222376c578_L.JPG', '/content/drive/MyDrive/Deep_learning/Congenital_Glaucoma/extended_dataset_for_YOLOv5/images/images_cropped/3147-20190814-1-102658_727a76c8c7255ef89a32aaf99d90f7db498d025641d8f2c631e835222376c578_R.JPG', '/content/drive/MyDrive/Deep_learning/Congenital_Glaucoma/extended_dataset_for_YOLOv5/images/images_cropped/1499-20110316-5-123844_3ddb74bab190b996d911a9dce21803933b16bd068a6f975e3583407d50c0b25a_R.JPG', '/content/drive/MyDrive/Deep_learning/Congenital_Glaucoma/extended_dataset_for_YOLOv5/images/images_cropped/1499-20110316-5-123844_3ddb74bab190b996d911a9dce21803933b16bd068a6f975e3583407d50c0b25a_L.JPG', '/content/drive/MyDrive/Deep_learning/Congenital_Glaucoma/extended_dataset_for_YOLOv5/images/images_cropped/218-20180530-2-103253_595fb7e70530a3701855b3724092f070f5058c3b2a6d1da7f0fd5fd318c6260b_R.JPG', '/content/drive/MyDrive/Deep_learning/Congenital_Glaucoma/extended_dataset_for_YOLOv5/images/images_cropped/218-20180530-2-103253_595fb7e70530a3701855b3724092f070f5058c3b2a6d1da7f0fd5fd318c6260b_L.JPG', '/content/drive/MyDrive/Deep_learning/Congenital_Glaucoma/extended_dataset_for_YOLOv5/images/images_cropped/2388-20170927-0-125853_501eaaaa189313d00364a9a6f59b60fd430bf1f855c696b3245e41a048c9b310_R.JPG', '/content/drive/MyDrive/Deep_learning/Congenital_Glaucoma/extended_dataset_for_YOLOv5/images/images_cropped/2388-20170927-0-125853_501eaaaa189313d00364a9a6f59b60fd430bf1f855c696b3245e41a048c9b310_L.JPG', '/content/drive/MyDrive/Deep_learning/Congenital_Glaucoma/extended_dataset_for_YOLOv5/images/images_cropped/9143-20201202-7-122950_9f51c5c78ba1a8c5477b4d2eb81bc90d1e38b39998b9af056936d4b16e3976e7_L.JPG', '/content/drive/MyDrive/Deep_learning/Congenital_Glaucoma/extended_dataset_for_YOLOv5/images/images_cropped/9143-20201202-7-122950_9f51c5c78ba1a8c5477b4d2eb81bc90d1e38b39998b9af056936d4b16e3976e7_R.JPG', '/content/drive/MyDrive/Deep_learning/Congenital_Glaucoma/extended_dataset_for_YOLOv5/images/images_cropped/1049-20130327-11-103648_2bedf2f0df11780179a478fad0e063a7160db8a7eb86aec461fdb558cf42e18c_L.JPG', '/content/drive/MyDrive/Deep_learning/Congenital_Glaucoma/extended_dataset_for_YOLOv5/images/images_cropped/1049-20130327-11-103648_2bedf2f0df11780179a478fad0e063a7160db8a7eb86aec461fdb558cf42e18c_R.JPG', '/content/drive/MyDrive/Deep_learning/Congenital_Glaucoma/extended_dataset_for_YOLOv5/images/images_cropped/2167-20140514-0-100853_07e8fc67bab7f65daed0e336d06ccfef67cdd1b00bf127b49762ca0106c2f632_L.JPG', '/content/drive/MyDrive/Deep_learning/Congenital_Glaucoma/extended_dataset_for_YOLOv5/images/images_cropped/2167-20140514-0-100853_07e8fc67bab7f65daed0e336d06ccfef67cdd1b00bf127b49762ca0106c2f632_R.JPG', '/content/drive/MyDrive/Deep_learning/Congenital_Glaucoma/extended_dataset_for_YOLOv5/images/images_cropped/2580-20160316-9-130947_548944ed5ddbac03423bd341ecb4215e0da40a9d2c1ae465f3acd617928aedd1_R.JPG', '/content/drive/MyDrive/Deep_learning/Congenital_Glaucoma/extended_dataset_for_YOLOv5/images/images_cropped/2580-20160316-9-130947_548944ed5ddbac03423bd341ecb4215e0da40a9d2c1ae465f3acd617928aedd1_L.JPG', '/content/drive/MyDrive/Deep_learning/Congenital_Glaucoma/extended_dataset_for_YOLOv5/images/images_cropped/1707-20130925-11-113311_f4b62c8ec591e63ac5daff159a6bc716127e791c96615c63930790d0d21a62d0_R.JPG', '/content/drive/MyDrive/Deep_learning/Congenital_Glaucoma/extended_dataset_for_YOLOv5/images/images_cropped/1707-20130925-11-113311_f4b62c8ec591e63ac5daff159a6bc716127e791c96615c63930790d0d21a62d0_L.JPG', '/content/drive/MyDrive/Deep_learning/Congenital_Glaucoma/extended_dataset_for_YOLOv5/images/images_cropped/892-20130814-1-121144_53983098d4a0a7db22605a3bc5b777f73b467ad0fd72a765303add2bad6c87b7_R.JPG', '/content/drive/MyDrive/Deep_learning/Congenital_Glaucoma/extended_dataset_for_YOLOv5/images/images_cropped/892-20130814-1-121144_53983098d4a0a7db22605a3bc5b777f73b467ad0fd72a765303add2bad6c87b7_L.JPG', '/content/drive/MyDrive/Deep_learning/Congenital_Glaucoma/extended_dataset_for_YOLOv5/images/images_cropped/431-20171108-1-102121_9c50ef24a4caec9fadf88498dc25ec0233b9d0c02c63e7a433b4b210847f1686_R.JPG', '/content/drive/MyDrive/Deep_learning/Congenital_Glaucoma/extended_dataset_for_YOLOv5/images/images_cropped/431-20171108-1-102121_9c50ef24a4caec9fadf88498dc25ec0233b9d0c02c63e7a433b4b210847f1686_L.JPG', '/content/drive/MyDrive/Deep_learning/Congenital_Glaucoma/extended_dataset_for_YOLOv5/images/images_cropped/723-20070912-3-140947_4d2d92a69e5353a9bce950d4ddc3eb2fcfa25a7eecf89012813cc14c3a32c9aa_L.JPG', '/content/drive/MyDrive/Deep_learning/Congenital_Glaucoma/extended_dataset_for_YOLOv5/images/images_cropped/723-20070912-3-140947_4d2d92a69e5353a9bce950d4ddc3eb2fcfa25a7eecf89012813cc14c3a32c9aa_R.JPG', '/content/drive/MyDrive/Deep_learning/Congenital_Glaucoma/extended_dataset_for_YOLOv5/images/images_cropped/694-20190905-9-100355_60ea78b406a172a44e775cc596e259dda514800ab571d93e37f6ec20aa3953c0_R.JPG', '/content/drive/MyDrive/Deep_learning/Congenital_Glaucoma/extended_dataset_for_YOLOv5/images/images_cropped/694-20190905-9-100355_60ea78b406a172a44e775cc596e259dda514800ab571d93e37f6ec20aa3953c0_L.JPG', '/content/drive/MyDrive/Deep_learning/Congenital_Glaucoma/extended_dataset_for_YOLOv5/images/images_cropped/8046-20060725-3-125546_46b83cd6c23e4b0c9b3bb041b064a3e24cd404b5e0febef6638658615c5cf83a_R.JPG', '/content/drive/MyDrive/Deep_learning/Congenital_Glaucoma/extended_dataset_for_YOLOv5/images/images_cropped/8046-20060725-3-125546_46b83cd6c23e4b0c9b3bb041b064a3e24cd404b5e0febef6638658615c5cf83a_L.JPG', '/content/drive/MyDrive/Deep_learning/Congenital_Glaucoma/extended_dataset_for_YOLOv5/images/images_cropped/9406-20210318-3-114046_1faebab66ec27c35acd8c8999523149ec13eaa8796660bd8b2340f6b877ff2b9_R.JPG', '/content/drive/MyDrive/Deep_learning/Congenital_Glaucoma/extended_dataset_for_YOLOv5/images/images_cropped/9406-20210318-3-114046_1faebab66ec27c35acd8c8999523149ec13eaa8796660bd8b2340f6b877ff2b9_L.JPG', '/content/drive/MyDrive/Deep_learning/Congenital_Glaucoma/extended_dataset_for_YOLOv5/images/images_cropped/1123-20180822-4-111513_96f135a6359c1461a5627a01566cb0eb41ad3c60ef4aff619201b6c3423c7767_R.JPG', '/content/drive/MyDrive/Deep_learning/Congenital_Glaucoma/extended_dataset_for_YOLOv5/images/images_cropped/1123-20180822-4-111513_96f135a6359c1461a5627a01566cb0eb41ad3c60ef4aff619201b6c3423c7767_L.JPG', '/content/drive/MyDrive/Deep_learning/Congenital_Glaucoma/extended_dataset_for_YOLOv5/images/images_cropped/2596-20001205-2-133333_5a7d1b288d4fa87005f8b737c44d1b95201183976da2235010e7f76d27806f1d_R.JPG', '/content/drive/MyDrive/Deep_learning/Congenital_Glaucoma/extended_dataset_for_YOLOv5/images/images_cropped/2596-20001205-2-133333_5a7d1b288d4fa87005f8b737c44d1b95201183976da2235010e7f76d27806f1d_L.JPG', '/content/drive/MyDrive/Deep_learning/Congenital_Glaucoma/extended_dataset_for_YOLOv5/images/images_cropped/1522-20130313-5-091906_3b4312712a588edb945ce198bea7fd47028ace4d80da40d64673a7dba4ba697b_R.JPG', '/content/drive/MyDrive/Deep_learning/Congenital_Glaucoma/extended_dataset_for_YOLOv5/images/images_cropped/1522-20130313-5-091906_3b4312712a588edb945ce198bea7fd47028ace4d80da40d64673a7dba4ba697b_L.JPG', '/content/drive/MyDrive/Deep_learning/Congenital_Glaucoma/extended_dataset_for_YOLOv5/images/images_cropped/1310-20190118-4-110013_84ffdbd8072c5090adb680470aaa7f47054766e047822474f5d862edc5be076c_R.JPG', '/content/drive/MyDrive/Deep_learning/Congenital_Glaucoma/extended_dataset_for_YOLOv5/images/images_cropped/1310-20190118-4-110013_84ffdbd8072c5090adb680470aaa7f47054766e047822474f5d862edc5be076c_L.JPG', '/content/drive/MyDrive/Deep_learning/Congenital_Glaucoma/extended_dataset_for_YOLOv5/images/images_cropped/691-20080422-1-103824_f61d3923918d99c499215d159eafb26646be096f9d73707e5eba272c07e170e2_L.JPG', '/content/drive/MyDrive/Deep_learning/Congenital_Glaucoma/extended_dataset_for_YOLOv5/images/images_cropped/691-20080422-1-103824_f61d3923918d99c499215d159eafb26646be096f9d73707e5eba272c07e170e2_R.JPG', '/content/drive/MyDrive/Deep_learning/Congenital_Glaucoma/extended_dataset_for_YOLOv5/images/images_cropped/2598-20130731-7-151314_afbb9a1bbee09d94ee986924bf8faf872250a007becd726137b3cce57ff86899_R.JPG', '/content/drive/MyDrive/Deep_learning/Congenital_Glaucoma/extended_dataset_for_YOLOv5/images/images_cropped/2598-20130731-7-151314_afbb9a1bbee09d94ee986924bf8faf872250a007becd726137b3cce57ff86899_L.JPG', '/content/drive/MyDrive/Deep_learning/Congenital_Glaucoma/extended_dataset_for_YOLOv5/images/images_cropped/1452-20040713-8-152215_10849ccc22a5dd9cb7750353c38186b58cd767206f442704dcb52ef9384b0187_L.JPG', '/content/drive/MyDrive/Deep_learning/Congenital_Glaucoma/extended_dataset_for_YOLOv5/images/images_cropped/1452-20040713-8-152215_10849ccc22a5dd9cb7750353c38186b58cd767206f442704dcb52ef9384b0187_R.JPG', '/content/drive/MyDrive/Deep_learning/Congenital_Glaucoma/extended_dataset_for_YOLOv5/images/images_cropped/1372-20150225-6-110019_a8d48cb5cc7cacf3a4551353d45307d22c32d2c51eeac837be964d01112db7c1_L.JPG', '/content/drive/MyDrive/Deep_learning/Congenital_Glaucoma/extended_dataset_for_YOLOv5/images/images_cropped/1372-20150225-6-110019_a8d48cb5cc7cacf3a4551353d45307d22c32d2c51eeac837be964d01112db7c1_R.JPG', '/content/drive/MyDrive/Deep_learning/Congenital_Glaucoma/extended_dataset_for_YOLOv5/images/images_cropped/9612-20191127-7-101405_65552613976cd11a97cdc3733566197e81311cb4335a05562d43a3391dc02340_R.JPG', '/content/drive/MyDrive/Deep_learning/Congenital_Glaucoma/extended_dataset_for_YOLOv5/images/images_cropped/9612-20191127-7-101405_65552613976cd11a97cdc3733566197e81311cb4335a05562d43a3391dc02340_L.JPG', '/content/drive/MyDrive/Deep_learning/Congenital_Glaucoma/extended_dataset_for_YOLOv5/images/images_cropped/8182-20160914-1-112951_42ea5275d39be9f648028f261928c83e71eb994cbc74a84d3255f44f931257cf_L.JPG', '/content/drive/MyDrive/Deep_learning/Congenital_Glaucoma/extended_dataset_for_YOLOv5/images/images_cropped/8182-20160914-1-112951_42ea5275d39be9f648028f261928c83e71eb994cbc74a84d3255f44f931257cf_R.JPG', '/content/drive/MyDrive/Deep_learning/Congenital_Glaucoma/extended_dataset_for_YOLOv5/images/images_cropped/9427-20200708-4-112424_5d95c4c6dad8dbf6e43851fff2e83e2e4adf756ea94af52495ea32af218ad652_R.JPG', '/content/drive/MyDrive/Deep_learning/Congenital_Glaucoma/extended_dataset_for_YOLOv5/images/images_cropped/9427-20200708-4-112424_5d95c4c6dad8dbf6e43851fff2e83e2e4adf756ea94af52495ea32af218ad652_L.JPG', '/content/drive/MyDrive/Deep_learning/Congenital_Glaucoma/extended_dataset_for_YOLOv5/images/images_cropped/2685-20171227-7-125926_882d594fa15b24ad1ca8f5629ae33867d9f4c1801c5574919cd24e9104647458_R.JPG', '/content/drive/MyDrive/Deep_learning/Congenital_Glaucoma/extended_dataset_for_YOLOv5/images/images_cropped/2685-20171227-7-125926_882d594fa15b24ad1ca8f5629ae33867d9f4c1801c5574919cd24e9104647458_L.JPG', '/content/drive/MyDrive/Deep_learning/Congenital_Glaucoma/extended_dataset_for_YOLOv5/images/images_cropped/3574-20190814-7-105540_b97bbcc18f4f207473b6f80601ca77bf7f6ad787a694e7bcbb5846f1b3fdb462_R.JPG', '/content/drive/MyDrive/Deep_learning/Congenital_Glaucoma/extended_dataset_for_YOLOv5/images/images_cropped/3574-20190814-7-105540_b97bbcc18f4f207473b6f80601ca77bf7f6ad787a694e7bcbb5846f1b3fdb462_L.JPG', '/content/drive/MyDrive/Deep_learning/Congenital_Glaucoma/extended_dataset_for_YOLOv5/images/images_cropped/869-20020515-5-163104_2aacfad28a07a6210d445260113ac6b157138239b4724a3f84b4da441ff04e0c_R.JPG', '/content/drive/MyDrive/Deep_learning/Congenital_Glaucoma/extended_dataset_for_YOLOv5/images/images_cropped/869-20020515-5-163104_2aacfad28a07a6210d445260113ac6b157138239b4724a3f84b4da441ff04e0c_L.JPG', '/content/drive/MyDrive/Deep_learning/Congenital_Glaucoma/extended_dataset_for_YOLOv5/images/images_cropped/1643-20111121-7-000000_41f387768400a97dad0322b5fb5173cb50e39ede2b273afa0da89644053495f7_R.JPG', '/content/drive/MyDrive/Deep_learning/Congenital_Glaucoma/extended_dataset_for_YOLOv5/images/images_cropped/1643-20111121-7-000000_41f387768400a97dad0322b5fb5173cb50e39ede2b273afa0da89644053495f7_L.JPG', '/content/drive/MyDrive/Deep_learning/Congenital_Glaucoma/extended_dataset_for_YOLOv5/images/images_cropped/1580-20130424-1-101235_2b185a4b197e016df971459892ace7f303ce89a47901b08ef6bb0cef84c6532d_L.JPG', '/content/drive/MyDrive/Deep_learning/Congenital_Glaucoma/extended_dataset_for_YOLOv5/images/images_cropped/3239-20160525-4-111903_a0d76bd269b84ca1f678d3956c0df912adb4d3203a668a2dff18828218e74d2d_L.JPG', '/content/drive/MyDrive/Deep_learning/Congenital_Glaucoma/extended_dataset_for_YOLOv5/images/images_cropped/3239-20160525-4-111903_a0d76bd269b84ca1f678d3956c0df912adb4d3203a668a2dff18828218e74d2d_R.JPG', '/content/drive/MyDrive/Deep_learning/Congenital_Glaucoma/extended_dataset_for_YOLOv5/images/images_cropped/1059-20120905-3-114739_19371ccf6f5dc415b285cb2daf3e34534de6e01a1fb859cf3b5709ea29d864cf_L.JPG', '/content/drive/MyDrive/Deep_learning/Congenital_Glaucoma/extended_dataset_for_YOLOv5/images/images_cropped/4077-20161228-6-110211_76cc80597a6d49a53c2dcf147ed9c645cadf56e5388acf308c9487dcff376155_R.JPG', '/content/drive/MyDrive/Deep_learning/Congenital_Glaucoma/extended_dataset_for_YOLOv5/images/images_cropped/4077-20161228-6-110211_76cc80597a6d49a53c2dcf147ed9c645cadf56e5388acf308c9487dcff376155_L.JPG', '/content/drive/MyDrive/Deep_learning/Congenital_Glaucoma/extended_dataset_for_YOLOv5/images/images_cropped/9583-20210210-10-104736_74a0ee3dfbed75f92643c9bb6d50fa8c018447a66d7da98110c530d7e5a23c23_L.JPG', '/content/drive/MyDrive/Deep_learning/Congenital_Glaucoma/extended_dataset_for_YOLOv5/images/images_cropped/9583-20210210-10-104736_74a0ee3dfbed75f92643c9bb6d50fa8c018447a66d7da98110c530d7e5a23c23_R.JPG', '/content/drive/MyDrive/Deep_learning/Congenital_Glaucoma/extended_dataset_for_YOLOv5/images/images_cropped/2713-20190703-3-121407_37c55dc79b621846a4b072fc30b59e4bb80930fdc6b3061b85cfd126a5b512fd_L.JPG', '/content/drive/MyDrive/Deep_learning/Congenital_Glaucoma/extended_dataset_for_YOLOv5/images/images_cropped/2713-20190703-3-121407_37c55dc79b621846a4b072fc30b59e4bb80930fdc6b3061b85cfd126a5b512fd_R.JPG', '/content/drive/MyDrive/Deep_learning/Congenital_Glaucoma/extended_dataset_for_YOLOv5/images/images_cropped/600-20030114-13-111659_5f50bfd054fc4ef8bba9395f4e14b6cb900ca4b8b2dcd47431ddf819b3d8feaf_L.JPG', '/content/drive/MyDrive/Deep_learning/Congenital_Glaucoma/extended_dataset_for_YOLOv5/images/images_cropped/600-20030114-13-111659_5f50bfd054fc4ef8bba9395f4e14b6cb900ca4b8b2dcd47431ddf819b3d8feaf_R.JPG', '/content/drive/MyDrive/Deep_learning/Congenital_Glaucoma/extended_dataset_for_YOLOv5/images/images_cropped/3290-20170531-6-111723_5d298597934bcdaa0dbf1271af38104f94b0a383b79cc715df0f428920013731_L.JPG', '/content/drive/MyDrive/Deep_learning/Congenital_Glaucoma/extended_dataset_for_YOLOv5/images/images_cropped/3290-20170531-6-111723_5d298597934bcdaa0dbf1271af38104f94b0a383b79cc715df0f428920013731_R.JPG', '/content/drive/MyDrive/Deep_learning/Congenital_Glaucoma/extended_dataset_for_YOLOv5/images/images_cropped/1623-20130109-7-103911_02d11f9d61e011b308531cc87e4608b7a90394596b91c12f8ed1a329aa15f2c3_R.JPG', '/content/drive/MyDrive/Deep_learning/Congenital_Glaucoma/extended_dataset_for_YOLOv5/images/images_cropped/1623-20130109-7-103911_02d11f9d61e011b308531cc87e4608b7a90394596b91c12f8ed1a329aa15f2c3_L.JPG', '/content/drive/MyDrive/Deep_learning/Congenital_Glaucoma/extended_dataset_for_YOLOv5/images/images_cropped/2075-20090723-3-153550_4b0619c269cadf1f9d2740997dd9b5b13421900f113c68afed04cb4404d06b0e_R.JPG', '/content/drive/MyDrive/Deep_learning/Congenital_Glaucoma/extended_dataset_for_YOLOv5/images/images_cropped/2075-20090723-3-153550_4b0619c269cadf1f9d2740997dd9b5b13421900f113c68afed04cb4404d06b0e_L.JPG', '/content/drive/MyDrive/Deep_learning/Congenital_Glaucoma/extended_dataset_for_YOLOv5/images/images_cropped/1317-20080520-3-110755_d13baf75b4d35e270de1e0b64e81f488df8252529d0d7fd3638039ec0fcf06b5_L.JPG', '/content/drive/MyDrive/Deep_learning/Congenital_Glaucoma/extended_dataset_for_YOLOv5/images/images_cropped/1317-20080520-3-110755_d13baf75b4d35e270de1e0b64e81f488df8252529d0d7fd3638039ec0fcf06b5_R.JPG', '/content/drive/MyDrive/Deep_learning/Congenital_Glaucoma/extended_dataset_for_YOLOv5/images/images_cropped/9475-20201125-4-111156_a89fc21805fec35a6506d9204d070afdb28698a9b61e125603a2832db28ef7ad_R.JPG', '/content/drive/MyDrive/Deep_learning/Congenital_Glaucoma/extended_dataset_for_YOLOv5/images/images_cropped/9475-20201125-4-111156_a89fc21805fec35a6506d9204d070afdb28698a9b61e125603a2832db28ef7ad_L.JPG', '/content/drive/MyDrive/Deep_learning/Congenital_Glaucoma/extended_dataset_for_YOLOv5/images/images_cropped/1532-20150401-7-100432_5fcc847f0609d53674c4bd3d2c3fbbca86cbc7e4725e471e078afe7bf82d232b_R.JPG', '/content/drive/MyDrive/Deep_learning/Congenital_Glaucoma/extended_dataset_for_YOLOv5/images/images_cropped/1532-20150401-7-100432_5fcc847f0609d53674c4bd3d2c3fbbca86cbc7e4725e471e078afe7bf82d232b_L.JPG', '/content/drive/MyDrive/Deep_learning/Congenital_Glaucoma/extended_dataset_for_YOLOv5/images/images_cropped/558-20150128-2-111558_31c39f3e18a11947f0ea2d11dfb1e94434e3d7bb04c6f5c365738b21effea93d_L.JPG', '/content/drive/MyDrive/Deep_learning/Congenital_Glaucoma/extended_dataset_for_YOLOv5/images/images_cropped/558-20150128-2-111558_31c39f3e18a11947f0ea2d11dfb1e94434e3d7bb04c6f5c365738b21effea93d_R.JPG', '/content/drive/MyDrive/Deep_learning/Congenital_Glaucoma/extended_dataset_for_YOLOv5/images/images_cropped/353-20150715-4-111256_231d0a23b89b3dd4660c00cebf799de92c182de971718108bd0d1d60b3efde5a_L.JPG', '/content/drive/MyDrive/Deep_learning/Congenital_Glaucoma/extended_dataset_for_YOLOv5/images/images_cropped/353-20150715-4-111256_231d0a23b89b3dd4660c00cebf799de92c182de971718108bd0d1d60b3efde5a_R.JPG', '/content/drive/MyDrive/Deep_learning/Congenital_Glaucoma/extended_dataset_for_YOLOv5/images/images_cropped/1572-20100707-4-133110_01479228ea8298a626c3cbd055563e48ae448c6934c012c61dc5e4e9dcad6929_R.JPG', '/content/drive/MyDrive/Deep_learning/Congenital_Glaucoma/extended_dataset_for_YOLOv5/images/images_cropped/1572-20100707-4-133110_01479228ea8298a626c3cbd055563e48ae448c6934c012c61dc5e4e9dcad6929_L.JPG', '/content/drive/MyDrive/Deep_learning/Congenital_Glaucoma/extended_dataset_for_YOLOv5/images/images_cropped/2740-20170927-4-101455_74cd6a63fc262188021d11b4318233a647f4fe1523cd32d3a7ea3391fc3a7054_L.JPG', '/content/drive/MyDrive/Deep_learning/Congenital_Glaucoma/extended_dataset_for_YOLOv5/images/images_cropped/2740-20170927-4-101455_74cd6a63fc262188021d11b4318233a647f4fe1523cd32d3a7ea3391fc3a7054_R.JPG', '/content/drive/MyDrive/Deep_learning/Congenital_Glaucoma/extended_dataset_for_YOLOv5/images/images_cropped/1134-20190801-10-113418_3e80b50b1ebef97e4b44d58b991f409f061ea78d820f4e8b3694ca2fd9b05ca1_R.JPG', '/content/drive/MyDrive/Deep_learning/Congenital_Glaucoma/extended_dataset_for_YOLOv5/images/images_cropped/1134-20190801-10-113418_3e80b50b1ebef97e4b44d58b991f409f061ea78d820f4e8b3694ca2fd9b05ca1_L.JPG', '/content/drive/MyDrive/Deep_learning/Congenital_Glaucoma/extended_dataset_for_YOLOv5/images/images_cropped/445-20150729-9-110557_d03e77c9b1e12b6c7608c49d8780e4dca7f235a97b1ecf858e9ed72ebd238b9a_L.JPG', '/content/drive/MyDrive/Deep_learning/Congenital_Glaucoma/extended_dataset_for_YOLOv5/images/images_cropped/445-20150729-9-110557_d03e77c9b1e12b6c7608c49d8780e4dca7f235a97b1ecf858e9ed72ebd238b9a_R.JPG', '/content/drive/MyDrive/Deep_learning/Congenital_Glaucoma/extended_dataset_for_YOLOv5/images/images_cropped/9358-20190918-0-101357_539e6d7ab1301ac8706b9035eb8fc376bada1015fbfd4596898ce133b053b215_L.JPG', '/content/drive/MyDrive/Deep_learning/Congenital_Glaucoma/extended_dataset_for_YOLOv5/images/images_cropped/9358-20190918-0-101357_539e6d7ab1301ac8706b9035eb8fc376bada1015fbfd4596898ce133b053b215_R.JPG', '/content/drive/MyDrive/Deep_learning/Congenital_Glaucoma/extended_dataset_for_YOLOv5/images/images_cropped/608-20170920-7-100646_e5faa83806838913463819db2706ce9925b75b54fba5ce220b514750e37376d2_R.JPG', '/content/drive/MyDrive/Deep_learning/Congenital_Glaucoma/extended_dataset_for_YOLOv5/images/images_cropped/608-20170920-7-100646_e5faa83806838913463819db2706ce9925b75b54fba5ce220b514750e37376d2_L.JPG', '/content/drive/MyDrive/Deep_learning/Congenital_Glaucoma/extended_dataset_for_YOLOv5/images/images_cropped/2822-20120808-2-125829_15aefb76c52ae066ac59514f449c5bb16cf812ded499d579d50e3a8fe09cfba9_R.JPG', '/content/drive/MyDrive/Deep_learning/Congenital_Glaucoma/extended_dataset_for_YOLOv5/images/images_cropped/2822-20120808-2-125829_15aefb76c52ae066ac59514f449c5bb16cf812ded499d579d50e3a8fe09cfba9_L.JPG', '/content/drive/MyDrive/Deep_learning/Congenital_Glaucoma/extended_dataset_for_YOLOv5/images/images_cropped/2069-20121031-10-162755_9c072cd84f7a70af5bd15f938440113647e7b2a441135c2bf52b94d9ef3e7312_R.JPG', '/content/drive/MyDrive/Deep_learning/Congenital_Glaucoma/extended_dataset_for_YOLOv5/images/images_cropped/2069-20121031-10-162755_9c072cd84f7a70af5bd15f938440113647e7b2a441135c2bf52b94d9ef3e7312_L.JPG', '/content/drive/MyDrive/Deep_learning/Congenital_Glaucoma/extended_dataset_for_YOLOv5/images/images_cropped/2031-20120530-1-110836_0bc176adc342c3815a63d651bc4181a7de17cae8633e14a4083c6ca2d2dd10f1_R.JPG', '/content/drive/MyDrive/Deep_learning/Congenital_Glaucoma/extended_dataset_for_YOLOv5/images/images_cropped/2031-20120530-1-110836_0bc176adc342c3815a63d651bc4181a7de17cae8633e14a4083c6ca2d2dd10f1_L.JPG', '/content/drive/MyDrive/Deep_learning/Congenital_Glaucoma/extended_dataset_for_YOLOv5/images/images_cropped/436-20180725-3-093928_80011c93d3201b940235c41f7d01f05685f8ffb22bdcac267134e4964a79a7e0_R.JPG', '/content/drive/MyDrive/Deep_learning/Congenital_Glaucoma/extended_dataset_for_YOLOv5/images/images_cropped/436-20180725-3-093928_80011c93d3201b940235c41f7d01f05685f8ffb22bdcac267134e4964a79a7e0_L.JPG', '/content/drive/MyDrive/Deep_learning/Congenital_Glaucoma/extended_dataset_for_YOLOv5/images/images_cropped/1183-20181205-0-113208_f2eee0f74d19cdd39134a7d8a81835ff7f43fba17dfb1cbd4af1b65bebe847fb_L.JPG', '/content/drive/MyDrive/Deep_learning/Congenital_Glaucoma/extended_dataset_for_YOLOv5/images/images_cropped/1183-20181205-0-113208_f2eee0f74d19cdd39134a7d8a81835ff7f43fba17dfb1cbd4af1b65bebe847fb_R.JPG', '/content/drive/MyDrive/Deep_learning/Congenital_Glaucoma/extended_dataset_for_YOLOv5/images/images_cropped/95-20090810-9-115454_9df2bb694b04ea52c3a18757712406ab73bdb0837bd93e4f77db8c9a604c6720_R.JPG', '/content/drive/MyDrive/Deep_learning/Congenital_Glaucoma/extended_dataset_for_YOLOv5/images/images_cropped/95-20090810-9-115454_9df2bb694b04ea52c3a18757712406ab73bdb0837bd93e4f77db8c9a604c6720_L.JPG', '/content/drive/MyDrive/Deep_learning/Congenital_Glaucoma/extended_dataset_for_YOLOv5/images/images_cropped/9264-20201209-1-102000_2975944041615af8c18824f94ea2c653d944b87a081f2acd382ad67fcc226bfa_L.JPG', '/content/drive/MyDrive/Deep_learning/Congenital_Glaucoma/extended_dataset_for_YOLOv5/images/images_cropped/9264-20201209-1-102000_2975944041615af8c18824f94ea2c653d944b87a081f2acd382ad67fcc226bfa_R.JPG', '/content/drive/MyDrive/Deep_learning/Congenital_Glaucoma/extended_dataset_for_YOLOv5/images/images_cropped/37-20090804-8-124036_549f26a242cb7f36ccbc6210af181d6a05a7a2bdbcddc814f77e10a9e8b694b8_L.JPG', '/content/drive/MyDrive/Deep_learning/Congenital_Glaucoma/extended_dataset_for_YOLOv5/images/images_cropped/37-20090804-8-124036_549f26a242cb7f36ccbc6210af181d6a05a7a2bdbcddc814f77e10a9e8b694b8_R.JPG', '/content/drive/MyDrive/Deep_learning/Congenital_Glaucoma/extended_dataset_for_YOLOv5/images/images_cropped/2574-20171101-1-103658_3fe19a671ed3a1f159443ea8548bb103a62b7658b1dbe588d702efecc1384a8b_L.JPG', '/content/drive/MyDrive/Deep_learning/Congenital_Glaucoma/extended_dataset_for_YOLOv5/images/images_cropped/2574-20171101-1-103658_3fe19a671ed3a1f159443ea8548bb103a62b7658b1dbe588d702efecc1384a8b_R.JPG', '/content/drive/MyDrive/Deep_learning/Congenital_Glaucoma/extended_dataset_for_YOLOv5/images/images_cropped/2162-20151104-1-114900_df305aeebe89fcf6ad415ab73accfb561e7671690a09222f6a1c7fef432286eb_R.JPG', '/content/drive/MyDrive/Deep_learning/Congenital_Glaucoma/extended_dataset_for_YOLOv5/images/images_cropped/2162-20151104-1-114900_df305aeebe89fcf6ad415ab73accfb561e7671690a09222f6a1c7fef432286eb_L.JPG', '/content/drive/MyDrive/Deep_learning/Congenital_Glaucoma/extended_dataset_for_YOLOv5/images/images_cropped/7513-20170622-12-093524_b3bb8c6b5f354df636a5fab2136a251c12e1f113e0e727777337eb3b6228c73a_R.JPG', '/content/drive/MyDrive/Deep_learning/Congenital_Glaucoma/extended_dataset_for_YOLOv5/images/images_cropped/7513-20170622-12-093524_b3bb8c6b5f354df636a5fab2136a251c12e1f113e0e727777337eb3b6228c73a_L.JPG', '/content/drive/MyDrive/Deep_learning/Congenital_Glaucoma/extended_dataset_for_YOLOv5/images/images_cropped/9560-20200930-0-112810_cda8394c84d60906daa623e20a8d8fae0fb75049c482a4d445d6655e0891000c_L.JPG', '/content/drive/MyDrive/Deep_learning/Congenital_Glaucoma/extended_dataset_for_YOLOv5/images/images_cropped/9560-20200930-0-112810_cda8394c84d60906daa623e20a8d8fae0fb75049c482a4d445d6655e0891000c_R.JPG', '/content/drive/MyDrive/Deep_learning/Congenital_Glaucoma/extended_dataset_for_YOLOv5/images/images_cropped/1009-20130515-8-121130_a555bc99929d7053845f66a8f35c1951043a477049f149adb7f04b625d0b631e_R.JPG', '/content/drive/MyDrive/Deep_learning/Congenital_Glaucoma/extended_dataset_for_YOLOv5/images/images_cropped/1009-20130515-8-121130_a555bc99929d7053845f66a8f35c1951043a477049f149adb7f04b625d0b631e_L.JPG', '/content/drive/MyDrive/Deep_learning/Congenital_Glaucoma/extended_dataset_for_YOLOv5/images/images_cropped/848-20151008-1-100223_5dbf2d35d77f89967171ab3421a593bad71920ed692b888eb0b361b87b311274_R.JPG', '/content/drive/MyDrive/Deep_learning/Congenital_Glaucoma/extended_dataset_for_YOLOv5/images/images_cropped/848-20151008-1-100223_5dbf2d35d77f89967171ab3421a593bad71920ed692b888eb0b361b87b311274_L.JPG', '/content/drive/MyDrive/Deep_learning/Congenital_Glaucoma/extended_dataset_for_YOLOv5/images/images_cropped/938-20160310-1-094952_00100db4cec8a1f2e70e45f3fdf0568c9c4f3e70cad8a31c0bd07c884866f284_L.JPG', '/content/drive/MyDrive/Deep_learning/Congenital_Glaucoma/extended_dataset_for_YOLOv5/images/images_cropped/938-20160310-1-094952_00100db4cec8a1f2e70e45f3fdf0568c9c4f3e70cad8a31c0bd07c884866f284_R.JPG', '/content/drive/MyDrive/Deep_learning/Congenital_Glaucoma/extended_dataset_for_YOLOv5/images/images_cropped/1169-20180711-1-105106_78db58f88f30a318ed8679350ab1082858afe47bb6f90bfe366246aa0c15f8b7_L.JPG', '/content/drive/MyDrive/Deep_learning/Congenital_Glaucoma/extended_dataset_for_YOLOv5/images/images_cropped/1169-20180711-1-105106_78db58f88f30a318ed8679350ab1082858afe47bb6f90bfe366246aa0c15f8b7_R.JPG', '/content/drive/MyDrive/Deep_learning/Congenital_Glaucoma/extended_dataset_for_YOLOv5/images/images_cropped/1443-20061121-11-144013_3f76b25b4966c0fe9585f398dfdaa001eed9fe9286d0698fea7baa0964dfad1c_R.JPG', '/content/drive/MyDrive/Deep_learning/Congenital_Glaucoma/extended_dataset_for_YOLOv5/images/images_cropped/2178-20151202-11-114056_8bfb6857fb65f1c4b98455b6843e9e2446f5ca07d7d3e1f7d8616956fc27d5bd_R.JPG', '/content/drive/MyDrive/Deep_learning/Congenital_Glaucoma/extended_dataset_for_YOLOv5/images/images_cropped/2178-20151202-11-114056_8bfb6857fb65f1c4b98455b6843e9e2446f5ca07d7d3e1f7d8616956fc27d5bd_L.JPG', '/content/drive/MyDrive/Deep_learning/Congenital_Glaucoma/extended_dataset_for_YOLOv5/images/images_cropped/1222-20030819-9-154421_6ceb2fd3469c4d11fc0f895299babf135c7032261eb21a2d43018a502733aa67_R.JPG', '/content/drive/MyDrive/Deep_learning/Congenital_Glaucoma/extended_dataset_for_YOLOv5/images/images_cropped/1222-20030819-9-154421_6ceb2fd3469c4d11fc0f895299babf135c7032261eb21a2d43018a502733aa67_L.JPG', '/content/drive/MyDrive/Deep_learning/Congenital_Glaucoma/extended_dataset_for_YOLOv5/images/images_cropped/434-20151007-5-153337_016ad0d30c111445257b0367303f4406638562b39c660ff9eb2cf5b6a46cb296_L.JPG', '/content/drive/MyDrive/Deep_learning/Congenital_Glaucoma/extended_dataset_for_YOLOv5/images/images_cropped/434-20151007-5-153337_016ad0d30c111445257b0367303f4406638562b39c660ff9eb2cf5b6a46cb296_R.JPG', '/content/drive/MyDrive/Deep_learning/Congenital_Glaucoma/extended_dataset_for_YOLOv5/images/images_cropped/1279-20130904-3-102014_6732174ca8193e8ff52d72b99abaa5da8d879c5021c65fdbbd6361b92017d4a8_R.JPG', '/content/drive/MyDrive/Deep_learning/Congenital_Glaucoma/extended_dataset_for_YOLOv5/images/images_cropped/1279-20130904-3-102014_6732174ca8193e8ff52d72b99abaa5da8d879c5021c65fdbbd6361b92017d4a8_L.JPG', '/content/drive/MyDrive/Deep_learning/Congenital_Glaucoma/extended_dataset_for_YOLOv5/images/images_cropped/1749-20070220-2-091649_90572ca4daea5fec11c7e5ff0ac8209450bf1205a5bd518b193d772d14993756_L.JPG', '/content/drive/MyDrive/Deep_learning/Congenital_Glaucoma/extended_dataset_for_YOLOv5/images/images_cropped/1749-20070220-2-091649_90572ca4daea5fec11c7e5ff0ac8209450bf1205a5bd518b193d772d14993756_R.JPG', '/content/drive/MyDrive/Deep_learning/Congenital_Glaucoma/extended_dataset_for_YOLOv5/images/images_cropped/1551-20071207-3-103244_4b714b2d310ea4daef24cebf5ae33843590a714e3a83011e7986174cf24a8603_R.JPG', '/content/drive/MyDrive/Deep_learning/Congenital_Glaucoma/extended_dataset_for_YOLOv5/images/images_cropped/1551-20071207-3-103244_4b714b2d310ea4daef24cebf5ae33843590a714e3a83011e7986174cf24a8603_L.JPG', '/content/drive/MyDrive/Deep_learning/Congenital_Glaucoma/extended_dataset_for_YOLOv5/images/images_cropped/942-20160210-3-120607_9bea0fe8abb9b52f0b0191fafe7fcdd4f98663b17949ecc02a62bc4c66c069ba_R.JPG', '/content/drive/MyDrive/Deep_learning/Congenital_Glaucoma/extended_dataset_for_YOLOv5/images/images_cropped/942-20160210-3-120607_9bea0fe8abb9b52f0b0191fafe7fcdd4f98663b17949ecc02a62bc4c66c069ba_L.JPG', '/content/drive/MyDrive/Deep_learning/Congenital_Glaucoma/extended_dataset_for_YOLOv5/images/images_cropped/8567-20200910-2-154643_86a25f31e8f58f5cf5db98e5311b06c97ec54130d6bf30c6a64c7334983d42eb_L.JPG', '/content/drive/MyDrive/Deep_learning/Congenital_Glaucoma/extended_dataset_for_YOLOv5/images/images_cropped/8567-20200910-2-154643_86a25f31e8f58f5cf5db98e5311b06c97ec54130d6bf30c6a64c7334983d42eb_R.JPG', '/content/drive/MyDrive/Deep_learning/Congenital_Glaucoma/extended_dataset_for_YOLOv5/images/images_cropped/125-20190612-5-120937_587a38aefd25fb262438f77dd29ebc48f2d0f491a8dd1af2cc14398bf6577b08_R.JPG', '/content/drive/MyDrive/Deep_learning/Congenital_Glaucoma/extended_dataset_for_YOLOv5/images/images_cropped/125-20190612-5-120937_587a38aefd25fb262438f77dd29ebc48f2d0f491a8dd1af2cc14398bf6577b08_L.JPG', '/content/drive/MyDrive/Deep_learning/Congenital_Glaucoma/extended_dataset_for_YOLOv5/images/images_cropped/414-20110118-0-114614_963e3dc3aca40851e31455f9814a61f6ae5a8456f36ccdf011a0c99fda8afbe5_R.JPG', '/content/drive/MyDrive/Deep_learning/Congenital_Glaucoma/extended_dataset_for_YOLOv5/images/images_cropped/414-20110118-0-114614_963e3dc3aca40851e31455f9814a61f6ae5a8456f36ccdf011a0c99fda8afbe5_L.JPG', '/content/drive/MyDrive/Deep_learning/Congenital_Glaucoma/extended_dataset_for_YOLOv5/images/images_cropped/435-20110202-9-115803_3f3afc5500ad30faef0bddce3281babba75c9ef5132f42d9a2fecc45cffa95dd_R.JPG', '/content/drive/MyDrive/Deep_learning/Congenital_Glaucoma/extended_dataset_for_YOLOv5/images/images_cropped/435-20110202-9-115803_3f3afc5500ad30faef0bddce3281babba75c9ef5132f42d9a2fecc45cffa95dd_L.JPG', '/content/drive/MyDrive/Deep_learning/Congenital_Glaucoma/extended_dataset_for_YOLOv5/images/images_cropped/543-20130724-9-112858_5087882abb6b89695ebc9690995fdd3e0568d52c7aae3027f5827d188f74b51d_R.JPG', '/content/drive/MyDrive/Deep_learning/Congenital_Glaucoma/extended_dataset_for_YOLOv5/images/images_cropped/543-20130724-9-112858_5087882abb6b89695ebc9690995fdd3e0568d52c7aae3027f5827d188f74b51d_L.JPG', '/content/drive/MyDrive/Deep_learning/Congenital_Glaucoma/extended_dataset_for_YOLOv5/images/images_cropped/1150-20040804-4-111249_d9b8c6a535814b74d2a07c32087bb858d1c84d638e022095ed7138d84f188c53_R.JPG', '/content/drive/MyDrive/Deep_learning/Congenital_Glaucoma/extended_dataset_for_YOLOv5/images/images_cropped/1150-20040804-4-111249_d9b8c6a535814b74d2a07c32087bb858d1c84d638e022095ed7138d84f188c53_L.JPG', '/content/drive/MyDrive/Deep_learning/Congenital_Glaucoma/extended_dataset_for_YOLOv5/images/images_cropped/1797-20140806-3-130657_1ca01625ff3b4bdd2701125b594370f587b7d5456a7293a7b181459ee632e732_L.JPG', '/content/drive/MyDrive/Deep_learning/Congenital_Glaucoma/extended_dataset_for_YOLOv5/images/images_cropped/1797-20140806-3-130657_1ca01625ff3b4bdd2701125b594370f587b7d5456a7293a7b181459ee632e732_R.JPG', '/content/drive/MyDrive/Deep_learning/Congenital_Glaucoma/extended_dataset_for_YOLOv5/images/images_cropped/825-20160203-3-095234_43effa8bf2831df7f1bff993a2120987b7b6f9e4b7d071edd6379ed18b673d99_R.JPG', '/content/drive/MyDrive/Deep_learning/Congenital_Glaucoma/extended_dataset_for_YOLOv5/images/images_cropped/825-20160203-3-095234_43effa8bf2831df7f1bff993a2120987b7b6f9e4b7d071edd6379ed18b673d99_L.JPG', '/content/drive/MyDrive/Deep_learning/Congenital_Glaucoma/extended_dataset_for_YOLOv5/images/images_cropped/1106-20160615-5-115608_7345a693177a5d3446073d7e2f58f81ab25da76062555323b0f840c548cbb961_R.JPG', '/content/drive/MyDrive/Deep_learning/Congenital_Glaucoma/extended_dataset_for_YOLOv5/images/images_cropped/1106-20160615-5-115608_7345a693177a5d3446073d7e2f58f81ab25da76062555323b0f840c548cbb961_L.JPG', '/content/drive/MyDrive/Deep_learning/Congenital_Glaucoma/extended_dataset_for_YOLOv5/images/images_cropped/722-20031029-1-152908_f40a525baa0059f5c0b4668e80e56d00b8c71db300c553ea002c091b3404be44_L.JPG', '/content/drive/MyDrive/Deep_learning/Congenital_Glaucoma/extended_dataset_for_YOLOv5/images/images_cropped/722-20031029-1-152908_f40a525baa0059f5c0b4668e80e56d00b8c71db300c553ea002c091b3404be44_R.JPG', '/content/drive/MyDrive/Deep_learning/Congenital_Glaucoma/extended_dataset_for_YOLOv5/images/images_cropped/2200-20161116-3-110102_3bd8543506bea3c1c7a3cfe29e30f73a1881d3a2984122d75a2bcb2b5f3110e2_R.JPG', '/content/drive/MyDrive/Deep_learning/Congenital_Glaucoma/extended_dataset_for_YOLOv5/images/images_cropped/2200-20161116-3-110102_3bd8543506bea3c1c7a3cfe29e30f73a1881d3a2984122d75a2bcb2b5f3110e2_L.JPG', '/content/drive/MyDrive/Deep_learning/Congenital_Glaucoma/extended_dataset_for_YOLOv5/images/images_cropped/358-20130220-6-120810_51e156bc37ba4c28e632a3c00d58846517fd9942577900c5a6e69f90351141e2_R.JPG', '/content/drive/MyDrive/Deep_learning/Congenital_Glaucoma/extended_dataset_for_YOLOv5/images/images_cropped/358-20130220-6-120810_51e156bc37ba4c28e632a3c00d58846517fd9942577900c5a6e69f90351141e2_L.JPG', '/content/drive/MyDrive/Deep_learning/Congenital_Glaucoma/extended_dataset_for_YOLOv5/images/images_cropped/9289-20190912-3-140858_8b9006e929ac7bf8c844d0752bcaaab0215c9a7f2ff9ba05e9a219a8db0b702e_L.JPG', '/content/drive/MyDrive/Deep_learning/Congenital_Glaucoma/extended_dataset_for_YOLOv5/images/images_cropped/9289-20190912-3-140858_8b9006e929ac7bf8c844d0752bcaaab0215c9a7f2ff9ba05e9a219a8db0b702e_R.JPG', '/content/drive/MyDrive/Deep_learning/Congenital_Glaucoma/extended_dataset_for_YOLOv5/images/images_cropped/118-20030107-13-082721_aa2b9f8fd390c9db84faa2bab957f862868c8155154596e667cc2f08eb39483d_R.JPG', '/content/drive/MyDrive/Deep_learning/Congenital_Glaucoma/extended_dataset_for_YOLOv5/images/images_cropped/118-20030107-13-082721_aa2b9f8fd390c9db84faa2bab957f862868c8155154596e667cc2f08eb39483d_L.JPG', '/content/drive/MyDrive/Deep_learning/Congenital_Glaucoma/extended_dataset_for_YOLOv5/images/images_cropped/52-20140424-3-121512_05463fc97a79764ede6562982b465a00e0eec1fd411f2b0b5e99c0fd71834f89_R.JPG', '/content/drive/MyDrive/Deep_learning/Congenital_Glaucoma/extended_dataset_for_YOLOv5/images/images_cropped/52-20140424-3-121512_05463fc97a79764ede6562982b465a00e0eec1fd411f2b0b5e99c0fd71834f89_L.JPG', '/content/drive/MyDrive/Deep_learning/Congenital_Glaucoma/extended_dataset_for_YOLOv5/images/images_cropped/2650-20150715-3-110321_25ba47edd2e86f9652e78b7fd632ff462408527857e2aaeaba0ee2493c854a3b_R.JPG', '/content/drive/MyDrive/Deep_learning/Congenital_Glaucoma/extended_dataset_for_YOLOv5/images/images_cropped/2650-20150715-3-110321_25ba47edd2e86f9652e78b7fd632ff462408527857e2aaeaba0ee2493c854a3b_L.JPG', '/content/drive/MyDrive/Deep_learning/Congenital_Glaucoma/extended_dataset_for_YOLOv5/images/images_cropped/2756-20120627-3-093555_bae39cb15ee568d1e200f7f88792c11b0bca6ab52f784f777d7336477c4ea980_L.JPG', '/content/drive/MyDrive/Deep_learning/Congenital_Glaucoma/extended_dataset_for_YOLOv5/images/images_cropped/2756-20120627-3-093555_bae39cb15ee568d1e200f7f88792c11b0bca6ab52f784f777d7336477c4ea980_R.JPG', '/content/drive/MyDrive/Deep_learning/Congenital_Glaucoma/extended_dataset_for_YOLOv5/images/images_cropped/1189-20171129-4-093742_2aa568ae0debd63d8b0d7111e750021bc029a700c4cfe7b84d5065c777fecfed_L.JPG', '/content/drive/MyDrive/Deep_learning/Congenital_Glaucoma/extended_dataset_for_YOLOv5/images/images_cropped/1189-20171129-4-093742_2aa568ae0debd63d8b0d7111e750021bc029a700c4cfe7b84d5065c777fecfed_R.JPG', '/content/drive/MyDrive/Deep_learning/Congenital_Glaucoma/extended_dataset_for_YOLOv5/images/images_cropped/203-20181114-1-104445_3ac43ba46182948796e96015d2ba3afb3a5651b05a6ab7d571079ebcd4ad370b_L.JPG', '/content/drive/MyDrive/Deep_learning/Congenital_Glaucoma/extended_dataset_for_YOLOv5/images/images_cropped/203-20181114-1-104445_3ac43ba46182948796e96015d2ba3afb3a5651b05a6ab7d571079ebcd4ad370b_R.JPG', '/content/drive/MyDrive/Deep_learning/Congenital_Glaucoma/extended_dataset_for_YOLOv5/images/images_cropped/2088-20140730-2-124607_313115df6009b61565c47ba9d7097af2490114a961e961136bd910b40e944f27_R.JPG', '/content/drive/MyDrive/Deep_learning/Congenital_Glaucoma/extended_dataset_for_YOLOv5/images/images_cropped/2088-20140730-2-124607_313115df6009b61565c47ba9d7097af2490114a961e961136bd910b40e944f27_L.JPG', '/content/drive/MyDrive/Deep_learning/Congenital_Glaucoma/extended_dataset_for_YOLOv5/images/images_cropped/54-20160810-7-112126_21621190ded2e2dc25252717db727355764d87f2563bcf432c0655ca2665cc08_R.JPG', '/content/drive/MyDrive/Deep_learning/Congenital_Glaucoma/extended_dataset_for_YOLOv5/images/images_cropped/54-20160810-7-112126_21621190ded2e2dc25252717db727355764d87f2563bcf432c0655ca2665cc08_L.JPG', '/content/drive/MyDrive/Deep_learning/Congenital_Glaucoma/extended_dataset_for_YOLOv5/images/images_cropped/386-20130717-4-153346_5b7fea7b4ac7249029b355d9881f9e364d86e6d4c1cb05e8b59f6e73eca68e01_R.JPG', '/content/drive/MyDrive/Deep_learning/Congenital_Glaucoma/extended_dataset_for_YOLOv5/images/images_cropped/386-20130717-4-153346_5b7fea7b4ac7249029b355d9881f9e364d86e6d4c1cb05e8b59f6e73eca68e01_L.JPG', '/content/drive/MyDrive/Deep_learning/Congenital_Glaucoma/extended_dataset_for_YOLOv5/images/images_cropped/1280-20180523-0-110041_6d4be2cd6ad418ac71833cd15e4f6fe40e707bed12c67d42fac6bbffa3ad786a_L.JPG', '/content/drive/MyDrive/Deep_learning/Congenital_Glaucoma/extended_dataset_for_YOLOv5/images/images_cropped/758-20161228-7-101734_87b3297c22387cd5a6304edb2eba7a18d4e8f799315c4b3ac13b56edda0256ba_R.JPG', '/content/drive/MyDrive/Deep_learning/Congenital_Glaucoma/extended_dataset_for_YOLOv5/images/images_cropped/758-20161228-7-101734_87b3297c22387cd5a6304edb2eba7a18d4e8f799315c4b3ac13b56edda0256ba_L.JPG', '/content/drive/MyDrive/Deep_learning/Congenital_Glaucoma/extended_dataset_for_YOLOv5/images/images_cropped/257-20161026-7-113735_6ffb8c237faf816f31a1f99e2da49fd8901aaa8bff2f32edab4506b36d46aa6c_L.JPG', '/content/drive/MyDrive/Deep_learning/Congenital_Glaucoma/extended_dataset_for_YOLOv5/images/images_cropped/257-20161026-7-113735_6ffb8c237faf816f31a1f99e2da49fd8901aaa8bff2f32edab4506b36d46aa6c_R.JPG', '/content/drive/MyDrive/Deep_learning/Congenital_Glaucoma/extended_dataset_for_YOLOv5/images/images_cropped/1448-20100728-13-111911_bc2d852f5a0155c5bf87b301e91342528fbf2a43f472d67a6512e08c0c67403a_L.JPG', '/content/drive/MyDrive/Deep_learning/Congenital_Glaucoma/extended_dataset_for_YOLOv5/images/images_cropped/1448-20100728-13-111911_bc2d852f5a0155c5bf87b301e91342528fbf2a43f472d67a6512e08c0c67403a_R.JPG', '/content/drive/MyDrive/Deep_learning/Congenital_Glaucoma/extended_dataset_for_YOLOv5/images/images_cropped/1635-20030219-6-111646_204b329c3d0157970c1490ff6581c40b7080333ad3de086469efac1afc66d547_R.JPG', '/content/drive/MyDrive/Deep_learning/Congenital_Glaucoma/extended_dataset_for_YOLOv5/images/images_cropped/1635-20030219-6-111646_204b329c3d0157970c1490ff6581c40b7080333ad3de086469efac1afc66d547_L.JPG', '/content/drive/MyDrive/Deep_learning/Congenital_Glaucoma/extended_dataset_for_YOLOv5/images/images_cropped/1185-20090113-3-112804_25c26a4d7ef582c9fd6c90776a005cafafb6ec9256cab4a765685ba180d74f67_L.JPG', '/content/drive/MyDrive/Deep_learning/Congenital_Glaucoma/extended_dataset_for_YOLOv5/images/images_cropped/1185-20090113-3-112804_25c26a4d7ef582c9fd6c90776a005cafafb6ec9256cab4a765685ba180d74f67_R.JPG', '/content/drive/MyDrive/Deep_learning/Congenital_Glaucoma/extended_dataset_for_YOLOv5/images/images_cropped/9383-20200205-3-145852_0344352dd8dd9bcb083ff81e49506304a91ece83ced659798b260edc13be2ac0_L.JPG', '/content/drive/MyDrive/Deep_learning/Congenital_Glaucoma/extended_dataset_for_YOLOv5/images/images_cropped/9383-20200205-3-145852_0344352dd8dd9bcb083ff81e49506304a91ece83ced659798b260edc13be2ac0_R.JPG', '/content/drive/MyDrive/Deep_learning/Congenital_Glaucoma/extended_dataset_for_YOLOv5/images/images_cropped/883-20110720-2-000000_ee6a92913c7f20e9523672476198e9118990788c9414901792d18d0a48a43d86_L.JPG', '/content/drive/MyDrive/Deep_learning/Congenital_Glaucoma/extended_dataset_for_YOLOv5/images/images_cropped/883-20110720-2-000000_ee6a92913c7f20e9523672476198e9118990788c9414901792d18d0a48a43d86_R.JPG', '/content/drive/MyDrive/Deep_learning/Congenital_Glaucoma/extended_dataset_for_YOLOv5/images/images_cropped/4496-20160511-4-120716_086625eac5e418492698ddaf4f15e127ac4835c4664a0904ec4124789386aee0_L.JPG', '/content/drive/MyDrive/Deep_learning/Congenital_Glaucoma/extended_dataset_for_YOLOv5/images/images_cropped/4496-20160511-4-120716_086625eac5e418492698ddaf4f15e127ac4835c4664a0904ec4124789386aee0_R.JPG', '/content/drive/MyDrive/Deep_learning/Congenital_Glaucoma/extended_dataset_for_YOLOv5/images/images_cropped/2463-20120629-5-105404_881b6c2574b4162c2a72c1d854dbba5569cbcee495c7f5dbefd55e58b3776940_R.JPG', '/content/drive/MyDrive/Deep_learning/Congenital_Glaucoma/extended_dataset_for_YOLOv5/images/images_cropped/2463-20120629-5-105404_881b6c2574b4162c2a72c1d854dbba5569cbcee495c7f5dbefd55e58b3776940_L.JPG', '/content/drive/MyDrive/Deep_learning/Congenital_Glaucoma/extended_dataset_for_YOLOv5/images/images_cropped/1573-20031125-6-141927_16dd7fabe3eeb87d267d19a4359a17a2dc95d3a9ce8642f163dcbb711f3ee5db_R.JPG', '/content/drive/MyDrive/Deep_learning/Congenital_Glaucoma/extended_dataset_for_YOLOv5/images/images_cropped/1573-20031125-6-141927_16dd7fabe3eeb87d267d19a4359a17a2dc95d3a9ce8642f163dcbb711f3ee5db_L.JPG', '/content/drive/MyDrive/Deep_learning/Congenital_Glaucoma/extended_dataset_for_YOLOv5/images/images_cropped/1500-20130814-8-121212_c4126902446e59c186515bddbcf3f37298e4ebb61857b11cc388a1b1cb2b30cd_R.JPG', '/content/drive/MyDrive/Deep_learning/Congenital_Glaucoma/extended_dataset_for_YOLOv5/images/images_cropped/1500-20130814-8-121212_c4126902446e59c186515bddbcf3f37298e4ebb61857b11cc388a1b1cb2b30cd_L.JPG', '/content/drive/MyDrive/Deep_learning/Congenital_Glaucoma/extended_dataset_for_YOLOv5/images/images_cropped/9339-20201209-1-121136_42c7857ad0898e8a0cd8768978a6d402ab8a6b623be3eebe9fd81dda2a979da0_R.JPG', '/content/drive/MyDrive/Deep_learning/Congenital_Glaucoma/extended_dataset_for_YOLOv5/images/images_cropped/9339-20201209-1-121136_42c7857ad0898e8a0cd8768978a6d402ab8a6b623be3eebe9fd81dda2a979da0_L.JPG', '/content/drive/MyDrive/Deep_learning/Congenital_Glaucoma/extended_dataset_for_YOLOv5/images/images_cropped/1474-20190619-5-103007_2d658d4058f505eb96f66f39a6b1149dfedb386ca574fc22f7f937c1226482d7_L.JPG', '/content/drive/MyDrive/Deep_learning/Congenital_Glaucoma/extended_dataset_for_YOLOv5/images/images_cropped/1474-20190619-5-103007_2d658d4058f505eb96f66f39a6b1149dfedb386ca574fc22f7f937c1226482d7_R.JPG', '/content/drive/MyDrive/Deep_learning/Congenital_Glaucoma/extended_dataset_for_YOLOv5/images/images_cropped/1652-20090602-0-103524_0e0e501533bfe3b338d6859b6ba245120e07fa7f3ccf889c034a808100b6f91c_L.JPG', '/content/drive/MyDrive/Deep_learning/Congenital_Glaucoma/extended_dataset_for_YOLOv5/images/images_cropped/1652-20090602-0-103524_0e0e501533bfe3b338d6859b6ba245120e07fa7f3ccf889c034a808100b6f91c_R.JPG', '/content/drive/MyDrive/Deep_learning/Congenital_Glaucoma/extended_dataset_for_YOLOv5/images/images_cropped/653-20130123-10-111705_bfa26987d3bca0c65a21d464d213cb57874b2c5576597e9e3f21dd594ec9f6cf_R.JPG', '/content/drive/MyDrive/Deep_learning/Congenital_Glaucoma/extended_dataset_for_YOLOv5/images/images_cropped/653-20130123-10-111705_bfa26987d3bca0c65a21d464d213cb57874b2c5576597e9e3f21dd594ec9f6cf_L.JPG', '/content/drive/MyDrive/Deep_learning/Congenital_Glaucoma/extended_dataset_for_YOLOv5/images/images_cropped/926-20110406-9-000000_1d4e1ff52970cd3aa018ea98e51129898af6348cbd131a6f373a6a491fd4fdc3_R.JPG', '/content/drive/MyDrive/Deep_learning/Congenital_Glaucoma/extended_dataset_for_YOLOv5/images/images_cropped/926-20110406-9-000000_1d4e1ff52970cd3aa018ea98e51129898af6348cbd131a6f373a6a491fd4fdc3_L.JPG', '/content/drive/MyDrive/Deep_learning/Congenital_Glaucoma/extended_dataset_for_YOLOv5/images/images_cropped/2287-20111019-4-000000_a8ae18a1d46337e6ef87854beff599de6c4b85699c505853ce8f83126225a98c_L.JPG', '/content/drive/MyDrive/Deep_learning/Congenital_Glaucoma/extended_dataset_for_YOLOv5/images/images_cropped/2287-20111019-4-000000_a8ae18a1d46337e6ef87854beff599de6c4b85699c505853ce8f83126225a98c_R.JPG', '/content/drive/MyDrive/Deep_learning/Congenital_Glaucoma/extended_dataset_for_YOLOv5/images/images_cropped/634-20120808-7-133614_91103ebfaf7244bb2832bef3ffa02bac6b3ead8093fc97fea1634ac27558dba2_L.JPG', '/content/drive/MyDrive/Deep_learning/Congenital_Glaucoma/extended_dataset_for_YOLOv5/images/images_cropped/634-20120808-7-133614_91103ebfaf7244bb2832bef3ffa02bac6b3ead8093fc97fea1634ac27558dba2_R.JPG', '/content/drive/MyDrive/Deep_learning/Congenital_Glaucoma/extended_dataset_for_YOLOv5/images/images_cropped/525-20120111-7-115217_fa167789fca01f482b6c5d20c34099321966b51b9cc6cd84ea792b7b1a0e5ed8_L.JPG', '/content/drive/MyDrive/Deep_learning/Congenital_Glaucoma/extended_dataset_for_YOLOv5/images/images_cropped/525-20120111-7-115217_fa167789fca01f482b6c5d20c34099321966b51b9cc6cd84ea792b7b1a0e5ed8_R.JPG', '/content/drive/MyDrive/Deep_learning/Congenital_Glaucoma/extended_dataset_for_YOLOv5/images/images_cropped/1286-20091007-10-120931_c78a40ef3a956bd6edfe70421c393c15b8a57fecba94a1bcf1ad47b771bef0b6_L.JPG', '/content/drive/MyDrive/Deep_learning/Congenital_Glaucoma/extended_dataset_for_YOLOv5/images/images_cropped/1286-20091007-10-120931_c78a40ef3a956bd6edfe70421c393c15b8a57fecba94a1bcf1ad47b771bef0b6_R.JPG', '/content/drive/MyDrive/Deep_learning/Congenital_Glaucoma/extended_dataset_for_YOLOv5/images/images_cropped/2205-20190808-10-100501_471b40789a357bde7c2ef0fabd8bcee5e091e1867f9c9e0bf5ce5e04abe61d38_R.JPG', '/content/drive/MyDrive/Deep_learning/Congenital_Glaucoma/extended_dataset_for_YOLOv5/images/images_cropped/2205-20190808-10-100501_471b40789a357bde7c2ef0fabd8bcee5e091e1867f9c9e0bf5ce5e04abe61d38_L.JPG', '/content/drive/MyDrive/Deep_learning/Congenital_Glaucoma/extended_dataset_for_YOLOv5/images/images_cropped/2045-20190904-2-104558_3d3cb667b8ff8001a7c4ac0ba4eebf3045f3525d76d4f2345f0f863398f2e803_R.JPG', '/content/drive/MyDrive/Deep_learning/Congenital_Glaucoma/extended_dataset_for_YOLOv5/images/images_cropped/2045-20190904-2-104558_3d3cb667b8ff8001a7c4ac0ba4eebf3045f3525d76d4f2345f0f863398f2e803_L.JPG', '/content/drive/MyDrive/Deep_learning/Congenital_Glaucoma/extended_dataset_for_YOLOv5/images/images_cropped/33-20150729-6-123154_67fc69f5ee8fb52bca51caae9b533762cb123cca6dc44005b13d0e03f786e18f_R.JPG', '/content/drive/MyDrive/Deep_learning/Congenital_Glaucoma/extended_dataset_for_YOLOv5/images/images_cropped/33-20150729-6-123154_67fc69f5ee8fb52bca51caae9b533762cb123cca6dc44005b13d0e03f786e18f_L.JPG', '/content/drive/MyDrive/Deep_learning/Congenital_Glaucoma/extended_dataset_for_YOLOv5/images/images_cropped/877-20071225-3-115740_5959bfd3586b33a5a78aacbbf033d4408f05476bf853671cc3ddeb743e74a97e_R.JPG', '/content/drive/MyDrive/Deep_learning/Congenital_Glaucoma/extended_dataset_for_YOLOv5/images/images_cropped/877-20071225-3-115740_5959bfd3586b33a5a78aacbbf033d4408f05476bf853671cc3ddeb743e74a97e_L.JPG', '/content/drive/MyDrive/Deep_learning/Congenital_Glaucoma/extended_dataset_for_YOLOv5/images/images_cropped/1711-20190530-12-100739_772f148cdedd26a676b60e4fa915b5e45391d86ae5920bd03fc7f7b5346ccce5_R.JPG', '/content/drive/MyDrive/Deep_learning/Congenital_Glaucoma/extended_dataset_for_YOLOv5/images/images_cropped/1711-20190530-12-100739_772f148cdedd26a676b60e4fa915b5e45391d86ae5920bd03fc7f7b5346ccce5_L.JPG', '/content/drive/MyDrive/Deep_learning/Congenital_Glaucoma/extended_dataset_for_YOLOv5/images/images_cropped/1405-20031119-11-163331_4fef604ba7818977f7b77de993b2684aa62165f0c18c924ad46d356dcf6db66a_L.JPG', '/content/drive/MyDrive/Deep_learning/Congenital_Glaucoma/extended_dataset_for_YOLOv5/images/images_cropped/1405-20031119-11-163331_4fef604ba7818977f7b77de993b2684aa62165f0c18c924ad46d356dcf6db66a_R.JPG', '/content/drive/MyDrive/Deep_learning/Congenital_Glaucoma/extended_dataset_for_YOLOv5/images/images_cropped/1462-20070417-3-111143_e6f03abead912d621ef10d4e025282f06493a25b6685de4486229a4cef1f0f93_L.JPG', '/content/drive/MyDrive/Deep_learning/Congenital_Glaucoma/extended_dataset_for_YOLOv5/images/images_cropped/1462-20070417-3-111143_e6f03abead912d621ef10d4e025282f06493a25b6685de4486229a4cef1f0f93_R.JPG', '/content/drive/MyDrive/Deep_learning/Congenital_Glaucoma/extended_dataset_for_YOLOv5/images/images_cropped/1023-20111214-9-000000_eb7b101f5d64f58ea088568fb6cacac19597ccfa82ecd8cc1662e2d160e38e6e_R.JPG', '/content/drive/MyDrive/Deep_learning/Congenital_Glaucoma/extended_dataset_for_YOLOv5/images/images_cropped/1023-20111214-9-000000_eb7b101f5d64f58ea088568fb6cacac19597ccfa82ecd8cc1662e2d160e38e6e_L.JPG', '/content/drive/MyDrive/Deep_learning/Congenital_Glaucoma/extended_dataset_for_YOLOv5/images/images_cropped/4203-20180214-6-111912_a1669d7d607c748b764e293a3c82e18605b458ba9fcc27109b1d275730639713_L.JPG', '/content/drive/MyDrive/Deep_learning/Congenital_Glaucoma/extended_dataset_for_YOLOv5/images/images_cropped/4203-20180214-6-111912_a1669d7d607c748b764e293a3c82e18605b458ba9fcc27109b1d275730639713_R.JPG', '/content/drive/MyDrive/Deep_learning/Congenital_Glaucoma/extended_dataset_for_YOLOv5/images/images_cropped/79-20021106-5-153545_329754171526ae990d4d086b5216c569d07e24ab0cb7f0630f633a7ea69bd03b_L.JPG', '/content/drive/MyDrive/Deep_learning/Congenital_Glaucoma/extended_dataset_for_YOLOv5/images/images_cropped/79-20021106-5-153545_329754171526ae990d4d086b5216c569d07e24ab0cb7f0630f633a7ea69bd03b_R.JPG', '/content/drive/MyDrive/Deep_learning/Congenital_Glaucoma/extended_dataset_for_YOLOv5/images/images_cropped/2135-20170531-7-103033_18f7684b9209c9fa353a9c7e31174d3ed90d52be9c8ee128a18c3497707a8f0e_R.JPG', '/content/drive/MyDrive/Deep_learning/Congenital_Glaucoma/extended_dataset_for_YOLOv5/images/images_cropped/2135-20170531-7-103033_18f7684b9209c9fa353a9c7e31174d3ed90d52be9c8ee128a18c3497707a8f0e_L.JPG', '/content/drive/MyDrive/Deep_learning/Congenital_Glaucoma/extended_dataset_for_YOLOv5/images/images_cropped/594-20021008-3-135554_43bfba5769a07f93a1b387420b2456862344f79026c13b5ccfc3ad663651ae65_L.JPG', '/content/drive/MyDrive/Deep_learning/Congenital_Glaucoma/extended_dataset_for_YOLOv5/images/images_cropped/594-20021008-3-135554_43bfba5769a07f93a1b387420b2456862344f79026c13b5ccfc3ad663651ae65_R.JPG', '/content/drive/MyDrive/Deep_learning/Congenital_Glaucoma/extended_dataset_for_YOLOv5/images/images_cropped/868-20110223-6-161958_1846c72730b2592c07e49d19ad21245899f24e5a7eef77d134ac982d28b573e2_L.JPG', '/content/drive/MyDrive/Deep_learning/Congenital_Glaucoma/extended_dataset_for_YOLOv5/images/images_cropped/868-20110223-6-161958_1846c72730b2592c07e49d19ad21245899f24e5a7eef77d134ac982d28b573e2_R.JPG', '/content/drive/MyDrive/Deep_learning/Congenital_Glaucoma/extended_dataset_for_YOLOv5/images/images_cropped/1656-20060426-3-162300_0948798e5971617d860e0dc61abb037eed2e44715dd7d7c667d6cb07d05b676a_L.JPG', '/content/drive/MyDrive/Deep_learning/Congenital_Glaucoma/extended_dataset_for_YOLOv5/images/images_cropped/1656-20060426-3-162300_0948798e5971617d860e0dc61abb037eed2e44715dd7d7c667d6cb07d05b676a_R.JPG', '/content/drive/MyDrive/Deep_learning/Congenital_Glaucoma/extended_dataset_for_YOLOv5/images/images_cropped/3084-20151014-4-130738_0f6fcaf361768417caf87c3be657821d1a95f018874d648568473b81e687c915_R.JPG', '/content/drive/MyDrive/Deep_learning/Congenital_Glaucoma/extended_dataset_for_YOLOv5/images/images_cropped/3084-20151014-4-130738_0f6fcaf361768417caf87c3be657821d1a95f018874d648568473b81e687c915_L.JPG', '/content/drive/MyDrive/Deep_learning/Congenital_Glaucoma/extended_dataset_for_YOLOv5/images/images_cropped/9576-20201216-5-102706_4b9d12b9bee1421428d3b9cfbb1dbb6d904d8ca50b25b3f6396894cafe33aade_R.JPG', '/content/drive/MyDrive/Deep_learning/Congenital_Glaucoma/extended_dataset_for_YOLOv5/images/images_cropped/9576-20201216-5-102706_4b9d12b9bee1421428d3b9cfbb1dbb6d904d8ca50b25b3f6396894cafe33aade_L.JPG', '/content/drive/MyDrive/Deep_learning/Congenital_Glaucoma/extended_dataset_for_YOLOv5/images/images_cropped/2806-20160203-0-092358_2fed5e03787b9750a5303b5eed90e1300dacb2e638d5276fa058abe4502196c6_R.JPG', '/content/drive/MyDrive/Deep_learning/Congenital_Glaucoma/extended_dataset_for_YOLOv5/images/images_cropped/2806-20160203-0-092358_2fed5e03787b9750a5303b5eed90e1300dacb2e638d5276fa058abe4502196c6_L.JPG', '/content/drive/MyDrive/Deep_learning/Congenital_Glaucoma/extended_dataset_for_YOLOv5/images/images_cropped/1565-20150204-2-132845_d49e53d5fcfd32945068eaaa47cf336d29624716d6deb913b08e99595002e004_R.JPG', '/content/drive/MyDrive/Deep_learning/Congenital_Glaucoma/extended_dataset_for_YOLOv5/images/images_cropped/1565-20150204-2-132845_d49e53d5fcfd32945068eaaa47cf336d29624716d6deb913b08e99595002e004_L.JPG', '/content/drive/MyDrive/Deep_learning/Congenital_Glaucoma/extended_dataset_for_YOLOv5/images/images_cropped/1331-20160608-2-110603_3b81905b8cd46e4cc9a2edef70e1504963ab4742d63e65a94fa8fdfc4a68d305_L.JPG', '/content/drive/MyDrive/Deep_learning/Congenital_Glaucoma/extended_dataset_for_YOLOv5/images/images_cropped/1331-20160608-2-110603_3b81905b8cd46e4cc9a2edef70e1504963ab4742d63e65a94fa8fdfc4a68d305_R.JPG', '/content/drive/MyDrive/Deep_learning/Congenital_Glaucoma/extended_dataset_for_YOLOv5/images/images_cropped/747-20140324-5-154627_d57b7ad25feb3ae68cc21e07b5c30f864a5dcd53e3ad21a95c2672ec81505907_L.JPG', '/content/drive/MyDrive/Deep_learning/Congenital_Glaucoma/extended_dataset_for_YOLOv5/images/images_cropped/747-20140324-5-154627_d57b7ad25feb3ae68cc21e07b5c30f864a5dcd53e3ad21a95c2672ec81505907_R.JPG', '/content/drive/MyDrive/Deep_learning/Congenital_Glaucoma/extended_dataset_for_YOLOv5/images/images_cropped/1904-20120413-0-094446_8b84a0e1aac003d615bc203978ea4d5b044158147d4841b2cbe3a55c30a7d4be_L.JPG', '/content/drive/MyDrive/Deep_learning/Congenital_Glaucoma/extended_dataset_for_YOLOv5/images/images_cropped/1904-20120413-0-094446_8b84a0e1aac003d615bc203978ea4d5b044158147d4841b2cbe3a55c30a7d4be_R.JPG', '/content/drive/MyDrive/Deep_learning/Congenital_Glaucoma/extended_dataset_for_YOLOv5/images/images_cropped/1022-20170809-1-105542_5653a211a1d1fb35fab92e0d92386ce7a179a264e335399e7dac6ed4dc418203_R.JPG', '/content/drive/MyDrive/Deep_learning/Congenital_Glaucoma/extended_dataset_for_YOLOv5/images/images_cropped/1022-20170809-1-105542_5653a211a1d1fb35fab92e0d92386ce7a179a264e335399e7dac6ed4dc418203_L.JPG', '/content/drive/MyDrive/Deep_learning/Congenital_Glaucoma/extended_dataset_for_YOLOv5/images/images_cropped/2348-20170920-4-101515_8e3bd0df286f62d297a51e2f0602f80acd2b9beff8b577799cfd031962d68562_L.JPG', '/content/drive/MyDrive/Deep_learning/Congenital_Glaucoma/extended_dataset_for_YOLOv5/images/images_cropped/2348-20170920-4-101515_8e3bd0df286f62d297a51e2f0602f80acd2b9beff8b577799cfd031962d68562_R.JPG', '/content/drive/MyDrive/Deep_learning/Congenital_Glaucoma/extended_dataset_for_YOLOv5/images/images_cropped/7040-20190410-0-121730_720a0857388b50010763c8d0fd2c283d8e28e5a8ec3ffcf6d62cdd0e1c86cb4b_L.JPG', '/content/drive/MyDrive/Deep_learning/Congenital_Glaucoma/extended_dataset_for_YOLOv5/images/images_cropped/7040-20190410-0-121730_720a0857388b50010763c8d0fd2c283d8e28e5a8ec3ffcf6d62cdd0e1c86cb4b_R.JPG', '/content/drive/MyDrive/Deep_learning/Congenital_Glaucoma/extended_dataset_for_YOLOv5/images/images_cropped/624-20030311-5-094445_98aa74d143c48cd651a166486ff9863b103b1230a6a57bc514248f2693f8a8ab_L.JPG', '/content/drive/MyDrive/Deep_learning/Congenital_Glaucoma/extended_dataset_for_YOLOv5/images/images_cropped/624-20030311-5-094445_98aa74d143c48cd651a166486ff9863b103b1230a6a57bc514248f2693f8a8ab_R.JPG', '/content/drive/MyDrive/Deep_learning/Congenital_Glaucoma/extended_dataset_for_YOLOv5/images/images_cropped/835-20111012-4-000000_4c8fd52b8858461a754568f87006f45c06ff02d42478d7292cba2ac151613187_L.JPG', '/content/drive/MyDrive/Deep_learning/Congenital_Glaucoma/extended_dataset_for_YOLOv5/images/images_cropped/835-20111012-4-000000_4c8fd52b8858461a754568f87006f45c06ff02d42478d7292cba2ac151613187_R.JPG', '/content/drive/MyDrive/Deep_learning/Congenital_Glaucoma/extended_dataset_for_YOLOv5/images/images_cropped/2072-20110727-3-000000_822ec2cbe3a4726d5e73270d008134c2ebb7bb7da16a25f4e56082da875d8302_R.JPG', '/content/drive/MyDrive/Deep_learning/Congenital_Glaucoma/extended_dataset_for_YOLOv5/images/images_cropped/2072-20110727-3-000000_822ec2cbe3a4726d5e73270d008134c2ebb7bb7da16a25f4e56082da875d8302_L.JPG', '/content/drive/MyDrive/Deep_learning/Congenital_Glaucoma/extended_dataset_for_YOLOv5/images/images_cropped/1382-20160824-5-104007_008b25c4a0dcaca975584e4947c4d41c55c9174a9aff44e0f2a2bb7b0e7687b8_L.JPG', '/content/drive/MyDrive/Deep_learning/Congenital_Glaucoma/extended_dataset_for_YOLOv5/images/images_cropped/1382-20160824-5-104007_008b25c4a0dcaca975584e4947c4d41c55c9174a9aff44e0f2a2bb7b0e7687b8_R.JPG', '/content/drive/MyDrive/Deep_learning/Congenital_Glaucoma/extended_dataset_for_YOLOv5/images/images_cropped/3366-20180905-6-102413_55f74cbc2394361518d2d7f9a15ffccda0602a1073e84b2aea57358d152321bd_L.JPG', '/content/drive/MyDrive/Deep_learning/Congenital_Glaucoma/extended_dataset_for_YOLOv5/images/images_cropped/3366-20180905-6-102413_55f74cbc2394361518d2d7f9a15ffccda0602a1073e84b2aea57358d152321bd_R.JPG', '/content/drive/MyDrive/Deep_learning/Congenital_Glaucoma/extended_dataset_for_YOLOv5/images/images_cropped/1799-20180314-1-113110_105b4c1727c3297fa227da2fb4d0fc6bb5e11b76bf56d4f0b81f6a57a0f5bd1d_R.JPG', '/content/drive/MyDrive/Deep_learning/Congenital_Glaucoma/extended_dataset_for_YOLOv5/images/images_cropped/1799-20180314-1-113110_105b4c1727c3297fa227da2fb4d0fc6bb5e11b76bf56d4f0b81f6a57a0f5bd1d_L.JPG', '/content/drive/MyDrive/Deep_learning/Congenital_Glaucoma/extended_dataset_for_YOLOv5/images/images_cropped/2494-20181205-0-101059_6f619fb103c5ef5b686c355dca71a31e50c0bd85ad327922eea87c0a352e0bd5_R.JPG', '/content/drive/MyDrive/Deep_learning/Congenital_Glaucoma/extended_dataset_for_YOLOv5/images/images_cropped/2494-20181205-0-101059_6f619fb103c5ef5b686c355dca71a31e50c0bd85ad327922eea87c0a352e0bd5_L.JPG', '/content/drive/MyDrive/Deep_learning/Congenital_Glaucoma/extended_dataset_for_YOLOv5/images/images_cropped/220-20041214-1-085110_6c408bac9932e3e0e10253e45595ab72eeacaa3ac6607fa59f68a2b59c51cdaf_R.JPG', '/content/drive/MyDrive/Deep_learning/Congenital_Glaucoma/extended_dataset_for_YOLOv5/images/images_cropped/220-20041214-1-085110_6c408bac9932e3e0e10253e45595ab72eeacaa3ac6607fa59f68a2b59c51cdaf_L.JPG', '/content/drive/MyDrive/Deep_learning/Congenital_Glaucoma/extended_dataset_for_YOLOv5/images/images_cropped/979-20010509-1-180252_0c5df91e6c5e2fa269b9df15a33ce095ffe0ea999bfc53975525e73646afd531_R.JPG', '/content/drive/MyDrive/Deep_learning/Congenital_Glaucoma/extended_dataset_for_YOLOv5/images/images_cropped/979-20010509-1-180252_0c5df91e6c5e2fa269b9df15a33ce095ffe0ea999bfc53975525e73646afd531_L.JPG', '/content/drive/MyDrive/Deep_learning/Congenital_Glaucoma/extended_dataset_for_YOLOv5/images/images_cropped/8045-20170816-3-114026_322e93b74075937964e77487cde23f16a392182294d5f0b7808bc4e7c912e59f_R.JPG', '/content/drive/MyDrive/Deep_learning/Congenital_Glaucoma/extended_dataset_for_YOLOv5/images/images_cropped/8045-20170816-3-114026_322e93b74075937964e77487cde23f16a392182294d5f0b7808bc4e7c912e59f_L.JPG', '/content/drive/MyDrive/Deep_learning/Congenital_Glaucoma/extended_dataset_for_YOLOv5/images/images_cropped/9089-20200805-0-122955_3b6d17cc4a568b00a2e66c2c84fc0956477fd47b934fc57ee42984b79ab362f6_L.JPG', '/content/drive/MyDrive/Deep_learning/Congenital_Glaucoma/extended_dataset_for_YOLOv5/images/images_cropped/9089-20200805-0-122955_3b6d17cc4a568b00a2e66c2c84fc0956477fd47b934fc57ee42984b79ab362f6_R.JPG', '/content/drive/MyDrive/Deep_learning/Congenital_Glaucoma/extended_dataset_for_YOLOv5/images/images_cropped/3218-20190828-4-111244_c86da56f0b9aa93f5e0f53b39e9bbe86a1baf48181545596e7d8b1e8f97ad24c_R.JPG', '/content/drive/MyDrive/Deep_learning/Congenital_Glaucoma/extended_dataset_for_YOLOv5/images/images_cropped/3218-20190828-4-111244_c86da56f0b9aa93f5e0f53b39e9bbe86a1baf48181545596e7d8b1e8f97ad24c_L.JPG', '/content/drive/MyDrive/Deep_learning/Congenital_Glaucoma/extended_dataset_for_YOLOv5/images/images_cropped/1362-20180425-4-104807_bce9bba61d35cdb7b5a290ac957b6dd6fce1c97c07fdb1511c69624f2bff8612_R.JPG', '/content/drive/MyDrive/Deep_learning/Congenital_Glaucoma/extended_dataset_for_YOLOv5/images/images_cropped/1362-20180425-4-104807_bce9bba61d35cdb7b5a290ac957b6dd6fce1c97c07fdb1511c69624f2bff8612_L.JPG', '/content/drive/MyDrive/Deep_learning/Congenital_Glaucoma/extended_dataset_for_YOLOv5/images/images_cropped/308-20171227-13-105250_64fd037191eb9bbf5402651388e0bedc661b471b60d70a07278c8b8ad893c72c_L.JPG', '/content/drive/MyDrive/Deep_learning/Congenital_Glaucoma/extended_dataset_for_YOLOv5/images/images_cropped/308-20171227-13-105250_64fd037191eb9bbf5402651388e0bedc661b471b60d70a07278c8b8ad893c72c_R.JPG', '/content/drive/MyDrive/Deep_learning/Congenital_Glaucoma/extended_dataset_for_YOLOv5/images/images_cropped/1752-20160127-10-104837_67e838242ceed4f1ecb8bad1a2e74aa936756c6db7462562f081a4760cc4584a_R.JPG', '/content/drive/MyDrive/Deep_learning/Congenital_Glaucoma/extended_dataset_for_YOLOv5/images/images_cropped/1752-20160127-10-104837_67e838242ceed4f1ecb8bad1a2e74aa936756c6db7462562f081a4760cc4584a_L.JPG', '/content/drive/MyDrive/Deep_learning/Congenital_Glaucoma/extended_dataset_for_YOLOv5/images/images_cropped/1992-20160803-4-120200_2f999dc6785e7db899a8c64945b6d125944ab09d2de1f886ff5ed94352865461_R.JPG', '/content/drive/MyDrive/Deep_learning/Congenital_Glaucoma/extended_dataset_for_YOLOv5/images/images_cropped/1992-20160803-4-120200_2f999dc6785e7db899a8c64945b6d125944ab09d2de1f886ff5ed94352865461_L.JPG', '/content/drive/MyDrive/Deep_learning/Congenital_Glaucoma/extended_dataset_for_YOLOv5/images/images_cropped/1924-20080409-3-093046_749683c9255cf33d5dcd887d2c4d069eaa27be14969e651c3c91caefa60eb218_R.JPG', '/content/drive/MyDrive/Deep_learning/Congenital_Glaucoma/extended_dataset_for_YOLOv5/images/images_cropped/1924-20080409-3-093046_749683c9255cf33d5dcd887d2c4d069eaa27be14969e651c3c91caefa60eb218_L.JPG', '/content/drive/MyDrive/Deep_learning/Congenital_Glaucoma/extended_dataset_for_YOLOv5/images/images_cropped/1775-20160203-3-102744_96166b67b7a0b2eef2e59e0f0ed904e30370429d28748b401f9c1baa90cdfbc2_R.JPG', '/content/drive/MyDrive/Deep_learning/Congenital_Glaucoma/extended_dataset_for_YOLOv5/images/images_cropped/1775-20160203-3-102744_96166b67b7a0b2eef2e59e0f0ed904e30370429d28748b401f9c1baa90cdfbc2_L.JPG', '/content/drive/MyDrive/Deep_learning/Congenital_Glaucoma/extended_dataset_for_YOLOv5/images/images_cropped/1411-20100817-7-152612_2f67341f4107b5d77016fe6967ce50f9bb6224c83ca6c8a33906133532c8ccfa_R.JPG', '/content/drive/MyDrive/Deep_learning/Congenital_Glaucoma/extended_dataset_for_YOLOv5/images/images_cropped/1411-20100817-7-152612_2f67341f4107b5d77016fe6967ce50f9bb6224c83ca6c8a33906133532c8ccfa_L.JPG', '/content/drive/MyDrive/Deep_learning/Congenital_Glaucoma/extended_dataset_for_YOLOv5/images/images_cropped/1247-20110413-5-000000_b6c4439cc8e7e0c914c96c25053850d76ce5e5abbe966681227bef4563f3d7f9_L.JPG', '/content/drive/MyDrive/Deep_learning/Congenital_Glaucoma/extended_dataset_for_YOLOv5/images/images_cropped/1247-20110413-5-000000_b6c4439cc8e7e0c914c96c25053850d76ce5e5abbe966681227bef4563f3d7f9_R.JPG']\n"
          ]
        },
        {
          "output_type": "stream",
          "name": "stderr",
          "text": [
            "checking label files: 100%|██████████| 499/499 [00:00<00:00, 760.75it/s]\n",
            "copying files: 100%|██████████| 498/498 [00:19<00:00, 25.88it/s]"
          ]
        },
        {
          "output_type": "stream",
          "name": "stdout",
          "text": [
            "\n",
            "images: 485\n",
            "images: 485\n"
          ]
        },
        {
          "output_type": "stream",
          "name": "stderr",
          "text": [
            "\n"
          ]
        }
      ]
    },
    {
      "cell_type": "code",
      "source": [
        "# imagesとlabelsで片方にしかないファイルを削除（本当はこんなことは無いはずだが...）\n",
        "import os\n",
        "\n",
        "image_dir = \"/content/drive/MyDrive/Deep_learning/Congenital_Glaucoma/extended_for_YOLO_training/train/images\"\n",
        "label_dir = \"/content/drive/MyDrive/Deep_learning/Congenital_Glaucoma/extended_for_YOLO_training/train/labels\"\n",
        "\n",
        "# Get basenames of images\n",
        "image_basenames = [os.path.splitext(f)[0] for f in os.listdir(image_dir) if os.path.isfile(os.path.join(image_dir, f))]\n",
        "print(len(image_basenames))\n",
        "\n",
        "# Get basenames of labels\n",
        "label_basenames = [os.path.splitext(f)[0] for f in os.listdir(label_dir) if os.path.isfile(os.path.join(label_dir, f))]\n",
        "print(len(label_basenames))\n",
        "\n",
        "# Check if basenames are the same\n",
        "if set(image_basenames) != set(label_basenames):\n",
        "    # Get unique basenames\n",
        "    unique_basenames = set(image_basenames) & set(label_basenames)\n",
        "    print(len(unique_basenames))\n",
        "    \n",
        "    # Remove files with unique basenames\n",
        "    for basename in image_basenames:\n",
        "        if basename not in unique_basenames:\n",
        "            os.remove(f\"{image_dir}/{basename}.JPG\")\n",
        "            print(f\"{image_dir}/{basename}.JPG removed\")\n",
        "\n",
        "    for basename in label_basenames:\n",
        "        if basename not in unique_basenames:\n",
        "            os.remove(f\"{image_dir}/{basename}.JPG\")\n",
        "            print(f\"{label_dir}/{basename}.JPG removed\")"
      ],
      "metadata": {
        "id": "ZYdoJpcDC2tj",
        "colab": {
          "base_uri": "https://localhost:8080/"
        },
        "outputId": "34533c3a-1e4e-4081-b71c-922b88ae6683"
      },
      "execution_count": null,
      "outputs": [
        {
          "output_type": "stream",
          "name": "stdout",
          "text": [
            "635\n",
            "635\n"
          ]
        }
      ]
    },
    {
      "cell_type": "markdown",
      "source": [
        "# **YOLO_v5 training用フォルダを作成**\n",
        "\n",
        "datasetをtrainとvalに分ける\n",
        "\n",
        "https://book.st-hakky.com/docs/object-detection-yolov5-tutorial/"
      ],
      "metadata": {
        "id": "zjoIAYaLb8f6"
      }
    },
    {
      "cell_type": "code",
      "source": [
        "\"\"\"\n",
        "\n",
        "/content/drive/MyDrive/Deep_learning/Congenital_Glaucoma/extended_dataset_for_YOLO_training\n",
        "-----dataset-----train-----images\n",
        "              |         |--labels \n",
        "              |--valid-----images\n",
        "              |         |--labels\n",
        "              |--dataset.yaml\n",
        "\n",
        "\n",
        "\"\"\""
      ],
      "metadata": {
        "id": "UD_oGGXecCgR",
        "colab": {
          "base_uri": "https://localhost:8080/",
          "height": 53
        },
        "outputId": "e089ac8d-318a-4f1a-afc0-4524ada0ee57"
      },
      "execution_count": null,
      "outputs": [
        {
          "output_type": "execute_result",
          "data": {
            "text/plain": [
              "'\\n\\n/content/drive/MyDrive/Deep_learning/Congenital_Glaucoma/extended_dataset_for_YOLO_training\\n-----dataset-----train-----images\\n              |         |--labels \\n              |--valid-----images\\n              |         |--labels\\n              |--dataset.yaml\\n\\n\\n'"
            ],
            "application/vnd.google.colaboratory.intrinsic+json": {
              "type": "string"
            }
          },
          "metadata": {},
          "execution_count": 32
        }
      ]
    },
    {
      "cell_type": "code",
      "source": [
        "import numpy as np\n",
        "from sklearn.model_selection import train_test_split\n",
        "import glob\n",
        "import os\n",
        "import shutil\n",
        "import random\n",
        "from sklearn.model_selection import GroupKFold\n",
        "random.seed(1)\n",
        "\n",
        "# トレイン用のフォルダパス\n",
        "train_dir = \"/content/drive/MyDrive/Deep_learning/Congenital_Glaucoma/extended_for_YOLO_training\"\n",
        "if os.path.exists(train_dir):\n",
        "    shutil.rmtree(train_dir)\n",
        "\n",
        "train_images_dir = f\"{train_dir}/train/images\"\n",
        "train_labels_dir = f\"{train_dir}/train/labels\"\n",
        "valid_images_dir = f\"{train_dir}/valid/images\"\n",
        "valid_labels_dir = f\"{train_dir}/valid/labels\"\n",
        "os.makedirs(f\"{train_dir}/train\")\n",
        "os.makedirs(train_images_dir)\n",
        "os.makedirs(train_labels_dir)\n",
        "os.makedirs(f\"{train_dir}/valid\")\n",
        "os.makedirs(valid_images_dir)\n",
        "os.makedirs(valid_labels_dir)\n",
        "\n",
        "\n",
        "# 画像が格納されているディレクトリのパス\n",
        "image_dir = \"/content/drive/MyDrive/Deep_learning/Congenital_Glaucoma/extended_dataset_for_YOLOv5/images/images_selected\"\n",
        "label_dir = \"/content/drive/MyDrive/Deep_learning/Congenital_Glaucoma/extended_dataset_for_YOLOv5/images/labels_selected\"\n",
        "\n",
        "\n",
        "# ファイル名のリストを作成\n",
        "file_list = glob.glob(f\"{image_dir}/*\")\n",
        "basename_list = [os.path.basename(file) for file in file_list]\n",
        "\n",
        "# idを抽出してリスト化\n",
        "ids = []\n",
        "for file_name in basename_list:\n",
        "    id = file_name.split(\"-\")[0]\n",
        "    ids.append(id)\n",
        "# ids = list(set(ids))\n",
        "\n",
        "# GroupKFoldによる分割\n",
        "gkf = GroupKFold(n_splits=5)\n",
        "X = file_list\n",
        "y = [0]*len(file_list)\n",
        "groups = ids\n",
        "for train_index, valid_index in gkf.split(X, y, groups):\n",
        "    train_files = [basename_list[i] for i in train_index]\n",
        "    valid_files = [basename_list[i] for i in valid_index]\n",
        "\n",
        "\n",
        "from tqdm import tqdm\n",
        "\n",
        "train_index, valid_index = next(gkf.split(X, y, groups))\n",
        "train_files = [basename_list[i] for i in train_index]\n",
        "valid_files = [basename_list[i] for i in valid_index]\n",
        "\n",
        "# ファイルのコピー\n",
        "for file_name in tqdm(train_files, desc='Copying training files'):\n",
        "    src_image_path = os.path.join(image_dir, file_name)\n",
        "    dst_image_path = os.path.join(train_images_dir, file_name)    \n",
        "    shutil.copy(src_image_path, dst_image_path)\n",
        "    src_label_path = os.path.join(label_dir, os.path.splitext(file_name)[0] + \".txt\")\n",
        "    dst_label_path = os.path.join(train_labels_dir, os.path.splitext(file_name)[0] + \".txt\")\n",
        "    shutil.copy(src_label_path, dst_label_path)\n",
        "\n",
        "for file_name in tqdm(valid_files, desc='Copying validation files'):\n",
        "    src_image_path = os.path.join(image_dir, file_name)\n",
        "    dst_image_path = os.path.join(valid_images_dir, file_name)\n",
        "    shutil.copy(src_image_path, dst_image_path)\n",
        "    src_label_path = os.path.join(label_dir, os.path.splitext(file_name)[0] + \".txt\")\n",
        "    dst_label_path = os.path.join(valid_labels_dir, os.path.splitext(file_name)[0] + \".txt\")\n",
        "    shutil.copy(src_label_path, dst_label_path)\n",
        "\n",
        "print(\"\")\n",
        "print(f\"train_images: {len(os.listdir(train_images_dir))}\")\n",
        "print(f\"train_labels: {len(os.listdir(train_labels_dir))}\")\n",
        "print(f\"valid_images: {len(os.listdir(valid_images_dir))}\")\n",
        "print(f\"valid_labels: {len(os.listdir(valid_labels_dir))}\")"
      ],
      "metadata": {
        "id": "4XrG1VbncEwW",
        "outputId": "cd618262-d63a-404b-858d-fdbb3774bfc1",
        "colab": {
          "base_uri": "https://localhost:8080/"
        }
      },
      "execution_count": null,
      "outputs": [
        {
          "output_type": "stream",
          "name": "stderr",
          "text": [
            "Copying training files: 100%|██████████| 388/388 [00:08<00:00, 44.13it/s]\n",
            "Copying validation files: 100%|██████████| 97/97 [00:01<00:00, 58.26it/s]\n"
          ]
        },
        {
          "output_type": "stream",
          "name": "stdout",
          "text": [
            "\n",
            "train_images: 388\n",
            "train_labels: 388\n",
            "valid_images: 97\n",
            "valid_labels: 97\n"
          ]
        }
      ]
    },
    {
      "cell_type": "code",
      "source": [
        "# imagesとlabelsで片方にしかないファイルを削除（本当はこんなことは無いはずだが...）\n",
        "import os\n",
        "\n",
        "image_dir = \"/content/drive/MyDrive/Deep_learning/Congenital_Glaucoma/extended_for_YOLO_training/train/images\"\n",
        "label_dir = \"/content/drive/MyDrive/Deep_learning/Congenital_Glaucoma/extended_for_YOLO_training/train/labels\"\n",
        "\n",
        "# Get basenames of images\n",
        "image_basenames = [os.path.splitext(f)[0] for f in os.listdir(image_dir) if os.path.isfile(os.path.join(image_dir, f))]\n",
        "print(len(image_basenames))\n",
        "\n",
        "# Get basenames of labels\n",
        "label_basenames = [os.path.splitext(f)[0] for f in os.listdir(label_dir) if os.path.isfile(os.path.join(label_dir, f))]\n",
        "print(len(label_basenames))\n",
        "\n",
        "# Check if basenames are the same\n",
        "if set(image_basenames) != set(label_basenames):\n",
        "    # Get unique basenames\n",
        "    unique_basenames = set(image_basenames) & set(label_basenames)\n",
        "    print(len(unique_basenames))\n",
        "    \n",
        "    # Remove files with unique basenames\n",
        "    for basename in image_basenames:\n",
        "        if basename not in unique_basenames:\n",
        "            os.remove(f\"{image_dir}/{basename}.JPG\")\n",
        "            print(f\"{image_dir}/{basename}.JPG removed\")\n",
        "\n",
        "    for basename in label_basenames:\n",
        "        if basename not in unique_basenames:\n",
        "            os.remove(f\"{image_dir}/{basename}.JPG\")\n",
        "            print(f\"{label_dir}/{basename}.JPG removed\")"
      ],
      "metadata": {
        "colab": {
          "base_uri": "https://localhost:8080/"
        },
        "id": "k-H6e8UWYdBn",
        "outputId": "d8e1ddd3-61dd-49ab-bf52-ff75a07433ee"
      },
      "execution_count": null,
      "outputs": [
        {
          "output_type": "stream",
          "name": "stdout",
          "text": [
            "388\n",
            "388\n"
          ]
        }
      ]
    },
    {
      "cell_type": "code",
      "source": [
        "%cd $train_dir"
      ],
      "metadata": {
        "id": "mtaqlI_QcxPy",
        "colab": {
          "base_uri": "https://localhost:8080/"
        },
        "outputId": "256b55c2-461f-4975-c165-d53346f0444b"
      },
      "execution_count": null,
      "outputs": [
        {
          "output_type": "stream",
          "name": "stdout",
          "text": [
            "/content/drive/MyDrive/Deep_learning/Congenital_Glaucoma/extended_for_YOLO_training\n"
          ]
        }
      ]
    },
    {
      "cell_type": "code",
      "source": [
        "%%writefile dataset.yaml\n",
        "# path\n",
        "train: /content/drive/MyDrive/Deep_learning/Congenital_Glaucoma/extended_for_YOLO_training/train/images\n",
        "val: /content/drive/MyDrive/Deep_learning/Congenital_Glaucoma/extended_for_YOLO_training/valid/images\n",
        "\n",
        "# num of classes\n",
        "nc: 4\n",
        "\n",
        "#class names\n",
        "names: ['R_normal', 'R_gla', 'L_normal', 'L_gla'] # class名を定義"
      ],
      "metadata": {
        "colab": {
          "base_uri": "https://localhost:8080/"
        },
        "id": "Ny3JpKDqXkkA",
        "outputId": "22a6dfd8-b506-4982-a520-ae499ad3350c"
      },
      "execution_count": null,
      "outputs": [
        {
          "output_type": "stream",
          "name": "stdout",
          "text": [
            "Writing dataset.yaml\n"
          ]
        }
      ]
    },
    {
      "cell_type": "markdown",
      "source": [
        "#**Setup YOLO5**"
      ],
      "metadata": {
        "id": "Ief2dHJWYfik"
      }
    },
    {
      "cell_type": "code",
      "source": [
        "#train_dir = \"/content/drive/MyDrive/Deep_learning/Congenital_Glaucoma/extended_for_YOLO_training\"\n",
        "\n",
        "%cd /content/drive/MyDrive/Deep_learning/Congenital_Glaucoma/extended_for_YOLO_training\n",
        "!git clone https://github.com/ultralytics/yolov5\n",
        "%cd yolov5\n",
        "%pip install -qr requirements.txt\n",
        "\n",
        "import torch\n",
        "import utils\n",
        "display = utils.notebook_init()"
      ],
      "metadata": {
        "colab": {
          "base_uri": "https://localhost:8080/"
        },
        "id": "KRDqGUfeYiy4",
        "outputId": "cacdd376-4e68-487d-cb7e-1783a97f576a"
      },
      "execution_count": null,
      "outputs": [
        {
          "output_type": "stream",
          "name": "stderr",
          "text": [
            "YOLOv5 🚀 v7.0-131-g0c8de3f Python-3.9.16 torch-1.13.1+cu116 CUDA:0 (Tesla T4, 15102MiB)\n"
          ]
        },
        {
          "output_type": "stream",
          "name": "stdout",
          "text": [
            "Setup complete ✅ (4 CPUs, 25.5 GB RAM, 25.6/166.8 GB disk)\n"
          ]
        }
      ]
    },
    {
      "cell_type": "markdown",
      "source": [
        "#**Train YOLOv5**"
      ],
      "metadata": {
        "id": "eVnyukxLYxvR"
      }
    },
    {
      "cell_type": "code",
      "source": [
        "yaml_path = \"/content/drive/MyDrive/Deep_learning/Congenital_Glaucoma/extended_for_YOLO_training/dataset.yaml\""
      ],
      "metadata": {
        "id": "hDyAWLlQZIS7"
      },
      "execution_count": null,
      "outputs": []
    },
    {
      "cell_type": "code",
      "source": [
        "# Train\n",
        "#最初からスタートする場合\n",
        "#!python train.py --img 640 --batch 16 --epochs 300 --data $yaml_path --weights yolov5n.pt\n",
        "\n",
        "#途中から再開する場合\n",
        "checkpoint_path = \"/content/drive/MyDrive/Deep_learning/Congenital_Glaucoma/extended_for_YOLO_training/yolov5/runs/train/exp/weights/last.pt\"\n",
        "!python train.py --img 640 --batch 16 --epochs 300 --resume  $checkpoint_path --data $yaml_path --weights yolov5n.pt\n",
        "\n"
      ],
      "metadata": {
        "id": "4ZPduKggY702"
      },
      "execution_count": null,
      "outputs": []
    },
    {
      "cell_type": "markdown",
      "source": [
        "#**Periocular photographs, extracted again using the created model.**"
      ],
      "metadata": {
        "id": "XvRzbjAp2cL_"
      }
    },
    {
      "cell_type": "code",
      "source": [
        "model_path = \"/content/drive/MyDrive/Deep_learning/Congenital_Glaucoma/extended_for_YOLO_training/gla_yolo5n_300epochs.pt\""
      ],
      "metadata": {
        "id": "vQ4v7FRj3Smv"
      },
      "execution_count": 1,
      "outputs": []
    },
    {
      "cell_type": "code",
      "source": [
        "# Setup YOLOv5\n",
        "%cd /content/drive/MyDrive/Deep_learning/Congenital_Glaucoma/extended_for_YOLO_training\n",
        "!git clone https://github.com/ultralytics/yolov5\n",
        "%cd yolov5\n",
        "%pip install -qr requirements.txt\n",
        "\n",
        "import torch\n",
        "import utils\n",
        "display = utils.notebook_init()"
      ],
      "metadata": {
        "id": "C4UVX6bq3Swu",
        "outputId": "3ee31a5f-1d6b-45f4-892f-9c98cf58ff75",
        "colab": {
          "base_uri": "https://localhost:8080/"
        }
      },
      "execution_count": 19,
      "outputs": [
        {
          "output_type": "stream",
          "name": "stderr",
          "text": [
            "YOLOv5 🚀 v7.0-131-g0c8de3f Python-3.9.16 torch-1.13.1+cu116 CUDA:0 (Tesla T4, 15102MiB)\n"
          ]
        },
        {
          "output_type": "stream",
          "name": "stdout",
          "text": [
            "Setup complete ✅ (4 CPUs, 25.5 GB RAM, 28.1/166.8 GB disk)\n"
          ]
        }
      ]
    },
    {
      "cell_type": "code",
      "source": [
        "# glaucoma_extended datasetをcolab上に解凍する \n",
        "%cd /content\n",
        "!cp \"/content/drive/MyDrive/Deep_learning/Congenital_Glaucoma/glaucoma_extended_dataset.zip\" .\n",
        "!unzip glaucoma_extended_dataset.zip\n",
        "\n",
        "# import glob\n",
        "# print(len(glob.glob(f\"/content/dataset_extended/*\"))) #1409枚"
      ],
      "metadata": {
        "id": "Hb9acoK786Fi"
      },
      "execution_count": null,
      "outputs": []
    },
    {
      "cell_type": "code",
      "source": [
        "import pandas as pd\n",
        "\n",
        "# 患者のリスト(緑内障のみ)\n",
        "csv_path = \"/content/drive/MyDrive/Deep_learning/Congenital_Glaucoma/dataset_for_YOLO_1280px/patient_data.csv\"\n",
        "\n",
        "df = pd.read_csv(csv_path, index_col= 0)\n",
        "df"
      ],
      "metadata": {
        "id": "VN9ySAOt3S0X"
      },
      "execution_count": null,
      "outputs": []
    },
    {
      "cell_type": "code",
      "source": [
        "# YOLOv5\n",
        "weight = \"/content/drive/MyDrive/Deep_learning/Congenital_Glaucoma/extended_for_YOLO_training/gla_yolov5n_300epochs.pt\"\n",
        "\n",
        "# データセット\n",
        "dataset = \"/content/dataset_extended\""
      ],
      "metadata": {
        "id": "UbDCzogj-KGU"
      },
      "execution_count": 24,
      "outputs": []
    },
    {
      "cell_type": "code",
      "source": [
        "from models.common import DetectMultiBackend\n",
        "#from utils.datasets import IMG_FORMATS, VID_FORMATS, LoadImages, LoadStreams\n",
        "from utils.general import (LOGGER, check_file, check_img_size, check_imshow, check_requirements, colorstr,\n",
        "                           increment_path, non_max_suppression, print_args, strip_optimizer, xyxy2xywh)\n",
        "#from utils.plots import Annotator, colors, save_one_box\n",
        "from utils.torch_utils import select_device, time_sync\n",
        "from utils.augmentations import letterbox #padding\n",
        "\n",
        "from PIL import Image\n",
        "import torch\n",
        "from torchvision import models, transforms\n",
        "import cv2\n",
        "import numpy as np\n",
        "\n",
        "#サポートパッチのインポート\n",
        "from google.colab.patches import cv2_imshow\n",
        "\n",
        "\n",
        "def interference(img, weight):\n",
        "    device = 'cpu'\n",
        "    device = select_device(device)\n",
        "    model = DetectMultiBackend(weight, device=device, dnn=False)\n",
        "    #stride, names, pt, jit, onnx, engine = model.stride, model.names, model.pt, model.jit, model.onnx, model.engine\n",
        "    #imgsz = check_img_size([640], s=stride)  # check image size\n",
        "\n",
        "    #class_names = {0:\"cont\", 1:\"grav\"}\n",
        "\n",
        "    # transform = transforms.Compose([\n",
        "    #             transforms.Resize(size=(480,640)),\n",
        "    #             transforms.ToTensor(),\n",
        "    #             # transforms.Normalize(\n",
        "    #             #     mean=[0.5, 0.5, 0.5],\n",
        "    #             #     std=[0.5, 0.5, 0.5]\n",
        "    #             #    )\n",
        "    #             ])\n",
        "\n",
        "    img_cv2 = cv2.imread(img) #CV2で開く\n",
        "    img_cv2 = letterbox(img_cv2, (640,640), stride=32, auto=False)[0] #resize, 上下padding (color 114)\n",
        "\n",
        "    #cv2_imshow(img_cv2)\n",
        "\n",
        "    img_cv2 = img_cv2.transpose((2, 0, 1))[::-1]  # HWC to CHW, BGR to RGB\n",
        "    img_cv2 = np.ascontiguousarray(img_cv2)\n",
        "    img_tensor = torch.from_numpy(img_cv2).float()\n",
        "\n",
        "    #img_tensor = transform(img_np)\n",
        "    img_tensor /= 255\n",
        "    #print(img_tensor.shape)\n",
        "\n",
        "    #print(img_tensor)\n",
        "    img_tensor = torch.unsqueeze(img_tensor, 0)  # バッチ対応\n",
        "\n",
        "\n",
        "    pred = model(img_tensor, visualize=False, augment=False)\n",
        "\n",
        "    pred = non_max_suppression(pred, conf_thres=0.6, iou_thres=0.8, classes=None,  max_det=1000)\n",
        "\n",
        "    print(f\"pred: {pred}\")\n",
        "\n",
        "    return pred\n",
        "     \n",
        "%cd /content/drive/MyDrive/Deep_learning/Congenital_Glaucoma/extended_for_YOLO_training/yolov5\n",
        "\n",
        "image_path = glob.glob(f\"{dataset}/*\")\n",
        "#img = image_path[38]\n",
        "\n",
        "class_names = {0:\"R_normal\", 1:\"R_gla\", 2:\"L_normal\", 3:\"L_gla\"}\n",
        "\n",
        "#for idx in range(0, len(dataset)):\n",
        "for idx in range(0, 10):\n",
        "\n",
        "    img = image_path[idx]\n",
        "    pred = interference(img, weight)\n",
        "\n",
        "    img_cv2 = cv2.imread(img) \n",
        "\n",
        "    # 横幅を640pixにリサイズ\n",
        "    width = 640\n",
        "    height = int(img_cv2.shape[0] * width / img_cv2.shape[1])\n",
        "    img_cv2 = cv2.resize(img_cv2, (width, height))\n",
        "\n",
        "    # 眼が2つ検出されている例に限定する\n",
        "    if len(pred[0]) == 2:\n",
        "        print(\"TTTTrrrrruueeeeee!!!\")\n",
        "        for idx_boxes, boxes in enumerate(pred[0]):\n",
        "            # output result\n",
        "            x1, y1, x2, y2, prob, class_num = torch.round(pred[0][idx_boxes])\n",
        "\n",
        "\n",
        "            #右か左かの判定\n",
        "            if x1+x2 > 1:\n",
        "                laterality = \"L\"\n",
        "            elif x1 + x2 < 1:\n",
        "                laterality = \"R\"\n",
        "            print(laterality)\n",
        "\n",
        "            #混濁の有無（dfより抽出）\n",
        "            id = img.split(\"-\")[0]\n",
        "            if (df['id'] == int(id)).any(): #glaのリストに含まれているかどうか\n",
        "                if laterality == \"R\":\n",
        "                    if df.loc[df['id'] == int(id), \"R\"].values[0] == 0:\n",
        "                        class_num = 0 #右眼かつ混濁なし\n",
        "                    elif df.loc[df['id'] == int(id), \"R\"].values[0] == 1:\n",
        "                        class_num = 1 #右眼かつ混濁あり\n",
        "                elif laterality == \"L\":\n",
        "                    if df.loc[df['id'] == int(id), \"L\"].values[0] == 2:\n",
        "                        class_num = 2 #左眼かつ混濁なし\n",
        "                    elif df.loc[df['id'] == int(id), \"L\"].values[0] == 3:\n",
        "                        class_num = 3 #左眼かつ混濁あり\n",
        "\n",
        "            elif not (df['id'] == int(id)).any(): #glaのリストに含まれていない場合\n",
        "                if laterality == \"R\":\n",
        "                    class_num = 0 #右眼かつ混濁なし\n",
        "                elif laterality == \"L\":\n",
        "                    class_num = 2 #左眼かつ混濁なし\n",
        "\n",
        "            print(f\"class_num: {class_num}\")\n",
        "\n",
        "\n",
        "\n",
        "\n",
        "            # calculate coordinates of the bounding box (640*640にpaddingされている分の座標を足す)\n",
        "            img_height, img_width, _ = img_cv2.shape[:3]\n",
        "            #print(f\"img_height: {img_height}, img_width: {img_width}\")\n",
        "            padding_x = (img_height - min(img_width, img_height))/2\n",
        "            padding_y = (img_width - min(img_width, img_height))/2\n",
        "            x1 = x1 - padding_x\n",
        "            y1 = y1 - padding_y\n",
        "            x2 = x2 - padding_x\n",
        "            y2 = y2 - padding_y\n",
        "            #print(f\"x1: {x1}, y1: {y1}, x2: {x2}, y2: {y2}\")\n",
        "\n",
        "            # draw bounding box\n",
        "            cv2.rectangle(img_cv2, (int(x1), int(y1)), (int(x2), int(y2)), (255, 0, 0), 2)\n",
        "\n",
        "            \n",
        "\n",
        "\n",
        "    # show image\n",
        "    cv2_imshow(img_cv2)"
      ],
      "metadata": {
        "id": "N56fagxd8cAp"
      },
      "execution_count": null,
      "outputs": []
    },
    {
      "cell_type": "markdown",
      "source": [
        "#**Interference YOLOv5n**"
      ],
      "metadata": {
        "id": "oaHYvOy8w3gl"
      }
    },
    {
      "cell_type": "code",
      "source": [
        "model_path = \"/content/drive/MyDrive/Deep_learning/Congenital_Glaucoma/extended_for_YOLO_training/gla_yolo5n_300epochs.pt\""
      ],
      "metadata": {
        "id": "LgDyCMO3ecxi"
      },
      "execution_count": 3,
      "outputs": []
    },
    {
      "cell_type": "code",
      "source": [
        "# Setup YOLOv5\n",
        "%cd /content/drive/MyDrive/Deep_learning/Congenital_Glaucoma/extended_for_YOLO_training\n",
        "!git clone https://github.com/ultralytics/yolov5\n",
        "%cd yolov5\n",
        "%pip install -qr requirements.txt\n",
        "\n",
        "import torch\n",
        "import utils\n",
        "display = utils.notebook_init()"
      ],
      "metadata": {
        "id": "_VZyK0KVxM9Y",
        "outputId": "99c5b7a3-1698-49d8-b011-e4b189506a7e",
        "colab": {
          "base_uri": "https://localhost:8080/"
        }
      },
      "execution_count": 4,
      "outputs": [
        {
          "output_type": "stream",
          "name": "stderr",
          "text": [
            "YOLOv5 🚀 v7.0-131-g0c8de3f Python-3.9.16 torch-1.13.1+cu116 CUDA:0 (Tesla T4, 15102MiB)\n"
          ]
        },
        {
          "output_type": "stream",
          "name": "stdout",
          "text": [
            "Setup complete ✅ (4 CPUs, 25.5 GB RAM, 25.6/166.8 GB disk)\n"
          ]
        }
      ]
    },
    {
      "cell_type": "code",
      "source": [
        "# YOLOv5\n",
        "weight = \"/content/drive/MyDrive/Deep_learning/Congenital_Glaucoma/extended_for_YOLO_training/gla_yolov5n_300epochs.pt\"\n",
        "\n",
        "# 横幅を640pxにリサイズしたデータセット(validation_set)\n",
        "dataset = \"/content/drive/MyDrive/Deep_learning/Congenital_Glaucoma/extended_for_YOLO_training/valid/images\""
      ],
      "metadata": {
        "id": "7Cx86IrpxYVq"
      },
      "execution_count": 8,
      "outputs": []
    },
    {
      "cell_type": "code",
      "source": [
        "from models.common import DetectMultiBackend\n",
        "#from utils.datasets import IMG_FORMATS, VID_FORMATS, LoadImages, LoadStreams\n",
        "from utils.general import (LOGGER, check_file, check_img_size, check_imshow, check_requirements, colorstr,\n",
        "                           increment_path, non_max_suppression, print_args, strip_optimizer, xyxy2xywh)\n",
        "#from utils.plots import Annotator, colors, save_one_box\n",
        "from utils.torch_utils import select_device, time_sync\n",
        "from utils.augmentations import letterbox #padding\n",
        "\n",
        "from PIL import Image\n",
        "import torch\n",
        "from torchvision import models, transforms\n",
        "import cv2\n",
        "import numpy as np\n",
        "\n",
        "#サポートパッチのインポート\n",
        "from google.colab.patches import cv2_imshow\n",
        "\n",
        "\n",
        "def interference(img, weight):\n",
        "    device = 'cpu'\n",
        "    device = select_device(device)\n",
        "    model = DetectMultiBackend(weight, device=device, dnn=False)\n",
        "    #stride, names, pt, jit, onnx, engine = model.stride, model.names, model.pt, model.jit, model.onnx, model.engine\n",
        "    #imgsz = check_img_size([640], s=stride)  # check image size\n",
        "\n",
        "    #class_names = {0:\"cont\", 1:\"grav\"}\n",
        "\n",
        "    # transform = transforms.Compose([\n",
        "    #             transforms.Resize(size=(480,640)),\n",
        "    #             transforms.ToTensor(),\n",
        "    #             # transforms.Normalize(\n",
        "    #             #     mean=[0.5, 0.5, 0.5],\n",
        "    #             #     std=[0.5, 0.5, 0.5]\n",
        "    #             #    )\n",
        "    #             ])\n",
        "\n",
        "    img_cv2 = cv2.imread(img) #CV2で開く\n",
        "    img_cv2 = letterbox(img_cv2, (640,640), stride=32, auto=False)[0] #resize, 上下padding (color 114)\n",
        "\n",
        "    #cv2_imshow(img_cv2)\n",
        "\n",
        "    img_cv2 = img_cv2.transpose((2, 0, 1))[::-1]  # HWC to CHW, BGR to RGB\n",
        "    img_cv2 = np.ascontiguousarray(img_cv2)\n",
        "    img_tensor = torch.from_numpy(img_cv2).float()\n",
        "\n",
        "    #img_tensor = transform(img_np)\n",
        "    img_tensor /= 255\n",
        "    #print(img_tensor.shape)\n",
        "\n",
        "    #print(img_tensor)\n",
        "    img_tensor = torch.unsqueeze(img_tensor, 0)  # バッチ対応\n",
        "\n",
        "\n",
        "    pred = model(img_tensor, visualize=False, augment=False)\n",
        "\n",
        "    pred = non_max_suppression(pred, conf_thres=0.6, iou_thres=0.8, classes=None,  max_det=1000)\n",
        "\n",
        "    print(f\"pred: {pred}\")\n",
        "\n",
        "    return pred\n",
        "     \n",
        "\n",
        "image_path = glob.glob(f\"{dataset}/*\")\n",
        "#img = image_path[38]\n",
        "\n",
        "class_names = {0:\"R_normal\", 1:\"R_gla\", 2:\"L_normal\", 3:\"L_gla\"}\n",
        "\n",
        "for idx in range(0, 20):\n",
        "    img = image_path[idx]\n",
        "    pred = interference(img, weight)\n",
        "\n",
        "    img_cv2 = cv2.imread(img) \n",
        "\n",
        "    # 横幅を640pixにリサイズ\n",
        "    width = 640\n",
        "    height = int(img_cv2.shape[0] * width / img_cv2.shape[1])\n",
        "    img_cv2 = cv2.resize(img_cv2, (width, height))\n",
        "\n",
        "    for idx_boxes, boxes in enumerate(pred[0]):\n",
        "        # output result\n",
        "        x1, y1, x2, y2, prob, class_num = torch.round(pred[0][idx_boxes])\n",
        "\n",
        "        # probability\n",
        "        prob = pred[0][idx_boxes][4].item()\n",
        "\n",
        "        # class\n",
        "        class_name = class_names[pred[0][idx_boxes][5].item()]\n",
        "\n",
        "        print(\"診断は %s、確率は%.1f％です。\" %(class_name, prob*100))\n",
        "\n",
        "        # calculate coordinates of the bounding box (640*640にpaddingされている分の座標を足す)\n",
        "        img_height, img_width, _ = img_cv2.shape[:3]\n",
        "        #print(f\"img_height: {img_height}, img_width: {img_width}\")\n",
        "        padding_x = (img_height - min(img_width, img_height))/2\n",
        "        padding_y = (img_width - min(img_width, img_height))/2\n",
        "        x1 = x1 - padding_x\n",
        "        y1 = y1 - padding_y\n",
        "        x2 = x2 - padding_x\n",
        "        y2 = y2 - padding_y\n",
        "        #print(f\"x1: {x1}, y1: {y1}, x2: {x2}, y2: {y2}\")\n",
        "\n",
        "\n",
        "        # draw bounding box\n",
        "        cv2.rectangle(img_cv2, (int(x1), int(y1)), (int(x2), int(y2)), (255, 0, 0), 2)\n",
        "\n",
        "\n",
        "    # show image\n",
        "    cv2_imshow(img_cv2)"
      ],
      "metadata": {
        "id": "6BnxOT0Yxqrt"
      },
      "execution_count": null,
      "outputs": []
    },
    {
      "cell_type": "code",
      "source": [
        "# clone Yolov5 repo\n",
        "import os\n",
        "%cd /content\n",
        "!git clone https://github.com/hietalajulius/yolov5.git\n",
        "%cd yolov5\n",
        "!pip install -r requirements.txt -r requirements-export.txt"
      ],
      "metadata": {
        "id": "GtWzMbKTxxm7"
      },
      "execution_count": null,
      "outputs": []
    },
    {
      "cell_type": "code",
      "source": [
        "weight_path = \"/content/drive/MyDrive/Deep_learning/Congenital_Glaucoma/extended_for_YOLO_training/gla_yolov5n_300epochs.pt\"\n"
      ],
      "metadata": {
        "id": "zfiga2bU_UM6"
      },
      "execution_count": 18,
      "outputs": []
    },
    {
      "cell_type": "code",
      "source": [
        "!python export-nms.py --include coreml --weights $weight_path --conf-thres 0.25 --iou-thres 0.45\n"
      ],
      "metadata": {
        "id": "9_3yhPzC_dHN"
      },
      "execution_count": null,
      "outputs": []
    }
  ]
}