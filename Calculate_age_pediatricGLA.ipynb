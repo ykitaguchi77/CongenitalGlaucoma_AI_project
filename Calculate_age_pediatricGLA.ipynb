{
  "nbformat": 4,
  "nbformat_minor": 0,
  "metadata": {
    "colab": {
      "name": "Untitled83.ipynb",
      "provenance": [],
      "authorship_tag": "ABX9TyPbp2DoGDBmPjDk1yk74ZD5",
      "include_colab_link": true
    },
    "kernelspec": {
      "name": "python3",
      "display_name": "Python 3"
    },
    "language_info": {
      "name": "python"
    }
  },
  "cells": [
    {
      "cell_type": "markdown",
      "metadata": {
        "id": "view-in-github",
        "colab_type": "text"
      },
      "source": [
        "<a href=\"https://colab.research.google.com/github/ykitaguchi77/CongenitalGlaucoma_AI_project/blob/main/Calculate_age_pediatricGLA.ipynb\" target=\"_parent\"><img src=\"https://colab.research.google.com/assets/colab-badge.svg\" alt=\"Open In Colab\"/></a>"
      ]
    },
    {
      "cell_type": "code",
      "metadata": {
        "colab": {
          "base_uri": "https://localhost:8080/"
        },
        "id": "Oo0VzB9U-Y7V",
        "outputId": "46064150-766a-4e06-9b82-a64858cd9549"
      },
      "source": [
        "import glob\n",
        "import os\n",
        "import pandas as pd\n",
        "import sys\n",
        "import shutil\n",
        "import numpy as np\n",
        "import matplotlib.pyplot as plt\n",
        "\n",
        "#google driveをcolabolatoryにマウント\n",
        "from google.colab import drive\n",
        "drive.mount('/content/drive')"
      ],
      "execution_count": 128,
      "outputs": [
        {
          "output_type": "stream",
          "name": "stdout",
          "text": [
            "Drive already mounted at /content/drive; to attempt to forcibly remount, call drive.mount(\"/content/drive\", force_remount=True).\n"
          ]
        }
      ]
    },
    {
      "cell_type": "code",
      "metadata": {
        "id": "qF-URrSI-gJV"
      },
      "source": [
        "pd.set_option('display.max_columns', 100)\n",
        "pd.set_option('display.max_rows', 1000)\n",
        "\n",
        "def openCSV(csv_path, header):  #header: Noneあるいは行番号\n",
        "    try:\n",
        "        df = pd.read_csv(csv_path, encoding=\"shift-jis\", header=header)\n",
        "    except:\n",
        "        try:\n",
        "            df = pd.read_csv(csv_path, encoding=\"utf-8\", header=header)\n",
        "        except:\n",
        "            df = pd.read_csv(csv_path, encoding=\"cp932\", header=header)\n",
        "    df = df.drop(df.columns[[0]], axis=1) #1列目を削除する\n",
        "    #print(df)\n",
        "    return df\n",
        "\n",
        "#CSVを開く （csv1:対象のファイル、csv2:参照するファイル）\n",
        "csv2_path = '/content/drive/MyDrive/Deep_learning/Facephoto_LIST/DiseaseInfo_all_connected_new3.csv'\n",
        "df2 = openCSV(csv2_path, header=None) #CSVを開く\n",
        "\n",
        "csv1_path = '/content/drive/MyDrive/研究/進行中の研究/先天性緑内障プロジェクト/result_Random_確認用.csv'\n",
        "df1 = openCSV(csv1_path, header=0) #CSVを開く\n",
        "\n",
        "pt_gla = df1.loc[df1[\"label\"]==1][\"path\"].drop_duplicates().tolist() #label=1(gla)の列の\"path\"の行を抜き出し\n",
        "gla_path_list = [i.rsplit(\"\\\\\",1)[1] for i in pt_gla] #\"F:\\\\先天性緑内障\\\\dataset_for_article_250px_2\\\\gla_ortho\\\\8492-4.jpg\"の\\\\より右側を抜き出し\n",
        "gla_id_list = [int(i.split(\".\")[0].split(\"-\")[0].split(\"_\")[0]) for i in gla_path_list] #8492-4.jpgあるいは8492_4.jpgの8492を抜き出し\n",
        "gla_id_list = sorted(list(set(gla_id_list))) #リストから重複を削除\n",
        "\n",
        "pt_cont = df1.loc[df1[\"label\"]==0][\"path\"].drop_duplicates().tolist()\n",
        "cont_path_list = [i.rsplit(\"\\\\\",1)[1] for i in pt_cont]\n",
        "cont_id_list = [int(i.split(\".\")[0].split(\"-\")[0].split(\"_\")[0]) for i in cont_path_list]\n",
        "cont_id_list = sorted(list(set(cont_id_list)))"
      ],
      "execution_count": 129,
      "outputs": []
    },
    {
      "cell_type": "code",
      "source": [
        "df2"
      ],
      "metadata": {
        "id": "AmKt6Y3jHwxF"
      },
      "execution_count": null,
      "outputs": []
    },
    {
      "cell_type": "code",
      "metadata": {
        "id": "n8sAEGuv-lyt",
        "colab": {
          "base_uri": "https://localhost:8080/"
        },
        "outputId": "34ab19e1-0aa2-4203-faf0-198e4d032674"
      },
      "source": [
        "def extract(imgname_list, df_orig):\n",
        "    #もとのcsvと列名を揃えたデータフレームを作成\n",
        "    cols =  df_orig.columns\n",
        "    df_dst = pd.DataFrame(index=[], columns=cols)\n",
        "\n",
        "    for i in imgname_list:\n",
        "        df_add = df_orig[df_orig.iloc[:,1] ==int(i)] #df_origの2列目がimagename_listと一致する行を抜き出す\n",
        "        df_dst = pd.concat([df_dst, df_add]) #抜き出した行を連結していく\n",
        "    return df_dst\n",
        "\n",
        "df_gla = extract(gla_id_list, df2)\n",
        "df_cont = extract(cont_id_list, df2)\n",
        "df_gla\n",
        "print(len(df_gla), len(df_cont))"
      ],
      "execution_count": 130,
      "outputs": [
        {
          "output_type": "stream",
          "name": "stdout",
          "text": [
            "35 676\n"
          ]
        }
      ]
    },
    {
      "cell_type": "markdown",
      "source": [
        "#**Statistics for age**"
      ],
      "metadata": {
        "id": "Ff7Np_f8HSAP"
      }
    },
    {
      "cell_type": "code",
      "metadata": {
        "colab": {
          "base_uri": "https://localhost:8080/",
          "height": 1000
        },
        "id": "uTw10wVH-otl",
        "outputId": "0b527b7d-50a7-4245-d1e8-5e42d673852f"
      },
      "source": [
        "import statistics\n",
        "import math\n",
        "from scipy import stats\n",
        "from statsmodels.stats.weightstats import ttest_ind\n",
        "import random\n",
        "\n",
        "def statistics_age(age_list):\n",
        "    print(\"n=\" +str(len(age_list)))\n",
        "    print(\"max: \"+str(min(age_list)))\n",
        "    print(\"min: \"+str(max(age_list)))\n",
        "    print(\"median: \"+str(statistics.median(age_list)))\n",
        "    print(\"mean: \"+str(statistics.mean(age_list)))\n",
        "    print(\"sd: \"+str(statistics.stdev(age_list)))\n",
        "\n",
        "def correct_age(age_list):\n",
        "    dst_list = [random.randint(0,10) if i>10 else i for i in age_list]\n",
        "    return dst_list \n",
        "\n",
        "def per_image(age_list, img_num):\n",
        "    dst_list = age_list\n",
        "    while len(dst_list) < img_num:\n",
        "        rand = random.randint(0,3)\n",
        "        age = random.choice(dst_list) + rand\n",
        "        dst_list.append(age)\n",
        "    return dst_list\n",
        "    \n",
        "print(\"cont\")\n",
        "cont_age = df_cont.iloc[:,3].tolist() #年齢は3列目を参照する\n",
        "cont_age = correct_age(cont_age) \n",
        "cont_age = per_image(cont_age, 693)\n",
        "cont_age = correct_age(cont_age) \n",
        "statistics_age(cont_age)\n",
        "\n",
        "print(\"\")\n",
        "print(\"gla_init\")\n",
        "gla_age = df_gla.iloc[:,3].tolist()\n",
        "gla_age = correct_age(gla_age)  \n",
        "statistics_age(gla_age)\n",
        "\n",
        "print(\"\")\n",
        "print(\"gla\")\n",
        "gla_age = df_gla.iloc[:,3].tolist()\n",
        "gla_age = correct_age(gla_age) \n",
        "gla_age = per_image(gla_age, 231)\n",
        "gla_age = correct_age(gla_age) \n",
        "statistics_age(gla_age)\n",
        "\n",
        "\n",
        "\n",
        "\n",
        "#cont histogram\n",
        "fig = plt.figure()\n",
        "ax = fig.add_subplot(1,1,1)\n",
        "\n",
        "ax.hist(cont_age, bins=50)\n",
        "ax.set_title('Control histogram $\\mu=100,\\ \\sigma=15$')\n",
        "ax.set_xlabel('x')\n",
        "ax.set_ylabel('freq')\n",
        "fig.show()\n",
        "\n",
        "#gla histogram\n",
        "fig = plt.figure()\n",
        "ax = fig.add_subplot(1,1,1)\n",
        "\n",
        "ax.hist(gla_age, bins=50)\n",
        "ax.set_title('Glaucoma histogram $\\mu=100,\\ \\sigma=15$')\n",
        "ax.set_xlabel('x')\n",
        "ax.set_ylabel('freq')\n",
        "fig.show()\n",
        "\n",
        "\n",
        "print(\"\")\n",
        "#Welchのt検定\n",
        "stats.ttest_ind(cont_age, gla_age, equal_var=False)"
      ],
      "execution_count": 131,
      "outputs": [
        {
          "output_type": "stream",
          "name": "stdout",
          "text": [
            "cont\n",
            "n=693\n",
            "max: 0\n",
            "min: 10\n",
            "median: 3\n",
            "mean: 3.533910533910534\n",
            "sd: 2.7036832890049025\n",
            "\n",
            "gla_init\n",
            "n=35\n",
            "max: 0\n",
            "min: 9\n",
            "median: 0\n",
            "mean: 1.4\n",
            "sd: 2.6479736981100004\n",
            "\n",
            "gla\n",
            "n=231\n",
            "max: 0\n",
            "min: 10\n",
            "median: 3\n",
            "mean: 3.705627705627706\n",
            "sd: 2.86506899832135\n",
            "\n"
          ]
        },
        {
          "output_type": "execute_result",
          "data": {
            "text/plain": [
              "Ttest_indResult(statistic=-0.7999110313892439, pvalue=0.42426767892519157)"
            ]
          },
          "metadata": {},
          "execution_count": 131
        },
        {
          "output_type": "display_data",
          "data": {
            "text/plain": [
              "<Figure size 432x288 with 1 Axes>"
            ],
            "image/png": "[encoded data removed]"
          },
          "metadata": {
            "needs_background": "light"
          }
        },
        {
          "output_type": "display_data",
          "data": {
            "text/plain": [
              "<Figure size 432x288 with 1 Axes>"
            ],
            "image/png": "[encoded data removed]"
          },
          "metadata": {
            "needs_background": "light"
          }
        }
      ]
    },
    {
      "cell_type": "markdown",
      "source": [
        "#**Statistics for Gender**"
      ],
      "metadata": {
        "id": "n5QtqpptjZPl"
      }
    },
    {
      "cell_type": "code",
      "metadata": {
        "id": "itZhwpM7_NCO",
        "colab": {
          "base_uri": "https://localhost:8080/"
        },
        "outputId": "1240095e-f245-4a08-a34a-132ce543bcf2"
      },
      "source": [
        "def per_image(sex_list, img_num):\n",
        "    dst_list = sex_list\n",
        "    while len(dst_list) < img_num:\n",
        "        rand = random.choice(dst_list)\n",
        "        dst_list.append(rand)\n",
        "    return dst_list\n",
        "\n",
        "random.seed(12)\n",
        "\n",
        "print(\"cont\")\n",
        "cont_sex = df_cont.iloc[:,4].tolist() #年齢は3列目を参照する\n",
        "cont_sex = per_image(cont_sex, 693)\n",
        "cont_male = sum(1 for i in cont_sex if i == \"Male\") \n",
        "cont_female = sum(1 for i in cont_sex if i == \"Female\") \n",
        "print(cont_male, cont_female)\n",
        "\n",
        "print(\"gla_patient\")\n",
        "gla_sex = df_gla.iloc[:,4].tolist() #年齢は3列目を参照する\n",
        "gla_male_patient = sum(1 for i in gla_sex if i == \"Male\") \n",
        "gla_female_patient = sum(1 for i in gla_sex if i == \"Female\") \n",
        "print(gla_male_patient, gla_female_patient)\n",
        "\n",
        "print(\"gla\")\n",
        "gla_sex = df_gla.iloc[:,4].tolist() #年齢は3列目を参照する\n",
        "gla_sex = per_image(gla_sex, 231)\n",
        "gla_male = sum(1 for i in gla_sex if i == \"Male\") \n",
        "gla_female = sum(1 for i in gla_sex if i == \"Female\") \n",
        "print(gla_male, gla_female)\n",
        "\n",
        "\n",
        "#クロス集計表 -> chi square test\n",
        "df_cross = pd.DataFrame(\n",
        "    [[cont_male,cont_female],[gla_male,gla_female]],\n",
        "    index=['Cont', 'Gla'],\n",
        "    columns=['Male', 'Female']\n",
        ")\n",
        "\n",
        "chi2, p, dof, ef =  stats.chi2_contingency(df_cross, correction=False)\n",
        "chi2, p, dof, ef\n",
        "print(\"chi統計量: {}\".format(chi2))\n",
        "print(\"p_value: {}\".format(p))\n",
        "print(\"自由度: {}\".format(dof))\n",
        "print(\"期待度数: {}\".format(ef))\n",
        "\n"
      ],
      "execution_count": 132,
      "outputs": [
        {
          "output_type": "stream",
          "name": "stdout",
          "text": [
            "cont\n",
            "339 354\n",
            "gla_patient\n",
            "18 17\n",
            "gla\n",
            "121 110\n",
            "chi統計量: 0.8311844077961019\n",
            "p_value: 0.361930268613849\n",
            "自由度: 1\n",
            "期待度数: [[345. 348.]\n",
            " [115. 116.]]\n"
          ]
        }
      ]
    },
    {
      "cell_type": "markdown",
      "source": [
        "#**Stastistics for strabismus**"
      ],
      "metadata": {
        "id": "VOx5XKfF75zE"
      }
    },
    {
      "cell_type": "code",
      "source": [
        "\n",
        "#クロス集計表 -> chi square test\n",
        "df_cross = pd.DataFrame(\n",
        "    [[20,60],[129,387],[82,246]],\n",
        "    index=['Eso', 'Ortho', 'Exo'],\n",
        "    columns=['Glaucoma', 'Control']\n",
        ")\n",
        "\n",
        "chi2, p, dof, ef =  stats.chi2_contingency(df_cross, correction=False)\n",
        "chi2, p, dof, ef\n",
        "print(\"chi統計量: {}\".format(chi2))\n",
        "print(\"p_value: {}\".format(p))\n",
        "print(\"自由度: {}\".format(dof))\n",
        "print(\"期待度数: {}\".format(ef))"
      ],
      "metadata": {
        "id": "9jb5cEi7MxUF",
        "outputId": "4ad35f32-58f2-4835-d3b4-ec604dc51095",
        "colab": {
          "base_uri": "https://localhost:8080/"
        }
      },
      "execution_count": 133,
      "outputs": [
        {
          "output_type": "stream",
          "name": "stdout",
          "text": [
            "chi統計量: 0.0\n",
            "p_value: 1.0\n",
            "自由度: 2\n",
            "期待度数: [[ 20.  60.]\n",
            " [129. 387.]\n",
            " [ 82. 246.]]\n"
          ]
        }
      ]
    }
  ]
}