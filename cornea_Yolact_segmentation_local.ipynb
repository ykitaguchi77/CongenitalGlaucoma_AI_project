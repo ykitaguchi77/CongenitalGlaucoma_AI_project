{
  "nbformat": 4,
  "nbformat_minor": 0,
  "metadata": {
    "colab": {
      "provenance": [],
      "machine_shape": "hm",
      "authorship_tag": "ABX9TyM61vkH9BkDEwQSfBW4cHRM",
      "include_colab_link": true
    },
    "kernelspec": {
      "name": "python3",
      "display_name": "Python 3"
    },
    "language_info": {
      "name": "python"
    },
    "accelerator": "GPU",
    "gpuClass": "standard"
  },
  "cells": [
    {
      "cell_type": "markdown",
      "metadata": {
        "id": "view-in-github",
        "colab_type": "text"
      },
      "source": [
        "<a href=\"https://colab.research.google.com/github/ykitaguchi77/CongenitalGlaucoma_AI_project/blob/main/cornea_Yolact_segmentation_local.ipynb\" target=\"_parent\"><img src=\"https://colab.research.google.com/assets/colab-badge.svg\" alt=\"Open In Colab\"/></a>"
      ]
    },
    {
      "cell_type": "markdown",
      "source": [
        "#**Yolact_cornea_ellipse_segmentation**\n",
        "\n",
        "参考：https://farml1.com/yolact：："
      ],
      "metadata": {
        "id": "R6gvIhkwa-iU"
      }
    },
    {
      "cell_type": "code",
      "source": [
        "\"\"\"\n",
        "glaucoma_cornea_ellipse_coco/\n",
        "├── annotations/\n",
        "│   ├── instances_default.json  # COCO形式のアノテーションファイル\n",
        "│\n",
        "└── images/\n",
        "    ├── 0-1.jpg  # 画像ファイル\n",
        "    ├── 1-0.jpg\n",
        "    ├── 2-1.jpg\n",
        "    ├── ...\n",
        "\n",
        "\"\"\""
      ],
      "metadata": {
        "id": "Xp5WO5xkcWwS"
      },
      "execution_count": null,
      "outputs": []
    },
    {
      "cell_type": "code",
      "execution_count": 18,
      "metadata": {
        "colab": {
          "base_uri": "https://localhost:8080/"
        },
        "id": "YUrzvRgWY42d",
        "outputId": "bca02546-f7fe-4c79-bf86-8421d890e48e"
      },
      "outputs": [
        {
          "output_type": "stream",
          "name": "stdout",
          "text": [
            "Requirement already satisfied: cython in c:\\users\\ykita\\appdata\\local\\programs\\python\\python38\\lib\\site-packages (0.29.33)\n"
          ]
        },
        {
          "output_type": "stream",
          "name": "stderr",
          "text": [
            "\n",
            "[notice] A new release of pip is available: 23.0 -> 23.0.1\n",
            "[notice] To update, run: python.exe -m pip install --upgrade pip\n"
          ]
        },
        {
          "output_type": "stream",
          "name": "stdout",
          "text": [
            "Requirement already satisfied: opencv-python in c:\\users\\ykita\\appdata\\local\\programs\\python\\python38\\lib\\site-packages (4.5.5.62)\n",
            "Requirement already satisfied: pillow in c:\\users\\ykita\\appdata\\local\\programs\\python\\python38\\lib\\site-packages (9.0.0)\n",
            "Collecting pycocotools\n",
            "  Using cached pycocotools-2.0.6.tar.gz (24 kB)\n",
            "  Installing build dependencies: started\n",
            "  Installing build dependencies: finished with status 'done'\n",
            "  Getting requirements to build wheel: started\n",
            "  Getting requirements to build wheel: finished with status 'done'\n",
            "  Preparing metadata (pyproject.toml): started\n",
            "  Preparing metadata (pyproject.toml): finished with status 'done'\n",
            "Requirement already satisfied: matplotlib in c:\\users\\ykita\\appdata\\local\\programs\\python\\python38\\lib\\site-packages (3.5.1)\n",
            "Requirement already satisfied: numpy>=1.17.3 in c:\\users\\ykita\\appdata\\local\\programs\\python\\python38\\lib\\site-packages (from opencv-python) (1.22.1)\n",
            "Requirement already satisfied: cycler>=0.10 in c:\\users\\ykita\\appdata\\local\\programs\\python\\python38\\lib\\site-packages (from matplotlib) (0.11.0)\n",
            "Requirement already satisfied: fonttools>=4.22.0 in c:\\users\\ykita\\appdata\\local\\programs\\python\\python38\\lib\\site-packages (from matplotlib) (4.29.0)\n",
            "Requirement already satisfied: kiwisolver>=1.0.1 in c:\\users\\ykita\\appdata\\local\\programs\\python\\python38\\lib\\site-packages (from matplotlib) (1.3.2)\n",
            "Requirement already satisfied: packaging>=20.0 in c:\\users\\ykita\\appdata\\local\\programs\\python\\python38\\lib\\site-packages (from matplotlib) (21.3)\n",
            "Requirement already satisfied: python-dateutil>=2.7 in c:\\users\\ykita\\appdata\\local\\programs\\python\\python38\\lib\\site-packages (from matplotlib) (2.8.2)\n",
            "Requirement already satisfied: pyparsing>=2.2.1 in c:\\users\\ykita\\appdata\\local\\programs\\python\\python38\\lib\\site-packages (from matplotlib) (3.0.7)\n",
            "Requirement already satisfied: six>=1.5 in c:\\users\\ykita\\appdata\\local\\programs\\python\\python38\\lib\\site-packages (from python-dateutil>=2.7->matplotlib) (1.16.0)\n",
            "Building wheels for collected packages: pycocotools\n",
            "  Building wheel for pycocotools (pyproject.toml): started\n",
            "  Building wheel for pycocotools (pyproject.toml): finished with status 'error'\n",
            "Failed to build pycocotools\n"
          ]
        },
        {
          "output_type": "stream",
          "name": "stderr",
          "text": [
            "  error: subprocess-exited-with-error\n",
            "  \n",
            "  Building wheel for pycocotools (pyproject.toml) did not run successfully.\n",
            "  exit code: 1\n",
            "  \n",
            "  [16 lines of output]\n",
            "  running bdist_wheel\n",
            "  running build\n",
            "  running build_py\n",
            "  creating build\n",
            "  creating build\\lib.win-amd64-cpython-38\n",
            "  creating build\\lib.win-amd64-cpython-38\\pycocotools\n",
            "  copying pycocotools\\coco.py -> build\\lib.win-amd64-cpython-38\\pycocotools\n",
            "  copying pycocotools\\cocoeval.py -> build\\lib.win-amd64-cpython-38\\pycocotools\n",
            "  copying pycocotools\\mask.py -> build\\lib.win-amd64-cpython-38\\pycocotools\n",
            "  copying pycocotools\\__init__.py -> build\\lib.win-amd64-cpython-38\\pycocotools\n",
            "  running build_ext\n",
            "  cythoning pycocotools/_mask.pyx to pycocotools\\_mask.c\n",
            "  building 'pycocotools._mask' extension\n",
            "  C:\\Users\\ykita\\AppData\\Local\\Temp\\pip-build-env-cdzsu1wq\\overlay\\Lib\\site-packages\\Cython\\Compiler\\Main.py:369: FutureWarning: Cython directive 'language_level' not set, using 2 for now (Py2). This will change in a later release! File: C:\\Users\\ykita\\AppData\\Local\\Temp\\pip-install-gxabxtik\\pycocotools_6fe2d766bcbc4d0cb1154fd593057648\\pycocotools\\_mask.pyx\n",
            "    tree = Parsing.p_module(s, pxd, full_module_name)\n",
            "  error: Microsoft Visual C++ 14.0 or greater is required. Get it with \"Microsoft C++ Build Tools\": https://visualstudio.microsoft.com/visual-cpp-build-tools/\n",
            "  [end of output]\n",
            "  \n",
            "  note: This error originates from a subprocess, and is likely not a problem with pip.\n",
            "  ERROR: Failed building wheel for pycocotools\n",
            "ERROR: Could not build wheels for pycocotools, which is required to install pyproject.toml-based projects\n",
            "\n",
            "[notice] A new release of pip is available: 23.0 -> 23.0.1\n",
            "[notice] To update, run: python.exe -m pip install --upgrade pip\n"
          ]
        },
        {
          "output_type": "stream",
          "name": "stdout",
          "text": [
            "Requirement already satisfied: torchvision in c:\\users\\ykita\\appdata\\local\\programs\\python\\python38\\lib\\site-packages (0.8.2+cu110)"
          ]
        },
        {
          "output_type": "stream",
          "name": "stderr",
          "text": [
            "\n",
            "[notice] A new release of pip is available: 23.0 -> 23.0.1\n",
            "[notice] To update, run: python.exe -m pip install --upgrade pip\n"
          ]
        },
        {
          "output_type": "stream",
          "name": "stdout",
          "text": [
            "\n",
            "Requirement already satisfied: torch==1.7.1 in c:\\users\\ykita\\appdata\\local\\programs\\python\\python38\\lib\\site-packages (from torchvision) (1.7.1+cu110)\n",
            "Requirement already satisfied: numpy in c:\\users\\ykita\\appdata\\local\\programs\\python\\python38\\lib\\site-packages (from torchvision) (1.22.1)\n",
            "Requirement already satisfied: pillow>=4.1.1 in c:\\users\\ykita\\appdata\\local\\programs\\python\\python38\\lib\\site-packages (from torchvision) (9.0.0)\n",
            "Requirement already satisfied: typing-extensions in c:\\users\\ykita\\appdata\\local\\programs\\python\\python38\\lib\\site-packages (from torch==1.7.1->torchvision) (4.0.1)\n",
            "Requirement already satisfied: torch in c:\\users\\ykita\\appdata\\local\\programs\\python\\python38\\lib\\site-packages (1.7.1+cu110)\n",
            "Requirement already satisfied: typing-extensions in c:\\users\\ykita\\appdata\\local\\programs\\python\\python38\\lib\\site-packages (from torch) (4.0.1)\n",
            "Requirement already satisfied: numpy in c:\\users\\ykita\\appdata\\local\\programs\\python\\python38\\lib\\site-packages (from torch) (1.22.1)\n"
          ]
        },
        {
          "output_type": "stream",
          "name": "stderr",
          "text": [
            "\n",
            "[notice] A new release of pip is available: 23.0 -> 23.0.1\n",
            "[notice] To update, run: python.exe -m pip install --upgrade pip\n"
          ]
        }
      ],
      "source": [
        "!pip install cython\n",
        "!pip install opencv-python pillow pycocotools matplotlib\n",
        "!pip install torchvision\n",
        "!pip install torch"
      ]
    },
    {
      "cell_type": "code",
      "source": [
        "%cd \"F:\\先天性緑内障\"\n",
        "!git clone https://github.com/dbolya/yolact.git"
      ],
      "metadata": {
        "colab": {
          "base_uri": "https://localhost:8080/"
        },
        "id": "zk0SKqlYaA5V",
        "outputId": "f6490768-35d3-4b50-88a7-6c2727b72a4f"
      },
      "execution_count": 9,
      "outputs": [
        {
          "output_type": "stream",
          "name": "stdout",
          "text": [
            "F:\\先天性緑内障\n"
          ]
        },
        {
          "output_type": "stream",
          "name": "stderr",
          "text": [
            "Cloning into 'yolact'...\n"
          ]
        }
      ]
    },
    {
      "cell_type": "markdown",
      "source": [
        "#**学習のためフォルダを整理**"
      ],
      "metadata": {
        "id": "vSH3mFUCuTW7"
      }
    },
    {
      "cell_type": "code",
      "source": [
        "\"\"\"\n",
        "# 画像をtrainとvalに分ける\n",
        "\"\"\"\n",
        "\n",
        "import os\n",
        "import random\n",
        "import shutil\n",
        "\n",
        "# 画像フォルダと分割先のフォルダを指定\n",
        "image_folder = \"F:/先天性緑内障/glaucoma_cornea_ellipse_coco/images\"\n",
        "train_folder = \"F:/先天性緑内障/glaucoma_cornea_ellipse_coco_train/images/train\"\n",
        "val_folder = \"F:/先天性緑内障/glaucoma_cornea_ellipse_coco_train/images/val\"\n",
        "\n",
        "# フォルダを作成\n",
        "if os.path.exists(train_folder):\n",
        "    shutil.rmtree(train_folder) \n",
        "os.makedirs(train_folder, exist_ok=True)\n",
        "\n",
        "if os.path.exists(val_folder):\n",
        "    shutil.rmtree(val_folder) \n",
        "os.makedirs(val_folder, exist_ok=True)\n",
        "\n",
        "# 画像フォルダ内の画像ファイルを取得\n",
        "image_files = os.listdir(image_folder)\n",
        "random.Random(1).shuffle(image_files)  # ランダムシードを1に設定してシャッフル\n",
        "\n",
        "# 7:3に分割\n",
        "train_size = int(len(image_files) * 0.7)\n",
        "train_files = image_files[:train_size]\n",
        "val_files = image_files[train_size:]\n",
        "\n",
        "# 画像ファイルをコピー\n",
        "for file in train_files:\n",
        "    src = os.path.join(image_folder, file)\n",
        "    dst = os.path.join(train_folder, file)\n",
        "    shutil.copy(src, dst)\n",
        "\n",
        "for file in val_files:\n",
        "    src = os.path.join(image_folder, file)\n",
        "    dst = os.path.join(val_folder, file)\n",
        "    shutil.copy(src, dst)\n"
      ],
      "metadata": {
        "id": "anGAjUIHvkuT"
      },
      "execution_count": 37,
      "outputs": []
    },
    {
      "cell_type": "code",
      "source": [
        "dataset_path = f\"F:\\先天性緑内障\\glaucoma_cornea_ellipse_coco\"\n",
        "cocojson_path = f\"{dataset_path}/annotations/instances_default.json\"\n",
        "annotatedjson_path = f\"{dataset_path}/annotations/annotated.json\""
      ],
      "metadata": {
        "id": "XpCbEk6Tfplp"
      },
      "execution_count": 36,
      "outputs": []
    },
    {
      "cell_type": "code",
      "source": [
        "\"\"\"\n",
        "# 画像のfile_nameに基づいてjsonを分割\n",
        "\"\"\"\n",
        "\n",
        "import json\n",
        "import os\n",
        "\n",
        "# トレーニングデータとバリデーションデータの画像フォルダのパス\n",
        "train_image_dir = f\"F:/先天性緑内障/glaucoma_cornea_ellipse_coco_train/images/train\"\n",
        "val_image_dir = f\"F:/先天性緑内障\\/glaucoma_cornea_ellipse_coco_train/images/val\"\n",
        "\n",
        "# COCO JSONファイルのパス\n",
        "json_file_path = f\"F:/先天性緑内障/glaucoma_cornea_ellipse_coco/annotations/instances_default.json\"\n",
        "\n",
        "# 新しいJSONファイルの保存先\n",
        "train_json_path = f\"F:/先天性緑内障/glaucoma_cornea_ellipse_coco_train/annotations/train.json\"\n",
        "val_json_path = f\"F:/先天性緑内障/glaucoma_cornea_ellipse_coco_train/annotations/val.json\"\n",
        "\n",
        "# COCO JSONファイルを読み込む\n",
        "with open(json_file_path, \"r\") as f:\n",
        "    coco_json = json.load(f)\n",
        "\n",
        "# トレーニングデータとバリデーションデータに分割する\n",
        "train_data = {\"images\": [], \"annotations\": [], \"categories\": coco_json[\"categories\"]}\n",
        "val_data = {\"images\": [], \"annotations\": [], \"categories\": coco_json[\"categories\"]}\n",
        "\n",
        "for image in coco_json[\"images\"]:\n",
        "    if os.path.exists(os.path.join(train_image_dir, image[\"file_name\"])):\n",
        "        train_data[\"images\"].append(image)\n",
        "    elif os.path.exists(os.path.join(val_image_dir, image[\"file_name\"])):\n",
        "        val_data[\"images\"].append(image)\n",
        "\n",
        "for annotation in coco_json[\"annotations\"]:\n",
        "    image_id = annotation[\"image_id\"]\n",
        "    if image_id in [image[\"id\"] for image in train_data[\"images\"]]:\n",
        "        train_data[\"annotations\"].append(annotation)\n",
        "    elif image_id in [image[\"id\"] for image in val_data[\"images\"]]:\n",
        "        val_data[\"annotations\"].append(annotation)\n",
        "\n",
        "# トレーニングデータとバリデーションデータのJSONファイルを保存する\n",
        "with open(train_json_path, \"w\") as f:\n",
        "    json.dump(train_data, f)\n",
        "\n",
        "with open(val_json_path, \"w\") as f:\n",
        "    json.dump(val_data, f)\n"
      ],
      "metadata": {
        "id": "tqycdgOU4P1_"
      },
      "execution_count": 49,
      "outputs": []
    },
    {
      "cell_type": "code",
      "source": [
        "# https://farml1.com/yolact/\n",
        "# https://qiita.com/PoodleMaster/items/70cf03c1750fb58debb1\n",
        "\n",
        "# yolact > data > config.pyの --DATASETS--の最後に以下を追加\n",
        "\n",
        "\"\"\"\n",
        "my_custom_dataset = dataset_base.copy({\n",
        "    'name': 'My Dataset',\n",
        "\n",
        "    'train_images': f\"F:/先天性緑内障/glaucoma_cornea_ellipse_coco_train/images/train\",\n",
        "    'train_info':   f\"F:/先天性緑内障/glaucoma_cornea_ellipse_coco_train/annotations/train.json\"\n",
        "\n",
        "    'valid_images': f\"F:/先天性緑内障/glaucoma_cornea_ellipse_coco_train/images/val\",\n",
        "    'valid_info':   f\"F:/先天性緑内障/glaucoma_cornea_ellipse_coco_train/annotations/val.json\",\n",
        "\n",
        "    'has_gt': True,\n",
        "\n",
        "    # jsonの[categories]-[name]を参照して設定すること\n",
        "    'class_names': ('corneal margin')\n",
        "})\n",
        "\n",
        "\n",
        "\"\"\"\n",
        "\n",
        "\n",
        "#yolact > data > config.pyの --YOLACT v1.0 CONFIGS-- を以下に示すようにcoco2017をmy_customへ書き換え\n",
        "\n",
        "\"\"\"\n",
        "    # Dataset stuff\n",
        "    'dataset': coco2017_dataset,\n",
        "    'num_classes': len(coco2017_dataset.class_names) + 1,\n",
        "    ↓\n",
        "    # Dataset stuff\n",
        "    'dataset': my_custom_dataset,\n",
        "    'num_classes': len(my_custom_dataset.class_names) + 1,\n",
        "\"\"\""
      ],
      "metadata": {
        "colab": {
          "base_uri": "https://localhost:8080/"
        },
        "id": "xRxQMbkvxui8",
        "outputId": "b5fcde96-1f26-4dca-eb04-f51e18422140"
      },
      "execution_count": 53,
      "outputs": [
        {
          "output_type": "execute_result",
          "data": {
            "text/plain": [
              "\"\\n    # Dataset stuff\\n    'dataset': coco2017_dataset,\\n    'num_classes': len(coco2017_dataset.class_names) + 1,\\n    ↓\\n    # Dataset stuff\\n    'dataset': my_custom_dataset,\\n    'num_classes': len(my_custom_dataset.class_names) + 1,\\n\""
            ]
          },
          "metadata": {},
          "execution_count": 53
        }
      ]
    },
    {
      "cell_type": "code",
      "source": [
        "\"\"\"\n",
        "YOLACTのGithubの中段Evaluationの表にある「yolact_base_54_800000.pth」をダウンロード\n",
        "ダウンロードした事前学習済みデータは、yolact/weightsディレクトリ下へ格納\n",
        "\"\"\""
      ],
      "metadata": {
        "id": "nDT4Pf0QMrNm"
      },
      "execution_count": null,
      "outputs": []
    },
    {
      "cell_type": "code",
      "source": [
        "yolact_path = f\"F:/先天性緑内障/yolact\"\n",
        "\n",
        "!cd $yolact_path #ご自身の環境で作業ディレクトリへ移動してください。\n",
        "!python train.py --config yolact_base_config --resume weights/yolact_base_54_800000.pth --start_iter 0 --batch_size 8 --num_workers 0 --validation_epoch -1"
      ],
      "metadata": {
        "colab": {
          "base_uri": "https://localhost:8080/"
        },
        "id": "p9j1cP6kBkPs",
        "outputId": "cd8e7664-f449-439b-c2cf-cf46f70506a7"
      },
      "execution_count": 62,
      "outputs": [
        {
          "output_type": "stream",
          "name": "stderr",
          "text": [
            "指定されたパスが見つかりません。\n",
            "Traceback (most recent call last):\n",
            "  File \"train.py\", line 1, in <module>\n",
            "    from data import *\n",
            "  File \"F:\\先天性緑内障\\yolact\\data\\__init__.py\", line 2, in <module>\n",
            "    from .coco import *\n",
            "  File \"F:\\先天性緑内障\\yolact\\data\\coco.py\", line 10, in <module>\n",
            "    from pycocotools import mask as maskUtils\n",
            "ModuleNotFoundError: No module named 'pycocotools'\n"
          ]
        }
      ]
    },
    {
      "cell_type": "code",
      "source": [
        "!pip install cython\n",
        "!pip install git+https://github.com/waleedka/coco.git#subdirectory=PythonAPI\n",
        "\n"
      ],
      "metadata": {
        "colab": {
          "base_uri": "https://localhost:8080/"
        },
        "id": "gzCOpcf251iy",
        "outputId": "8f778b5f-5785-4951-9b4a-7d541f1f4a72"
      },
      "execution_count": 67,
      "outputs": [
        {
          "output_type": "stream",
          "name": "stdout",
          "text": [
            "Requirement already satisfied: cython in c:\\users\\ykita\\appdata\\local\\programs\\python\\python38\\lib\\site-packages (0.29.33)\n"
          ]
        },
        {
          "output_type": "stream",
          "name": "stderr",
          "text": [
            "\n",
            "[notice] A new release of pip is available: 23.0 -> 23.0.1\n",
            "[notice] To update, run: python.exe -m pip install --upgrade pip\n"
          ]
        },
        {
          "output_type": "stream",
          "name": "stdout",
          "text": [
            "Collecting git+https://github.com/waleedka/coco.git#subdirectory=PythonAPI\n",
            "  Cloning https://github.com/waleedka/coco.git to c:\\users\\ykita\\appdata\\local\\temp\\pip-req-build-i2xvc_vy\n",
            "  Resolved https://github.com/waleedka/coco.git to commit f83e9552d4ca57e15a16dca2efe3dcd80693358a\n",
            "  Preparing metadata (setup.py): started\n",
            "  Preparing metadata (setup.py): finished with status 'done'\n",
            "Building wheels for collected packages: pycocotools\n",
            "  Building wheel for pycocotools (setup.py): started\n",
            "  Building wheel for pycocotools (setup.py): finished with status 'error'\n",
            "  Running setup.py clean for pycocotools\n",
            "Failed to build pycocotools\n",
            "Installing collected packages: pycocotools\n",
            "  Running setup.py install for pycocotools: started\n",
            "  Running setup.py install for pycocotools: finished with status 'error'\n"
          ]
        },
        {
          "output_type": "stream",
          "name": "stderr",
          "text": [
            "  Running command git clone --filter=blob:none --quiet https://github.com/waleedka/coco.git 'C:\\Users\\ykita\\AppData\\Local\\Temp\\pip-req-build-i2xvc_vy'\n",
            "  error: subprocess-exited-with-error\n",
            "  \n",
            "  python setup.py bdist_wheel did not run successfully.\n",
            "  exit code: 1\n",
            "  \n",
            "  [13 lines of output]\n",
            "  running bdist_wheel\n",
            "  running build\n",
            "  running build_py\n",
            "  creating build\n",
            "  creating build\\lib.win-amd64-cpython-38\n",
            "  creating build\\lib.win-amd64-cpython-38\\pycocotools\n",
            "  copying pycocotools\\coco.py -> build\\lib.win-amd64-cpython-38\\pycocotools\n",
            "  copying pycocotools\\cocoeval.py -> build\\lib.win-amd64-cpython-38\\pycocotools\n",
            "  copying pycocotools\\mask.py -> build\\lib.win-amd64-cpython-38\\pycocotools\n",
            "  copying pycocotools\\__init__.py -> build\\lib.win-amd64-cpython-38\\pycocotools\n",
            "  running build_ext\n",
            "  building 'pycocotools._mask' extension\n",
            "  error: Microsoft Visual C++ 14.0 or greater is required. Get it with \"Microsoft C++ Build Tools\": https://visualstudio.microsoft.com/visual-cpp-build-tools/\n",
            "  [end of output]\n",
            "  \n",
            "  note: This error originates from a subprocess, and is likely not a problem with pip.\n",
            "  ERROR: Failed building wheel for pycocotools\n",
            "  error: subprocess-exited-with-error\n",
            "  \n",
            "  python setup.py clean did not run successfully.\n",
            "  exit code: 1\n",
            "  \n",
            "  [12 lines of output]\n",
            "  Traceback (most recent call last):\n",
            "    File \"<string>\", line 2, in <module>\n",
            "    File \"<pip-setuptools-caller>\", line 34, in <module>\n",
            "    File \"C:\\Users\\ykita\\AppData\\Local\\Temp\\pip-req-build-i2xvc_vy\\PythonAPI\\setup.py\", line 23, in <module>\n",
            "      cythonize(ext_modules)\n",
            "    File \"C:\\Users\\ykita\\AppData\\Local\\Programs\\Python\\Python38\\lib\\site-packages\\Cython\\Build\\Dependencies.py\", line 970, in cythonize\n",
            "      module_list, module_metadata = create_extension_list(\n",
            "    File \"C:\\Users\\ykita\\AppData\\Local\\Programs\\Python\\Python38\\lib\\site-packages\\Cython\\Build\\Dependencies.py\", line 816, in create_extension_list\n",
            "      for file in nonempty(sorted(extended_iglob(filepattern)), \"'%s' doesn't match any files\" % filepattern):\n",
            "    File \"C:\\Users\\ykita\\AppData\\Local\\Programs\\Python\\Python38\\lib\\site-packages\\Cython\\Build\\Dependencies.py\", line 114, in nonempty\n",
            "      raise ValueError(error_msg)\n",
            "  ValueError: 'pycocotools/_mask.pyx' doesn't match any files\n",
            "  [end of output]\n",
            "  \n",
            "  note: This error originates from a subprocess, and is likely not a problem with pip.\n",
            "  ERROR: Failed cleaning build dir for pycocotools\n",
            "  error: subprocess-exited-with-error\n",
            "  \n",
            "  Running setup.py install for pycocotools did not run successfully.\n",
            "  exit code: 1\n",
            "  \n",
            "  [8 lines of output]\n",
            "  running install\n",
            "  C:\\Users\\ykita\\AppData\\Local\\Programs\\Python\\Python38\\lib\\site-packages\\setuptools\\command\\install.py:34: SetuptoolsDeprecationWarning: setup.py install is deprecated. Use build and pip and other standards-based tools.\n",
            "    warnings.warn(\n",
            "  running build\n",
            "  running build_py\n",
            "  running build_ext\n",
            "  building 'pycocotools._mask' extension\n",
            "  error: Microsoft Visual C++ 14.0 or greater is required. Get it with \"Microsoft C++ Build Tools\": https://visualstudio.microsoft.com/visual-cpp-build-tools/\n",
            "  [end of output]\n",
            "  \n",
            "  note: This error originates from a subprocess, and is likely not a problem with pip.\n",
            "error: legacy-install-failure\n",
            "\n",
            "Encountered error while trying to install package.\n",
            "\n",
            "pycocotools\n",
            "\n",
            "note: This is an issue with the package mentioned above, not pip.\n",
            "hint: See above for output from the failure.\n",
            "\n",
            "[notice] A new release of pip is available: 23.0 -> 23.0.1\n",
            "[notice] To update, run: python.exe -m pip install --upgrade pip\n"
          ]
        }
      ]
    },
    {
      "cell_type": "code",
      "source": [
        "!pip install wheel setuptools pip --upgrade\n",
        "!pip3 install wheel setuptools pip --upgrade"
      ],
      "metadata": {
        "colab": {
          "base_uri": "https://localhost:8080/"
        },
        "id": "kEWnE59WMQS-",
        "outputId": "cc1822a3-2b73-409e-af0e-dd99ecb64fbd"
      },
      "execution_count": 65,
      "outputs": [
        {
          "output_type": "stream",
          "name": "stdout",
          "text": [
            "Requirement already satisfied: wheel in c:\\users\\ykita\\appdata\\local\\programs\\python\\python38\\lib\\site-packages (0.38.4)\n",
            "Requirement already satisfied: setuptools in c:\\users\\ykita\\appdata\\local\\programs\\python\\python38\\lib\\site-packages (63.2.0)\n",
            "Collecting setuptools\n",
            "  Using cached setuptools-67.3.3-py3-none-any.whl (1.1 MB)\n",
            "Requirement already satisfied: pip in c:\\users\\ykita\\appdata\\local\\programs\\python\\python38\\lib\\site-packages (23.0)\n",
            "Collecting pip\n",
            "  Downloading pip-23.0.1-py3-none-any.whl (2.1 MB)\n",
            "     ---------------------------------------- 2.1/2.1 MB 7.7 MB/s eta 0:00:00\n"
          ]
        },
        {
          "output_type": "stream",
          "name": "stderr",
          "text": [
            "ERROR: To modify pip, please run the following command:\n",
            "C:\\Users\\ykita\\AppData\\Local\\Programs\\Python\\Python38\\python.exe -m pip install wheel setuptools pip --upgrade\n",
            "\n",
            "[notice] A new release of pip is available: 23.0 -> 23.0.1\n",
            "[notice] To update, run: python.exe -m pip install --upgrade pip\n"
          ]
        },
        {
          "output_type": "stream",
          "name": "stdout",
          "text": [
            "Requirement already satisfied: wheel in c:\\users\\ykita\\appdata\\local\\programs\\python\\python38\\lib\\site-packages (0.38.4)\n",
            "Requirement already satisfied: setuptools in c:\\users\\ykita\\appdata\\local\\programs\\python\\python38\\lib\\site-packages (63.2.0)\n",
            "Collecting setuptools\n",
            "  Using cached setuptools-67.3.3-py3-none-any.whl (1.1 MB)\n",
            "Requirement already satisfied: pip in c:\\users\\ykita\\appdata\\local\\programs\\python\\python38\\lib\\site-packages (23.0)\n",
            "Collecting pip\n",
            "  Using cached pip-23.0.1-py3-none-any.whl (2.1 MB)\n"
          ]
        },
        {
          "output_type": "stream",
          "name": "stderr",
          "text": [
            "ERROR: To modify pip, please run the following command:\n",
            "C:\\Users\\ykita\\AppData\\Local\\Programs\\Python\\Python38\\python.exe -m pip install wheel setuptools pip --upgrade\n",
            "\n",
            "[notice] A new release of pip is available: 23.0 -> 23.0.1\n",
            "[notice] To update, run: python.exe -m pip install --upgrade pip\n"
          ]
        }
      ]
    },
    {
      "cell_type": "code",
      "source": [
        "!pip install numpy --use-deprecated=legacy-resolver\n",
        "!pip3 install numpy --use-deprecated=legacy-resolver"
      ],
      "metadata": {
        "colab": {
          "base_uri": "https://localhost:8080/"
        },
        "id": "djRWS1I1OW5Y",
        "outputId": "a08737d4-1d9d-460f-a9b3-f6fa6d837d3a"
      },
      "execution_count": 66,
      "outputs": [
        {
          "output_type": "stream",
          "name": "stdout",
          "text": [
            "Requirement already satisfied: numpy in c:\\users\\ykita\\appdata\\local\\programs\\python\\python38\\lib\\site-packages (1.22.1)\n"
          ]
        },
        {
          "output_type": "stream",
          "name": "stderr",
          "text": [
            "\n",
            "[notice] A new release of pip is available: 23.0 -> 23.0.1\n",
            "[notice] To update, run: python.exe -m pip install --upgrade pip\n"
          ]
        },
        {
          "output_type": "stream",
          "name": "stdout",
          "text": [
            "Requirement already satisfied: numpy in c:\\users\\ykita\\appdata\\local\\programs\\python\\python38\\lib\\site-packages (1.22.1)\n"
          ]
        },
        {
          "output_type": "stream",
          "name": "stderr",
          "text": [
            "\n",
            "[notice] A new release of pip is available: 23.0 -> 23.0.1\n",
            "[notice] To update, run: python.exe -m pip install --upgrade pip\n"
          ]
        }
      ]
    }
  ]
}