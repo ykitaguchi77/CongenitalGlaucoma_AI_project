{
  "nbformat": 4,
  "nbformat_minor": 0,
  "metadata": {
    "colab": {
      "name": "Untitled115.ipynb",
      "provenance": [],
      "authorship_tag": "ABX9TyN8oQpmFX+TvM7e5E68hK0/",
      "include_colab_link": true
    },
    "kernelspec": {
      "name": "python3",
      "display_name": "Python 3"
    },
    "language_info": {
      "name": "python"
    }
  },
  "cells": [
    {
      "cell_type": "markdown",
      "metadata": {
        "id": "view-in-github",
        "colab_type": "text"
      },
      "source": [
        "<a href=\"https://colab.research.google.com/github/ykitaguchi77/CongenitalGlaucoma_AI_project/blob/main/count_images_from_dataset.ipynb\" target=\"_parent\"><img src=\"https://colab.research.google.com/assets/colab-badge.svg\" alt=\"Open In Colab\"/></a>"
      ]
    },
    {
      "cell_type": "code",
      "source": [
        "import pandas as pd\n",
        "import codecs\n",
        "import os\n",
        "import glob"
      ],
      "metadata": {
        "id": "rrvYMmwx5qsU"
      },
      "execution_count": 53,
      "outputs": []
    },
    {
      "cell_type": "code",
      "execution_count": 56,
      "metadata": {
        "colab": {
          "base_uri": "https://localhost:8080/"
        },
        "id": "GFNSQTah5JxV",
        "outputId": "a42e45a2-c8a1-4bb4-ea87-c534eeb71e8e"
      },
      "outputs": [
        {
          "output_type": "execute_result",
          "data": {
            "text/plain": [
              "[3422,\n",
              " 1962,\n",
              " 4617,\n",
              " 5617,\n",
              " 8882,\n",
              " 8500,\n",
              " 8698,\n",
              " 8492,\n",
              " 9201,\n",
              " 713,\n",
              " 6821,\n",
              " 5862,\n",
              " 3145,\n",
              " 4580,\n",
              " 8305,\n",
              " 733,\n",
              " 8128,\n",
              " 766,\n",
              " 4245,\n",
              " 4407,\n",
              " 3229,\n",
              " 3978,\n",
              " 4738,\n",
              " 1546,\n",
              " 2761,\n",
              " 3149,\n",
              " 2906,\n",
              " 1397,\n",
              " 2004,\n",
              " 5393,\n",
              " 4377,\n",
              " 4725,\n",
              " 6552,\n",
              " 8193,\n",
              " 8246,\n",
              " 8126,\n",
              " 8294,\n",
              " 7154,\n",
              " 6668,\n",
              " 781,\n",
              " 7500,\n",
              " 9324,\n",
              " 9816,\n",
              " 1802,\n",
              " 2223,\n",
              " 5592,\n",
              " 6895,\n",
              " 4328,\n",
              " 2216,\n",
              " 5708,\n",
              " 8921,\n",
              " 5821,\n",
              " 3793,\n",
              " 4849,\n",
              " 6739,\n",
              " 375,\n",
              " 7495,\n",
              " 9773,\n",
              " 8791,\n",
              " 9056,\n",
              " 3725,\n",
              " 8425,\n",
              " 4484]"
            ]
          },
          "metadata": {},
          "execution_count": 56
        }
      ],
      "source": [
        "pd.set_option('display.max_rows', 100)\n",
        "\n",
        "#患者番号のリストを作成\n",
        "with codecs.open(r\"C:\\Users\\ykita\\OneDrive\\デスクトップ\\gla_all_list.csv\", \"r\", \"Shift-JIS\", \"ignore\") as file:\n",
        "        df = pd.read_csv(file,index_col=None, header=None)\n",
        "\n",
        "pt_list = df.loc[:,0].tolist()\n",
        "pt_list"
      ]
    },
    {
      "cell_type": "code",
      "source": [
        "#folder: 検索対象のフォルダ\n",
        "#num: 患者番号\n",
        "def count_images(folder, num):\n",
        "    num_files, num_dirs = 0, 0\n",
        "    for i in os.listdir(folder):\n",
        "        if i == str(num):\n",
        "            files = glob.glob(folder+ \"/\" + str(num) + \"/*\")\n",
        "            num_files += len(files)\n",
        "            if len(files) > 0:\n",
        "                num_dirs = 1\n",
        "    #print(num, num_files, num_dirs)\n",
        "    return num_files, num_dirs"
      ],
      "metadata": {
        "id": "Q2XF4mn36rcG"
      },
      "execution_count": 104,
      "outputs": []
    },
    {
      "cell_type": "code",
      "source": [
        "folders = [r\"F:\\眼位写真1.1\", r\"F:\\眼位写真2\\Files\", r\"F:\\眼位写真2\\Files_2\"]\n",
        "\n",
        "num_files, num_dirs = 0, 0\n",
        "pt_list_with_img = []\n",
        "pt_list_without_img = []\n",
        "\n",
        "for folder in folders:\n",
        "    print(folder)\n",
        "    for pt in pt_list:\n",
        "        #print(\"pt: \", pt)\n",
        "        files, dirs = count_images(folder, pt)\n",
        "        if dirs == 1:\n",
        "            #print(\"+\")\n",
        "            pt_list_with_img.append(pt)\n",
        "        elif dirs == 0:\n",
        "            #print(\"-\")\n",
        "            pt_list_without_img.append(pt)\n",
        "        num_files += files\n",
        "        num_dirs += dirs\n",
        "        \n",
        "print(len(pt_list))\n",
        "print(num_files)\n",
        "print(num_dirs)\n",
        "print(len(set(pt_list_with_img))) #重複を削除　\n",
        "print(len(set(pt_list_without_img))) #重複を削除"
      ],
      "metadata": {
        "colab": {
          "base_uri": "https://localhost:8080/"
        },
        "id": "Ru5F8S3L88r2",
        "outputId": "d27b904a-0e73-42d4-be97-bacc5d405e0c"
      },
      "execution_count": 113,
      "outputs": [
        {
          "output_type": "stream",
          "name": "stdout",
          "text": [
            "F:\\眼位写真1.1\n",
            "F:\\眼位写真2\\Files\n",
            "F:\\眼位写真2\\Files_2\n",
            "63\n",
            "1023\n",
            "85\n",
            "62\n",
            "63\n"
          ]
        }
      ]
    },
    {
      "cell_type": "code",
      "source": [
        "print(set(pt_list_with_img))\n",
        "print(set(pt_list_without_img))"
      ],
      "metadata": {
        "colab": {
          "base_uri": "https://localhost:8080/"
        },
        "id": "QUwNMpZ0FLDA",
        "outputId": "6fbbe293-2631-40f7-ce31-ad3e356af340"
      },
      "execution_count": 115,
      "outputs": [
        {
          "output_type": "stream",
          "name": "stdout",
          "text": [
            "{8193, 4738, 4484, 4617, 3978, 1546, 6668, 781, 1802, 3725, 5393, 4245, 6552, 4377, 3229, 6821, 2216, 1962, 8492, 9773, 2223, 8882, 8500, 8246, 4407, 5821, 8126, 8128, 7495, 713, 3145, 2761, 7500, 3149, 5708, 3793, 6739, 2004, 8791, 5592, 9816, 2906, 8921, 733, 3422, 9056, 4580, 5862, 8294, 4328, 8425, 6895, 5617, 7154, 4849, 9201, 1397, 4725, 375, 8305, 8698, 766}\n",
            "{8193, 4738, 4484, 4617, 3978, 1546, 1802, 781, 3725, 6668, 5393, 4245, 6552, 4377, 3229, 6821, 2216, 1962, 8492, 9773, 2223, 8882, 8500, 8246, 4407, 5821, 8126, 8128, 7495, 3145, 713, 2761, 5708, 3149, 7500, 3793, 6739, 2004, 8791, 9816, 8921, 5592, 2906, 733, 3422, 375, 9056, 4580, 8294, 5862, 4328, 8425, 9324, 6895, 9201, 8305, 5617, 7154, 1397, 4725, 4849, 8698, 766}\n"
          ]
        }
      ]
    },
    {
      "cell_type": "code",
      "source": [
        "\"\"\"\n",
        "62症例1023枚あった\n",
        "\n",
        "\"\"\""
      ],
      "metadata": {
        "id": "P85e_vK58-6c"
      },
      "execution_count": null,
      "outputs": []
    }
  ]
}