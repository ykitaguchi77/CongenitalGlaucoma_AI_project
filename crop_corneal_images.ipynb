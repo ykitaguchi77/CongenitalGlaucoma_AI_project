{
  "nbformat": 4,
  "nbformat_minor": 0,
  "metadata": {
    "colab": {
      "provenance": [],
      "authorship_tag": "ABX9TyPYJKnBWl2KteIeIlw7fxwd",
      "include_colab_link": true
    },
    "kernelspec": {
      "name": "python3",
      "display_name": "Python 3"
    },
    "language_info": {
      "name": "python"
    }
  },
  "cells": [
    {
      "cell_type": "markdown",
      "metadata": {
        "id": "view-in-github",
        "colab_type": "text"
      },
      "source": [
        "<a href=\"https://colab.research.google.com/github/ykitaguchi77/CongenitalGlaucoma_AI_project/blob/main/crop_corneal_images.ipynb\" target=\"_parent\"><img src=\"https://colab.research.google.com/assets/colab-badge.svg\" alt=\"Open In Colab\"/></a>"
      ]
    },
    {
      "cell_type": "markdown",
      "source": [
        "#**Extract corneal from congenital glaucoma dataset**"
      ],
      "metadata": {
        "id": "0kVovXwpbUB2"
      }
    },
    {
      "cell_type": "code",
      "execution_count": null,
      "metadata": {
        "id": "fRQLlmLSbIs8"
      },
      "outputs": [],
      "source": [
        "import glob\n",
        "import codecs\n",
        "import pandas as pd\n",
        "import os\n",
        "import cv2\n",
        "import time\n",
        "import csv\n",
        "import numpy as np\n",
        "import requests\n",
        "\n",
        "image_dir = r\"H:\\眼位写真NEW\"\n",
        "orig_image_path = glob.glob(f\"{image_dir}/*\")\n",
        "dst_image_path = r\"H:\\先天性緑内障\\dataset_periocular\"\n",
        "\n",
        "orig_csv_path = r\"H:\\先天性緑内障\\result_mobilenetv3.csv\"\n",
        "\n",
        "dst_csv_path = r\"H:\\先天性緑内障\\cropped_eye_list.csv\" \n",
        "\n",
        "# カスケードファイルのパス\n",
        "eye_cascade_path = \"haarcascade_eye.xml\" #haarcascade_eye.xmlのあるパス\n",
        "\n",
        "\n",
        "# カスケード分類器の特徴量取得\n",
        "eye_cascade = cv2.CascadeClassifier(eye_cascade_path)"
      ]
    },
    {
      "cell_type": "code",
      "source": [],
      "metadata": {
        "colab": {
          "base_uri": "https://localhost:8080/"
        },
        "id": "Q455i66YmRvG",
        "outputId": "41201891-3482-4782-9cd1-421a22ad4dab"
      },
      "execution_count": 3,
      "outputs": [
        {
          "output_type": "stream",
          "name": "stderr",
          "text": [
            "'wget' は、内部コマンドまたは外部コマンド、\n",
            "操作可能なプログラムまたはバッチ ファイルとして認識されていません。\n"
          ]
        }
      ]
    },
    {
      "cell_type": "code",
      "source": [
        "print(len(image_path))"
      ],
      "metadata": {
        "colab": {
          "base_uri": "https://localhost:8080/"
        },
        "id": "utS52J-ocQts",
        "outputId": "c1c71c1d-700c-4aee-cfda-019bddd44839"
      },
      "execution_count": 4,
      "outputs": [
        {
          "output_type": "stream",
          "name": "stdout",
          "text": [
            "79905\n"
          ]
        }
      ]
    },
    {
      "cell_type": "code",
      "source": [
        "#Open csv\n",
        "with codecs.open(orig_csv_path, \"r\", \"Shift-JIS\", \"ignore\") as file:\n",
        "        df = pd.read_csv(file, index_col=None, header=0)\n",
        "df"
      ],
      "metadata": {
        "colab": {
          "base_uri": "https://localhost:8080/",
          "height": 424
        },
        "id": "AB7yG464Ko6R",
        "outputId": "5916e508-5e08-4b31-f8f5-05af983214f6"
      },
      "execution_count": 3,
      "outputs": [
        {
          "output_type": "execute_result",
          "data": {
            "text/plain": [
              "    pt_number                                          path  fold  label  \\\n",
              "0        1546  H:\\先天性緑内障\\dataset_250px\\gla_ortho\\1546_2.jpg     0      1   \n",
              "1        1546  H:\\先天性緑内障\\dataset_250px\\gla_ortho\\1546_6.jpg     0      1   \n",
              "2        1546  H:\\先天性緑内障\\dataset_250px\\gla_ortho\\1546_7.jpg     0      1   \n",
              "3        1546  H:\\先天性緑内障\\dataset_250px\\gla_ortho\\1546_9.jpg     0      1   \n",
              "4        1962  H:\\先天性緑内障\\dataset_250px\\gla_ortho\\1962_1.jpg     0      1   \n",
              "..        ...                                           ...   ...    ...   \n",
              "915      9600     H:\\先天性緑内障\\dataset_250px\\cont_exo\\9600.jpg     4      0   \n",
              "916      9622     H:\\先天性緑内障\\dataset_250px\\cont_exo\\9622.jpg     4      0   \n",
              "917      9758     H:\\先天性緑内障\\dataset_250px\\cont_exo\\9758.jpg     4      0   \n",
              "918      9810     H:\\先天性緑内障\\dataset_250px\\cont_exo\\9810.jpg     4      0   \n",
              "919       999    H:\\先天性緑内障\\dataset_250px\\cont_exo\\999_3.jpg     4      0   \n",
              "\n",
              "     pred      prob  \n",
              "0       0  0.014977  \n",
              "1       0  0.042091  \n",
              "2       0  0.102872  \n",
              "3       0  0.178373  \n",
              "4       0  0.142860  \n",
              "..    ...       ...  \n",
              "915     0  0.008916  \n",
              "916     0  0.117579  \n",
              "917     0  0.008900  \n",
              "918     0  0.423352  \n",
              "919     0  0.037544  \n",
              "\n",
              "[920 rows x 6 columns]"
            ],
            "text/html": [
              "<div>\n",
              "<style scoped>\n",
              "    .dataframe tbody tr th:only-of-type {\n",
              "        vertical-align: middle;\n",
              "    }\n",
              "\n",
              "    .dataframe tbody tr th {\n",
              "        vertical-align: top;\n",
              "    }\n",
              "\n",
              "    .dataframe thead th {\n",
              "        text-align: right;\n",
              "    }\n",
              "</style>\n",
              "<table border=\"1\" class=\"dataframe\">\n",
              "  <thead>\n",
              "    <tr style=\"text-align: right;\">\n",
              "      <th></th>\n",
              "      <th>pt_number</th>\n",
              "      <th>path</th>\n",
              "      <th>fold</th>\n",
              "      <th>label</th>\n",
              "      <th>pred</th>\n",
              "      <th>prob</th>\n",
              "    </tr>\n",
              "  </thead>\n",
              "  <tbody>\n",
              "    <tr>\n",
              "      <th>0</th>\n",
              "      <td>1546</td>\n",
              "      <td>H:\\先天性緑内障\\dataset_250px\\gla_ortho\\1546_2.jpg</td>\n",
              "      <td>0</td>\n",
              "      <td>1</td>\n",
              "      <td>0</td>\n",
              "      <td>0.014977</td>\n",
              "    </tr>\n",
              "    <tr>\n",
              "      <th>1</th>\n",
              "      <td>1546</td>\n",
              "      <td>H:\\先天性緑内障\\dataset_250px\\gla_ortho\\1546_6.jpg</td>\n",
              "      <td>0</td>\n",
              "      <td>1</td>\n",
              "      <td>0</td>\n",
              "      <td>0.042091</td>\n",
              "    </tr>\n",
              "    <tr>\n",
              "      <th>2</th>\n",
              "      <td>1546</td>\n",
              "      <td>H:\\先天性緑内障\\dataset_250px\\gla_ortho\\1546_7.jpg</td>\n",
              "      <td>0</td>\n",
              "      <td>1</td>\n",
              "      <td>0</td>\n",
              "      <td>0.102872</td>\n",
              "    </tr>\n",
              "    <tr>\n",
              "      <th>3</th>\n",
              "      <td>1546</td>\n",
              "      <td>H:\\先天性緑内障\\dataset_250px\\gla_ortho\\1546_9.jpg</td>\n",
              "      <td>0</td>\n",
              "      <td>1</td>\n",
              "      <td>0</td>\n",
              "      <td>0.178373</td>\n",
              "    </tr>\n",
              "    <tr>\n",
              "      <th>4</th>\n",
              "      <td>1962</td>\n",
              "      <td>H:\\先天性緑内障\\dataset_250px\\gla_ortho\\1962_1.jpg</td>\n",
              "      <td>0</td>\n",
              "      <td>1</td>\n",
              "      <td>0</td>\n",
              "      <td>0.142860</td>\n",
              "    </tr>\n",
              "    <tr>\n",
              "      <th>...</th>\n",
              "      <td>...</td>\n",
              "      <td>...</td>\n",
              "      <td>...</td>\n",
              "      <td>...</td>\n",
              "      <td>...</td>\n",
              "      <td>...</td>\n",
              "    </tr>\n",
              "    <tr>\n",
              "      <th>915</th>\n",
              "      <td>9600</td>\n",
              "      <td>H:\\先天性緑内障\\dataset_250px\\cont_exo\\9600.jpg</td>\n",
              "      <td>4</td>\n",
              "      <td>0</td>\n",
              "      <td>0</td>\n",
              "      <td>0.008916</td>\n",
              "    </tr>\n",
              "    <tr>\n",
              "      <th>916</th>\n",
              "      <td>9622</td>\n",
              "      <td>H:\\先天性緑内障\\dataset_250px\\cont_exo\\9622.jpg</td>\n",
              "      <td>4</td>\n",
              "      <td>0</td>\n",
              "      <td>0</td>\n",
              "      <td>0.117579</td>\n",
              "    </tr>\n",
              "    <tr>\n",
              "      <th>917</th>\n",
              "      <td>9758</td>\n",
              "      <td>H:\\先天性緑内障\\dataset_250px\\cont_exo\\9758.jpg</td>\n",
              "      <td>4</td>\n",
              "      <td>0</td>\n",
              "      <td>0</td>\n",
              "      <td>0.008900</td>\n",
              "    </tr>\n",
              "    <tr>\n",
              "      <th>918</th>\n",
              "      <td>9810</td>\n",
              "      <td>H:\\先天性緑内障\\dataset_250px\\cont_exo\\9810.jpg</td>\n",
              "      <td>4</td>\n",
              "      <td>0</td>\n",
              "      <td>0</td>\n",
              "      <td>0.423352</td>\n",
              "    </tr>\n",
              "    <tr>\n",
              "      <th>919</th>\n",
              "      <td>999</td>\n",
              "      <td>H:\\先天性緑内障\\dataset_250px\\cont_exo\\999_3.jpg</td>\n",
              "      <td>4</td>\n",
              "      <td>0</td>\n",
              "      <td>0</td>\n",
              "      <td>0.037544</td>\n",
              "    </tr>\n",
              "  </tbody>\n",
              "</table>\n",
              "<p>920 rows × 6 columns</p>\n",
              "</div>"
            ]
          },
          "metadata": {},
          "execution_count": 3
        }
      ]
    },
    {
      "cell_type": "code",
      "source": [
        "def extract_patient_id(img_path: str)-> int:\n",
        "    id = int(os.path.basename(img_path).split(\"_\")[0].split(\"-\")[0].split(\".\")[0])\n",
        "    return id\n",
        "\n",
        "df_gla = df[df[\"label\"]==1]\n",
        "\n",
        "# Extarct patients' ID\n",
        "gla_id_list = [extract_patient_id(i) for i in df_gla[\"path\"]]\n",
        "gla_id_list = sorted(set(gla_id_list), key=int)\n",
        "print(f\"gla_pt_number: {len(gla_id_list)}\")\n",
        "print(f\"gla_image_number: {len(df_gla)}\")\n",
        "\n",
        "#該当患者の画像リスト\n",
        "gla_image_path_list = [i for i in orig_image_path if extract_patient_id(i) in gla_id_list]\n",
        "print(f\"gla_image_path_list: {len(gla_image_path_list)}\")"
      ],
      "metadata": {
        "colab": {
          "base_uri": "https://localhost:8080/"
        },
        "id": "AntpI4FrL9fI",
        "outputId": "22a02db4-700b-4b24-a2c9-b555d89e24f7"
      },
      "execution_count": 4,
      "outputs": [
        {
          "output_type": "stream",
          "name": "stdout",
          "text": [
            "gla_pt_number: 35\n",
            "gla_image_number: 230\n",
            "gla_image_path_list: 735\n"
          ]
        }
      ]
    },
    {
      "cell_type": "code",
      "source": [
        "df_cont = df[df[\"label\"]==0]\n",
        "\n",
        "# Extarct patients' ID\n",
        "cont_id_list = [extract_patient_id(i) for i in df_cont[\"path\"]]\n",
        "cont_id_list = sorted(set(cont_id_list), key=int)\n",
        "print(f\"cont_pt_number: {len(cont_id_list)}\")\n",
        "print(f\"cont_image_number: {len(df_cont)}\")\n",
        "\n",
        "#該当患者の画像リスト(同じidあたり画像1枚とする)\n",
        "cont_image_path_list = []\n",
        "append_id_list = []\n",
        "for path in orig_image_path:\n",
        "    id = extract_patient_id(path)\n",
        "    if id in cont_id_list:\n",
        "        if id not in append_id_list:\n",
        "          cont_image_path_list.append(path)\n",
        "          append_id_list.append(id)\n",
        "\n",
        "\n",
        "print(f\"cont_image_path_list: {len(cont_image_path_list)}\")"
      ],
      "metadata": {
        "colab": {
          "base_uri": "https://localhost:8080/"
        },
        "id": "VWIjj6ZoSlyQ",
        "outputId": "273f78af-b991-4cd1-d7ba-a650164288b4"
      },
      "execution_count": 5,
      "outputs": [
        {
          "output_type": "stream",
          "name": "stdout",
          "text": [
            "cont_pt_number: 674\n",
            "cont_image_number: 690\n",
            "cont_image_path_list: 674\n"
          ]
        }
      ]
    },
    {
      "cell_type": "markdown",
      "source": [
        "# **Crop periocular images**"
      ],
      "metadata": {
        "id": "wDJbw3k2bJ5v"
      }
    },
    {
      "cell_type": "code",
      "source": [
        "#処理するDirectoryの設定\n",
        "directory = gla_image_path_list + cont_image_path_list\n",
        "print(len(directory))\n",
        "\n",
        "#ここにフォルダ番号を記載する (ex. [0:999])\n",
        "processing_directory = directory[0:1409]\n",
        "print(len(processing_directory))\n",
        "     "
      ],
      "metadata": {
        "colab": {
          "base_uri": "https://localhost:8080/"
        },
        "id": "0KYFcO4BcjxZ",
        "outputId": "7c3d9d65-098d-459e-ffef-f355876293bc"
      },
      "execution_count": 6,
      "outputs": [
        {
          "output_type": "stream",
          "name": "stdout",
          "text": [
            "1409\n",
            "1409\n"
          ]
        }
      ]
    },
    {
      "cell_type": "code",
      "source": [
        "# 日本語をimreadするとnoneになるのでその対策\n",
        "def imread(filename, flags=cv2.IMREAD_COLOR, dtype=np.uint8):\n",
        "    try:\n",
        "        n = np.fromfile(filename, dtype)\n",
        "        img = cv2.imdecode(n, flags)\n",
        "        return img\n",
        "    except Exception as e:\n",
        "        print(e)\n",
        "        return None\n",
        "\n",
        "#処理時間の計測\n",
        "start = time.time()\n",
        "\n",
        "with open(dst_csv_path, 'a', newline='') as f:  #a:追記モード\n",
        "        writer = csv.writer(f)\n",
        "        fieldnames = ['Number', 'Folder', 'FileName']       \n",
        "        writer.writerow(['Folder', 'Image_num', 'side (R:0, L:1)', 'ImageName', 'Number'])  #header\n",
        "        \n",
        "        k=0\n",
        "        for i, path in enumerate(processing_directory):  #フォルダ数の分だけ\n",
        "              print(str(i))\n",
        "              print('')\n",
        "              img = imread(path) #cv2.imreadのかわり\n",
        "              img2 = img.copy()\n",
        "\n",
        "              # 画像グレースケール化\n",
        "              grayscale_img = cv2.cvtColor(img, cv2.COLOR_RGB2GRAY)\n",
        "\n",
        "              #300pix以上のもので目に見えるものを抽出\n",
        "              eye_list = eye_cascade.detectMultiScale(grayscale_img, minSize=(300, 300))\n",
        "              \n",
        "              # 眼検出判定\n",
        "              if len(eye_list) >= 1:\n",
        "                  '''\n",
        "                  print('目が' + str(len(eye_list)) +'個検出されました')\n",
        "                  '''\n",
        "                  pass\n",
        "              else:\n",
        "                  '''\n",
        "                  print(\"eye detection error\")\n",
        "                  '''\n",
        "                  break\n",
        "\n",
        "              #画像の切り抜きと保存（連番にする）\n",
        "              \n",
        "              m=0\n",
        "              for (ex, ey, ew, eh) in eye_list:\n",
        "                  m+=1\n",
        "                  #print(\"[ex,ey] = %d,%d [ew,eh] = %d,%d\" %(ex, ey, ew, eh))\n",
        "                  try:\n",
        "                    cv2.rectangle(img2, (ex, ey), (ex + ew, ey + eh), (0, 255, 0), 2)\n",
        "                    img_cropped = img[int(ey-0.1*eh): int(ey+1.1*eh), int(ex-0.1*ew): int(ex+1.1*ew)]\n",
        "                    img_resized = cv2.resize(img_cropped,(250,250)) #1辺250pixにresize \n",
        "                    #x, y = random.randint(0,27), random.randint(0,27) #ランダムな位置で224pixに切り取る\n",
        "                    #img_randcrop = img_resized[y: y+223, x: x+223]\n",
        "                  except:\n",
        "                      pass\n",
        "\n",
        "                  if ex <= 600:\n",
        "                      side = 0 #600ピクセル目より左にあるのは右眼\n",
        "                  else:\n",
        "                      side = 1 #600ピクセル目より右にあるのは左眼\n",
        "                  \n",
        "                  '''\n",
        "                  '''\n",
        "\n",
        "                  #保存する際のよくわからないエラーをskipする\n",
        "                  try:\n",
        "                      cv2.imwrite(f'{dst_image_path}/{str(i)}-{side}.jpg', img_resized)\n",
        "                      #対応表の作成\n",
        "                      writer.writerow([str(i), side, str(extract_patient_id(path)), str(path)])\n",
        "\n",
        "                  except:\n",
        "                      pass\n",
        "\n",
        "print('Process done!!')\n",
        "elapsed_time = time.time() - start\n",
        "print (\"elapsed_time:{0}\".format(elapsed_time) + \"[sec]\")\n"
      ],
      "metadata": {
        "colab": {
          "base_uri": "https://localhost:8080/",
          "height": 280
        },
        "id": "oAvpJmbeX-Wn",
        "outputId": "f766fbec-0c2f-4704-a59a-dccf101ce025"
      },
      "execution_count": 7,
      "outputs": [
        {
          "output_type": "stream",
          "name": "stdout",
          "text": [
            "0\n",
            "\n"
          ]
        },
        {
          "output_type": "error",
          "ename": "error",
          "evalue": "ignored",
          "traceback": [
            "\u001b[1;31m---------------------------------------------------------------------------\u001b[0m",
            "\u001b[1;31merror\u001b[0m                                     Traceback (most recent call last)",
            "Input \u001b[1;32mIn [7]\u001b[0m, in \u001b[0;36m<module>\u001b[1;34m\u001b[0m\n\u001b[0;32m     27\u001b[0m grayscale_img \u001b[38;5;241m=\u001b[39m cv2\u001b[38;5;241m.\u001b[39mcvtColor(img, cv2\u001b[38;5;241m.\u001b[39mCOLOR_RGB2GRAY)\n\u001b[0;32m     29\u001b[0m \u001b[38;5;66;03m#300pix以上のもので目に見えるものを抽出\u001b[39;00m\n\u001b[1;32m---> 30\u001b[0m eye_list \u001b[38;5;241m=\u001b[39m \u001b[43meye_cascade\u001b[49m\u001b[38;5;241;43m.\u001b[39;49m\u001b[43mdetectMultiScale\u001b[49m\u001b[43m(\u001b[49m\u001b[43mgrayscale_img\u001b[49m\u001b[43m,\u001b[49m\u001b[43m \u001b[49m\u001b[43mminSize\u001b[49m\u001b[38;5;241;43m=\u001b[39;49m\u001b[43m(\u001b[49m\u001b[38;5;241;43m300\u001b[39;49m\u001b[43m,\u001b[49m\u001b[43m \u001b[49m\u001b[38;5;241;43m300\u001b[39;49m\u001b[43m)\u001b[49m\u001b[43m)\u001b[49m\n\u001b[0;32m     32\u001b[0m \u001b[38;5;66;03m# 眼検出判定\u001b[39;00m\n\u001b[0;32m     33\u001b[0m \u001b[38;5;28;01mif\u001b[39;00m \u001b[38;5;28mlen\u001b[39m(eye_list) \u001b[38;5;241m>\u001b[39m\u001b[38;5;241m=\u001b[39m \u001b[38;5;241m1\u001b[39m:\n",
            "\u001b[1;31merror\u001b[0m: OpenCV(4.5.5) D:\\a\\opencv-python\\opencv-python\\opencv\\modules\\objdetect\\src\\cascadedetect.cpp:1689: error: (-215:Assertion failed) !empty() in function 'cv::CascadeClassifier::detectMultiScale'\n"
          ]
        }
      ]
    },
    {
      "cell_type": "code",
      "source": [
        "import os\n",
        "#assert os.path.isfile(face_cascade_path), 'haarcascade_frontalface_default.xml がない'\n",
        "assert os.path.isfile(eye_cascade_path), 'eye_cascade_path.xml がない'"
      ],
      "metadata": {
        "id": "QNpb1CDpjBqn"
      },
      "execution_count": 130,
      "outputs": []
    }
  ]
}