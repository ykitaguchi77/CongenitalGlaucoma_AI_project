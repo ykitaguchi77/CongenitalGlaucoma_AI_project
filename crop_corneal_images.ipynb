{
  "nbformat": 4,
  "nbformat_minor": 0,
  "metadata": {
    "colab": {
      "provenance": [],
      "authorship_tag": "ABX9TyNzDE5p3hzOjVbsTliq+AOL",
      "include_colab_link": true
    },
    "kernelspec": {
      "name": "python3",
      "display_name": "Python 3"
    },
    "language_info": {
      "name": "python"
    }
  },
  "cells": [
    {
      "cell_type": "markdown",
      "metadata": {
        "id": "view-in-github",
        "colab_type": "text"
      },
      "source": [
        "<a href=\"https://colab.research.google.com/github/ykitaguchi77/CongenitalGlaucoma_AI_project/blob/main/crop_corneal_images.ipynb\" target=\"_parent\"><img src=\"https://colab.research.google.com/assets/colab-badge.svg\" alt=\"Open In Colab\"/></a>"
      ]
    },
    {
      "cell_type": "markdown",
      "source": [
        "#**Extract corneal from congenital glaucoma dataset**"
      ],
      "metadata": {
        "id": "0kVovXwpbUB2"
      }
    },
    {
      "cell_type": "code",
      "execution_count": 15,
      "metadata": {
        "id": "fRQLlmLSbIs8"
      },
      "outputs": [],
      "source": [
        "import glob\n",
        "import codecs\n",
        "import pandas as pd\n",
        "import os\n",
        "import cv2\n",
        "import time\n",
        "import csv\n",
        "import numpy as np\n",
        "import requests\n",
        "import shutil\n",
        "\n",
        "orig_image_path = glob.glob(f\"{image_dir}/*\")\n",
        "dst_image_path = r\"H:\\先天性緑内障\\dataset_extended\"\n",
        "\n",
        "orig_csv_path = r\"H:\\先天性緑内障\\result_mobilenetv3.csv\"\n",
        "\n",
        "dst_csv_path = r\"H:\\先天性緑内障\\cropped_eye_list.csv\" \n",
        "\n",
        "# カスケードファイルのパス\n",
        "#eye_cascade_path = \"H:\\haarcascade_eye.xml\" #haarcascade_eye.xmlのあるパス\n",
        "\n",
        "\n",
        "# カスケード分類器の特徴量取得\n",
        "#eye_cascade = cv2.CascadeClassifier(eye_cascade_path)"
      ]
    },
    {
      "cell_type": "code",
      "source": [
        "#Open csv\n",
        "with codecs.open(orig_csv_path, \"r\", \"Shift-JIS\", \"ignore\") as file:\n",
        "        df = pd.read_csv(file, index_col=None, header=0)\n",
        "df"
      ],
      "metadata": {
        "colab": {
          "base_uri": "https://localhost:8080/",
          "height": 597
        },
        "id": "AB7yG464Ko6R",
        "outputId": "93ea4532-8115-4ed5-e6d9-0283559c6300"
      },
      "execution_count": 2,
      "outputs": [
        {
          "output_type": "execute_result",
          "data": {
            "text/plain": [
              "    pt_number                                          path  fold  label  \\\n",
              "0        1546  H:\\先天性緑内障\\dataset_250px\\gla_ortho\\1546_2.jpg     0      1   \n",
              "1        1546  H:\\先天性緑内障\\dataset_250px\\gla_ortho\\1546_6.jpg     0      1   \n",
              "2        1546  H:\\先天性緑内障\\dataset_250px\\gla_ortho\\1546_7.jpg     0      1   \n",
              "3        1546  H:\\先天性緑内障\\dataset_250px\\gla_ortho\\1546_9.jpg     0      1   \n",
              "4        1962  H:\\先天性緑内障\\dataset_250px\\gla_ortho\\1962_1.jpg     0      1   \n",
              "..        ...                                           ...   ...    ...   \n",
              "915      9600     H:\\先天性緑内障\\dataset_250px\\cont_exo\\9600.jpg     4      0   \n",
              "916      9622     H:\\先天性緑内障\\dataset_250px\\cont_exo\\9622.jpg     4      0   \n",
              "917      9758     H:\\先天性緑内障\\dataset_250px\\cont_exo\\9758.jpg     4      0   \n",
              "918      9810     H:\\先天性緑内障\\dataset_250px\\cont_exo\\9810.jpg     4      0   \n",
              "919       999    H:\\先天性緑内障\\dataset_250px\\cont_exo\\999_3.jpg     4      0   \n",
              "\n",
              "     pred      prob  \n",
              "0       0  0.014977  \n",
              "1       0  0.042091  \n",
              "2       0  0.102872  \n",
              "3       0  0.178373  \n",
              "4       0  0.142860  \n",
              "..    ...       ...  \n",
              "915     0  0.008916  \n",
              "916     0  0.117579  \n",
              "917     0  0.008900  \n",
              "918     0  0.423352  \n",
              "919     0  0.037544  \n",
              "\n",
              "[920 rows x 6 columns]"
            ],
            "text/html": [
              "<div>\n",
              "<style scoped>\n",
              "    .dataframe tbody tr th:only-of-type {\n",
              "        vertical-align: middle;\n",
              "    }\n",
              "\n",
              "    .dataframe tbody tr th {\n",
              "        vertical-align: top;\n",
              "    }\n",
              "\n",
              "    .dataframe thead th {\n",
              "        text-align: right;\n",
              "    }\n",
              "</style>\n",
              "<table border=\"1\" class=\"dataframe\">\n",
              "  <thead>\n",
              "    <tr style=\"text-align: right;\">\n",
              "      <th></th>\n",
              "      <th>pt_number</th>\n",
              "      <th>path</th>\n",
              "      <th>fold</th>\n",
              "      <th>label</th>\n",
              "      <th>pred</th>\n",
              "      <th>prob</th>\n",
              "    </tr>\n",
              "  </thead>\n",
              "  <tbody>\n",
              "    <tr>\n",
              "      <th>0</th>\n",
              "      <td>1546</td>\n",
              "      <td>H:\\先天性緑内障\\dataset_250px\\gla_ortho\\1546_2.jpg</td>\n",
              "      <td>0</td>\n",
              "      <td>1</td>\n",
              "      <td>0</td>\n",
              "      <td>0.014977</td>\n",
              "    </tr>\n",
              "    <tr>\n",
              "      <th>1</th>\n",
              "      <td>1546</td>\n",
              "      <td>H:\\先天性緑内障\\dataset_250px\\gla_ortho\\1546_6.jpg</td>\n",
              "      <td>0</td>\n",
              "      <td>1</td>\n",
              "      <td>0</td>\n",
              "      <td>0.042091</td>\n",
              "    </tr>\n",
              "    <tr>\n",
              "      <th>2</th>\n",
              "      <td>1546</td>\n",
              "      <td>H:\\先天性緑内障\\dataset_250px\\gla_ortho\\1546_7.jpg</td>\n",
              "      <td>0</td>\n",
              "      <td>1</td>\n",
              "      <td>0</td>\n",
              "      <td>0.102872</td>\n",
              "    </tr>\n",
              "    <tr>\n",
              "      <th>3</th>\n",
              "      <td>1546</td>\n",
              "      <td>H:\\先天性緑内障\\dataset_250px\\gla_ortho\\1546_9.jpg</td>\n",
              "      <td>0</td>\n",
              "      <td>1</td>\n",
              "      <td>0</td>\n",
              "      <td>0.178373</td>\n",
              "    </tr>\n",
              "    <tr>\n",
              "      <th>4</th>\n",
              "      <td>1962</td>\n",
              "      <td>H:\\先天性緑内障\\dataset_250px\\gla_ortho\\1962_1.jpg</td>\n",
              "      <td>0</td>\n",
              "      <td>1</td>\n",
              "      <td>0</td>\n",
              "      <td>0.142860</td>\n",
              "    </tr>\n",
              "    <tr>\n",
              "      <th>...</th>\n",
              "      <td>...</td>\n",
              "      <td>...</td>\n",
              "      <td>...</td>\n",
              "      <td>...</td>\n",
              "      <td>...</td>\n",
              "      <td>...</td>\n",
              "    </tr>\n",
              "    <tr>\n",
              "      <th>915</th>\n",
              "      <td>9600</td>\n",
              "      <td>H:\\先天性緑内障\\dataset_250px\\cont_exo\\9600.jpg</td>\n",
              "      <td>4</td>\n",
              "      <td>0</td>\n",
              "      <td>0</td>\n",
              "      <td>0.008916</td>\n",
              "    </tr>\n",
              "    <tr>\n",
              "      <th>916</th>\n",
              "      <td>9622</td>\n",
              "      <td>H:\\先天性緑内障\\dataset_250px\\cont_exo\\9622.jpg</td>\n",
              "      <td>4</td>\n",
              "      <td>0</td>\n",
              "      <td>0</td>\n",
              "      <td>0.117579</td>\n",
              "    </tr>\n",
              "    <tr>\n",
              "      <th>917</th>\n",
              "      <td>9758</td>\n",
              "      <td>H:\\先天性緑内障\\dataset_250px\\cont_exo\\9758.jpg</td>\n",
              "      <td>4</td>\n",
              "      <td>0</td>\n",
              "      <td>0</td>\n",
              "      <td>0.008900</td>\n",
              "    </tr>\n",
              "    <tr>\n",
              "      <th>918</th>\n",
              "      <td>9810</td>\n",
              "      <td>H:\\先天性緑内障\\dataset_250px\\cont_exo\\9810.jpg</td>\n",
              "      <td>4</td>\n",
              "      <td>0</td>\n",
              "      <td>0</td>\n",
              "      <td>0.423352</td>\n",
              "    </tr>\n",
              "    <tr>\n",
              "      <th>919</th>\n",
              "      <td>999</td>\n",
              "      <td>H:\\先天性緑内障\\dataset_250px\\cont_exo\\999_3.jpg</td>\n",
              "      <td>4</td>\n",
              "      <td>0</td>\n",
              "      <td>0</td>\n",
              "      <td>0.037544</td>\n",
              "    </tr>\n",
              "  </tbody>\n",
              "</table>\n",
              "<p>920 rows × 6 columns</p>\n",
              "</div>"
            ]
          },
          "metadata": {},
          "execution_count": 2
        }
      ]
    },
    {
      "cell_type": "code",
      "source": [
        "def extract_patient_id(img_path: str)-> int:\n",
        "    id = int(os.path.basename(img_path).split(\"_\")[0].split(\"-\")[0].split(\".\")[0])\n",
        "    return id\n",
        "\n",
        "df_gla = df[df[\"label\"]==1]\n",
        "\n",
        "# Extarct patients' ID\n",
        "gla_id_list = [extract_patient_id(i) for i in df_gla[\"path\"]]\n",
        "gla_id_list = sorted(set(gla_id_list), key=int)\n",
        "print(f\"gla_pt_number: {len(gla_id_list)}\")\n",
        "print(f\"gla_image_number: {len(df_gla)}\")\n",
        "\n",
        "#該当患者の画像リスト\n",
        "gla_image_path_list = [i for i in orig_image_path if extract_patient_id(i) in gla_id_list]\n",
        "print(f\"gla_image_path_list: {len(gla_image_path_list)}\")"
      ],
      "metadata": {
        "colab": {
          "base_uri": "https://localhost:8080/"
        },
        "id": "AntpI4FrL9fI",
        "outputId": "a7174020-35b1-4de7-da05-f8442c293dda"
      },
      "execution_count": 3,
      "outputs": [
        {
          "output_type": "stream",
          "name": "stdout",
          "text": [
            "gla_pt_number: 35\n",
            "gla_image_number: 230\n",
            "gla_image_path_list: 735\n"
          ]
        }
      ]
    },
    {
      "cell_type": "code",
      "source": [
        "df_cont = df[df[\"label\"]==0]\n",
        "\n",
        "# Extarct patients' ID\n",
        "cont_id_list = [extract_patient_id(i) for i in df_cont[\"path\"]]\n",
        "cont_id_list = sorted(set(cont_id_list), key=int)\n",
        "print(f\"cont_pt_number: {len(cont_id_list)}\")\n",
        "print(f\"cont_image_number: {len(df_cont)}\")\n",
        "\n",
        "#該当患者の画像リスト(同じidあたり画像1枚とする)\n",
        "cont_image_path_list = []\n",
        "append_id_list = []\n",
        "for path in orig_image_path:\n",
        "    id = extract_patient_id(path)\n",
        "    if id in cont_id_list:\n",
        "        if id not in append_id_list:\n",
        "          cont_image_path_list.append(path)\n",
        "          append_id_list.append(id)\n",
        "\n",
        "\n",
        "print(f\"cont_image_path_list: {len(cont_image_path_list)}\")"
      ],
      "metadata": {
        "colab": {
          "base_uri": "https://localhost:8080/"
        },
        "id": "VWIjj6ZoSlyQ",
        "outputId": "447dc1c4-fe9b-4376-ab32-ed007f04ec85"
      },
      "execution_count": 4,
      "outputs": [
        {
          "output_type": "stream",
          "name": "stdout",
          "text": [
            "cont_pt_number: 674\n",
            "cont_image_number: 690\n",
            "cont_image_path_list: 674\n"
          ]
        }
      ]
    },
    {
      "cell_type": "code",
      "source": [
        "#処理するDirectoryの設定\n",
        "directory = gla_image_path_list + cont_image_path_list\n",
        "print(len(directory))\n",
        "\n",
        "directory"
      ],
      "metadata": {
        "id": "pS6FtyUtxOQi"
      },
      "execution_count": null,
      "outputs": []
    },
    {
      "cell_type": "code",
      "source": [
        "if os.path.exists(dst_image_path):\n",
        "    shutil.rmtree(dst_image_path)\n",
        "os.makedirs(dst_image_path)\n",
        "\n",
        "for i, path in enumerate(directory):\n",
        "    shutil.copy(path,f\"{dst_image_path}\\\\{os.path.splitext(os.path.basename(path))[0]}.jpg\" )\n",
        "    print(i)"
      ],
      "metadata": {
        "id": "sGp6wq29yf-L"
      },
      "execution_count": null,
      "outputs": []
    },
    {
      "cell_type": "markdown",
      "source": [
        "# **Crop periocular images**\n",
        "LocalでHaarcascadeが使えないので、データをgdriveに載せて使う"
      ],
      "metadata": {
        "id": "wDJbw3k2bJ5v"
      }
    },
    {
      "cell_type": "code",
      "source": [
        "import numpy as np\n",
        "import matplotlib.pyplot as plt\n",
        "import time\n",
        "import os\n",
        "import copy\n",
        "import pandas as pd\n",
        "import csv\n",
        "from random import randint\n",
        "from time import sleep\n",
        "\n",
        "import glob\n",
        "import random\n",
        "from PIL import Image\n",
        "%matplotlib inline\n",
        "\n",
        "#サポートパッチのインポート\n",
        "from google.colab.patches import cv2_imshow\n",
        "import cv2\n",
        "\n",
        "plt.ion()   # interactive mode"
      ],
      "metadata": {
        "id": "K209qLau29G6"
      },
      "execution_count": 3,
      "outputs": []
    },
    {
      "cell_type": "code",
      "source": [
        "from google.colab import drive\n",
        "drive.mount('/content/drive')\n",
        "\n",
        "# unzip file\n",
        "!cp \"/content/drive/MyDrive/Deep_learning/Congenital_Glaucoma/glaucoma_extended_dataset.zip\" .\n",
        "!unzip glaucoma_extended_dataset.zip\n"
      ],
      "metadata": {
        "id": "zc3gBJWo3C_5"
      },
      "execution_count": null,
      "outputs": []
    },
    {
      "cell_type": "code",
      "source": [
        "#元画像フォルダ\n",
        "in_path = '/content/dataset_extended'\n",
        "\n",
        "#保存先フォルダ\n",
        "out_path = '/content/dataset_periocular'\n",
        "\n",
        "#CSVファイルのフォルダ\n",
        "csv_path = '/content/glaucoma_perioucular_images_list.csv'"
      ],
      "metadata": {
        "id": "JpER3nnN3ZxC"
      },
      "execution_count": 5,
      "outputs": []
    },
    {
      "cell_type": "code",
      "source": [
        "# カスケードファイルのパス\n",
        "eye_cascade_path = '/content/drive/My Drive/Deep_learning/haarcascade_eye.xml'\n",
        "\n",
        "# カスケード分類器の特徴量取得\n",
        "eye_cascade = cv2.CascadeClassifier(eye_cascade_path)"
      ],
      "metadata": {
        "id": "OXYS7T6t40xt"
      },
      "execution_count": 6,
      "outputs": []
    },
    {
      "cell_type": "code",
      "source": [
        "#処理するDirectoryの設定\n",
        "directory = glob.glob(f\"{in_path}/*\")\n",
        "print(len(directory))\n",
        "\n",
        "#ここにフォルダ番号を記載する (ex. [0:999])\n",
        "processing_directory = directory[0:1409]\n",
        "#print(processing_directory)\n",
        "     "
      ],
      "metadata": {
        "colab": {
          "base_uri": "https://localhost:8080/"
        },
        "id": "0KYFcO4BcjxZ",
        "outputId": "4f7f9d8d-0829-4e9b-f977-e20034b9ee0b"
      },
      "execution_count": 22,
      "outputs": [
        {
          "output_type": "stream",
          "name": "stdout",
          "text": [
            "1409\n"
          ]
        }
      ]
    },
    {
      "cell_type": "code",
      "source": [
        "processing_directory[0]"
      ],
      "metadata": {
        "id": "ZDWjEm_E5mUu",
        "outputId": "53a6a261-eac4-40c4-fbfa-fa42b24b3143",
        "colab": {
          "base_uri": "https://localhost:8080/",
          "height": 53
        }
      },
      "execution_count": 20,
      "outputs": [
        {
          "output_type": "execute_result",
          "data": {
            "text/plain": [
              "'/content/dataset_extended/4849-20191028-8-134035_07393886d2a571558d21930ab8ffa6ba6b7812c34bcb3d65cabfdf6188e11298.jpg'"
            ],
            "application/vnd.google.colaboratory.intrinsic+json": {
              "type": "string"
            }
          },
          "metadata": {},
          "execution_count": 20
        }
      ]
    },
    {
      "cell_type": "code",
      "source": [
        "#処理時間の計測\n",
        "start = time.time()\n",
        "\n",
        "with open(csv_path, 'a', newline='') as f:  #a:追記モード\n",
        "        writer = csv.writer(f)\n",
        "        fieldnames = ['Number', 'Folder', 'FileName']       \n",
        "        writer.writerow(['Folder', 'Image_num', 'side (R:0, L:1)', 'ImageName', 'Number'])  #header\n",
        "        \n",
        "        k=0\n",
        "        for i, path in enumerate(processing_directory):  #画像の分だけ\n",
        "              print('')\n",
        "              print(str(i))\n",
        "              img = cv2.imread(path)\n",
        "              img2 = img.copy()\n",
        "\n",
        "              # 画像グレースケール化\n",
        "              grayscale_img = cv2.cvtColor(img, cv2.COLOR_RGB2GRAY)\n",
        "\n",
        "              #300pix以上のもので目に見えるものを抽出\n",
        "              eye_list = eye_cascade.detectMultiScale(grayscale_img, minSize=(300, 300))\n",
        "              \n",
        "              # 眼検出判定\n",
        "              if len(eye_list) >= 1:\n",
        "                  \n",
        "                  print('目が' + str(len(eye_list)) +'個検出されました')\n",
        "                  \n",
        "                  pass\n",
        "              else:\n",
        "                  \n",
        "                  print(\"eye detection error\")\n",
        "                  \n",
        "                  break\n",
        "\n",
        "              #画像の切り抜きと保存（連番にする）\n",
        "              \n",
        "              m=0\n",
        "              for (ex, ey, ew, eh) in eye_list:\n",
        "                  m+=1\n",
        "                  #print(\"[ex,ey] = %d,%d [ew,eh] = %d,%d\" %(ex, ey, ew, eh))\n",
        "                  try:\n",
        "                    cv2.rectangle(img2, (ex, ey), (ex + ew, ey + eh), (0, 255, 0), 2)\n",
        "                    img_cropped = img[int(ey-0.1*eh): int(ey+1.1*eh), int(ex-0.1*ew): int(ex+1.1*ew)]\n",
        "                    img_resized = cv2.resize(img_cropped,(640,640)) #1辺640pixにresize \n",
        "                    #x, y = random.randint(0,27), random.randint(0,27) #ランダムな位置で224pixに切り取る\n",
        "                    #img_randcrop = img_resized[y: y+223, x: x+223]\n",
        "                  except:\n",
        "                      pass\n",
        "\n",
        "                  if ex <= 600:\n",
        "                      side = 0 #600ピクセル目より左にあるのは右眼\n",
        "                  else:\n",
        "                      side = 1 #600ピクセル目より右にあるのは左眼\n",
        "                  \n",
        "                  '''\n",
        "                  '''\n",
        "\n",
        "                  #保存する際のよくわからないエラーをskipする\n",
        "                  try:\n",
        "                      cv2.imwrite(f'{dst_image_path}/{str(i)}-{side}.jpg', img_resized)\n",
        "                      #対応表の作成\n",
        "                      writer.writerow([str(i), side, str(extract_patient_id(path)), str(path)])\n",
        "\n",
        "                  except:\n",
        "                      pass\n",
        "\n",
        "print('Process done!!')\n",
        "elapsed_time = time.time() - start\n",
        "print (\"elapsed_time:{0}\".format(elapsed_time) + \"[sec]\")\n"
      ],
      "metadata": {
        "colab": {
          "base_uri": "https://localhost:8080/"
        },
        "id": "oAvpJmbeX-Wn",
        "outputId": "5a8f11fe-68d2-488a-d83e-f4b968bc00b6"
      },
      "execution_count": 23,
      "outputs": [
        {
          "output_type": "stream",
          "name": "stdout",
          "text": [
            "0\n",
            "\n",
            "目が2個検出されました\n",
            "1\n",
            "\n",
            "目が2個検出されました\n",
            "2\n",
            "\n",
            "目が3個検出されました\n",
            "3\n",
            "\n",
            "目が2個検出されました\n",
            "4\n",
            "\n",
            "目が2個検出されました\n",
            "5\n",
            "\n",
            "目が1個検出されました\n",
            "6\n",
            "\n",
            "目が2個検出されました\n",
            "7\n",
            "\n",
            "目が1個検出されました\n",
            "8\n",
            "\n",
            "目が2個検出されました\n",
            "9\n",
            "\n",
            "目が1個検出されました\n",
            "10\n",
            "\n",
            "目が2個検出されました\n",
            "11\n",
            "\n",
            "目が2個検出されました\n",
            "12\n",
            "\n",
            "目が3個検出されました\n",
            "13\n",
            "\n",
            "eye detection error\n",
            "Process done!!\n",
            "elapsed_time:1.9599406719207764[sec]\n"
          ]
        }
      ]
    },
    {
      "cell_type": "code",
      "source": [
        "import os\n",
        "#assert os.path.isfile(face_cascade_path), 'haarcascade_frontalface_default.xml がない'\n",
        "assert os.path.isfile(eye_cascade_path), 'eye_cascade_path.xml がない'"
      ],
      "metadata": {
        "id": "QNpb1CDpjBqn"
      },
      "execution_count": 12,
      "outputs": []
    }
  ]
}