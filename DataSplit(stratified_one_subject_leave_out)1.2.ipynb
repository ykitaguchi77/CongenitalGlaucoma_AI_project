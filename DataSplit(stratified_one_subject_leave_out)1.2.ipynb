{
  "nbformat": 4,
  "nbformat_minor": 0,
  "metadata": {
    "colab": {
      "name": "Untitled90.ipynb",
      "provenance": [],
      "authorship_tag": "ABX9TyP34qR6bTBn8QHvemmR2Gby",
      "include_colab_link": true
    },
    "kernelspec": {
      "name": "python3",
      "display_name": "Python 3"
    },
    "language_info": {
      "name": "python"
    }
  },
  "cells": [
    {
      "cell_type": "markdown",
      "metadata": {
        "id": "view-in-github",
        "colab_type": "text"
      },
      "source": [
        "<a href=\"https://colab.research.google.com/github/ykitaguchi77/CongenitalGlaucoma_AI_project/blob/main/DataSplit(stratified_one_subject_leave_out)1.2.ipynb\" target=\"_parent\"><img src=\"https://colab.research.google.com/assets/colab-badge.svg\" alt=\"Open In Colab\"/></a>"
      ]
    },
    {
      "cell_type": "markdown",
      "source": [
        "#**Data_split for one-subject-leave-out stratified 5-fold crossvalidation**"
      ],
      "metadata": {
        "id": "Dxlpd0AbAWf7"
      }
    },
    {
      "cell_type": "code",
      "source": [
        "\"\"\"\n",
        "Leave one subject out cross validation + 5-fold stratified cross validation\n",
        "\n",
        "・1症例を抜き出し、その症例のすべての画像をテスト画像とする\n",
        "・残りの症例の内斜視、外斜視、斜視なし群を、同じ症例が群をまたがないように5分割する。\n",
        "・5分割したデータセットのうち4つをtraining、1つをvalidationとして用いてトレーニングを行い、抜き出した1症例のそれぞれの画像のおける正解率を算出する。これを5回繰り返してcross validationとする。\n",
        "\n",
        "\"\"\""
      ],
      "metadata": {
        "id": "TkRaZnYjAjZ1"
      },
      "execution_count": null,
      "outputs": []
    },
    {
      "cell_type": "code",
      "source": [
        "def make_path_list(dir):\n",
        "    path_list =  [file for file in glob.glob(dir+\"/*\") if os.path.isfile(file) == True ]\n",
        "    return path_list\n",
        "\n",
        "gla_ortho_path = r\"F:\\先天性緑内障\\データ引継ぎ\\children_d\"\n",
        "pathlist = make_path_list(gla_ortho_path)\n",
        "print(pathlist)\n",
        "\n"
      ],
      "metadata": {
        "colab": {
          "base_uri": "https://localhost:8080/"
        },
        "id": "xN0rqPBLxnYJ",
        "outputId": "24039239-1d79-49d5-9146-72c4b4e70ff9"
      },
      "execution_count": 15,
      "outputs": [
        {
          "output_type": "stream",
          "name": "stdout",
          "text": [
            "['F:\\\\先天性緑内障\\\\データ引継ぎ\\\\children_d\\\\1546_2.jpg', 'F:\\\\先天性緑内障\\\\データ引継ぎ\\\\children_d\\\\1546_6.jpg', 'F:\\\\先天性緑内障\\\\データ引継ぎ\\\\children_d\\\\1546_7.jpg', 'F:\\\\先天性緑内障\\\\データ引継ぎ\\\\children_d\\\\1546_9.jpg', 'F:\\\\先天性緑内障\\\\データ引継ぎ\\\\children_d\\\\1962_1.jpg', 'F:\\\\先天性緑内障\\\\データ引継ぎ\\\\children_d\\\\2004_12.jpg', 'F:\\\\先天性緑内障\\\\データ引継ぎ\\\\children_d\\\\2004_28.jpg', 'F:\\\\先天性緑内障\\\\データ引継ぎ\\\\children_d\\\\2004_33.jpg', 'F:\\\\先天性緑内障\\\\データ引継ぎ\\\\children_d\\\\2004_34.jpg', 'F:\\\\先天性緑内障\\\\データ引継ぎ\\\\children_d\\\\2761_10.jpg', 'F:\\\\先天性緑内障\\\\データ引継ぎ\\\\children_d\\\\2761_2.jpg', 'F:\\\\先天性緑内障\\\\データ引継ぎ\\\\children_d\\\\2761_3.jpg', 'F:\\\\先天性緑内障\\\\データ引継ぎ\\\\children_d\\\\2761_9.jpg', 'F:\\\\先天性緑内障\\\\データ引継ぎ\\\\children_d\\\\3422_1.jpg', 'F:\\\\先天性緑内障\\\\データ引継ぎ\\\\children_d\\\\3422_2.jpg', 'F:\\\\先天性緑内障\\\\データ引継ぎ\\\\children_d\\\\4377_19.jpg', 'F:\\\\先天性緑内障\\\\データ引継ぎ\\\\children_d\\\\4377_20.jpg', 'F:\\\\先天性緑内障\\\\データ引継ぎ\\\\children_d\\\\4407_3.jpg', 'F:\\\\先天性緑内障\\\\データ引継ぎ\\\\children_d\\\\4407_1.jpg', 'F:\\\\先天性緑内障\\\\データ引継ぎ\\\\children_d\\\\4407_2.jpg', 'F:\\\\先天性緑内障\\\\データ引継ぎ\\\\children_d\\\\4849_24.jpg', 'F:\\\\先天性緑内障\\\\データ引継ぎ\\\\children_d\\\\4849_25.jpg', 'F:\\\\先天性緑内障\\\\データ引継ぎ\\\\children_d\\\\4849_3.jpg', 'F:\\\\先天性緑内障\\\\データ引継ぎ\\\\children_d\\\\4849_43.jpg', 'F:\\\\先天性緑内障\\\\データ引継ぎ\\\\children_d\\\\4849_46.jpg', 'F:\\\\先天性緑内障\\\\データ引継ぎ\\\\children_d\\\\4849_48.jpg', 'F:\\\\先天性緑内障\\\\データ引継ぎ\\\\children_d\\\\4849_5.jpg', 'F:\\\\先天性緑内障\\\\データ引継ぎ\\\\children_d\\\\4849_50.jpg', 'F:\\\\先天性緑内障\\\\データ引継ぎ\\\\children_d\\\\5617_1.jpg', 'F:\\\\先天性緑内障\\\\データ引継ぎ\\\\children_d\\\\5821_11.jpg', 'F:\\\\先天性緑内障\\\\データ引継ぎ\\\\children_d\\\\5821_6.jpg', 'F:\\\\先天性緑内障\\\\データ引継ぎ\\\\children_d\\\\5821_8.jpg', 'F:\\\\先天性緑内障\\\\データ引継ぎ\\\\children_d\\\\6668_10.jpg', 'F:\\\\先天性緑内障\\\\データ引継ぎ\\\\children_d\\\\6668_2.jpg', 'F:\\\\先天性緑内障\\\\データ引継ぎ\\\\children_d\\\\6668_4.jpg', 'F:\\\\先天性緑内障\\\\データ引継ぎ\\\\children_d\\\\6668_8.jpg', 'F:\\\\先天性緑内障\\\\データ引継ぎ\\\\children_d\\\\6668_9.jpg', 'F:\\\\先天性緑内障\\\\データ引継ぎ\\\\children_d\\\\6895_1.jpg', 'F:\\\\先天性緑内障\\\\データ引継ぎ\\\\children_d\\\\6895_13.jpg', 'F:\\\\先天性緑内障\\\\データ引継ぎ\\\\children_d\\\\6895_14.jpg', 'F:\\\\先天性緑内障\\\\データ引継ぎ\\\\children_d\\\\6895_15.jpg', 'F:\\\\先天性緑内障\\\\データ引継ぎ\\\\children_d\\\\6895_2.jpg', 'F:\\\\先天性緑内障\\\\データ引継ぎ\\\\children_d\\\\6895_3.jpg', 'F:\\\\先天性緑内障\\\\データ引継ぎ\\\\children_d\\\\6895_4.jpg', 'F:\\\\先天性緑内障\\\\データ引継ぎ\\\\children_d\\\\6895_5.jpg', 'F:\\\\先天性緑内障\\\\データ引継ぎ\\\\children_d\\\\6895_6.jpg', 'F:\\\\先天性緑内障\\\\データ引継ぎ\\\\children_d\\\\6895_7.jpg', 'F:\\\\先天性緑内障\\\\データ引継ぎ\\\\children_d\\\\713_1.jpg', 'F:\\\\先天性緑内障\\\\データ引継ぎ\\\\children_d\\\\713_3.jpg', 'F:\\\\先天性緑内障\\\\データ引継ぎ\\\\children_d\\\\7495_1.jpg', 'F:\\\\先天性緑内障\\\\データ引継ぎ\\\\children_d\\\\7495_2.jpg', 'F:\\\\先天性緑内障\\\\データ引継ぎ\\\\children_d\\\\7495_3.jpg', 'F:\\\\先天性緑内障\\\\データ引継ぎ\\\\children_d\\\\8126_1.jpg', 'F:\\\\先天性緑内障\\\\データ引継ぎ\\\\children_d\\\\8126_2.jpg', 'F:\\\\先天性緑内障\\\\データ引継ぎ\\\\children_d\\\\8128_12.jpg', 'F:\\\\先天性緑内障\\\\データ引継ぎ\\\\children_d\\\\8128_13.jpg', 'F:\\\\先天性緑内障\\\\データ引継ぎ\\\\children_d\\\\8128_14.jpg', 'F:\\\\先天性緑内障\\\\データ引継ぎ\\\\children_d\\\\8128_16.jpg', 'F:\\\\先天性緑内障\\\\データ引継ぎ\\\\children_d\\\\8128_17.jpg', 'F:\\\\先天性緑内障\\\\データ引継ぎ\\\\children_d\\\\8128_3.jpg', 'F:\\\\先天性緑内障\\\\データ引継ぎ\\\\children_d\\\\8128_4.jpg', 'F:\\\\先天性緑内障\\\\データ引継ぎ\\\\children_d\\\\8128_5.jpg', 'F:\\\\先天性緑内障\\\\データ引継ぎ\\\\children_d\\\\8128_6.jpg', 'F:\\\\先天性緑内障\\\\データ引継ぎ\\\\children_d\\\\8128_7.jpg', 'F:\\\\先天性緑内障\\\\データ引継ぎ\\\\children_d\\\\8128_8.jpg', 'F:\\\\先天性緑内障\\\\データ引継ぎ\\\\children_d\\\\8128_9.jpg', 'F:\\\\先天性緑内障\\\\データ引継ぎ\\\\children_d\\\\8193_1.jpg', 'F:\\\\先天性緑内障\\\\データ引継ぎ\\\\children_d\\\\8193_2.jpg', 'F:\\\\先天性緑内障\\\\データ引継ぎ\\\\children_d\\\\8193_23.jpg', 'F:\\\\先天性緑内障\\\\データ引継ぎ\\\\children_d\\\\8193_25.jpg', 'F:\\\\先天性緑内障\\\\データ引継ぎ\\\\children_d\\\\8193_26.jpg', 'F:\\\\先天性緑内障\\\\データ引継ぎ\\\\children_d\\\\8193_27.jpg', 'F:\\\\先天性緑内障\\\\データ引継ぎ\\\\children_d\\\\8193_28.jpg', 'F:\\\\先天性緑内障\\\\データ引継ぎ\\\\children_d\\\\8246_1.jpg', 'F:\\\\先天性緑内障\\\\データ引継ぎ\\\\children_d\\\\8294_1.jpg', 'F:\\\\先天性緑内障\\\\データ引継ぎ\\\\children_d\\\\8425_2.jpg', 'F:\\\\先天性緑内障\\\\データ引継ぎ\\\\children_d\\\\8500_16.jpg', 'F:\\\\先天性緑内障\\\\データ引継ぎ\\\\children_d\\\\8500_17.jpg', 'F:\\\\先天性緑内障\\\\データ引継ぎ\\\\children_d\\\\8500_18.jpg', 'F:\\\\先天性緑内障\\\\データ引継ぎ\\\\children_d\\\\8500_2.jpg', 'F:\\\\先天性緑内障\\\\データ引継ぎ\\\\children_d\\\\8500_21.jpg', 'F:\\\\先天性緑内障\\\\データ引継ぎ\\\\children_d\\\\8882_1.jpg', 'F:\\\\先天性緑内障\\\\データ引継ぎ\\\\children_d\\\\8882_10.jpg', 'F:\\\\先天性緑内障\\\\データ引継ぎ\\\\children_d\\\\8882_12.jpg', 'F:\\\\先天性緑内障\\\\データ引継ぎ\\\\children_d\\\\8882_13.jpg', 'F:\\\\先天性緑内障\\\\データ引継ぎ\\\\children_d\\\\8882_14.jpg', 'F:\\\\先天性緑内障\\\\データ引継ぎ\\\\children_d\\\\8882_16.jpg', 'F:\\\\先天性緑内障\\\\データ引継ぎ\\\\children_d\\\\8882_19.jpg', 'F:\\\\先天性緑内障\\\\データ引継ぎ\\\\children_d\\\\8882_2.jpg', 'F:\\\\先天性緑内障\\\\データ引継ぎ\\\\children_d\\\\8882_21.jpg', 'F:\\\\先天性緑内障\\\\データ引継ぎ\\\\children_d\\\\8882_22.jpg', 'F:\\\\先天性緑内障\\\\データ引継ぎ\\\\children_d\\\\8882_28.jpg', 'F:\\\\先天性緑内障\\\\データ引継ぎ\\\\children_d\\\\8882_3.jpg', 'F:\\\\先天性緑内障\\\\データ引継ぎ\\\\children_d\\\\8882_30.jpg', 'F:\\\\先天性緑内障\\\\データ引継ぎ\\\\children_d\\\\8882_4.jpg', 'F:\\\\先天性緑内障\\\\データ引継ぎ\\\\children_d\\\\8882_6.jpg', 'F:\\\\先天性緑内障\\\\データ引継ぎ\\\\children_d\\\\8882_7.jpg', 'F:\\\\先天性緑内障\\\\データ引継ぎ\\\\children_d\\\\8882_8.jpg', 'F:\\\\先天性緑内障\\\\データ引継ぎ\\\\children_d\\\\8882_9.jpg', 'F:\\\\先天性緑内障\\\\データ引継ぎ\\\\children_d\\\\9201_11.jpg', 'F:\\\\先天性緑内障\\\\データ引継ぎ\\\\children_d\\\\9201_14.jpg', 'F:\\\\先天性緑内障\\\\データ引継ぎ\\\\children_d\\\\9201_15.jpg', 'F:\\\\先天性緑内障\\\\データ引継ぎ\\\\children_d\\\\9201_16.jpg', 'F:\\\\先天性緑内障\\\\データ引継ぎ\\\\children_d\\\\9201_21.jpg', 'F:\\\\先天性緑内障\\\\データ引継ぎ\\\\children_d\\\\9201_3.jpg']\n"
          ]
        }
      ]
    },
    {
      "cell_type": "code",
      "execution_count": 70,
      "metadata": {
        "id": "nPSM5f-yyQfC",
        "colab": {
          "base_uri": "https://localhost:8080/"
        },
        "outputId": "49350cef-61d6-4de5-c2b9-60c9685ea621"
      },
      "outputs": [
        {
          "output_type": "stream",
          "name": "stdout",
          "text": [
            "204\n",
            "634\n"
          ]
        }
      ],
      "source": [
        "import codecs\n",
        "import pandas as pd\n",
        "import os\n",
        "import numpy as np\n",
        "import shutil\n",
        "from sklearn.model_selection import LeaveOneGroupOut\n",
        "from sklearn.model_selection import StratifiedGroupKFold\n",
        "import pandas as pd\n",
        "from PIL import Image\n",
        "import tempfile\n",
        "import time\n",
        "import glob\n",
        "import itertools\n",
        "\n",
        "pd.set_option('display.max_rows', 500)\n",
        "\n",
        "gla_ortho_path = r\"F:\\先天性緑内障\\データ引継ぎ\\children_d\"\n",
        "gla_eso_path = r\"F:\\先天性緑内障\\データ引継ぎ\\children_d__内斜視\"\n",
        "gla_exo_path = r\"F:\\先天性緑内障\\データ引継ぎ\\children_d__外斜視\"\n",
        "cont_ortho_path = r\"F:\\先天性緑内障\\データ引継ぎ\\children_control\"\n",
        "cont_eso_path = r\"F:\\先天性緑内障\\データ引継ぎ\\children_control__内斜視\\内斜視かぶりなし\"\n",
        "cont_exo_path = r\"F:\\先天性緑内障\\データ引継ぎ\\children_control__外斜視\\外斜視かぶりなし\"\n",
        "\n",
        "\n",
        "def make_path_list(dir):\n",
        "    path_list =  [file for file in glob.glob(dir+\"/*\") if os.path.isfile(file) == True ]\n",
        "    return path_list\n",
        "\n",
        "def extract_class(path_list, className):\n",
        "    class_list = list(itertools.repeat(className,len(path_list)))\n",
        "    return class_list\n",
        "\n",
        "def extract_ids(path_list):\n",
        "    id_list = [os.path.basename(name).split(\"_\")[0] for name in path_list]\n",
        "    return(id_list)\n",
        "\n",
        "\n",
        "gla_ortho_path_list = make_path_list(gla_ortho_path)\n",
        "gla_eso_path_list = make_path_list(gla_eso_path)\n",
        "gla_exo_path_list = make_path_list(gla_exo_path)\n",
        "cont_ortho_path_list = make_path_list(cont_ortho_path)\n",
        "cont_eso_path_list = make_path_list(cont_eso_path)\n",
        "cont_exo_path_list = make_path_list(cont_exo_path)\n",
        "\n",
        "#それぞれの項目（path, classes, ID）をリスト化\n",
        "gla_dataset_path = gla_ortho_path_list + gla_eso_path_list + gla_exo_path_list\n",
        "gla_classes = extract_class(gla_ortho_path_list, \"ortho\") + extract_class(gla_eso_path_list, \"eso\") + extract_class(gla_exo_path_list, \"exo\")\n",
        "gla_id = extract_ids(gla_ortho_path_list) + extract_ids(gla_eso_path_list) + extract_ids(gla_exo_path_list)\n",
        "cont_dataset_path = cont_ortho_path_list + cont_eso_path_list + cont_exo_path_list\n",
        "cont_classes = extract_class(cont_ortho_path_list, \"ortho\") + extract_class(cont_eso_path_list, \"eso\") + extract_class(cont_exo_path_list, \"exo\")\n",
        "cont_id = extract_ids(cont_ortho_path_list) + extract_ids(cont_eso_path_list) + extract_ids(cont_exo_path_list)\n",
        "\n",
        "#convert to Numpy\n",
        "gla_dataset_path = np.array(gla_dataset_path)\n",
        "gla_classes = np.array(gla_classes)\n",
        "gla_id = np.array(gla_id)\n",
        "cont_dataset_path = np.array(cont_dataset_path)\n",
        "cont_classes = np.array(cont_classes)\n",
        "cont_id = np.array(cont_id)\n",
        "\n",
        "print(len(gla_dataset_path))\n",
        "print(len(cont_dataset_path))"
      ]
    },
    {
      "cell_type": "code",
      "source": [
        "\"\"\"\n",
        "------test_dataset[0]\n",
        "  |\n",
        "  |---train_dataset_gla[0]----0\n",
        "  |                        |--1\n",
        "  |                        |--2\n",
        "  |                        |--3\n",
        "  |                        |--4\n",
        "  |---train_dataset_cont[0]----0\n",
        "  |                         |--1\n",
        "  |                         |--2\n",
        "  |                         |--3\n",
        "  |                         |--4\n",
        "  |---val_dataset_gla[0]----0\n",
        "  |                      |--1\n",
        "  |                      |--2\n",
        "  |                      |--3\n",
        "  |                      |--4\n",
        "  |---val_dataset_cont[0]----0\n",
        "  |                       |--1\n",
        "  |                       |--2\n",
        "  |                       |--3\n",
        "  |                       |--4\n",
        "  |---test_dataset[1]\n",
        "  ...\n",
        "\n",
        "\"\"\""
      ],
      "metadata": {
        "id": "cBs5SZf2m7Bj"
      },
      "execution_count": null,
      "outputs": []
    },
    {
      "cell_type": "code",
      "source": [
        "train_dataset_gla, val_dataset_gla,train_dataset_cont, val_dataset_cont, test_dataset = [], [], [], [], []\n",
        "\n",
        "#まずglaのデータセットから1人分を抜き出す（LeaveOneGroupOut)\n",
        "# one group leave out 見本\n",
        "# https://scikit-learn.org/stable/modules/generated/sklearn.model_selection.LeaveOneGroupOut.html#sklearn.model_selection.LeaveOneGroupOut\n",
        "# 今回のケースでは、groupがIDに該当\n",
        "logo = LeaveOneGroupOut()\n",
        "logo.get_n_splits(gla_dataset_path, gla_classes, gla_id)\n",
        "logo.get_n_splits(groups=gla_id)  # 'groups' is always required\n",
        "\n",
        "k=0\n",
        "for remain_index, test_index in logo.split(gla_dataset_path, gla_classes, gla_id):\n",
        "    gla_dataset_path_remain, gla_dataset_path_test = gla_dataset_path[remain_index], gla_dataset_path[test_index]\n",
        "    gla_classes_remain, gla_classes_test = gla_classes[remain_index], gla_classes[test_index]\n",
        "    gla_id_remain, gla_id_test = gla_id[remain_index], gla_id[test_index]\n",
        "    #print(gla_dataset_path, gla_dataset_path_test, gla_id_train, gla_id_test)\n",
        "    #print(\"test: \"+gla_id_test[0])\n",
        "    #print(\"TRAIN:\", remain_index, \"TEST:\", test_index)\n",
        "    #print(gla_dataset_path_test[0])\n",
        "    test_dataset.append(gla_dataset_path_test.tolist())\n",
        "\n",
        "    #抜き出した残りのglaについてStratified group 5-foldをかける\n",
        "    # example of stratified group Kfold　見本\n",
        "    # 今回のケースでは、groupがID、yがclassesに該当\n",
        "\n",
        "    cv = StratifiedGroupKFold(n_splits=5)\n",
        "    m=0 \n",
        "    train_miniset, val_miniset =  [0 for i in range(0, 5)], [0 for i in range(0, 5)]\n",
        "    for train_idxs, val_idxs in cv.split(gla_dataset_path_remain, gla_classes_remain, gla_id_remain):\n",
        "        #print(\"TRAIN:\", gla_classes_remain[train_idxs])\n",
        "        #print(\"      \", gla_id_remain[train_idxs])\n",
        "        #print(\"      \", gla_dataset_path_remain[train_idxs])\n",
        "        #print(\" TEST:\", gla_classes_remain[val_idxs])\n",
        "        #print(\"      \", gla_id_remain[val_idxs])\n",
        "        #print(\"      \", gla_dataset_path_remain[val_idxs])\n",
        "        train_miniset[m] = gla_dataset_path_remain[train_idxs].tolist()\n",
        "        val_miniset[m] = gla_dataset_path_remain[val_idxs].tolist()\n",
        "        m+=1\n",
        "    train_dataset_gla.append(train_miniset)\n",
        "    val_dataset_gla.append(val_miniset)\n",
        "    #print(\"train_dataset_added label[gla] \" + str(k))\n",
        "    k+=1\n",
        "\n",
        "    #controlについてStratified group 5-foldをかける\n",
        "    m=0 \n",
        "    train_miniset, val_miniset =  [0 for i in range(0, 5)], [0 for i in range(0, 5)]\n",
        "    for train_idxs, val_idxs in cv.split(cont_dataset_path, cont_classes, cont_id):\n",
        "        #print(\"TRAIN:\", cont_classes[train_idxs])\n",
        "        #print(\"      \", cont_id[train_idxs])\n",
        "        #print(\"      \", cont_dataset_path[train_idxs])\n",
        "        #print(\" TEST:\", cont_classes[val_idxs])\n",
        "        #print(\"      \", cont_id[val_idxs])\n",
        "        #print(\"      \", cont_dataset_path[val_idxs])\n",
        "        train_miniset[m] = cont_dataset_path[train_idxs].tolist()\n",
        "        val_miniset[m] = cont_dataset_path[val_idxs].tolist()\n",
        "        m+=1\n",
        "    train_dataset_cont.append(train_miniset)\n",
        "    val_dataset_cont.append(val_miniset)\n",
        "\n",
        "        \n",
        "#print(len(train_dataset_gla))    \n",
        "#print(len(val_dataset_gla))\n",
        "#print(val_dataset_gla)\n",
        "#print(len(train_dataset_cont))    \n",
        "#print(len(val_dataset_cont))\n",
        "#print(len(test_dataset))\n",
        "\n",
        "\n",
        "#同じくcontのデータセットから1人分抜き出してLeaveOneGroupOutをする\n",
        "logo = LeaveOneGroupOut()\n",
        "logo.get_n_splits(cont_dataset_path, cont_classes, cont_id)\n",
        "logo.get_n_splits(groups=cont_id)  # 'groups' is always required\n",
        "\n",
        "k=0\n",
        "for remain_index, test_index in logo.split(cont_dataset_path, cont_classes, cont_id):\n",
        "    cont_dataset_path_remain, cont_dataset_path_test = cont_dataset_path[remain_index], cont_dataset_path[test_index]\n",
        "    cont_classes_remain, cont_classes_test = cont_classes[remain_index], cont_classes[test_index]\n",
        "    cont_id_remain, cont_id_test = cont_id[remain_index], cont_id[test_index]\n",
        "    #print(cont_dataset_path_test[0])\n",
        "    test_dataset.append(cont_dataset_path_test.tolist())\n",
        "\n",
        "    #抜き出した残りのcontについてStratified group 5-foldをかける\n",
        "\n",
        "    cv = StratifiedGroupKFold(n_splits=5)\n",
        "    m=0 \n",
        "    train_miniset, val_miniset =  [0 for i in range(0, 5)], [0 for i in range(0, 5)]\n",
        "    for train_idxs, val_idxs in cv.split(cont_dataset_path_remain, cont_classes_remain, cont_id_remain):\n",
        "        train_miniset[m] = cont_dataset_path_remain[train_idxs].tolist()\n",
        "        val_miniset[m] = cont_dataset_path_remain[val_idxs].tolist()\n",
        "        m+=1\n",
        "    train_dataset_cont.append(train_miniset)\n",
        "    val_dataset_cont.append(val_miniset)\n",
        "\n",
        "    #glaについてStratified group 5-foldをかける\n",
        "    m=0 \n",
        "    train_miniset, val_miniset =  [0 for i in range(0, 5)], [0 for i in range(0, 5)]\n",
        "    for train_idxs, val_idxs in cv.split(gla_dataset_path, gla_classes, gla_id):\n",
        "        train_miniset[m] = gla_dataset_path[train_idxs].tolist()\n",
        "        val_miniset[m] = gla_dataset_path[val_idxs].tolist()\n",
        "        m+=1\n",
        "    train_dataset_gla.append(train_miniset)\n",
        "    val_dataset_gla.append(val_miniset)\n",
        "    #print(\"train_dataset_added label[cont] \"+ str(k))\n",
        "    k+=1\n",
        "        \n",
        "print(len(train_dataset_gla))    \n",
        "print(len(val_dataset_gla))\n",
        "print(len(train_dataset_cont))    \n",
        "print(len(val_dataset_cont))\n",
        "print(len(test_dataset))\n"
      ],
      "metadata": {
        "id": "XLe8wZOkQkkk"
      },
      "execution_count": null,
      "outputs": []
    },
    {
      "cell_type": "code",
      "source": [
        "\n",
        "train_dataset = train_dataset_gla[0][0] + train_dataset_cont[0][0]\n",
        "train_dataset_label = list(itertools.repeat(1, len(train_dataset_gla[0][0])))+list(itertools.repeat(1, len(train_dataset_cont[0][0])))\n",
        "len(train_dataset_label)\n"
      ],
      "metadata": {
        "colab": {
          "base_uri": "https://localhost:8080/"
        },
        "id": "7N0RU55Vircq",
        "outputId": "e52f3d25-20c8-4d13-db4e-9d0d9bf3661c"
      },
      "execution_count": 88,
      "outputs": [
        {
          "output_type": "execute_result",
          "data": {
            "text/plain": [
              "661"
            ]
          },
          "metadata": {},
          "execution_count": 88
        }
      ]
    },
    {
      "cell_type": "markdown",
      "source": [
        ""
      ],
      "metadata": {
        "id": "EZOT3BB7lXY8"
      }
    },
    {
      "cell_type": "code",
      "source": [
        "import torchvision\n",
        "from torchvision import datasets, models, transforms\n",
        "from torch.utils.data import Dataset, DataLoader\n",
        "from PIL import Image\n",
        "\n",
        "class SimpleImageDataset(Dataset):\n",
        "    def __init__(self, img_list, label_list, transform):\n",
        "        self.transform = transform\n",
        "        self.img_list = img_list\n",
        "        self.label_list = label_list\n",
        "        self.item_dict = {}\n",
        "        self.age = []\n",
        "\n",
        "\n",
        "    def __len__(self):\n",
        "        return len(self.img_list)\n",
        "\n",
        "    def __getitem__(self, idx):\n",
        "        img = self.img_list[idx]\n",
        "        pilr_image = Image.open(image_path).convert(\"RGB\")\n",
        "        tensor_image = self.transform(pilr_image)\n",
        "        target = torch.tensor(label_list[idx])      \n",
        "        return tensor_image, target"
      ],
      "metadata": {
        "id": "pFKghBCLiuK2",
        "colab": {
          "base_uri": "https://localhost:8080/",
          "height": 211
        },
        "outputId": "571287b9-cc6e-4269-d986-8fcd9702e083"
      },
      "execution_count": 91,
      "outputs": [
        {
          "output_type": "error",
          "ename": "ModuleNotFoundError",
          "evalue": "ignored",
          "traceback": [
            "\u001b[1;31m---------------------------------------------------------------------------\u001b[0m",
            "\u001b[1;31mModuleNotFoundError\u001b[0m                       Traceback (most recent call last)",
            "Input \u001b[1;32mIn [91]\u001b[0m, in \u001b[0;36m<module>\u001b[1;34m\u001b[0m\n\u001b[1;32m----> 1\u001b[0m \u001b[38;5;28;01mimport\u001b[39;00m \u001b[38;5;21;01mtorchvision\u001b[39;00m\n\u001b[0;32m      2\u001b[0m \u001b[38;5;28;01mfrom\u001b[39;00m \u001b[38;5;21;01mtorchvision\u001b[39;00m \u001b[38;5;28;01mimport\u001b[39;00m datasets, models, transforms\n\u001b[0;32m      3\u001b[0m \u001b[38;5;28;01mfrom\u001b[39;00m \u001b[38;5;21;01mtorch\u001b[39;00m\u001b[38;5;21;01m.\u001b[39;00m\u001b[38;5;21;01mutils\u001b[39;00m\u001b[38;5;21;01m.\u001b[39;00m\u001b[38;5;21;01mdata\u001b[39;00m \u001b[38;5;28;01mimport\u001b[39;00m Dataset, DataLoader\n",
            "\u001b[1;31mModuleNotFoundError\u001b[0m: No module named 'torchvision'"
          ]
        }
      ]
    },
    {
      "cell_type": "code",
      "source": [
        "!pip3 install torch==1.10.1+cu102 torchvision==0.11.2+cu102 torchaudio===0.10.1+cu102 -f https://download.pytorch.org/whl/cu102/torch_stable.html\n"
      ],
      "metadata": {
        "colab": {
          "base_uri": "https://localhost:8080/"
        },
        "id": "B2djFD9Bnrg_",
        "outputId": "800165db-3381-4f57-b670-451b5a0984e9"
      },
      "execution_count": 94,
      "outputs": [
        {
          "output_type": "stream",
          "name": "stdout",
          "text": [
            "Looking in links: https://download.pytorch.org/whl/cu102/torch_stable.html\n"
          ]
        },
        {
          "output_type": "stream",
          "name": "stderr",
          "text": [
            "ERROR: Could not find a version that satisfies the requirement torch==1.10.1+cu102 (from versions: none)\n",
            "ERROR: No matching distribution found for torch==1.10.1+cu102\n"
          ]
        }
      ]
    },
    {
      "cell_type": "code",
      "source": [
        "train_dataset = SimpleImageDataset(os.path.join(DATASET_PATH, TRAIN_FOLDER_NAME), os.path.join(DATASET_PATH, FILENAME_LABELCSV), train_data_transforms)\n"
      ],
      "metadata": {
        "id": "2pwoEIRBjGEx"
      },
      "execution_count": null,
      "outputs": []
    },
    {
      "cell_type": "code",
      "source": [
        "import torch"
      ],
      "metadata": {
        "id": "uns3vbHl7AIY",
        "outputId": "2cea4838-b240-430f-9e92-d07865774b2d",
        "colab": {
          "base_uri": "https://localhost:8080/",
          "height": 174
        }
      },
      "execution_count": 1,
      "outputs": [
        {
          "output_type": "error",
          "ename": "ModuleNotFoundError",
          "evalue": "ignored",
          "traceback": [
            "\u001b[1;31m---------------------------------------------------------------------------\u001b[0m",
            "\u001b[1;31mModuleNotFoundError\u001b[0m                       Traceback (most recent call last)",
            "Input \u001b[1;32mIn [1]\u001b[0m, in \u001b[0;36m<module>\u001b[1;34m\u001b[0m\n\u001b[1;32m----> 1\u001b[0m \u001b[38;5;28;01mimport\u001b[39;00m \u001b[38;5;21;01mtorch\u001b[39;00m\n",
            "\u001b[1;31mModuleNotFoundError\u001b[0m: No module named 'torch'"
          ]
        }
      ]
    },
    {
      "cell_type": "code",
      "source": [
        ""
      ],
      "metadata": {
        "id": "UVO03Hjp7BCV"
      },
      "execution_count": null,
      "outputs": []
    }
  ]
}